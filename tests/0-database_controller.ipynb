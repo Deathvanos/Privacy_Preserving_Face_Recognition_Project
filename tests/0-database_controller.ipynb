{
 "cells": [
  {
   "metadata": {
    "ExecuteTime": {
     "end_time": "2025-04-21T18:06:16.308167Z",
     "start_time": "2025-04-21T18:06:16.241601Z"
    }
   },
   "cell_type": "code",
   "source": [
    "from controller.database_controller import DatabaseController\n",
    "import numpy as np\n",
    "DB_PATH = r\"..\\data\\database.db\""
   ],
   "id": "be8f4dd325ae10e6",
   "outputs": [],
   "execution_count": 1
  },
  {
   "metadata": {
    "ExecuteTime": {
     "end_time": "2025-04-21T18:06:16.318912Z",
     "start_time": "2025-04-21T18:06:16.313491Z"
    }
   },
   "cell_type": "code",
   "source": "db = DatabaseController(DB_PATH)",
   "id": "2d322289a0b64c1",
   "outputs": [
    {
     "name": "stdout",
     "output_type": "stream",
     "text": [
      "Create db connection at: D:\\myDocs\\Apprentissage\\Isep\\Year_3\\Brno-Privacy_Preserving_Face_Recognition_Project\\data\\database.db\n"
     ]
    }
   ],
   "execution_count": 2
  },
  {
   "metadata": {
    "ExecuteTime": {
     "end_time": "2025-04-21T18:06:16.445664Z",
     "start_time": "2025-04-21T18:06:16.440002Z"
    }
   },
   "cell_type": "code",
   "source": "db.get_user_id_list()",
   "id": "6d1271d1a3fc189",
   "outputs": [
    {
     "data": {
      "text/plain": [
       "[1,\n",
       " 2,\n",
       " 3,\n",
       " 4,\n",
       " 5,\n",
       " 6,\n",
       " 7,\n",
       " 8,\n",
       " 9,\n",
       " 10,\n",
       " 11,\n",
       " 12,\n",
       " 13,\n",
       " 14,\n",
       " 15,\n",
       " 16,\n",
       " 17,\n",
       " 18,\n",
       " 19,\n",
       " 20,\n",
       " 21,\n",
       " 25,\n",
       " 26,\n",
       " 27]"
      ]
     },
     "execution_count": 3,
     "metadata": {},
     "output_type": "execute_result"
    }
   ],
   "execution_count": 3
  },
  {
   "metadata": {
    "ExecuteTime": {
     "end_time": "2025-04-21T18:06:16.469025Z",
     "start_time": "2025-04-21T18:06:16.464881Z"
    }
   },
   "cell_type": "code",
   "source": [
    "res = db.get_user(1)\n",
    "print(f\"type: {type(res)}\")\n",
    "print(f\"shape: {res.shape}\")\n",
    "print(\"--- Inside numpy.ndarray ---\")\n",
    "print(f\"type: {type(res[0])}\")\n",
    "print(f\"len: {len(res[0])}\")\n",
    "print(f\"res: {(res[0])[:100]}\")"
   ],
   "id": "5bb4e84b2cc796e6",
   "outputs": [
    {
     "name": "stdout",
     "output_type": "stream",
     "text": [
      "type: <class 'numpy.ndarray'>\n",
      "shape: (11,)\n",
      "--- Inside numpy.ndarray ---\n",
      "type: <class 'numpy.str_'>\n",
      "len: 7468\n",
      "res: /9j/4AAQSkZJRgABAQAAAQABAAD/2wBDAAgGBgcGBQgHBwcJCQgKDBQNDAsLDBkSEw8UHRofHh0aHBwgJC4nICIsIxwcKDcpLDAx\n"
     ]
    }
   ],
   "execution_count": 4
  },
  {
   "metadata": {
    "ExecuteTime": {
     "end_time": "2025-04-21T18:06:16.497046Z",
     "start_time": "2025-04-21T18:06:16.492399Z"
    }
   },
   "cell_type": "code",
   "source": [
    "res = db.get_table()\n",
    "print(f\"type: {type(res)}\")\n",
    "print(f\"len: {len(res)}\")\n",
    "print(\"--- Inside list ---\")\n",
    "print(f\"type: {type(res[0])}\")\n",
    "print(f\"len: {len(res[0])}\")\n",
    "print(f\"res: {(res[0][0], res[0][1][:100])}\")"
   ],
   "id": "767dc3f830c5b40e",
   "outputs": [
    {
     "name": "stdout",
     "output_type": "stream",
     "text": [
      "type: <class 'list'>\n",
      "len: 24\n",
      "--- Inside list ---\n",
      "type: <class 'tuple'>\n",
      "len: 2\n",
      "res: (1, '[\"/9j/4AAQSkZJRgABAQAAAQABAAD/2wBDAAgGBgcGBQgHBwcJCQgKDBQNDAsLDBkSEw8UHRofHh0aHBwgJC4nICIsIxwcKDcpLD')\n"
     ]
    }
   ],
   "execution_count": 5
  },
  {
   "metadata": {
    "ExecuteTime": {
     "end_time": "2025-04-21T18:06:16.519303Z",
     "start_time": "2025-04-21T18:06:16.514416Z"
    }
   },
   "cell_type": "code",
   "source": [
    "res = db.get_user_vectors()\n",
    "print(f\"type: {type(res)}\")\n",
    "print(f\"len: {len(res)}\")\n",
    "print(f\"res: {res[0][:100]}\")"
   ],
   "id": "2bb2dbe347060329",
   "outputs": [
    {
     "name": "stdout",
     "output_type": "stream",
     "text": [
      "type: <class 'list'>\n",
      "len: 24\n",
      "res: [\"/9j/4AAQSkZJRgABAQAAAQABAAD/2wBDAAgGBgcGBQgHBwcJCQgKDBQNDAsLDBkSEw8UHRofHh0aHBwgJC4nICIsIxwcKDcpLD\n"
     ]
    }
   ],
   "execution_count": 6
  },
  {
   "metadata": {
    "ExecuteTime": {
     "end_time": "2025-04-21T18:06:16.564997Z",
     "start_time": "2025-04-21T18:06:16.536362Z"
    }
   },
   "cell_type": "code",
   "source": [
    "# Add user\n",
    "data1 = np.random.rand(4, 3)\n",
    "print(\"Original array 1:\\n\", data1)\n",
    "user_id = db.add_user(data1)\n",
    "print(\"User id is:\", user_id)\n",
    "\n",
    "# Modifie user\n",
    "data2 = np.random.rand(4, 3)\n",
    "print(\"Original array 2:\\n\", data2)\n",
    "res = db.update_user(user_id, data2)\n",
    "print(\"Number of affected rows:\", res)\n",
    "retrieved_array = db.get_user(user_id)\n",
    "print(\"Both arrays not match:\", data1==retrieved_array)\n",
    "\n",
    "# Delete user\n",
    "res = db.delete_user(user_id)\n",
    "print(\"Delete user:\", user_id)\n",
    "print(\"Number of affected rows:\", res)"
   ],
   "id": "ac6637481a44bc95",
   "outputs": [
    {
     "name": "stdout",
     "output_type": "stream",
     "text": [
      "Original array 1:\n",
      " [[0.52872222 0.50186776 0.59049472]\n",
      " [0.88806945 0.49559459 0.58509991]\n",
      " [0.94870323 0.35795047 0.58484173]\n",
      " [0.54047736 0.98855962 0.50216823]]\n",
      "User id is: 28\n",
      "Original array 2:\n",
      " [[0.85697029 0.29510131 0.07755905]\n",
      " [0.81808869 0.64313387 0.26421066]\n",
      " [0.03464701 0.75737123 0.90586631]\n",
      " [0.57756693 0.43897927 0.68741193]]\n",
      "Number of affected rows: 1\n",
      "Both arrays not match: [[False False False]\n",
      " [False False False]\n",
      " [False False False]\n",
      " [False False False]]\n",
      "Delete user: 28\n",
      "Number of affected rows: 1\n"
     ]
    }
   ],
   "execution_count": 7
  }
 ],
 "metadata": {
  "kernelspec": {
   "display_name": "Python 3",
   "language": "python",
   "name": "python3"
  },
  "language_info": {
   "codemirror_mode": {
    "name": "ipython",
    "version": 2
   },
   "file_extension": ".py",
   "mimetype": "text/x-python",
   "name": "python",
   "nbconvert_exporter": "python",
   "pygments_lexer": "ipython2",
   "version": "2.7.6"
  }
 },
 "nbformat": 4,
 "nbformat_minor": 5
}
