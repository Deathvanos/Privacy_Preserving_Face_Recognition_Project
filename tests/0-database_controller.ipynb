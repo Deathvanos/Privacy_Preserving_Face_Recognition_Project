{
 "cells": [
  {
   "metadata": {
    "ExecuteTime": {
     "end_time": "2025-04-22T13:49:49.901125Z",
     "start_time": "2025-04-22T13:49:49.885781Z"
    }
   },
   "cell_type": "code",
   "source": [
    "from controller.database_controller import DatabaseController\n",
    "import numpy as np\n",
    "DB_PATH = r\"..\\data\\gui_database.db\""
   ],
   "id": "be8f4dd325ae10e6",
   "outputs": [],
   "execution_count": 2
  },
  {
   "metadata": {
    "ExecuteTime": {
     "end_time": "2025-04-22T13:49:49.918284Z",
     "start_time": "2025-04-22T13:49:49.904787Z"
    }
   },
   "cell_type": "code",
   "source": "db = DatabaseController(DB_PATH)",
   "id": "2d322289a0b64c1",
   "outputs": [
    {
     "name": "stdout",
     "output_type": "stream",
     "text": [
      "Create db connection at: D:\\myDocs\\Apprentissage\\Isep\\Year_3\\Brno-Privacy_Preserving_Face_Recognition_Project\\data\\database.db\n"
     ]
    }
   ],
   "execution_count": 3
  },
  {
   "metadata": {
    "ExecuteTime": {
     "end_time": "2025-04-22T13:49:49.934365Z",
     "start_time": "2025-04-22T13:49:49.924034Z"
    }
   },
   "cell_type": "code",
   "source": "db.get_user_id_list()",
   "id": "6d1271d1a3fc189",
   "outputs": [
    {
     "data": {
      "text/plain": [
       "[1,\n",
       " 2,\n",
       " 3,\n",
       " 4,\n",
       " 5,\n",
       " 6,\n",
       " 7,\n",
       " 8,\n",
       " 9,\n",
       " 10,\n",
       " 11,\n",
       " 12,\n",
       " 13,\n",
       " 14,\n",
       " 15,\n",
       " 16,\n",
       " 17,\n",
       " 18,\n",
       " 19,\n",
       " 20,\n",
       " 21,\n",
       " 25,\n",
       " 26,\n",
       " 27,\n",
       " 29,\n",
       " 30,\n",
       " 31,\n",
       " 32,\n",
       " 33,\n",
       " 35,\n",
       " 36,\n",
       " 38,\n",
       " 39,\n",
       " 40,\n",
       " 41,\n",
       " 42,\n",
       " 43,\n",
       " 44,\n",
       " 45,\n",
       " 46,\n",
       " 47,\n",
       " 48]"
      ]
     },
     "execution_count": 4,
     "metadata": {},
     "output_type": "execute_result"
    }
   ],
   "execution_count": 4
  },
  {
   "metadata": {
    "ExecuteTime": {
     "end_time": "2025-04-22T13:49:49.945142Z",
     "start_time": "2025-04-22T13:49:49.938745Z"
    }
   },
   "cell_type": "code",
   "source": [
    "res = db.get_user(1)\n",
    "print(f\"type: {type(res)}\")\n",
    "print(f\"shape: {res.shape}\")\n",
    "print(\"--- Inside numpy.ndarray ---\")\n",
    "print(f\"type: {type(res[0])}\")\n",
    "print(f\"len: {len(res[0])}\")\n",
    "print(f\"res: {(res[0])[:100]}\")"
   ],
   "id": "5bb4e84b2cc796e6",
   "outputs": [
    {
     "name": "stdout",
     "output_type": "stream",
     "text": [
      "type: <class 'numpy.ndarray'>\n",
      "shape: (11,)\n",
      "--- Inside numpy.ndarray ---\n",
      "type: <class 'numpy.str_'>\n",
      "len: 7468\n",
      "res: /9j/4AAQSkZJRgABAQAAAQABAAD/2wBDAAgGBgcGBQgHBwcJCQgKDBQNDAsLDBkSEw8UHRofHh0aHBwgJC4nICIsIxwcKDcpLDAx\n"
     ]
    }
   ],
   "execution_count": 5
  },
  {
   "metadata": {
    "ExecuteTime": {
     "end_time": "2025-04-22T13:49:49.957613Z",
     "start_time": "2025-04-22T13:49:49.950362Z"
    }
   },
   "cell_type": "code",
   "source": [
    "res = db.get_table()\n",
    "print(f\"type: {type(res)}\")\n",
    "print(f\"len: {len(res)}\")\n",
    "print(\"--- Inside list ---\")\n",
    "print(f\"type: {type(res[0])}\")\n",
    "print(f\"len: {len(res[0])}\")\n",
    "print(f\"res: {(res[0][0], res[0][1][:100])}\")"
   ],
   "id": "767dc3f830c5b40e",
   "outputs": [
    {
     "name": "stdout",
     "output_type": "stream",
     "text": [
      "type: <class 'list'>\n",
      "len: 42\n",
      "--- Inside list ---\n",
      "type: <class 'tuple'>\n",
      "len: 2\n",
      "res: (1, '[\"/9j/4AAQSkZJRgABAQAAAQABAAD/2wBDAAgGBgcGBQgHBwcJCQgKDBQNDAsLDBkSEw8UHRofHh0aHBwgJC4nICIsIxwcKDcpLD')\n"
     ]
    }
   ],
   "execution_count": 6
  },
  {
   "metadata": {
    "ExecuteTime": {
     "end_time": "2025-04-22T13:49:49.970390Z",
     "start_time": "2025-04-22T13:49:49.962219Z"
    }
   },
   "cell_type": "code",
   "source": [
    "res = db.get_user_vectors()\n",
    "print(f\"type: {type(res)}\")\n",
    "print(f\"len: {len(res)}\")\n",
    "print(f\"res: {res[0][:100]}\")"
   ],
   "id": "2bb2dbe347060329",
   "outputs": [
    {
     "name": "stdout",
     "output_type": "stream",
     "text": [
      "type: <class 'list'>\n",
      "len: 42\n",
      "res: [\"/9j/4AAQSkZJRgABAQAAAQABAAD/2wBDAAgGBgcGBQgHBwcJCQgKDBQNDAsLDBkSEw8UHRofHh0aHBwgJC4nICIsIxwcKDcpLD\n"
     ]
    }
   ],
   "execution_count": 7
  },
  {
   "metadata": {
    "ExecuteTime": {
     "end_time": "2025-04-22T13:49:50.004424Z",
     "start_time": "2025-04-22T13:49:49.974947Z"
    }
   },
   "cell_type": "code",
   "source": [
    "# Add user\n",
    "data1 = np.random.rand(4, 3)\n",
    "print(\"Original array 1:\\n\", data1)\n",
    "user_id = db.add_user(data1)\n",
    "print(\"User id is:\", user_id)\n",
    "\n",
    "# Modifie user\n",
    "data2 = np.random.rand(4, 3)\n",
    "print(\"Original array 2:\\n\", data2)\n",
    "res = db.update_user(user_id, data2)\n",
    "print(\"Number of affected rows:\", res)\n",
    "retrieved_array = db.get_user(user_id)\n",
    "print(\"Both arrays not match:\", data1==retrieved_array)\n",
    "\n",
    "# Delete user\n",
    "res = db.delete_user(user_id)\n",
    "print(\"Delete user:\", user_id)\n",
    "print(\"Number of affected rows:\", res)"
   ],
   "id": "ac6637481a44bc95",
   "outputs": [
    {
     "name": "stdout",
     "output_type": "stream",
     "text": [
      "Original array 1:\n",
      " [[0.06674492 0.70138273 0.46100755]\n",
      " [0.79150953 0.89165282 0.61386593]\n",
      " [0.42284293 0.84995265 0.11969977]\n",
      " [0.15342916 0.46183154 0.22598121]]\n",
      "User id is: 49\n",
      "Original array 2:\n",
      " [[0.50725915 0.92857787 0.2087178 ]\n",
      " [0.00353338 0.80896708 0.97460554]\n",
      " [0.81242094 0.37040217 0.95570088]\n",
      " [0.5319285  0.34016226 0.17376084]]\n",
      "Number of affected rows: 1\n",
      "Both arrays not match: [[False False False]\n",
      " [False False False]\n",
      " [False False False]\n",
      " [False False False]]\n",
      "Delete user: 49\n",
      "Number of affected rows: 1\n"
     ]
    }
   ],
   "execution_count": 8
  }
 ],
 "metadata": {
  "kernelspec": {
   "display_name": "Python 3",
   "language": "python",
   "name": "python3"
  },
  "language_info": {
   "codemirror_mode": {
    "name": "ipython",
    "version": 2
   },
   "file_extension": ".py",
   "mimetype": "text/x-python",
   "name": "python",
   "nbconvert_exporter": "python",
   "pygments_lexer": "ipython2",
   "version": "2.7.6"
  }
 },
 "nbformat": 4,
 "nbformat_minor": 5
}
