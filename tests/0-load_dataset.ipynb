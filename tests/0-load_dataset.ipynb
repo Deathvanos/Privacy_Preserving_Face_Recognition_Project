{
 "cells": [
  {
   "cell_type": "code",
   "id": "initial_id",
   "metadata": {
    "collapsed": true,
    "ExecuteTime": {
     "end_time": "2025-04-30T14:26:43.956208Z",
     "start_time": "2025-04-30T14:26:42.411806Z"
    }
   },
   "source": [
    "from src.controller.database_controller import DatabaseController\n",
    "\n",
    "DB_PATH = r\"..\\data\\gui_database.db\"\n",
    "LFW_DATASET_DIR = r\"..\\data\\dataset-lfw_reconstructed\"\n",
    "YALEFACE_DATASET_DIR = r\"..\\data\\dataset-yalefaces\"\n",
    "\n",
    "db = DatabaseController(DB_PATH)"
   ],
   "outputs": [],
   "execution_count": 1
  },
  {
   "metadata": {},
   "cell_type": "code",
   "source": "db.load_yalefaces_dataset(YALEFACE_DATASET_DIR)",
   "id": "885cd020c8f92bfb",
   "outputs": [],
   "execution_count": null
  },
  {
   "metadata": {
    "ExecuteTime": {
     "end_time": "2025-04-30T14:26:47.568037Z",
     "start_time": "2025-04-30T14:26:44.580447Z"
    }
   },
   "cell_type": "code",
   "source": "db.load_lfw_dataset(LFW_DATASET_DIR)",
   "id": "d87756865b6fe4f8",
   "outputs": [
    {
     "name": "stderr",
     "output_type": "stream",
     "text": [
      "Sampling each person: 100%|██████████| 62/62 [00:00<00:00, 2681.72it/s]\n",
      "2025-04-30 16:26:44,946 - INFO - Démarrage pipeline SÉQUENTIELLE: k=10, ratio=0.19, eps=0.0124\n",
      "2025-04-30 16:26:44,947 - INFO - Exécution du pré-traitement standard avec IMAGE_SIZE=(100, 100)...\n",
      "2025-04-30 16:26:44,947 - INFO - Traitement de 1240 images depuis DataFrame.\n",
      "Preprocessing (DataFrame): 100%|██████████| 1240/1240 [00:00<00:00, 6708.98it/s]\n",
      "2025-04-30 16:26:45,135 - INFO - Pré-traitement terminé. 1240 images traitées pour 62 sujets.\n",
      "2025-04-30 16:26:45,136 - INFO - Preprocessing terminé. Taille d'image utilisée: (100, 100)\n",
      "2025-04-30 16:26:45,136 - INFO - Application de K-Same-Pixel avec k=10...\n",
      "K-Same Pixel: 100%|██████████| 62/62 [00:00<00:00, 399.86it/s]\n",
      "2025-04-30 16:26:45,292 - INFO - Traitement K-Same-Pixel terminé.\n",
      "2025-04-30 16:26:45,292 - INFO - Démarrage des étapes PEEP (Eigenface, Bruit, Reconstruction) sur les résultats K-Same...\n",
      "Traitement PEEP par sujet:   0%|          | 0/62 [00:00<?, ?it/s]2025-04-30 16:26:45,336 - INFO - 20 images finales reconstruites pour sujet 0 enregistrées dans ..\\data\\dataset-lfw_reconstructed\n",
      "2025-04-30 16:26:45,363 - INFO - 20 images finales reconstruites pour sujet 1 enregistrées dans ..\\data\\dataset-lfw_reconstructed\n",
      "2025-04-30 16:26:45,390 - INFO - 20 images finales reconstruites pour sujet 2 enregistrées dans ..\\data\\dataset-lfw_reconstructed\n",
      "2025-04-30 16:26:45,417 - INFO - 20 images finales reconstruites pour sujet 3 enregistrées dans ..\\data\\dataset-lfw_reconstructed\n",
      "Traitement PEEP par sujet:   6%|▋         | 4/62 [00:00<00:01, 32.06it/s]2025-04-30 16:26:45,446 - INFO - 20 images finales reconstruites pour sujet 4 enregistrées dans ..\\data\\dataset-lfw_reconstructed\n",
      "2025-04-30 16:26:45,472 - INFO - 20 images finales reconstruites pour sujet 5 enregistrées dans ..\\data\\dataset-lfw_reconstructed\n",
      "2025-04-30 16:26:45,500 - INFO - 20 images finales reconstruites pour sujet 6 enregistrées dans ..\\data\\dataset-lfw_reconstructed\n",
      "2025-04-30 16:26:45,527 - INFO - 20 images finales reconstruites pour sujet 7 enregistrées dans ..\\data\\dataset-lfw_reconstructed\n",
      "Traitement PEEP par sujet:  13%|█▎        | 8/62 [00:00<00:01, 34.67it/s]2025-04-30 16:26:45,555 - INFO - 20 images finales reconstruites pour sujet 8 enregistrées dans ..\\data\\dataset-lfw_reconstructed\n",
      "2025-04-30 16:26:45,583 - INFO - 20 images finales reconstruites pour sujet 9 enregistrées dans ..\\data\\dataset-lfw_reconstructed\n",
      "2025-04-30 16:26:45,617 - INFO - 20 images finales reconstruites pour sujet 10 enregistrées dans ..\\data\\dataset-lfw_reconstructed\n",
      "2025-04-30 16:26:45,645 - INFO - 20 images finales reconstruites pour sujet 11 enregistrées dans ..\\data\\dataset-lfw_reconstructed\n",
      "Traitement PEEP par sujet:  19%|█▉        | 12/62 [00:00<00:01, 34.32it/s]2025-04-30 16:26:45,673 - INFO - 20 images finales reconstruites pour sujet 12 enregistrées dans ..\\data\\dataset-lfw_reconstructed\n",
      "2025-04-30 16:26:45,700 - INFO - 20 images finales reconstruites pour sujet 13 enregistrées dans ..\\data\\dataset-lfw_reconstructed\n",
      "2025-04-30 16:26:45,729 - INFO - 20 images finales reconstruites pour sujet 14 enregistrées dans ..\\data\\dataset-lfw_reconstructed\n",
      "2025-04-30 16:26:45,754 - INFO - 20 images finales reconstruites pour sujet 15 enregistrées dans ..\\data\\dataset-lfw_reconstructed\n",
      "Traitement PEEP par sujet:  26%|██▌       | 16/62 [00:00<00:01, 35.11it/s]2025-04-30 16:26:45,782 - INFO - 20 images finales reconstruites pour sujet 16 enregistrées dans ..\\data\\dataset-lfw_reconstructed\n",
      "2025-04-30 16:26:45,811 - INFO - 20 images finales reconstruites pour sujet 17 enregistrées dans ..\\data\\dataset-lfw_reconstructed\n",
      "2025-04-30 16:26:45,837 - INFO - 20 images finales reconstruites pour sujet 18 enregistrées dans ..\\data\\dataset-lfw_reconstructed\n",
      "2025-04-30 16:26:45,865 - INFO - 20 images finales reconstruites pour sujet 19 enregistrées dans ..\\data\\dataset-lfw_reconstructed\n",
      "Traitement PEEP par sujet:  32%|███▏      | 20/62 [00:00<00:01, 35.51it/s]2025-04-30 16:26:45,895 - INFO - 20 images finales reconstruites pour sujet 20 enregistrées dans ..\\data\\dataset-lfw_reconstructed\n",
      "2025-04-30 16:26:45,923 - INFO - 20 images finales reconstruites pour sujet 21 enregistrées dans ..\\data\\dataset-lfw_reconstructed\n",
      "2025-04-30 16:26:45,951 - INFO - 20 images finales reconstruites pour sujet 22 enregistrées dans ..\\data\\dataset-lfw_reconstructed\n",
      "2025-04-30 16:26:45,979 - INFO - 20 images finales reconstruites pour sujet 23 enregistrées dans ..\\data\\dataset-lfw_reconstructed\n",
      "Traitement PEEP par sujet:  39%|███▊      | 24/62 [00:00<00:01, 35.32it/s]2025-04-30 16:26:46,007 - INFO - 20 images finales reconstruites pour sujet 24 enregistrées dans ..\\data\\dataset-lfw_reconstructed\n",
      "2025-04-30 16:26:46,034 - INFO - 20 images finales reconstruites pour sujet 25 enregistrées dans ..\\data\\dataset-lfw_reconstructed\n",
      "2025-04-30 16:26:46,059 - INFO - 20 images finales reconstruites pour sujet 26 enregistrées dans ..\\data\\dataset-lfw_reconstructed\n",
      "2025-04-30 16:26:46,097 - INFO - 20 images finales reconstruites pour sujet 27 enregistrées dans ..\\data\\dataset-lfw_reconstructed\n",
      "Traitement PEEP par sujet:  45%|████▌     | 28/62 [00:00<00:00, 34.95it/s]2025-04-30 16:26:46,128 - INFO - 20 images finales reconstruites pour sujet 28 enregistrées dans ..\\data\\dataset-lfw_reconstructed\n",
      "2025-04-30 16:26:46,155 - INFO - 20 images finales reconstruites pour sujet 29 enregistrées dans ..\\data\\dataset-lfw_reconstructed\n",
      "2025-04-30 16:26:46,181 - INFO - 20 images finales reconstruites pour sujet 30 enregistrées dans ..\\data\\dataset-lfw_reconstructed\n",
      "2025-04-30 16:26:46,209 - INFO - 20 images finales reconstruites pour sujet 31 enregistrées dans ..\\data\\dataset-lfw_reconstructed\n",
      "Traitement PEEP par sujet:  52%|█████▏    | 32/62 [00:00<00:00, 35.17it/s]2025-04-30 16:26:46,236 - INFO - 20 images finales reconstruites pour sujet 32 enregistrées dans ..\\data\\dataset-lfw_reconstructed\n",
      "2025-04-30 16:26:46,263 - INFO - 20 images finales reconstruites pour sujet 33 enregistrées dans ..\\data\\dataset-lfw_reconstructed\n",
      "2025-04-30 16:26:46,291 - INFO - 20 images finales reconstruites pour sujet 34 enregistrées dans ..\\data\\dataset-lfw_reconstructed\n",
      "2025-04-30 16:26:46,323 - INFO - 20 images finales reconstruites pour sujet 35 enregistrées dans ..\\data\\dataset-lfw_reconstructed\n",
      "Traitement PEEP par sujet:  58%|█████▊    | 36/62 [00:01<00:00, 35.08it/s]2025-04-30 16:26:46,350 - INFO - 20 images finales reconstruites pour sujet 36 enregistrées dans ..\\data\\dataset-lfw_reconstructed\n",
      "2025-04-30 16:26:46,379 - INFO - 20 images finales reconstruites pour sujet 37 enregistrées dans ..\\data\\dataset-lfw_reconstructed\n",
      "2025-04-30 16:26:46,407 - INFO - 20 images finales reconstruites pour sujet 38 enregistrées dans ..\\data\\dataset-lfw_reconstructed\n",
      "2025-04-30 16:26:46,436 - INFO - 20 images finales reconstruites pour sujet 39 enregistrées dans ..\\data\\dataset-lfw_reconstructed\n",
      "Traitement PEEP par sujet:  65%|██████▍   | 40/62 [00:01<00:00, 35.29it/s]2025-04-30 16:26:46,462 - INFO - 20 images finales reconstruites pour sujet 40 enregistrées dans ..\\data\\dataset-lfw_reconstructed\n",
      "2025-04-30 16:26:46,488 - INFO - 20 images finales reconstruites pour sujet 41 enregistrées dans ..\\data\\dataset-lfw_reconstructed\n",
      "2025-04-30 16:26:46,515 - INFO - 20 images finales reconstruites pour sujet 42 enregistrées dans ..\\data\\dataset-lfw_reconstructed\n",
      "2025-04-30 16:26:46,543 - INFO - 20 images finales reconstruites pour sujet 43 enregistrées dans ..\\data\\dataset-lfw_reconstructed\n",
      "Traitement PEEP par sujet:  71%|███████   | 44/62 [00:01<00:00, 35.87it/s]2025-04-30 16:26:46,573 - INFO - 20 images finales reconstruites pour sujet 44 enregistrées dans ..\\data\\dataset-lfw_reconstructed\n",
      "2025-04-30 16:26:46,603 - INFO - 20 images finales reconstruites pour sujet 45 enregistrées dans ..\\data\\dataset-lfw_reconstructed\n",
      "2025-04-30 16:26:46,630 - INFO - 20 images finales reconstruites pour sujet 46 enregistrées dans ..\\data\\dataset-lfw_reconstructed\n",
      "2025-04-30 16:26:46,681 - INFO - 20 images finales reconstruites pour sujet 47 enregistrées dans ..\\data\\dataset-lfw_reconstructed\n",
      "Traitement PEEP par sujet:  77%|███████▋  | 48/62 [00:01<00:00, 33.36it/s]2025-04-30 16:26:46,710 - INFO - 20 images finales reconstruites pour sujet 48 enregistrées dans ..\\data\\dataset-lfw_reconstructed\n",
      "2025-04-30 16:26:46,735 - INFO - 20 images finales reconstruites pour sujet 49 enregistrées dans ..\\data\\dataset-lfw_reconstructed\n",
      "2025-04-30 16:26:46,764 - INFO - 20 images finales reconstruites pour sujet 50 enregistrées dans ..\\data\\dataset-lfw_reconstructed\n",
      "2025-04-30 16:26:46,790 - INFO - 20 images finales reconstruites pour sujet 51 enregistrées dans ..\\data\\dataset-lfw_reconstructed\n",
      "Traitement PEEP par sujet:  84%|████████▍ | 52/62 [00:01<00:00, 34.40it/s]2025-04-30 16:26:46,822 - INFO - 20 images finales reconstruites pour sujet 52 enregistrées dans ..\\data\\dataset-lfw_reconstructed\n",
      "2025-04-30 16:26:46,852 - INFO - 20 images finales reconstruites pour sujet 53 enregistrées dans ..\\data\\dataset-lfw_reconstructed\n",
      "2025-04-30 16:26:46,879 - INFO - 20 images finales reconstruites pour sujet 54 enregistrées dans ..\\data\\dataset-lfw_reconstructed\n",
      "2025-04-30 16:26:46,907 - INFO - 20 images finales reconstruites pour sujet 55 enregistrées dans ..\\data\\dataset-lfw_reconstructed\n",
      "Traitement PEEP par sujet:  90%|█████████ | 56/62 [00:01<00:00, 34.24it/s]2025-04-30 16:26:46,935 - INFO - 20 images finales reconstruites pour sujet 56 enregistrées dans ..\\data\\dataset-lfw_reconstructed\n",
      "2025-04-30 16:26:46,967 - INFO - 20 images finales reconstruites pour sujet 57 enregistrées dans ..\\data\\dataset-lfw_reconstructed\n",
      "2025-04-30 16:26:46,993 - INFO - 20 images finales reconstruites pour sujet 58 enregistrées dans ..\\data\\dataset-lfw_reconstructed\n",
      "2025-04-30 16:26:47,026 - INFO - 20 images finales reconstruites pour sujet 59 enregistrées dans ..\\data\\dataset-lfw_reconstructed\n",
      "Traitement PEEP par sujet:  97%|█████████▋| 60/62 [00:01<00:00, 34.13it/s]2025-04-30 16:26:47,053 - INFO - 20 images finales reconstruites pour sujet 60 enregistrées dans ..\\data\\dataset-lfw_reconstructed\n",
      "2025-04-30 16:26:47,080 - INFO - 20 images finales reconstruites pour sujet 61 enregistrées dans ..\\data\\dataset-lfw_reconstructed\n",
      "Traitement PEEP par sujet: 100%|██████████| 62/62 [00:01<00:00, 34.71it/s]\n",
      "2025-04-30 16:26:47,081 - INFO - Pipeline SÉQUENTIELLE terminée.\n"
     ]
    }
   ],
   "execution_count": 2
  }
 ],
 "metadata": {
  "kernelspec": {
   "display_name": "Python 3",
   "language": "python",
   "name": "python3"
  },
  "language_info": {
   "codemirror_mode": {
    "name": "ipython",
    "version": 2
   },
   "file_extension": ".py",
   "mimetype": "text/x-python",
   "name": "python",
   "nbconvert_exporter": "python",
   "pygments_lexer": "ipython2",
   "version": "2.7.6"
  }
 },
 "nbformat": 4,
 "nbformat_minor": 5
}
