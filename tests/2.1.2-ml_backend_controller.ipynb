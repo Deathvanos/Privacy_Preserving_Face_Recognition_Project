{
 "cells": [
  {
   "metadata": {},
   "cell_type": "markdown",
   "source": [
    "Configuration de train_model() et predict_image() dans ce notebook\n",
    "\n",
    "* Il faut prendre quoi comme valeur d'epsilon par defaut ?\n",
    "**la meilleure combinaison de valeurs est en sortie de la fonction gridsearch_analysis (valeur par défaut changeant en fonction du set d'image)**\n",
    "\n",
    "* train_model() prend maintenant en input: X, y, label_encoder + config.all_variables\n",
    "* predict_image() prend maintenant en input un np.array\n",
    "\n",
    "* Je ne trouve pas un model > 90% d'accuracy\n",
    "**on l'a testé sur LFW; l'accuracy peut changer avec une image inconnue (d'où l'indication des améliorations futures \"changer la méthode de bruit ou changer de modèle\")**\n",
    "\n",
    "* Dans la DB, les images ont 1 ou 3 channels ? (greyscale/RGB)\n",
    "**originales : 3\n",
    "processed/anonymisées : 1**\n",
    "\n",
    "* J'ai ajouté une fonction resize_images à implementer dans train_model() car:\n",
    "    * Taille des images variables pour chaque user\n",
    "**ATTENTION : LE MODELE S'ENTRAINE SUR TOUTE LA DB. SI PLUSIEURS TAILLE D'IMAGE (DE MATRICE) SONT RENCONTRES, L'ENTRAINEMENT S'ARRETERA**\n",
    "**il faut conserver les mêmes dimensions entre l'entrainement et la prédiction qu'entre chaque images**\n",
    "\n",
    "* Verifier le ML car:\n",
    "    * Nombre d'images variable en fonction des users\n",
    "**AJOUT D'UN BALANCED ACCURACY UTILE MAIS OVERKILL : ON PEUT S'EN PASSER**\n",
    "\n",
    "* Je n'ai pas utilisé les variables de **config** pour faire des fonctions plus propre. Elle pourront être récupéré plus tard juste avant l'appel des fonctions\n",
    "* Ajout de show_logs car le GUI n'a pas besoin de print"
   ],
   "id": "3181f2cd62b5aa6a"
  },
  {
   "metadata": {
    "ExecuteTime": {
     "end_time": "2025-04-25T16:25:45.252329Z",
     "start_time": "2025-04-25T16:25:42.024112Z"
    }
   },
   "cell_type": "code",
   "source": [
    "import tensorflow as tf\n",
    "\n",
    "import os\n",
    "import io\n",
    "import time\n",
    "import numpy as np\n",
    "import matplotlib.pyplot as plt\n",
    "from PIL import Image\n",
    "\n",
    "from sklearn.model_selection import train_test_split\n",
    "from sklearn.metrics import confusion_matrix, classification_report\n",
    "\n",
    "import src.face_recognition.ml_models as ml_models\n",
    "import src.modules.data_loader as data_loader\n",
    "from src.controller.ml_controller import MLController\n",
    "import controller.ml_controller as ml\n",
    "\n",
    "MODEL_SAVE_DIR = r'..\\data\\models\\trained'\n",
    "LOG_DIR = r'..\\data\\models\\logs'\n",
    "DB_PATH = r\"..\\data\\database.db\"\n",
    "INPUT_SHAPE = (100, 100, 1)\n",
    "WIDTH, HEIGHT = (100, 100)"
   ],
   "id": "be8f4dd325ae10e6",
   "outputs": [],
   "execution_count": 1
  },
  {
   "metadata": {
    "ExecuteTime": {
     "end_time": "2025-04-25T16:25:45.258799Z",
     "start_time": "2025-04-25T16:25:45.252329Z"
    }
   },
   "cell_type": "code",
   "source": [
    "# Aucune des variables ici n'est utilisé. Les valeurs ont été implementées en input des fonctions\n",
    "# --- Chemins et Noms ---\n",
    "MODEL_NAME = 'simple_cnn_lfw_anony_v1'\n",
    "# --- Paramètres des Données et Prétraitement ---\n",
    "COLOR_MODE = 'grayscale'\n",
    "IMG_WIDTH, IMG_HEIGHT, CHANNELS = (64, 64, 1 if COLOR_MODE == 'grayscale' else 3)\n",
    "# --- Paramètres de Division des Données ---\n",
    "SPLIT_STRATEGY = 'stratified'\n",
    "# -- Pour 'stratified' --\n",
    "TEST_SPLIT_RATIO = 0.2\n",
    "VALIDATION_SPLIT_RATIO = 0.15\n",
    "# -- Pour 'fixed_per_subject' --\n",
    "N_TRAIN_PER_SUBJECT = 16\n",
    "RANDOM_STATE = 42\n",
    "# ---    Paramètres du Modèle ---\n",
    "MODEL_ARCHITECTURE = 'simple_cnn'\n",
    "# -- Pour Transfer Learning (si MODEL_ARCHITECTURE commence par 'transfer_') --\n",
    "TRANSFER_BASE_MODEL_NAME = 'MobileNetV2'\n",
    "TRANSFER_FREEZE_BASE = True\n",
    "# --- Paramètres d'Entraînement ---\n",
    "EPOCHS = 50\n",
    "BATCH_SIZE = 32\n",
    "LEARNING_RATE = 0.001\n",
    "EARLY_STOPPING_PATIENCE = 10"
   ],
   "id": "cb4e96e88d85faa6",
   "outputs": [],
   "execution_count": 2
  },
  {
   "metadata": {},
   "cell_type": "markdown",
   "source": "### Data from folder (LFW dataset)",
   "id": "60ff5ecf4cd4d651"
  },
  {
   "metadata": {
    "ExecuteTime": {
     "end_time": "2025-04-25T13:33:24.561719Z",
     "start_time": "2025-04-25T13:33:24.556241Z"
    }
   },
   "cell_type": "code",
   "source": [
    "LFW_DATASET_PATH = r\"..\\data\\reconstructed_pipeline\"\n",
    "os.makedirs(LFW_DATASET_PATH, exist_ok=True)\n",
    "\n",
    "X, y, label_encoder = ml.data_loader.load_anonymized_images_flat(\n",
    "    data_dir=LFW_DATASET_PATH,\n",
    "    img_width=WIDTH,\n",
    "    img_height=HEIGHT,\n",
    "    color_mode='grayscale'\n",
    ")"
   ],
   "id": "8002dc5917cfa4a5",
   "outputs": [
    {
     "name": "stdout",
     "output_type": "stream",
     "text": [
      "Chargement des images depuis : ..\\data\\reconstructed_pipeline\n",
      "Format attendu : 100x100, mode: grayscale\n",
      "Erreur: Aucun fichier .png trouvé dans ..\\data\\reconstructed_pipeline\n"
     ]
    }
   ],
   "execution_count": 4
  },
  {
   "metadata": {},
   "cell_type": "markdown",
   "source": "### Data from database",
   "id": "ca308921b6a78a8a"
  },
  {
   "metadata": {
    "ExecuteTime": {
     "end_time": "2025-04-25T16:25:46.900829Z",
     "start_time": "2025-04-25T16:25:46.830885Z"
    }
   },
   "cell_type": "code",
   "source": [
    "X, y, label_encoder = MLController.get_data_from_db(DB_PATH)\n",
    "print(f\"(nb_image, width, height, dim) : {X.shape}\")"
   ],
   "id": "f02e202882b7083f",
   "outputs": [
    {
     "name": "stdout",
     "output_type": "stream",
     "text": [
      "(nb_image, width, height, dim) : (467, 100, 100, 3)\n"
     ]
    }
   ],
   "execution_count": 3
  },
  {
   "metadata": {},
   "cell_type": "markdown",
   "source": "### Model",
   "id": "1d083f5836f3bfcb"
  },
  {
   "metadata": {
    "ExecuteTime": {
     "end_time": "2025-04-25T16:25:48.728866Z",
     "start_time": "2025-04-25T16:25:48.718346Z"
    }
   },
   "cell_type": "code",
   "source": [
    "def prepare_data_train_model(\n",
    "    X, y, label_encoder,\n",
    "    input_shape=(100, 100),\n",
    "    split_strategy='stratified',\n",
    "    test_split_ratio=0.2,\n",
    "    validation_split_ratio=0.15,\n",
    "    n_train_per_subject=7,\n",
    "    random_state=42,\n",
    "    show_logs=False\n",
    "):\n",
    "    # --- -------------------------- ---\n",
    "    # --- 2. Préparation des Données ---\n",
    "    # --- -------------------------- ---\n",
    "    if show_logs: print(\"\\n--- Prepare data ---\")\n",
    "\n",
    "    # Reshape images (size & dim=1)\n",
    "    processed_X = []\n",
    "    for img in X:\n",
    "        img_resized = np.array(Image.fromarray(img).resize(input_shape))\n",
    "        if img_resized.ndim == 3:\n",
    "            img_gray = np.dot(img_resized[..., :3], [0.2989, 0.5870, 0.1140])[..., np.newaxis]\n",
    "        else:\n",
    "            img_gray = img_resized[..., np.newaxis]\n",
    "        processed_X.append(img_gray.astype(np.uint8))\n",
    "    X = np.array(processed_X)\n",
    "\n",
    "\n",
    "    num_classes = len(label_encoder.classes_)\n",
    "    if show_logs: print(f\"Nombre de classes détectées : {num_classes}\")\n",
    "\n",
    "    # --- ----------------------- ---\n",
    "    # --- 3. Division des Données ---\n",
    "    # --- ----------------------- ---\n",
    "    if show_logs: print(\"\\n--- Division des données ---\")\n",
    "\n",
    "    if split_strategy == 'stratified':\n",
    "        data_splits = data_loader.split_data_stratified(\n",
    "            X, y, # TODO BRUCE: data_loader.split_data_stratified()\n",
    "            test_size=test_split_ratio,\n",
    "            validation_size=validation_split_ratio,\n",
    "            random_state=random_state\n",
    "        )\n",
    "        X_train = data_splits.get('X_train')\n",
    "        y_train = data_splits.get('y_train')\n",
    "        X_val = data_splits.get('X_val')\n",
    "        y_val = data_splits.get('y_val')\n",
    "        X_test = data_splits.get('X_test')\n",
    "        y_test = data_splits.get('y_test')\n",
    "\n",
    "        if X_val is None and validation_split_ratio > 0 and X_train is not None and len(X_train) > 0:\n",
    "            val_ratio_from_train = validation_split_ratio / (1.0 - test_split_ratio)\n",
    "            if val_ratio_from_train < 1.0:\n",
    "                if show_logs: print(f\"Création du set de validation depuis l'entraînement (ratio: {val_ratio_from_train:.2f})\")\n",
    "                X_train, X_val, y_train, y_val = train_test_split(\n",
    "                    X_train, y_train,\n",
    "                    test_size=val_ratio_from_train,\n",
    "                    random_state=random_state,\n",
    "                    stratify=y_train\n",
    "                )\n",
    "            else:\n",
    "                print(\"Attention: Ratios de split incohérents, pas de données d'entraînement restantes après validation.\")\n",
    "    elif split_strategy == 'fixed_per_subject':\n",
    "        X_train_full, X_test, y_train_full, y_test = data_loader.split_data_fixed_per_subject(\n",
    "            X, y,\n",
    "            n_train_per_class=n_train_per_subject,\n",
    "            random_state=random_state\n",
    "        )\n",
    "        if validation_split_ratio > 0 and X_train_full is not None and len(X_train_full) > 0:\n",
    "            if show_logs: print(f\"Création du set de validation depuis l'entraînement (ratio: {validation_split_ratio})\")\n",
    "            X_train, X_val, y_train, y_val = train_test_split(\n",
    "                X_train_full, y_train_full,\n",
    "                test_size=validation_split_ratio,\n",
    "                random_state=random_state,\n",
    "                stratify=y_train_full\n",
    "            )\n",
    "        else:\n",
    "            X_train, y_train = X_train_full, y_train_full\n",
    "            X_val, y_val = None, None\n",
    "    else:\n",
    "        print(f\"Erreur: Stratégie de split '{split_strategy}' non reconnue.\")\n",
    "        return\n",
    "\n",
    "    if X_train is None or len(X_train) == 0:\n",
    "        print(\"Erreur: Aucune donnée d'entraînement disponible après la division.\")\n",
    "        return\n",
    "    if X_val is None or len(X_val) == 0:\n",
    "        print(\"Attention: Aucune donnée de validation disponible. L'entraînement se fera sans suivi de validation.\")\n",
    "        validation_data = None # `fit` utilisera pas de validation\n",
    "    else:\n",
    "        validation_data = (X_val, y_val)\n",
    "        if show_logs: print(f\"Taille finale - Entraînement: {len(X_train)}, Validation: {len(X_val)}, Test: {len(X_test) if X_test is not None else 0}\")\n",
    "\n",
    "    return num_classes, X_train, y_train, X_test, y_test, X_val, y_val, validation_data\n"
   ],
   "id": "8611fa9b6d2af0b8",
   "outputs": [],
   "execution_count": 4
  },
  {
   "metadata": {
    "ExecuteTime": {
     "end_time": "2025-04-25T16:26:45.234757Z",
     "start_time": "2025-04-25T16:26:45.223109Z"
    }
   },
   "cell_type": "code",
   "source": [
    "def create_model(\n",
    "    num_classes,\n",
    "    input_shape,\n",
    "    model_save_dir='models/trained/',\n",
    "    log_dir='models/logs/',\n",
    "    model_name='simple_cnn_lfw_anony_v1',\n",
    "    split_strategy='stratified',\n",
    "    learning_rate=0.001,\n",
    "    batch_size=32,\n",
    "    epochs=50,\n",
    "    early_stopping_patience=10,\n",
    "    transfer_base_model_name='MobileNetV2',\n",
    "    transfer_freeze_base=True,\n",
    "    model_architecture='simple_cnn',\n",
    "    show_logs=False\n",
    "\n",
    "\n",
    "    ):\n",
    "    # --- --------------------------------- ---\n",
    "    # --- 1. Chargement de la Configuration ---\n",
    "    # --- --------------------------------- ---\n",
    "\n",
    "    # Display model parameters\n",
    "    if show_logs:\n",
    "        print(\"Configuration personnalisée chargée :\")\n",
    "        print(f\"  - Architecture Modèle: {model_architecture}\")\n",
    "        print(f\"  - Nom Modèle: {model_name}\")\n",
    "        print(f\"  - Dimensions Image: {input_shape}\")\n",
    "        print(f\"  - Stratégie Split: {split_strategy}\")\n",
    "        print(f\"  - Époques: {epochs}, Batch Size: {batch_size}\")\n",
    "\n",
    "    # Prepare output & log folder\n",
    "    os.makedirs(model_save_dir, exist_ok=True)\n",
    "    if log_dir:\n",
    "        os.makedirs(log_dir, exist_ok=True)\n",
    "        if show_logs: print(f\"  - Dossier Logs TensorBoard: {log_dir}\")\n",
    "\n",
    "    # --- ------------------------- ---\n",
    "    # --- 4. Construction du Modèle ---\n",
    "    # --- ------------------------- ---\n",
    "    if show_logs: print(\"\\n--- Construction du modèle ---\")\n",
    "    model = None\n",
    "    if model_architecture == 'simple_cnn':\n",
    "        model = ml_models.build_simple_cnn(input_shape=input_shape, num_classes=num_classes)\n",
    "    elif model_architecture.startswith('transfer_'):\n",
    "        if show_logs: print(f\"Utilisation du modèle de base: {transfer_base_model_name}, Freeze: {transfer_freeze_base}\")\n",
    "        model = ml_models.build_transfer_model(\n",
    "            input_shape=input_shape,\n",
    "            num_classes=num_classes,\n",
    "            base_model_name=transfer_base_model_name,\n",
    "            freeze_base=transfer_freeze_base)\n",
    "    else:\n",
    "        print(f\"Erreur: Architecture de modèle non reconnue: {model_architecture}\")\n",
    "        return\n",
    "\n",
    "    # --- ------------------------ ---\n",
    "    # --- 5. Compilation du Modèle ---\n",
    "    # --- ------------------------ ---\n",
    "    if show_logs: print(\"\\n--- Compilation du modèle ---\")\n",
    "    optimizer = tf.keras.optimizers.Adam(learning_rate=learning_rate)\n",
    "    model.compile(optimizer=optimizer,\n",
    "                  loss='sparse_categorical_crossentropy',\n",
    "                  metrics=['accuracy'])\n",
    "    if show_logs:\n",
    "        print(\"Modèle compilé avec Adam optimizer.\")\n",
    "        model.summary()\n",
    "\n",
    "    # Capture model summary\n",
    "    summary_io = io.StringIO()\n",
    "    model.summary(print_fn=lambda x: summary_io.write(x + \"\\n\"))\n",
    "    summary_text = summary_io.getvalue()\n",
    "    #summary_image = text_to_pil_image(summary_text)\n",
    "\n",
    "    # --- ------------------------------ ---\n",
    "    # --- 6. Configuration des Callbacks ---\n",
    "    # --- ------------------------------ ---\n",
    "    if show_logs: print(\"\\n--- Configuration des Callbacks ---\")\n",
    "    callbacks = []\n",
    "\n",
    "    model_filename = f\"{model_name}.h5\"\n",
    "    model_filepath = os.path.join(model_save_dir, model_filename)\n",
    "    if show_logs: print(f\"  - ModelCheckpoint: Sauvegarde du meilleur modèle dans {model_filepath}\")\n",
    "    checkpoint_callback = tf.keras.callbacks.ModelCheckpoint(\n",
    "        filepath=model_filepath,\n",
    "        monitor='val_accuracy',\n",
    "        save_best_only=True,\n",
    "        mode='max',\n",
    "        verbose=1\n",
    "    )\n",
    "    callbacks.append(checkpoint_callback)\n",
    "\n",
    "    if early_stopping_patience > 0:\n",
    "        if show_logs: print(f\"  - EarlyStopping: Activé avec patience={early_stopping_patience}\")\n",
    "        early_stopping_callback = tf.keras.callbacks.EarlyStopping(\n",
    "            monitor='val_accuracy',\n",
    "            patience=early_stopping_patience,\n",
    "            mode='max',\n",
    "            restore_best_weights=True,\n",
    "            verbose=1\n",
    "        )\n",
    "        callbacks.append(early_stopping_callback)\n",
    "    else:\n",
    "        if show_logs: print(\"  - EarlyStopping: Désactivé.\")\n",
    "\n",
    "    if log_dir:\n",
    "        tensorboard_log_dir = os.path.join(log_dir, model_name + \"_\" + time.strftime(\"%Y%m%d-%H%M%S\"))\n",
    "        if show_logs: print(f\"  - TensorBoard: Logs dans {tensorboard_log_dir}\")\n",
    "        tensorboard_callback = tf.keras.callbacks.TensorBoard(\n",
    "            log_dir=tensorboard_log_dir,\n",
    "            histogram_freq=1\n",
    "        )\n",
    "        callbacks.append(tensorboard_callback)\n",
    "    else:\n",
    "        if show_logs: print(\"  - TensorBoard: Désactivé.\")\n",
    "\n",
    "    csv_log_path = os.path.join(model_save_dir, f\"{model_name}_training_log.csv\")\n",
    "    if show_logs: print(f\"  - CSVLogger: Logs dans {csv_log_path}\")\n",
    "    csv_logger_callback = tf.keras.callbacks.CSVLogger(csv_log_path, append=False)\n",
    "    callbacks.append(csv_logger_callback)\n",
    "\n",
    "    return model, callbacks, model_filepath, summary_text\n",
    "\n",
    "\n",
    "\n"
   ],
   "id": "733272623a5206e1",
   "outputs": [],
   "execution_count": 7
  },
  {
   "metadata": {
    "ExecuteTime": {
     "end_time": "2025-04-25T16:26:49.206368Z",
     "start_time": "2025-04-25T16:26:49.198210Z"
    }
   },
   "cell_type": "code",
   "source": [
    "def _draw_accuracy_and_loss_curves(epochs_range, acc, loss, val_acc=None, val_loss=None):\n",
    "    plt.figure(figsize=(12, 5))\n",
    "\n",
    "    plt.subplot(1, 2, 1)\n",
    "    plt.plot(epochs_range, acc, label='Training Accuracy')\n",
    "    if val_acc is not None:\n",
    "        plt.plot(epochs_range, val_acc, label='Validation Accuracy')\n",
    "    plt.legend(loc='lower right')\n",
    "    plt.title('Training and Validation Accuracy')\n",
    "    plt.xlabel('Epochs')\n",
    "    plt.ylabel('Accuracy')\n",
    "\n",
    "    plt.subplot(1, 2, 2)\n",
    "    plt.plot(epochs_range, loss, label='Training Loss')\n",
    "    if val_loss is not None:\n",
    "        plt.plot(epochs_range, val_loss, label='Validation Loss')\n",
    "    plt.legend(loc='upper right')\n",
    "    plt.title('Training and Validation Loss')\n",
    "    plt.xlabel('Epochs')\n",
    "    plt.ylabel('Loss')\n",
    "    return plt\n",
    "\n",
    "\n",
    "def train_model(\n",
    "        model,\n",
    "        X_train, y_train, X_test, y_test,\n",
    "        validation_data, callbacks,\n",
    "        label_encoder,\n",
    "        model_filepath,\n",
    "\n",
    "        model_save_dir='models/trained/',\n",
    "        model_name='simple_cnn_lfw_anony_v1',\n",
    "        batch_size=32,\n",
    "        epochs=50,\n",
    "        show_logs=False\n",
    "):\n",
    "\n",
    "    # --- ------------------------- ---\n",
    "    # --- 7. Entraînement du Modèle ---\n",
    "    # --- ------------------------- ---\n",
    "    if show_logs: print(\"\\n--- Démarrage de l'entraînement ---\")\n",
    "    try:\n",
    "        history = model.fit(\n",
    "            X_train, y_train,\n",
    "            epochs=epochs,\n",
    "            batch_size=batch_size,\n",
    "            validation_data=validation_data,\n",
    "            callbacks=callbacks,\n",
    "            verbose=0\n",
    "        )\n",
    "        if show_logs: print(\"--- Entraînement terminé ---\")\n",
    "    except Exception as e:\n",
    "        print(f\"\\nErreur pendant l'entraînement : {e}\")\n",
    "        encoder_save_path = os.path.join(model_save_dir, f\"{model_name}_label_encoder.joblib\")\n",
    "        print(\"\\nSauvegarde de l'encodeur de labels (même si l'entraînement a échoué)...\")\n",
    "        data_loader.save_label_encoder(label_encoder, encoder_save_path)\n",
    "        return\n",
    "\n",
    "    # --- -------------------- ---\n",
    "    # --- 8. Post-Entraînement ---\n",
    "    # --- -------------------- ---\n",
    "    encoder_save_path = os.path.join(model_save_dir, f\"{model_name}_label_encoder.joblib\")\n",
    "    if show_logs: print(\"\\n--- Sauvegarde de l'encodeur de labels ---\")\n",
    "    data_loader.save_label_encoder(label_encoder, encoder_save_path)\n",
    "\n",
    "    # Evaluation\n",
    "    eval_loss, eval_acc = model.evaluate(X_test, y_test)\n",
    "    y_pred = np.argmax(model.predict(X_test), axis=1)\n",
    "    cm = confusion_matrix(y_test, y_pred)\n",
    "    report = classification_report(y_test, y_pred, output_dict=True)\n",
    "\n",
    "    if history is not None:\n",
    "        if show_logs: print(\"\\n--- Affichage des courbes d'apprentissage ---\")\n",
    "        try:\n",
    "            acc = history.history['accuracy']\n",
    "            loss = history.history['loss']\n",
    "            val_acc = history.history['val_accuracy'] if validation_data else None\n",
    "            val_loss = history.history['val_loss'] if validation_data else None\n",
    "            epochs_range = range(len(acc))\n",
    "\n",
    "            plt_obj = _draw_accuracy_and_loss_curves(epochs_range, acc, loss, val_acc, val_loss)\n",
    "            buf = io.BytesIO()\n",
    "            plt_obj.savefig(buf, format='png')\n",
    "            buf.seek(0)\n",
    "            image_pil = Image.open(buf)\n",
    "\n",
    "            plot_save_path = os.path.join(model_save_dir, f\"{model_name}_training_curves.pdf\")\n",
    "            plt.savefig(plot_save_path, format='pdf', bbox_inches='tight')\n",
    "            if show_logs: print(f\"Courbes sauvegardées dans : {plot_save_path}\")\n",
    "        except Exception as plot_e:\n",
    "            print(f\"Erreur lors de la génération/sauvegarde des courbes: {plot_e}\")\n",
    "\n",
    "    if show_logs:\n",
    "        print(f\"Le meilleur modèle devrait être sauvegardé dans : {model_filepath}\")\n",
    "        print(f\"L'encodeur de labels est sauvegardé dans : {encoder_save_path}\")\n",
    "\n",
    "    return {\n",
    "        \"curves\": image_pil,\n",
    "        \"confusion_matrix\": cm,\n",
    "        \"classification_report\": report,\n",
    "        \"evaluation\": {\n",
    "            \"loss\": eval_loss,\n",
    "            \"accuracy\": eval_acc\n",
    "        }\n",
    "    }\n",
    "\n",
    "\n"
   ],
   "id": "9e265b58100a282a",
   "outputs": [],
   "execution_count": 8
  },
  {
   "metadata": {
    "ExecuteTime": {
     "end_time": "2025-04-25T16:29:28.509618Z",
     "start_time": "2025-04-25T16:26:54.975220Z"
    }
   },
   "cell_type": "code",
   "source": [
    "# Start timer\n",
    "print(\"--- Démarrage du Script d'Entraînement ---\")\n",
    "start_time = time.time()\n",
    "print('***')\n",
    "\n",
    "# Transforme data\n",
    "res = prepare_data_train_model(X, y, label_encoder, input_shape=(WIDTH, HEIGHT))\n",
    "num_classes, X_train, y_train, X_test, y_test, X_val, y_val, validation_data = res\n",
    "print(f\"Image size : {X_train.shape[1:]}\")\n",
    "print('***')\n",
    "\n",
    "# Create model\n",
    "res = create_model(num_classes, INPUT_SHAPE)\n",
    "model, callbacks, model_filepath, summary_text = res\n",
    "print('***')\n",
    "\n",
    "# Train Model\n",
    "res = train_model(model, X_train, y_train, X_test, y_test, validation_data, callbacks, label_encoder, model_filepath)\n",
    "print('***')\n",
    "\n",
    "# END\n",
    "end_time = time.time()\n",
    "duration = end_time - start_time\n",
    "print(f\"--- Script d'Entraînement Terminé en {duration:.2f} secondes ---\")"
   ],
   "id": "d46e5317bc11f013",
   "outputs": [
    {
     "name": "stdout",
     "output_type": "stream",
     "text": [
      "--- Démarrage du Script d'Entraînement ---\n",
      "***\n",
      "Division des données : test_size=0.2, validation_size=0.15\n",
      "Taille Test: 94 échantillons\n",
      "Taille Entraînement: 303 échantillons\n",
      "Taille Validation: 70 échantillons\n",
      "Image size : (100, 100, 1)\n",
      "***\n",
      "Construction du modèle CNN simple avec input_shape=(100, 100, 1) et num_classes=43\n",
      "Modèle CNN simple construit.\n"
     ]
    },
    {
     "data": {
      "text/plain": [],
      "text/html": [
       "<pre style=\"white-space:pre;overflow-x:auto;line-height:normal;font-family:Menlo,'DejaVu Sans Mono',consolas,'Courier New',monospace\"></pre>\n"
      ]
     },
     "metadata": {},
     "output_type": "display_data"
    },
    {
     "name": "stdout",
     "output_type": "stream",
     "text": [
      "***\n",
      "\n",
      "Epoch 1: val_accuracy improved from -inf to 0.01429, saving model to models/trained/simple_cnn_lfw_anony_v1.h5\n"
     ]
    },
    {
     "name": "stderr",
     "output_type": "stream",
     "text": [
      "WARNING:absl:You are saving your model as an HDF5 file via `model.save()` or `keras.saving.save_model(model)`. This file format is considered legacy. We recommend using instead the native Keras format, e.g. `model.save('my_model.keras')` or `keras.saving.save_model(model, 'my_model.keras')`. \n"
     ]
    },
    {
     "name": "stdout",
     "output_type": "stream",
     "text": [
      "\n",
      "Epoch 2: val_accuracy improved from 0.01429 to 0.07143, saving model to models/trained/simple_cnn_lfw_anony_v1.h5\n"
     ]
    },
    {
     "name": "stderr",
     "output_type": "stream",
     "text": [
      "WARNING:absl:You are saving your model as an HDF5 file via `model.save()` or `keras.saving.save_model(model)`. This file format is considered legacy. We recommend using instead the native Keras format, e.g. `model.save('my_model.keras')` or `keras.saving.save_model(model, 'my_model.keras')`. \n"
     ]
    },
    {
     "name": "stdout",
     "output_type": "stream",
     "text": [
      "\n",
      "Epoch 3: val_accuracy improved from 0.07143 to 0.08571, saving model to models/trained/simple_cnn_lfw_anony_v1.h5\n"
     ]
    },
    {
     "name": "stderr",
     "output_type": "stream",
     "text": [
      "WARNING:absl:You are saving your model as an HDF5 file via `model.save()` or `keras.saving.save_model(model)`. This file format is considered legacy. We recommend using instead the native Keras format, e.g. `model.save('my_model.keras')` or `keras.saving.save_model(model, 'my_model.keras')`. \n"
     ]
    },
    {
     "name": "stdout",
     "output_type": "stream",
     "text": [
      "\n",
      "Epoch 4: val_accuracy improved from 0.08571 to 0.11429, saving model to models/trained/simple_cnn_lfw_anony_v1.h5\n"
     ]
    },
    {
     "name": "stderr",
     "output_type": "stream",
     "text": [
      "WARNING:absl:You are saving your model as an HDF5 file via `model.save()` or `keras.saving.save_model(model)`. This file format is considered legacy. We recommend using instead the native Keras format, e.g. `model.save('my_model.keras')` or `keras.saving.save_model(model, 'my_model.keras')`. \n"
     ]
    },
    {
     "name": "stdout",
     "output_type": "stream",
     "text": [
      "\n",
      "Epoch 5: val_accuracy did not improve from 0.11429\n",
      "\n",
      "Epoch 6: val_accuracy did not improve from 0.11429\n",
      "\n",
      "Epoch 7: val_accuracy did not improve from 0.11429\n",
      "\n",
      "Epoch 8: val_accuracy did not improve from 0.11429\n",
      "\n",
      "Epoch 9: val_accuracy did not improve from 0.11429\n",
      "\n",
      "Epoch 10: val_accuracy did not improve from 0.11429\n",
      "\n",
      "Epoch 11: val_accuracy did not improve from 0.11429\n",
      "\n",
      "Epoch 12: val_accuracy did not improve from 0.11429\n",
      "\n",
      "Epoch 13: val_accuracy improved from 0.11429 to 0.12857, saving model to models/trained/simple_cnn_lfw_anony_v1.h5\n"
     ]
    },
    {
     "name": "stderr",
     "output_type": "stream",
     "text": [
      "WARNING:absl:You are saving your model as an HDF5 file via `model.save()` or `keras.saving.save_model(model)`. This file format is considered legacy. We recommend using instead the native Keras format, e.g. `model.save('my_model.keras')` or `keras.saving.save_model(model, 'my_model.keras')`. \n"
     ]
    },
    {
     "name": "stdout",
     "output_type": "stream",
     "text": [
      "\n",
      "Epoch 14: val_accuracy did not improve from 0.12857\n",
      "\n",
      "Epoch 15: val_accuracy did not improve from 0.12857\n",
      "\n",
      "Epoch 16: val_accuracy improved from 0.12857 to 0.20000, saving model to models/trained/simple_cnn_lfw_anony_v1.h5\n"
     ]
    },
    {
     "name": "stderr",
     "output_type": "stream",
     "text": [
      "WARNING:absl:You are saving your model as an HDF5 file via `model.save()` or `keras.saving.save_model(model)`. This file format is considered legacy. We recommend using instead the native Keras format, e.g. `model.save('my_model.keras')` or `keras.saving.save_model(model, 'my_model.keras')`. \n"
     ]
    },
    {
     "name": "stdout",
     "output_type": "stream",
     "text": [
      "\n",
      "Epoch 17: val_accuracy improved from 0.20000 to 0.21429, saving model to models/trained/simple_cnn_lfw_anony_v1.h5\n"
     ]
    },
    {
     "name": "stderr",
     "output_type": "stream",
     "text": [
      "WARNING:absl:You are saving your model as an HDF5 file via `model.save()` or `keras.saving.save_model(model)`. This file format is considered legacy. We recommend using instead the native Keras format, e.g. `model.save('my_model.keras')` or `keras.saving.save_model(model, 'my_model.keras')`. \n"
     ]
    },
    {
     "name": "stdout",
     "output_type": "stream",
     "text": [
      "\n",
      "Epoch 18: val_accuracy improved from 0.21429 to 0.24286, saving model to models/trained/simple_cnn_lfw_anony_v1.h5\n"
     ]
    },
    {
     "name": "stderr",
     "output_type": "stream",
     "text": [
      "WARNING:absl:You are saving your model as an HDF5 file via `model.save()` or `keras.saving.save_model(model)`. This file format is considered legacy. We recommend using instead the native Keras format, e.g. `model.save('my_model.keras')` or `keras.saving.save_model(model, 'my_model.keras')`. \n"
     ]
    },
    {
     "name": "stdout",
     "output_type": "stream",
     "text": [
      "\n",
      "Epoch 19: val_accuracy improved from 0.24286 to 0.25714, saving model to models/trained/simple_cnn_lfw_anony_v1.h5\n"
     ]
    },
    {
     "name": "stderr",
     "output_type": "stream",
     "text": [
      "WARNING:absl:You are saving your model as an HDF5 file via `model.save()` or `keras.saving.save_model(model)`. This file format is considered legacy. We recommend using instead the native Keras format, e.g. `model.save('my_model.keras')` or `keras.saving.save_model(model, 'my_model.keras')`. \n"
     ]
    },
    {
     "name": "stdout",
     "output_type": "stream",
     "text": [
      "\n",
      "Epoch 20: val_accuracy improved from 0.25714 to 0.30000, saving model to models/trained/simple_cnn_lfw_anony_v1.h5\n"
     ]
    },
    {
     "name": "stderr",
     "output_type": "stream",
     "text": [
      "WARNING:absl:You are saving your model as an HDF5 file via `model.save()` or `keras.saving.save_model(model)`. This file format is considered legacy. We recommend using instead the native Keras format, e.g. `model.save('my_model.keras')` or `keras.saving.save_model(model, 'my_model.keras')`. \n"
     ]
    },
    {
     "name": "stdout",
     "output_type": "stream",
     "text": [
      "\n",
      "Epoch 21: val_accuracy did not improve from 0.30000\n",
      "\n",
      "Epoch 22: val_accuracy improved from 0.30000 to 0.31429, saving model to models/trained/simple_cnn_lfw_anony_v1.h5\n"
     ]
    },
    {
     "name": "stderr",
     "output_type": "stream",
     "text": [
      "WARNING:absl:You are saving your model as an HDF5 file via `model.save()` or `keras.saving.save_model(model)`. This file format is considered legacy. We recommend using instead the native Keras format, e.g. `model.save('my_model.keras')` or `keras.saving.save_model(model, 'my_model.keras')`. \n"
     ]
    },
    {
     "name": "stdout",
     "output_type": "stream",
     "text": [
      "\n",
      "Epoch 23: val_accuracy did not improve from 0.31429\n",
      "\n",
      "Epoch 24: val_accuracy did not improve from 0.31429\n",
      "\n",
      "Epoch 25: val_accuracy improved from 0.31429 to 0.37143, saving model to models/trained/simple_cnn_lfw_anony_v1.h5\n"
     ]
    },
    {
     "name": "stderr",
     "output_type": "stream",
     "text": [
      "WARNING:absl:You are saving your model as an HDF5 file via `model.save()` or `keras.saving.save_model(model)`. This file format is considered legacy. We recommend using instead the native Keras format, e.g. `model.save('my_model.keras')` or `keras.saving.save_model(model, 'my_model.keras')`. \n"
     ]
    },
    {
     "name": "stdout",
     "output_type": "stream",
     "text": [
      "\n",
      "Epoch 26: val_accuracy did not improve from 0.37143\n",
      "\n",
      "Epoch 27: val_accuracy did not improve from 0.37143\n",
      "\n",
      "Epoch 28: val_accuracy did not improve from 0.37143\n",
      "\n",
      "Epoch 29: val_accuracy did not improve from 0.37143\n",
      "\n",
      "Epoch 30: val_accuracy did not improve from 0.37143\n",
      "\n",
      "Epoch 31: val_accuracy improved from 0.37143 to 0.38571, saving model to models/trained/simple_cnn_lfw_anony_v1.h5\n"
     ]
    },
    {
     "name": "stderr",
     "output_type": "stream",
     "text": [
      "WARNING:absl:You are saving your model as an HDF5 file via `model.save()` or `keras.saving.save_model(model)`. This file format is considered legacy. We recommend using instead the native Keras format, e.g. `model.save('my_model.keras')` or `keras.saving.save_model(model, 'my_model.keras')`. \n"
     ]
    },
    {
     "name": "stdout",
     "output_type": "stream",
     "text": [
      "\n",
      "Epoch 32: val_accuracy did not improve from 0.38571\n",
      "\n",
      "Epoch 33: val_accuracy did not improve from 0.38571\n",
      "\n",
      "Epoch 34: val_accuracy did not improve from 0.38571\n",
      "\n",
      "Epoch 35: val_accuracy did not improve from 0.38571\n",
      "\n",
      "Epoch 36: val_accuracy did not improve from 0.38571\n",
      "\n",
      "Epoch 37: val_accuracy did not improve from 0.38571\n",
      "\n",
      "Epoch 38: val_accuracy did not improve from 0.38571\n",
      "\n",
      "Epoch 39: val_accuracy improved from 0.38571 to 0.42857, saving model to models/trained/simple_cnn_lfw_anony_v1.h5\n"
     ]
    },
    {
     "name": "stderr",
     "output_type": "stream",
     "text": [
      "WARNING:absl:You are saving your model as an HDF5 file via `model.save()` or `keras.saving.save_model(model)`. This file format is considered legacy. We recommend using instead the native Keras format, e.g. `model.save('my_model.keras')` or `keras.saving.save_model(model, 'my_model.keras')`. \n"
     ]
    },
    {
     "name": "stdout",
     "output_type": "stream",
     "text": [
      "\n",
      "Epoch 40: val_accuracy improved from 0.42857 to 0.47143, saving model to models/trained/simple_cnn_lfw_anony_v1.h5\n"
     ]
    },
    {
     "name": "stderr",
     "output_type": "stream",
     "text": [
      "WARNING:absl:You are saving your model as an HDF5 file via `model.save()` or `keras.saving.save_model(model)`. This file format is considered legacy. We recommend using instead the native Keras format, e.g. `model.save('my_model.keras')` or `keras.saving.save_model(model, 'my_model.keras')`. \n"
     ]
    },
    {
     "name": "stdout",
     "output_type": "stream",
     "text": [
      "\n",
      "Epoch 41: val_accuracy improved from 0.47143 to 0.50000, saving model to models/trained/simple_cnn_lfw_anony_v1.h5\n"
     ]
    },
    {
     "name": "stderr",
     "output_type": "stream",
     "text": [
      "WARNING:absl:You are saving your model as an HDF5 file via `model.save()` or `keras.saving.save_model(model)`. This file format is considered legacy. We recommend using instead the native Keras format, e.g. `model.save('my_model.keras')` or `keras.saving.save_model(model, 'my_model.keras')`. \n"
     ]
    },
    {
     "name": "stdout",
     "output_type": "stream",
     "text": [
      "\n",
      "Epoch 42: val_accuracy did not improve from 0.50000\n",
      "\n",
      "Epoch 43: val_accuracy did not improve from 0.50000\n",
      "\n",
      "Epoch 44: val_accuracy did not improve from 0.50000\n",
      "\n",
      "Epoch 45: val_accuracy did not improve from 0.50000\n",
      "\n",
      "Epoch 46: val_accuracy did not improve from 0.50000\n",
      "\n",
      "Epoch 47: val_accuracy did not improve from 0.50000\n",
      "\n",
      "Epoch 48: val_accuracy did not improve from 0.50000\n",
      "\n",
      "Epoch 49: val_accuracy improved from 0.50000 to 0.51429, saving model to models/trained/simple_cnn_lfw_anony_v1.h5\n"
     ]
    },
    {
     "name": "stderr",
     "output_type": "stream",
     "text": [
      "WARNING:absl:You are saving your model as an HDF5 file via `model.save()` or `keras.saving.save_model(model)`. This file format is considered legacy. We recommend using instead the native Keras format, e.g. `model.save('my_model.keras')` or `keras.saving.save_model(model, 'my_model.keras')`. \n"
     ]
    },
    {
     "name": "stdout",
     "output_type": "stream",
     "text": [
      "\n",
      "Epoch 50: val_accuracy did not improve from 0.51429\n",
      "Restoring model weights from the end of the best epoch: 49.\n",
      "LabelEncoder sauvegardé dans : models/trained/simple_cnn_lfw_anony_v1_label_encoder.joblib\n",
      "\u001B[1m3/3\u001B[0m \u001B[32m━━━━━━━━━━━━━━━━━━━━\u001B[0m\u001B[37m\u001B[0m \u001B[1m0s\u001B[0m 77ms/step - accuracy: 0.4500 - loss: 2.2880\n",
      "\u001B[1m3/3\u001B[0m \u001B[32m━━━━━━━━━━━━━━━━━━━━\u001B[0m\u001B[37m\u001B[0m \u001B[1m0s\u001B[0m 105ms/step\n"
     ]
    },
    {
     "name": "stderr",
     "output_type": "stream",
     "text": [
      "D:\\myDocs\\Apprentissage\\Isep\\Year_3\\Brno-Privacy_Preserving_Face_Recognition_Project\\venv\\Lib\\site-packages\\sklearn\\metrics\\_classification.py:1517: UndefinedMetricWarning: Precision is ill-defined and being set to 0.0 in labels with no predicted samples. Use `zero_division` parameter to control this behavior.\n",
      "  _warn_prf(average, modifier, f\"{metric.capitalize()} is\", len(result))\n",
      "D:\\myDocs\\Apprentissage\\Isep\\Year_3\\Brno-Privacy_Preserving_Face_Recognition_Project\\venv\\Lib\\site-packages\\sklearn\\metrics\\_classification.py:1517: UndefinedMetricWarning: Precision is ill-defined and being set to 0.0 in labels with no predicted samples. Use `zero_division` parameter to control this behavior.\n",
      "  _warn_prf(average, modifier, f\"{metric.capitalize()} is\", len(result))\n",
      "D:\\myDocs\\Apprentissage\\Isep\\Year_3\\Brno-Privacy_Preserving_Face_Recognition_Project\\venv\\Lib\\site-packages\\sklearn\\metrics\\_classification.py:1517: UndefinedMetricWarning: Precision is ill-defined and being set to 0.0 in labels with no predicted samples. Use `zero_division` parameter to control this behavior.\n",
      "  _warn_prf(average, modifier, f\"{metric.capitalize()} is\", len(result))\n"
     ]
    },
    {
     "name": "stdout",
     "output_type": "stream",
     "text": [
      "***\n",
      "--- Script d'Entraînement Terminé en 153.38 secondes ---\n"
     ]
    },
    {
     "data": {
      "text/plain": [
       "<Figure size 1200x500 with 2 Axes>"
      ],
      "image/png": "[encoded data removed]"
     },
     "metadata": {},
     "output_type": "display_data"
    }
   ],
   "execution_count": 9
  },
  {
   "metadata": {
    "ExecuteTime": {
     "end_time": "2025-04-25T16:35:11.315290Z",
     "start_time": "2025-04-25T16:35:11.307377Z"
    }
   },
   "cell_type": "code",
   "source": "print(summary_text)",
   "id": "9582b54059964c4b",
   "outputs": [
    {
     "name": "stdout",
     "output_type": "stream",
     "text": [
      "Model: \"simple_cnn\"\n",
      "┏━━━━━━━━━━━━━━━━━━━━━━━━━━━━━━━━━┳━━━━━━━━━━━━━━━━━━━━━━━━┳━━━━━━━━━━━━━━━┓\n",
      "┃ Layer (type)                    ┃ Output Shape           ┃       Param # ┃\n",
      "┡━━━━━━━━━━━━━━━━━━━━━━━━━━━━━━━━━╇━━━━━━━━━━━━━━━━━━━━━━━━╇━━━━━━━━━━━━━━━┩\n",
      "│ input_image (InputLayer)        │ (None, 100, 100, 1)    │             0 │\n",
      "├─────────────────────────────────┼────────────────────────┼───────────────┤\n",
      "│ conv1_1 (Conv2D)                │ (None, 100, 100, 32)   │           320 │\n",
      "├─────────────────────────────────┼────────────────────────┼───────────────┤\n",
      "│ bn1_1 (BatchNormalization)      │ (None, 100, 100, 32)   │           128 │\n",
      "├─────────────────────────────────┼────────────────────────┼───────────────┤\n",
      "│ conv1_2 (Conv2D)                │ (None, 100, 100, 32)   │         9,248 │\n",
      "├─────────────────────────────────┼────────────────────────┼───────────────┤\n",
      "│ bn1_2 (BatchNormalization)      │ (None, 100, 100, 32)   │           128 │\n",
      "├─────────────────────────────────┼────────────────────────┼───────────────┤\n",
      "│ pool1 (MaxPooling2D)            │ (None, 50, 50, 32)     │             0 │\n",
      "├─────────────────────────────────┼────────────────────────┼───────────────┤\n",
      "│ drop1 (Dropout)                 │ (None, 50, 50, 32)     │             0 │\n",
      "├─────────────────────────────────┼────────────────────────┼───────────────┤\n",
      "│ conv2_1 (Conv2D)                │ (None, 50, 50, 64)     │        18,496 │\n",
      "├─────────────────────────────────┼────────────────────────┼───────────────┤\n",
      "│ bn2_1 (BatchNormalization)      │ (None, 50, 50, 64)     │           256 │\n",
      "├─────────────────────────────────┼────────────────────────┼───────────────┤\n",
      "│ conv2_2 (Conv2D)                │ (None, 50, 50, 64)     │        36,928 │\n",
      "├─────────────────────────────────┼────────────────────────┼───────────────┤\n",
      "│ bn2_2 (BatchNormalization)      │ (None, 50, 50, 64)     │           256 │\n",
      "├─────────────────────────────────┼────────────────────────┼───────────────┤\n",
      "│ pool2 (MaxPooling2D)            │ (None, 25, 25, 64)     │             0 │\n",
      "├─────────────────────────────────┼────────────────────────┼───────────────┤\n",
      "│ drop2 (Dropout)                 │ (None, 25, 25, 64)     │             0 │\n",
      "├─────────────────────────────────┼────────────────────────┼───────────────┤\n",
      "│ flatten (Flatten)               │ (None, 40000)          │             0 │\n",
      "├─────────────────────────────────┼────────────────────────┼───────────────┤\n",
      "│ dense1 (Dense)                  │ (None, 128)            │     5,120,128 │\n",
      "├─────────────────────────────────┼────────────────────────┼───────────────┤\n",
      "│ bn_dense1 (BatchNormalization)  │ (None, 128)            │           512 │\n",
      "├─────────────────────────────────┼────────────────────────┼───────────────┤\n",
      "│ drop_dense1 (Dropout)           │ (None, 128)            │             0 │\n",
      "├─────────────────────────────────┼────────────────────────┼───────────────┤\n",
      "│ output_softmax (Dense)          │ (None, 43)             │         5,547 │\n",
      "└─────────────────────────────────┴────────────────────────┴───────────────┘\n",
      " Total params: 5,191,947 (19.81 MB)\n",
      " Trainable params: 5,191,307 (19.80 MB)\n",
      " Non-trainable params: 640 (2.50 KB)\n",
      "\n",
      "\n"
     ]
    }
   ],
   "execution_count": 12
  },
  {
   "metadata": {},
   "cell_type": "markdown",
   "source": "# Test",
   "id": "fb859adc4e715329"
  },
  {
   "metadata": {
    "ExecuteTime": {
     "end_time": "2025-04-25T16:29:39.573321Z",
     "start_time": "2025-04-25T16:29:39.340140Z"
    }
   },
   "cell_type": "code",
   "source": [
    "# Image to predict\n",
    "index = 30\n",
    "\n",
    "img_to_predict = X[index]\n",
    "true_result = y[index]\n",
    "print(img_to_predict.shape)\n",
    "\n",
    "# Make a prediction\n",
    "prediction = ml.predict_image(img_to_predict, model_save_dir=MODEL_SAVE_DIR)\n",
    "\n",
    "# Result\n",
    "print(f\"prediction: {prediction}\")\n",
    "print(f\"true_result: {true_result}\")\n",
    "print(f\"The model is correct: {prediction==true_result}\")"
   ],
   "id": "a290d30b7b28dcc6",
   "outputs": [
    {
     "name": "stderr",
     "output_type": "stream",
     "text": [
      "WARNING:absl:Compiled the loaded model, but the compiled metrics have yet to be built. `model.compile_metrics` will be empty until you train or evaluate the model.\n"
     ]
    },
    {
     "name": "stdout",
     "output_type": "stream",
     "text": [
      "LabelEncoder chargé depuis : ..\\data\\models\\trained\\simple_cnn_lfw_anony_v1_label_encoder.joblib\n"
     ]
    },
    {
     "name": "stderr",
     "output_type": "stream",
     "text": [
      "D:\\myDocs\\Apprentissage\\Isep\\Year_3\\Brno-Privacy_Preserving_Face_Recognition_Project\\venv\\Lib\\site-packages\\keras\\src\\models\\functional.py:238: UserWarning: The structure of `inputs` doesn't match the expected structure.\n",
      "Expected: ['input_image']\n",
      "Received: inputs=Tensor(shape=(1, 100, 100, 3))\n",
      "  warnings.warn(msg)\n"
     ]
    },
    {
     "ename": "ValueError",
     "evalue": "Exception encountered when calling Functional.call().\n\n\u001B[1mInput 0 of layer \"conv1_1\" is incompatible with the layer: expected axis -1 of input shape to have value 1, but received input with shape (1, 100, 100, 3)\u001B[0m\n\nArguments received by Functional.call():\n  • inputs=tf.Tensor(shape=(1, 100, 100, 3), dtype=float32)\n  • training=False\n  • mask=None",
     "output_type": "error",
     "traceback": [
      "\u001B[31m---------------------------------------------------------------------------\u001B[39m",
      "\u001B[31mValueError\u001B[39m                                Traceback (most recent call last)",
      "\u001B[36mCell\u001B[39m\u001B[36m \u001B[39m\u001B[32mIn[10]\u001B[39m\u001B[32m, line 8\u001B[39m\n\u001B[32m      5\u001B[39m true_result = y[index]\n\u001B[32m      7\u001B[39m \u001B[38;5;66;03m# Make a prediction\u001B[39;00m\n\u001B[32m----> \u001B[39m\u001B[32m8\u001B[39m prediction = \u001B[43mml\u001B[49m\u001B[43m.\u001B[49m\u001B[43mpredict_image\u001B[49m\u001B[43m(\u001B[49m\u001B[43mimg_to_predict\u001B[49m\u001B[43m,\u001B[49m\u001B[43m \u001B[49m\u001B[43mmodel_save_dir\u001B[49m\u001B[43m=\u001B[49m\u001B[43mMODEL_SAVE_DIR\u001B[49m\u001B[43m)\u001B[49m\n\u001B[32m     10\u001B[39m \u001B[38;5;66;03m# Result\u001B[39;00m\n\u001B[32m     11\u001B[39m \u001B[38;5;28mprint\u001B[39m(\u001B[33mf\u001B[39m\u001B[33m\"\u001B[39m\u001B[33mprediction: \u001B[39m\u001B[38;5;132;01m{\u001B[39;00mprediction\u001B[38;5;132;01m}\u001B[39;00m\u001B[33m\"\u001B[39m)\n",
      "\u001B[36mFile \u001B[39m\u001B[32mD:\\myDocs\\Apprentissage\\Isep\\Year_3\\Brno-Privacy_Preserving_Face_Recognition_Project\\src\\controller\\ml_controller.py:1067\u001B[39m, in \u001B[36mpredict_image\u001B[39m\u001B[34m(image_array, model_save_dir, model_name, input_shape, show_logs)\u001B[39m\n\u001B[32m   1064\u001B[39m image_array = image_array.astype(\u001B[33m\"\u001B[39m\u001B[33mfloat32\u001B[39m\u001B[33m\"\u001B[39m) / \u001B[32m255.0\u001B[39m\n\u001B[32m   1066\u001B[39m \u001B[38;5;66;03m# --- 4. Prédiction ---\u001B[39;00m\n\u001B[32m-> \u001B[39m\u001B[32m1067\u001B[39m prediction_probabilities = \u001B[43mmodel\u001B[49m\u001B[43m.\u001B[49m\u001B[43mpredict\u001B[49m\u001B[43m(\u001B[49m\u001B[43mimage_array\u001B[49m\u001B[43m)\u001B[49m\n\u001B[32m   1068\u001B[39m predicted_index = np.argmax(prediction_probabilities[\u001B[32m0\u001B[39m])\n\u001B[32m   1069\u001B[39m prediction_confidence = prediction_probabilities[\u001B[32m0\u001B[39m][predicted_index]\n",
      "\u001B[36mFile \u001B[39m\u001B[32mD:\\myDocs\\Apprentissage\\Isep\\Year_3\\Brno-Privacy_Preserving_Face_Recognition_Project\\venv\\Lib\\site-packages\\keras\\src\\utils\\traceback_utils.py:122\u001B[39m, in \u001B[36mfilter_traceback.<locals>.error_handler\u001B[39m\u001B[34m(*args, **kwargs)\u001B[39m\n\u001B[32m    119\u001B[39m     filtered_tb = _process_traceback_frames(e.__traceback__)\n\u001B[32m    120\u001B[39m     \u001B[38;5;66;03m# To get the full stack trace, call:\u001B[39;00m\n\u001B[32m    121\u001B[39m     \u001B[38;5;66;03m# `keras.config.disable_traceback_filtering()`\u001B[39;00m\n\u001B[32m--> \u001B[39m\u001B[32m122\u001B[39m     \u001B[38;5;28;01mraise\u001B[39;00m e.with_traceback(filtered_tb) \u001B[38;5;28;01mfrom\u001B[39;00m\u001B[38;5;250m \u001B[39m\u001B[38;5;28;01mNone\u001B[39;00m\n\u001B[32m    123\u001B[39m \u001B[38;5;28;01mfinally\u001B[39;00m:\n\u001B[32m    124\u001B[39m     \u001B[38;5;28;01mdel\u001B[39;00m filtered_tb\n",
      "\u001B[36mFile \u001B[39m\u001B[32mD:\\myDocs\\Apprentissage\\Isep\\Year_3\\Brno-Privacy_Preserving_Face_Recognition_Project\\venv\\Lib\\site-packages\\keras\\src\\layers\\input_spec.py:227\u001B[39m, in \u001B[36massert_input_compatibility\u001B[39m\u001B[34m(input_spec, inputs, layer_name)\u001B[39m\n\u001B[32m    222\u001B[39m     \u001B[38;5;28;01mfor\u001B[39;00m axis, value \u001B[38;5;129;01min\u001B[39;00m spec.axes.items():\n\u001B[32m    223\u001B[39m         \u001B[38;5;28;01mif\u001B[39;00m value \u001B[38;5;129;01mis\u001B[39;00m \u001B[38;5;129;01mnot\u001B[39;00m \u001B[38;5;28;01mNone\u001B[39;00m \u001B[38;5;129;01mand\u001B[39;00m shape[axis] \u001B[38;5;129;01mnot\u001B[39;00m \u001B[38;5;129;01min\u001B[39;00m {\n\u001B[32m    224\u001B[39m             value,\n\u001B[32m    225\u001B[39m             \u001B[38;5;28;01mNone\u001B[39;00m,\n\u001B[32m    226\u001B[39m         }:\n\u001B[32m--> \u001B[39m\u001B[32m227\u001B[39m             \u001B[38;5;28;01mraise\u001B[39;00m \u001B[38;5;167;01mValueError\u001B[39;00m(\n\u001B[32m    228\u001B[39m                 \u001B[33mf\u001B[39m\u001B[33m'\u001B[39m\u001B[33mInput \u001B[39m\u001B[38;5;132;01m{\u001B[39;00minput_index\u001B[38;5;132;01m}\u001B[39;00m\u001B[33m of layer \u001B[39m\u001B[33m\"\u001B[39m\u001B[38;5;132;01m{\u001B[39;00mlayer_name\u001B[38;5;132;01m}\u001B[39;00m\u001B[33m\"\u001B[39m\u001B[33m is \u001B[39m\u001B[33m'\u001B[39m\n\u001B[32m    229\u001B[39m                 \u001B[33mf\u001B[39m\u001B[33m\"\u001B[39m\u001B[33mincompatible with the layer: expected axis \u001B[39m\u001B[38;5;132;01m{\u001B[39;00maxis\u001B[38;5;132;01m}\u001B[39;00m\u001B[33m \u001B[39m\u001B[33m\"\u001B[39m\n\u001B[32m    230\u001B[39m                 \u001B[33mf\u001B[39m\u001B[33m\"\u001B[39m\u001B[33mof input shape to have value \u001B[39m\u001B[38;5;132;01m{\u001B[39;00mvalue\u001B[38;5;132;01m}\u001B[39;00m\u001B[33m, \u001B[39m\u001B[33m\"\u001B[39m\n\u001B[32m    231\u001B[39m                 \u001B[33m\"\u001B[39m\u001B[33mbut received input with \u001B[39m\u001B[33m\"\u001B[39m\n\u001B[32m    232\u001B[39m                 \u001B[33mf\u001B[39m\u001B[33m\"\u001B[39m\u001B[33mshape \u001B[39m\u001B[38;5;132;01m{\u001B[39;00mshape\u001B[38;5;132;01m}\u001B[39;00m\u001B[33m\"\u001B[39m\n\u001B[32m    233\u001B[39m             )\n\u001B[32m    234\u001B[39m \u001B[38;5;66;03m# Check shape.\u001B[39;00m\n\u001B[32m    235\u001B[39m \u001B[38;5;28;01mif\u001B[39;00m spec.shape \u001B[38;5;129;01mis\u001B[39;00m \u001B[38;5;129;01mnot\u001B[39;00m \u001B[38;5;28;01mNone\u001B[39;00m:\n",
      "\u001B[31mValueError\u001B[39m: Exception encountered when calling Functional.call().\n\n\u001B[1mInput 0 of layer \"conv1_1\" is incompatible with the layer: expected axis -1 of input shape to have value 1, but received input with shape (1, 100, 100, 3)\u001B[0m\n\nArguments received by Functional.call():\n  • inputs=tf.Tensor(shape=(1, 100, 100, 3), dtype=float32)\n  • training=False\n  • mask=None"
     ]
    }
   ],
   "execution_count": 10
  }
 ],
 "metadata": {
  "kernelspec": {
   "display_name": "Python 3",
   "language": "python",
   "name": "python3"
  },
  "language_info": {
   "codemirror_mode": {
    "name": "ipython",
    "version": 2
   },
   "file_extension": ".py",
   "mimetype": "text/x-python",
   "name": "python",
   "nbconvert_exporter": "python",
   "pygments_lexer": "ipython2",
   "version": "2.7.6"
  }
 },
 "nbformat": 4,
 "nbformat_minor": 5
}
