{
 "cells": [
  {
   "metadata": {},
   "cell_type": "markdown",
   "source": [
    "Configuration de train_model() et predict_image() dans ce notebook\n",
    "\n",
    "* Il faut prendre quoi comme valeur d'epsilon par defaut ?\n",
    "**la meilleure combinaison de valeurs est en sortie de la fonction gridsearch_analysis (valeur par défaut changeant en fonction du set d'image)**\n",
    "\n",
    "* train_model() prend maintenant en input: X, y, label_encoder + config.all_variables\n",
    "* predict_image() prend maintenant en input un np.array\n",
    "\n",
    "* Je ne trouve pas un model > 90% d'accuracy\n",
    "**on l'a testé sur LFW; l'accuracy peut changer avec une image inconnue (d'où l'indication des améliorations futures \"changer la méthode de bruit ou changer de modèle\")**\n",
    "\n",
    "* Dans la DB, les images ont 1 ou 3 channels ? (greyscale/RGB)\n",
    "**originales : 3\n",
    "processed/anonymisées : 1**\n",
    "\n",
    "* J'ai ajouté une fonction resize_images à implementer dans train_model() car:\n",
    "    * Taille des images variables pour chaque user\n",
    "**ATTENTION : LE MODELE S'ENTRAINE SUR TOUTE LA DB. SI PLUSIEURS TAILLE D'IMAGE (DE MATRICE) SONT RENCONTRES, L'ENTRAINEMENT S'ARRETERA**\n",
    "**il faut conserver les mêmes dimensions entre l'entrainement et la prédiction qu'entre chaque images**\n",
    "\n",
    "* Verifier le ML car:\n",
    "    * Nombre d'images variable en fonction des users\n",
    "**AJOUT D'UN BALANCED ACCURACY UTILE MAIS OVERKILL : ON PEUT S'EN PASSER**\n",
    "\n",
    "* Je n'ai pas utilisé les variables de **config** pour faire des fonctions plus propre. Elle pourront être récupéré plus tard juste avant l'appel des fonctions\n",
    "* Ajout de show_logs car le GUI n'a pas besoin de print"
   ],
   "id": "3181f2cd62b5aa6a"
  },
  {
   "metadata": {
    "ExecuteTime": {
     "end_time": "2025-04-22T16:00:04.925498Z",
     "start_time": "2025-04-22T15:59:59.651194Z"
    }
   },
   "cell_type": "code",
   "source": [
    "import tensorflow as tf\n",
    "\n",
    "import os\n",
    "import io\n",
    "import time\n",
    "import numpy as np\n",
    "import matplotlib.pyplot as plt\n",
    "from PIL import Image\n",
    "\n",
    "from sklearn.model_selection import train_test_split\n",
    "from sklearn.metrics import confusion_matrix, classification_report\n",
    "\n",
    "import src.face_recognition.ml_models as ml_models\n",
    "import src.modules.data_loader as data_loader\n",
    "from src.controller.ml_controller import MLController\n",
    "import controller.ml_controller as ml\n",
    "\n",
    "MODEL_SAVE_DIR = '../data/models/trained/'\n",
    "LOG_DIR = '../data/models/logs/'\n",
    "DB_PATH = r\"..\\data\\database.db\"\n",
    "INPUT_SHAPE = (100, 100, 3)\n",
    "WIDTH, HEIGHT, _ = INPUT_SHAPE"
   ],
   "id": "be8f4dd325ae10e6",
   "outputs": [],
   "execution_count": 1
  },
  {
   "metadata": {
    "ExecuteTime": {
     "end_time": "2025-04-22T16:00:04.940028Z",
     "start_time": "2025-04-22T16:00:04.934790Z"
    }
   },
   "cell_type": "code",
   "source": [
    "# Aucune des variables ici n'est utilisé. Les valeurs ont été implementées en input des fonctions\n",
    "# --- Chemins et Noms ---\n",
    "MODEL_NAME = 'simple_cnn_lfw_anony_v1'\n",
    "# --- Paramètres des Données et Prétraitement ---\n",
    "COLOR_MODE = 'grayscale'\n",
    "IMG_WIDTH, IMG_HEIGHT, CHANNELS = (64, 64, 1 if COLOR_MODE == 'grayscale' else 3)\n",
    "# --- Paramètres de Division des Données ---\n",
    "SPLIT_STRATEGY = 'stratified'\n",
    "# -- Pour 'stratified' --\n",
    "TEST_SPLIT_RATIO = 0.2\n",
    "VALIDATION_SPLIT_RATIO = 0.15\n",
    "# -- Pour 'fixed_per_subject' --\n",
    "N_TRAIN_PER_SUBJECT = 16\n",
    "RANDOM_STATE = 42\n",
    "# ---    Paramètres du Modèle ---\n",
    "MODEL_ARCHITECTURE = 'simple_cnn'\n",
    "# -- Pour Transfer Learning (si MODEL_ARCHITECTURE commence par 'transfer_') --\n",
    "TRANSFER_BASE_MODEL_NAME = 'MobileNetV2'\n",
    "TRANSFER_FREEZE_BASE = True\n",
    "# --- Paramètres d'Entraînement ---\n",
    "EPOCHS = 50\n",
    "BATCH_SIZE = 32\n",
    "LEARNING_RATE = 0.001\n",
    "EARLY_STOPPING_PATIENCE = 10"
   ],
   "id": "cb4e96e88d85faa6",
   "outputs": [],
   "execution_count": 2
  },
  {
   "metadata": {},
   "cell_type": "markdown",
   "source": "### Data from folder (LFW dataset)",
   "id": "60ff5ecf4cd4d651"
  },
  {
   "metadata": {
    "ExecuteTime": {
     "end_time": "2025-04-22T16:00:05.145308Z",
     "start_time": "2025-04-22T16:00:05.140627Z"
    }
   },
   "cell_type": "code",
   "source": [
    "import os\n",
    "RECONSTRUCTED_DIR = r\"..\\data\\reconstructed_pipeline\"\n",
    "os.makedirs(RECONSTRUCTED_DIR, exist_ok=True)\n",
    "\n",
    "X, y, label_encoder = ml.data_loader.load_anonymized_images_flat(\n",
    "    data_dir=RECONSTRUCTED_DIR,\n",
    "    img_width=100,\n",
    "    img_height=100,\n",
    "    color_mode='grayscale'\n",
    ")"
   ],
   "id": "8002dc5917cfa4a5",
   "outputs": [
    {
     "name": "stdout",
     "output_type": "stream",
     "text": [
      "Chargement des images depuis : data/reconstructed_pipeline\n",
      "Format attendu : 64x64, mode: grayscale\n",
      "Erreur: Le dossier spécifié n'existe pas : data/reconstructed_pipeline\n"
     ]
    }
   ],
   "execution_count": 3
  },
  {
   "metadata": {},
   "cell_type": "markdown",
   "source": "### Data from database",
   "id": "ca308921b6a78a8a"
  },
  {
   "metadata": {
    "ExecuteTime": {
     "end_time": "2025-04-22T16:00:05.278379Z",
     "start_time": "2025-04-22T16:00:05.161870Z"
    }
   },
   "cell_type": "code",
   "source": "X, y, label_encoder = MLController.get_and_prepare_data((WIDTH, HEIGHT), DB_PATH)",
   "id": "f02e202882b7083f",
   "outputs": [
    {
     "name": "stdout",
     "output_type": "stream",
     "text": [
      "Create db connection at: D:\\myDocs\\Apprentissage\\Isep\\Year_3\\Brno-Privacy_Preserving_Face_Recognition_Project\\data\\database.db\n"
     ]
    }
   ],
   "execution_count": 4
  },
  {
   "metadata": {},
   "cell_type": "markdown",
   "source": "### Model",
   "id": "1d083f5836f3bfcb"
  },
  {
   "metadata": {
    "ExecuteTime": {
     "end_time": "2025-04-22T16:00:05.297518Z",
     "start_time": "2025-04-22T16:00:05.289268Z"
    }
   },
   "cell_type": "code",
   "source": [
    "def prepare_data_train_model(\n",
    "    X, y, label_encoder,\n",
    "    split_strategy='stratified',\n",
    "    test_split_ratio=0.2,\n",
    "    validation_split_ratio=0.15,\n",
    "    n_train_per_subject=7,\n",
    "    random_state=42,\n",
    "    show_logs=False\n",
    "):\n",
    "    # --- -------------------------- ---\n",
    "    # --- 2. Préparation des Données ---\n",
    "    # --- -------------------------- ---\n",
    "    if show_logs: print(\"\\n--- Préparation des données depuis dictionnaire ---\")\n",
    "\n",
    "    num_classes = len(label_encoder.classes_)\n",
    "    if show_logs: print(f\"Nombre de classes détectées : {num_classes}\")\n",
    "\n",
    "    # --- ----------------------- ---\n",
    "    # --- 3. Division des Données ---\n",
    "    # --- ----------------------- ---\n",
    "    if show_logs: print(\"\\n--- Division des données ---\")\n",
    "    X_train, y_train = None, None\n",
    "    X_val, y_val = None, None\n",
    "    X_test, y_test = None, None\n",
    "\n",
    "    if split_strategy == 'stratified':\n",
    "        data_splits = data_loader.split_data_stratified(\n",
    "            X, y, # TODO BRUCE: data_loader.split_data_stratified()\n",
    "            test_size=test_split_ratio,\n",
    "            validation_size=validation_split_ratio,\n",
    "            random_state=random_state\n",
    "        )\n",
    "        X_train = data_splits.get('X_train')\n",
    "        y_train = data_splits.get('y_train')\n",
    "        X_val = data_splits.get('X_val')\n",
    "        y_val = data_splits.get('y_val')\n",
    "        X_test = data_splits.get('X_test')\n",
    "        y_test = data_splits.get('y_test')\n",
    "\n",
    "        if X_val is None and validation_split_ratio > 0 and X_train is not None and len(X_train) > 0:\n",
    "            val_ratio_from_train = validation_split_ratio / (1.0 - test_split_ratio)\n",
    "            if val_ratio_from_train < 1.0:\n",
    "                if show_logs: print(f\"Création du set de validation depuis l'entraînement (ratio: {val_ratio_from_train:.2f})\")\n",
    "                X_train, X_val, y_train, y_val = train_test_split(\n",
    "                    X_train, y_train,\n",
    "                    test_size=val_ratio_from_train,\n",
    "                    random_state=random_state,\n",
    "                    stratify=y_train\n",
    "                )\n",
    "            else:\n",
    "                print(\"Attention: Ratios de split incohérents, pas de données d'entraînement restantes après validation.\")\n",
    "    elif split_strategy == 'fixed_per_subject':\n",
    "        X_train_full, X_test, y_train_full, y_test = data_loader.split_data_fixed_per_subject(\n",
    "            X, y,\n",
    "            n_train_per_class=n_train_per_subject,\n",
    "            random_state=random_state\n",
    "        )\n",
    "        if validation_split_ratio > 0 and X_train_full is not None and len(X_train_full) > 0:\n",
    "            if show_logs: print(f\"Création du set de validation depuis l'entraînement (ratio: {validation_split_ratio})\")\n",
    "            X_train, X_val, y_train, y_val = train_test_split(\n",
    "                X_train_full, y_train_full,\n",
    "                test_size=validation_split_ratio,\n",
    "                random_state=random_state,\n",
    "                stratify=y_train_full\n",
    "            )\n",
    "        else:\n",
    "            X_train, y_train = X_train_full, y_train_full\n",
    "            X_val, y_val = None, None\n",
    "    else:\n",
    "        print(f\"Erreur: Stratégie de split '{split_strategy}' non reconnue.\")\n",
    "        return\n",
    "\n",
    "    if X_train is None or len(X_train) == 0:\n",
    "        print(\"Erreur: Aucune donnée d'entraînement disponible après la division.\")\n",
    "        return\n",
    "    if X_val is None or len(X_val) == 0:\n",
    "        print(\"Attention: Aucune donnée de validation disponible. L'entraînement se fera sans suivi de validation.\")\n",
    "        validation_data = None # `fit` utilisera pas de validation\n",
    "    else:\n",
    "        validation_data = (X_val, y_val)\n",
    "        if show_logs: print(f\"Taille finale - Entraînement: {len(X_train)}, Validation: {len(X_val)}, Test: {len(X_test) if X_test is not None else 0}\")\n",
    "\n",
    "    return num_classes, X_train, y_train, X_test, y_test, X_val, y_val, validation_data\n",
    "\n"
   ],
   "id": "8611fa9b6d2af0b8",
   "outputs": [],
   "execution_count": 5
  },
  {
   "metadata": {
    "ExecuteTime": {
     "end_time": "2025-04-22T16:00:05.322543Z",
     "start_time": "2025-04-22T16:00:05.305513Z"
    }
   },
   "cell_type": "code",
   "source": [
    "def create_model(\n",
    "    num_classes,\n",
    "    input_shape,\n",
    "    model_save_dir='models/trained/',\n",
    "    log_dir='models/logs/',\n",
    "    model_name='simple_cnn_lfw_anony_v1',\n",
    "    split_strategy='stratified',\n",
    "    learning_rate=0.001,\n",
    "    batch_size=32,\n",
    "    epochs=50,\n",
    "    early_stopping_patience=10,\n",
    "    transfer_base_model_name='MobileNetV2',\n",
    "    transfer_freeze_base=True,\n",
    "    model_architecture='simple_cnn',\n",
    "    show_logs=False\n",
    "\n",
    "\n",
    "    ):\n",
    "    # --- --------------------------------- ---\n",
    "    # --- 1. Chargement de la Configuration ---\n",
    "    # --- --------------------------------- ---\n",
    "\n",
    "    # Display model parameters\n",
    "    if show_logs:\n",
    "        print(\"Configuration personnalisée chargée :\")\n",
    "        print(f\"  - Architecture Modèle: {model_architecture}\")\n",
    "        print(f\"  - Nom Modèle: {model_name}\")\n",
    "        print(f\"  - Dimensions Image: {input_shape}\")\n",
    "        print(f\"  - Stratégie Split: {split_strategy}\")\n",
    "        print(f\"  - Époques: {epochs}, Batch Size: {batch_size}\")\n",
    "\n",
    "    # Prepare output & log folder\n",
    "    os.makedirs(model_save_dir, exist_ok=True)\n",
    "    if log_dir:\n",
    "        os.makedirs(log_dir, exist_ok=True)\n",
    "        if show_logs: print(f\"  - Dossier Logs TensorBoard: {log_dir}\")\n",
    "\n",
    "    # --- ------------------------- ---\n",
    "    # --- 4. Construction du Modèle ---\n",
    "    # --- ------------------------- ---\n",
    "    if show_logs: print(\"\\n--- Construction du modèle ---\")\n",
    "    model = None\n",
    "    if model_architecture == 'simple_cnn':\n",
    "        model = ml_models.build_simple_cnn(input_shape=input_shape, num_classes=num_classes)\n",
    "    elif model_architecture.startswith('transfer_'):\n",
    "        if show_logs: print(f\"Utilisation du modèle de base: {transfer_base_model_name}, Freeze: {transfer_freeze_base}\")\n",
    "        model = ml_models.build_transfer_model(\n",
    "            input_shape=input_shape,\n",
    "            num_classes=num_classes,\n",
    "            base_model_name=transfer_base_model_name,\n",
    "            freeze_base=transfer_freeze_base)\n",
    "    else:\n",
    "        print(f\"Erreur: Architecture de modèle non reconnue: {model_architecture}\")\n",
    "        return\n",
    "\n",
    "    # --- ------------------------ ---\n",
    "    # --- 5. Compilation du Modèle ---\n",
    "    # --- ------------------------ ---\n",
    "    if show_logs: print(\"\\n--- Compilation du modèle ---\")\n",
    "    optimizer = tf.keras.optimizers.Adam(learning_rate=learning_rate)\n",
    "    model.compile(optimizer=optimizer,\n",
    "                  loss='sparse_categorical_crossentropy',\n",
    "                  metrics=['accuracy'])\n",
    "    if show_logs:\n",
    "        print(\"Modèle compilé avec Adam optimizer.\")\n",
    "        model.summary()\n",
    "\n",
    "    # Capture model summary\n",
    "    summary_io = io.StringIO()\n",
    "    model.summary(print_fn=lambda x: summary_io.write(x + \"\\n\"))\n",
    "    summary_text = summary_io.getvalue()\n",
    "    #summary_image = text_to_pil_image(summary_text)\n",
    "\n",
    "    # --- ------------------------------ ---\n",
    "    # --- 6. Configuration des Callbacks ---\n",
    "    # --- ------------------------------ ---\n",
    "    if show_logs: print(\"\\n--- Configuration des Callbacks ---\")\n",
    "    callbacks = []\n",
    "\n",
    "    model_filename = f\"{model_name}.h5\"\n",
    "    model_filepath = os.path.join(model_save_dir, model_filename)\n",
    "    if show_logs: print(f\"  - ModelCheckpoint: Sauvegarde du meilleur modèle dans {model_filepath}\")\n",
    "    checkpoint_callback = tf.keras.callbacks.ModelCheckpoint(\n",
    "        filepath=model_filepath,\n",
    "        monitor='val_accuracy',\n",
    "        save_best_only=True,\n",
    "        mode='max',\n",
    "        verbose=1\n",
    "    )\n",
    "    callbacks.append(checkpoint_callback)\n",
    "\n",
    "    if early_stopping_patience > 0:\n",
    "        if show_logs: print(f\"  - EarlyStopping: Activé avec patience={early_stopping_patience}\")\n",
    "        early_stopping_callback = tf.keras.callbacks.EarlyStopping(\n",
    "            monitor='val_accuracy',\n",
    "            patience=early_stopping_patience,\n",
    "            mode='max',\n",
    "            restore_best_weights=True,\n",
    "            verbose=1\n",
    "        )\n",
    "        callbacks.append(early_stopping_callback)\n",
    "    else:\n",
    "        if show_logs: print(\"  - EarlyStopping: Désactivé.\")\n",
    "\n",
    "    if log_dir:\n",
    "        tensorboard_log_dir = os.path.join(log_dir, model_name + \"_\" + time.strftime(\"%Y%m%d-%H%M%S\"))\n",
    "        if show_logs: print(f\"  - TensorBoard: Logs dans {tensorboard_log_dir}\")\n",
    "        tensorboard_callback = tf.keras.callbacks.TensorBoard(\n",
    "            log_dir=tensorboard_log_dir,\n",
    "            histogram_freq=1\n",
    "        )\n",
    "        callbacks.append(tensorboard_callback)\n",
    "    else:\n",
    "        if show_logs: print(\"  - TensorBoard: Désactivé.\")\n",
    "\n",
    "    csv_log_path = os.path.join(model_save_dir, f\"{model_name}_training_log.csv\")\n",
    "    if show_logs: print(f\"  - CSVLogger: Logs dans {csv_log_path}\")\n",
    "    csv_logger_callback = tf.keras.callbacks.CSVLogger(csv_log_path, append=False)\n",
    "    callbacks.append(csv_logger_callback)\n",
    "\n",
    "    return model, callbacks, model_filepath, summary_text\n",
    "\n",
    "\n",
    "\n"
   ],
   "id": "733272623a5206e1",
   "outputs": [],
   "execution_count": 6
  },
  {
   "metadata": {
    "ExecuteTime": {
     "end_time": "2025-04-22T16:00:05.339063Z",
     "start_time": "2025-04-22T16:00:05.329735Z"
    }
   },
   "cell_type": "code",
   "source": [
    "def _draw_accuracy_and_loss_curves(epochs_range, acc, loss, val_acc=None, val_loss=None):\n",
    "    plt.figure(figsize=(12, 5))\n",
    "\n",
    "    plt.subplot(1, 2, 1)\n",
    "    plt.plot(epochs_range, acc, label='Training Accuracy')\n",
    "    if val_acc is not None:\n",
    "        plt.plot(epochs_range, val_acc, label='Validation Accuracy')\n",
    "    plt.legend(loc='lower right')\n",
    "    plt.title('Training and Validation Accuracy')\n",
    "    plt.xlabel('Epochs')\n",
    "    plt.ylabel('Accuracy')\n",
    "\n",
    "    plt.subplot(1, 2, 2)\n",
    "    plt.plot(epochs_range, loss, label='Training Loss')\n",
    "    if val_loss is not None:\n",
    "        plt.plot(epochs_range, val_loss, label='Validation Loss')\n",
    "    plt.legend(loc='upper right')\n",
    "    plt.title('Training and Validation Loss')\n",
    "    plt.xlabel('Epochs')\n",
    "    plt.ylabel('Loss')\n",
    "    return plt\n",
    "\n",
    "\n",
    "def train_model(\n",
    "        model,\n",
    "        X_train, y_train, X_test, y_test,\n",
    "        validation_data, callbacks,\n",
    "        label_encoder,\n",
    "        model_filepath,\n",
    "\n",
    "        model_save_dir='models/trained/',\n",
    "        model_name='simple_cnn_lfw_anony_v1',\n",
    "        batch_size=32,\n",
    "        epochs=50,\n",
    "        show_logs=False\n",
    "):\n",
    "\n",
    "    # --- ------------------------- ---\n",
    "    # --- 7. Entraînement du Modèle ---\n",
    "    # --- ------------------------- ---\n",
    "    if show_logs: print(\"\\n--- Démarrage de l'entraînement ---\")\n",
    "    try:\n",
    "        history = model.fit(\n",
    "            X_train, y_train,\n",
    "            epochs=epochs,\n",
    "            batch_size=batch_size,\n",
    "            validation_data=validation_data,\n",
    "            callbacks=callbacks,\n",
    "            verbose=0\n",
    "        )\n",
    "        if show_logs: print(\"--- Entraînement terminé ---\")\n",
    "    except Exception as e:\n",
    "        print(f\"\\nErreur pendant l'entraînement : {e}\")\n",
    "        encoder_save_path = os.path.join(model_save_dir, f\"{model_name}_label_encoder.joblib\")\n",
    "        print(\"\\nSauvegarde de l'encodeur de labels (même si l'entraînement a échoué)...\")\n",
    "        data_loader.save_label_encoder(label_encoder, encoder_save_path)\n",
    "        return\n",
    "\n",
    "    # --- -------------------- ---\n",
    "    # --- 8. Post-Entraînement ---\n",
    "    # --- -------------------- ---\n",
    "    encoder_save_path = os.path.join(model_save_dir, f\"{model_name}_label_encoder.joblib\")\n",
    "    if show_logs: print(\"\\n--- Sauvegarde de l'encodeur de labels ---\")\n",
    "    data_loader.save_label_encoder(label_encoder, encoder_save_path)\n",
    "\n",
    "    # Evaluation\n",
    "    eval_loss, eval_acc = model.evaluate(X_test, y_test)\n",
    "    y_pred = np.argmax(model.predict(X_test), axis=1)\n",
    "    cm = confusion_matrix(y_test, y_pred)\n",
    "    report = classification_report(y_test, y_pred, output_dict=True)\n",
    "\n",
    "    if history is not None:\n",
    "        if show_logs: print(\"\\n--- Affichage des courbes d'apprentissage ---\")\n",
    "        try:\n",
    "            acc = history.history['accuracy']\n",
    "            loss = history.history['loss']\n",
    "            val_acc = history.history['val_accuracy'] if validation_data else None\n",
    "            val_loss = history.history['val_loss'] if validation_data else None\n",
    "            epochs_range = range(len(acc))\n",
    "\n",
    "            plt_obj = _draw_accuracy_and_loss_curves(epochs_range, acc, loss, val_acc, val_loss)\n",
    "            buf = io.BytesIO()\n",
    "            plt_obj.savefig(buf, format='png')\n",
    "            buf.seek(0)\n",
    "            image_pil = Image.open(buf)\n",
    "\n",
    "            plot_save_path = os.path.join(model_save_dir, f\"{model_name}_training_curves.pdf\")\n",
    "            plt.savefig(plot_save_path, format='pdf', bbox_inches='tight')\n",
    "            if show_logs: print(f\"Courbes sauvegardées dans : {plot_save_path}\")\n",
    "        except Exception as plot_e:\n",
    "            print(f\"Erreur lors de la génération/sauvegarde des courbes: {plot_e}\")\n",
    "\n",
    "    if show_logs:\n",
    "        print(f\"Le meilleur modèle devrait être sauvegardé dans : {model_filepath}\")\n",
    "        print(f\"L'encodeur de labels est sauvegardé dans : {encoder_save_path}\")\n",
    "\n",
    "    return {\n",
    "        \"curves\": image_pil,\n",
    "        \"confusion_matrix\": cm,\n",
    "        \"classification_report\": report,\n",
    "        \"evaluation\": {\n",
    "            \"loss\": eval_loss,\n",
    "            \"accuracy\": eval_acc\n",
    "        }\n",
    "    }\n",
    "\n",
    "\n"
   ],
   "id": "9e265b58100a282a",
   "outputs": [],
   "execution_count": 7
  },
  {
   "metadata": {
    "ExecuteTime": {
     "end_time": "2025-04-22T16:00:51.318631Z",
     "start_time": "2025-04-22T16:00:05.347563Z"
    }
   },
   "cell_type": "code",
   "source": [
    "# Start timer\n",
    "print(\"--- Démarrage du Script d'Entraînement ---\")\n",
    "start_time = time.time()\n",
    "print('***')\n",
    "\n",
    "\n",
    "\n",
    "# Transforme data\n",
    "res = prepare_data_train_model(X, y, label_encoder)\n",
    "num_classes, X_train, y_train, X_test, y_test, X_val, y_val, validation_data = res\n",
    "print('***')\n",
    "\n",
    "# Create model\n",
    "res = create_model(num_classes, INPUT_SHAPE)\n",
    "model, callbacks, model_filepath, summary_text = res\n",
    "print('***')\n",
    "\n",
    "# Train Model\n",
    "res = train_model(model, X_train, y_train, X_test, y_test, validation_data, callbacks, label_encoder, model_filepath)\n",
    "print('***')\n",
    "\n",
    "# END\n",
    "end_time = time.time()\n",
    "duration = end_time - start_time\n",
    "print(f\"--- Script d'Entraînement Terminé en {duration:.2f} secondes ---\")"
   ],
   "id": "d46e5317bc11f013",
   "outputs": [
    {
     "name": "stdout",
     "output_type": "stream",
     "text": [
      "--- Démarrage du Script d'Entraînement ---\n",
      "***\n",
      "Division des données : test_size=0.2, validation_size=0.15\n",
      "Taille Test: 92 échantillons\n",
      "Taille Entraînement: 296 échantillons\n",
      "Taille Validation: 69 échantillons\n",
      "***\n",
      "Construction du modèle CNN simple avec input_shape=(100, 100, 3) et num_classes=42\n",
      "Modèle CNN simple construit.\n"
     ]
    },
    {
     "data": {
      "text/plain": [],
      "text/html": [
       "<pre style=\"white-space:pre;overflow-x:auto;line-height:normal;font-family:Menlo,'DejaVu Sans Mono',consolas,'Courier New',monospace\"></pre>\n"
      ]
     },
     "metadata": {},
     "output_type": "display_data"
    },
    {
     "name": "stdout",
     "output_type": "stream",
     "text": [
      "***\n",
      "\n",
      "Epoch 1: val_accuracy improved from -inf to 0.07246, saving model to models/trained/simple_cnn_lfw_anony_v1.h5\n"
     ]
    },
    {
     "name": "stderr",
     "output_type": "stream",
     "text": [
      "WARNING:absl:You are saving your model as an HDF5 file via `model.save()` or `keras.saving.save_model(model)`. This file format is considered legacy. We recommend using instead the native Keras format, e.g. `model.save('my_model.keras')` or `keras.saving.save_model(model, 'my_model.keras')`. \n"
     ]
    },
    {
     "name": "stdout",
     "output_type": "stream",
     "text": [
      "\n",
      "Epoch 2: val_accuracy did not improve from 0.07246\n",
      "\n",
      "Epoch 3: val_accuracy did not improve from 0.07246\n",
      "\n",
      "Epoch 4: val_accuracy improved from 0.07246 to 0.10145, saving model to models/trained/simple_cnn_lfw_anony_v1.h5\n"
     ]
    },
    {
     "name": "stderr",
     "output_type": "stream",
     "text": [
      "WARNING:absl:You are saving your model as an HDF5 file via `model.save()` or `keras.saving.save_model(model)`. This file format is considered legacy. We recommend using instead the native Keras format, e.g. `model.save('my_model.keras')` or `keras.saving.save_model(model, 'my_model.keras')`. \n"
     ]
    },
    {
     "name": "stdout",
     "output_type": "stream",
     "text": [
      "\n",
      "Epoch 5: val_accuracy improved from 0.10145 to 0.17391, saving model to models/trained/simple_cnn_lfw_anony_v1.h5\n"
     ]
    },
    {
     "name": "stderr",
     "output_type": "stream",
     "text": [
      "WARNING:absl:You are saving your model as an HDF5 file via `model.save()` or `keras.saving.save_model(model)`. This file format is considered legacy. We recommend using instead the native Keras format, e.g. `model.save('my_model.keras')` or `keras.saving.save_model(model, 'my_model.keras')`. \n"
     ]
    },
    {
     "name": "stdout",
     "output_type": "stream",
     "text": [
      "\n",
      "Epoch 6: val_accuracy did not improve from 0.17391\n",
      "\n",
      "Epoch 7: val_accuracy did not improve from 0.17391\n",
      "\n",
      "Epoch 8: val_accuracy did not improve from 0.17391\n",
      "\n",
      "Epoch 9: val_accuracy did not improve from 0.17391\n",
      "\n",
      "Epoch 10: val_accuracy did not improve from 0.17391\n",
      "\n",
      "Epoch 11: val_accuracy did not improve from 0.17391\n",
      "\n",
      "Epoch 12: val_accuracy did not improve from 0.17391\n",
      "\n",
      "Epoch 13: val_accuracy did not improve from 0.17391\n",
      "\n",
      "Epoch 14: val_accuracy did not improve from 0.17391\n",
      "\n",
      "Epoch 15: val_accuracy did not improve from 0.17391\n",
      "Epoch 15: early stopping\n",
      "Restoring model weights from the end of the best epoch: 5.\n",
      "LabelEncoder sauvegardé dans : models/trained/simple_cnn_lfw_anony_v1_label_encoder.joblib\n",
      "\u001B[1m3/3\u001B[0m \u001B[32m━━━━━━━━━━━━━━━━━━━━\u001B[0m\u001B[37m\u001B[0m \u001B[1m0s\u001B[0m 66ms/step - accuracy: 0.1822 - loss: 3.3089\n",
      "\u001B[1m3/3\u001B[0m \u001B[32m━━━━━━━━━━━━━━━━━━━━\u001B[0m\u001B[37m\u001B[0m \u001B[1m0s\u001B[0m 113ms/step\n"
     ]
    },
    {
     "name": "stderr",
     "output_type": "stream",
     "text": [
      "D:\\myDocs\\Apprentissage\\Isep\\Year_3\\Brno-Privacy_Preserving_Face_Recognition_Project\\venv\\Lib\\site-packages\\sklearn\\metrics\\_classification.py:1517: UndefinedMetricWarning: Precision is ill-defined and being set to 0.0 in labels with no predicted samples. Use `zero_division` parameter to control this behavior.\n",
      "  _warn_prf(average, modifier, f\"{metric.capitalize()} is\", len(result))\n",
      "D:\\myDocs\\Apprentissage\\Isep\\Year_3\\Brno-Privacy_Preserving_Face_Recognition_Project\\venv\\Lib\\site-packages\\sklearn\\metrics\\_classification.py:1517: UndefinedMetricWarning: Precision is ill-defined and being set to 0.0 in labels with no predicted samples. Use `zero_division` parameter to control this behavior.\n",
      "  _warn_prf(average, modifier, f\"{metric.capitalize()} is\", len(result))\n",
      "D:\\myDocs\\Apprentissage\\Isep\\Year_3\\Brno-Privacy_Preserving_Face_Recognition_Project\\venv\\Lib\\site-packages\\sklearn\\metrics\\_classification.py:1517: UndefinedMetricWarning: Precision is ill-defined and being set to 0.0 in labels with no predicted samples. Use `zero_division` parameter to control this behavior.\n",
      "  _warn_prf(average, modifier, f\"{metric.capitalize()} is\", len(result))\n"
     ]
    },
    {
     "name": "stdout",
     "output_type": "stream",
     "text": [
      "***\n",
      "--- Script d'Entraînement Terminé en 45.80 secondes ---\n"
     ]
    },
    {
     "data": {
      "text/plain": [
       "<Figure size 1200x500 with 2 Axes>"
      ],
      "image/png": "[encoded data removed]"
     },
     "metadata": {},
     "output_type": "display_data"
    }
   ],
   "execution_count": 8
  },
  {
   "metadata": {
    "ExecuteTime": {
     "end_time": "2025-04-22T16:00:51.350257Z",
     "start_time": "2025-04-22T16:00:51.347149Z"
    }
   },
   "cell_type": "code",
   "source": "",
   "id": "fe1c6e808a801fcc",
   "outputs": [],
   "execution_count": null
  },
  {
   "metadata": {
    "ExecuteTime": {
     "end_time": "2025-04-22T16:00:51.362283Z",
     "start_time": "2025-04-22T16:00:51.359702Z"
    }
   },
   "cell_type": "code",
   "source": "",
   "id": "58d1d0effefc1730",
   "outputs": [],
   "execution_count": null
  }
 ],
 "metadata": {
  "kernelspec": {
   "display_name": "Python 3",
   "language": "python",
   "name": "python3"
  },
  "language_info": {
   "codemirror_mode": {
    "name": "ipython",
    "version": 2
   },
   "file_extension": ".py",
   "mimetype": "text/x-python",
   "name": "python",
   "nbconvert_exporter": "python",
   "pygments_lexer": "ipython2",
   "version": "2.7.6"
  }
 },
 "nbformat": 4,
 "nbformat_minor": 5
}
