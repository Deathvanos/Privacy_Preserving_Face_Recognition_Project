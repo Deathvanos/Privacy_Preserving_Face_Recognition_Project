{
 "cells": [
  {
   "metadata": {
    "ExecuteTime": {
     "end_time": "2025-04-26T10:01:29.296886Z",
     "start_time": "2025-04-26T10:01:22.865944Z"
    }
   },
   "cell_type": "code",
   "source": [
    "from controller.ml_controller import MLController\n",
    "DB_PATH = r\"..\\data\\gui_database.db\"\n",
    "ML_OUTPUT = r\"..\\data\\models\""
   ],
   "id": "be8f4dd325ae10e6",
   "outputs": [],
   "execution_count": 1
  },
  {
   "metadata": {},
   "cell_type": "markdown",
   "source": "# Train",
   "id": "d8801598b5843a5"
  },
  {
   "metadata": {},
   "cell_type": "markdown",
   "source": "### Get data from LFW dataset folder\n",
   "id": "ccb777ca5674e400"
  },
  {
   "metadata": {
    "ExecuteTime": {
     "end_time": "2025-04-25T15:36:28.477669Z",
     "start_time": "2025-04-25T15:36:27.995590Z"
    }
   },
   "cell_type": "code",
   "source": [
    "import os\n",
    "import controller.ml_controller as ml\n",
    "\n",
    "WIDTH, HEIGHT = (100, 100)\n",
    "LFW_DATASET_PATH = r\"..\\data\\reconstructed_pipeline\"\n",
    "os.makedirs(LFW_DATASET_PATH, exist_ok=True)\n",
    "\n",
    "X, y, label_encoder = ml.data_loader.load_anonymized_images_flat(\n",
    "    data_dir=LFW_DATASET_PATH,\n",
    "    img_width=WIDTH,\n",
    "    img_height=HEIGHT,\n",
    "    color_mode='grayscale'\n",
    ")\n",
    "\n",
    "if not X and not y and not label_encoder:\n",
    "    raise ValueError('No data')\n",
    "\n",
    "mlc = MLController((WIDTH, HEIGHT), data=(X, y, label_encoder), ml_output=ML_OUTPUT)\n"
   ],
   "id": "dfb442305c4a11ef",
   "outputs": [
    {
     "name": "stdout",
     "output_type": "stream",
     "text": [
      "Chargement des images depuis : ..\\data\\reconstructed_pipeline\n",
      "Format attendu : 100x100, mode: grayscale\n",
      "Erreur: Aucun fichier .png trouvé dans ..\\data\\reconstructed_pipeline\n"
     ]
    },
    {
     "ename": "ValueError",
     "evalue": "No data",
     "output_type": "error",
     "traceback": [
      "\u001B[31m---------------------------------------------------------------------------\u001B[39m",
      "\u001B[31mValueError\u001B[39m                                Traceback (most recent call last)",
      "\u001B[36mCell\u001B[39m\u001B[36m \u001B[39m\u001B[32mIn[2]\u001B[39m\u001B[32m, line 16\u001B[39m\n\u001B[32m      8\u001B[39m X, y, label_encoder = ml.data_loader.load_anonymized_images_flat(\n\u001B[32m      9\u001B[39m     data_dir=LFW_DATASET_PATH,\n\u001B[32m     10\u001B[39m     img_width=WIDTH,\n\u001B[32m     11\u001B[39m     img_height=HEIGHT,\n\u001B[32m     12\u001B[39m     color_mode=\u001B[33m'\u001B[39m\u001B[33mgrayscale\u001B[39m\u001B[33m'\u001B[39m\n\u001B[32m     13\u001B[39m )\n\u001B[32m     15\u001B[39m \u001B[38;5;28;01mif\u001B[39;00m \u001B[38;5;129;01mnot\u001B[39;00m X \u001B[38;5;129;01mand\u001B[39;00m \u001B[38;5;129;01mnot\u001B[39;00m y \u001B[38;5;129;01mand\u001B[39;00m \u001B[38;5;129;01mnot\u001B[39;00m label_encoder:\n\u001B[32m---> \u001B[39m\u001B[32m16\u001B[39m     \u001B[38;5;28;01mraise\u001B[39;00m \u001B[38;5;167;01mValueError\u001B[39;00m(\u001B[33m'\u001B[39m\u001B[33mNo data\u001B[39m\u001B[33m'\u001B[39m)\n\u001B[32m     18\u001B[39m mlc = MLController((WIDTH, HEIGHT), data=(X, y, label_encoder), ml_output=ML_OUTPUT)\n",
      "\u001B[31mValueError\u001B[39m: No data"
     ]
    }
   ],
   "execution_count": 2
  },
  {
   "metadata": {},
   "cell_type": "markdown",
   "source": "### Get data from database",
   "id": "2f5905cd8e916987"
  },
  {
   "metadata": {
    "ExecuteTime": {
     "end_time": "2025-04-26T10:01:29.311106Z",
     "start_time": "2025-04-26T10:01:29.301090Z"
    }
   },
   "cell_type": "code",
   "source": "mlc = MLController(db_path=DB_PATH, ml_output=ML_OUTPUT)",
   "id": "e2922dd975e99ebf",
   "outputs": [],
   "execution_count": 2
  },
  {
   "metadata": {},
   "cell_type": "markdown",
   "source": "### Prepare data",
   "id": "42221180809ea406"
  },
  {
   "metadata": {
    "ExecuteTime": {
     "end_time": "2025-04-26T10:01:29.848163Z",
     "start_time": "2025-04-26T10:01:29.559880Z"
    }
   },
   "cell_type": "code",
   "source": "mlc.prepare_data()",
   "id": "10fdee93b6479bd5",
   "outputs": [
    {
     "name": "stdout",
     "output_type": "stream",
     "text": [
      "Division des données : test_size=0.2, validation_size=0.15\n",
      "Taille Test: 94 échantillons\n",
      "Taille Entraînement: 303 échantillons\n",
      "Taille Validation: 70 échantillons\n"
     ]
    }
   ],
   "execution_count": 3
  },
  {
   "metadata": {},
   "cell_type": "markdown",
   "source": "### Create model",
   "id": "e101c77d7ce0df79"
  },
  {
   "metadata": {
    "ExecuteTime": {
     "end_time": "2025-04-26T10:01:30.088627Z",
     "start_time": "2025-04-26T10:01:29.877564Z"
    }
   },
   "cell_type": "code",
   "source": "mlc.create_model()",
   "id": "615fa01b4cb1c158",
   "outputs": [
    {
     "name": "stdout",
     "output_type": "stream",
     "text": [
      "Construction du modèle CNN simple avec input_shape=(100, 100, 1) et num_classes=43\n",
      "Modèle CNN simple construit.\n"
     ]
    },
    {
     "data": {
      "text/plain": [],
      "text/html": [
       "<pre style=\"white-space:pre;overflow-x:auto;line-height:normal;font-family:Menlo,'DejaVu Sans Mono',consolas,'Courier New',monospace\"></pre>\n"
      ]
     },
     "metadata": {},
     "output_type": "display_data"
    }
   ],
   "execution_count": 4
  },
  {
   "metadata": {},
   "cell_type": "markdown",
   "source": "### Train model",
   "id": "b028124ad718039f"
  },
  {
   "metadata": {
    "ExecuteTime": {
     "end_time": "2025-04-26T10:04:57.997004Z",
     "start_time": "2025-04-26T10:01:30.151635Z"
    }
   },
   "cell_type": "code",
   "source": "result = mlc.train_model()",
   "id": "4134db500927510c",
   "outputs": [
    {
     "name": "stdout",
     "output_type": "stream",
     "text": [
      "\n",
      "Epoch 1: val_accuracy improved from -inf to 0.02857, saving model to data/models/trained\\simple_cnn_lfw_anony_v1.h5\n"
     ]
    },
    {
     "name": "stderr",
     "output_type": "stream",
     "text": [
      "WARNING:absl:You are saving your model as an HDF5 file via `model.save()` or `keras.saving.save_model(model)`. This file format is considered legacy. We recommend using instead the native Keras format, e.g. `model.save('my_model.keras')` or `keras.saving.save_model(model, 'my_model.keras')`. \n"
     ]
    },
    {
     "name": "stdout",
     "output_type": "stream",
     "text": [
      "\n",
      "Epoch 2: val_accuracy did not improve from 0.02857\n",
      "\n",
      "Epoch 3: val_accuracy improved from 0.02857 to 0.05714, saving model to data/models/trained\\simple_cnn_lfw_anony_v1.h5\n"
     ]
    },
    {
     "name": "stderr",
     "output_type": "stream",
     "text": [
      "WARNING:absl:You are saving your model as an HDF5 file via `model.save()` or `keras.saving.save_model(model)`. This file format is considered legacy. We recommend using instead the native Keras format, e.g. `model.save('my_model.keras')` or `keras.saving.save_model(model, 'my_model.keras')`. \n"
     ]
    },
    {
     "name": "stdout",
     "output_type": "stream",
     "text": [
      "\n",
      "Epoch 4: val_accuracy improved from 0.05714 to 0.07143, saving model to data/models/trained\\simple_cnn_lfw_anony_v1.h5\n"
     ]
    },
    {
     "name": "stderr",
     "output_type": "stream",
     "text": [
      "WARNING:absl:You are saving your model as an HDF5 file via `model.save()` or `keras.saving.save_model(model)`. This file format is considered legacy. We recommend using instead the native Keras format, e.g. `model.save('my_model.keras')` or `keras.saving.save_model(model, 'my_model.keras')`. \n"
     ]
    },
    {
     "name": "stdout",
     "output_type": "stream",
     "text": [
      "\n",
      "Epoch 5: val_accuracy improved from 0.07143 to 0.08571, saving model to data/models/trained\\simple_cnn_lfw_anony_v1.h5\n"
     ]
    },
    {
     "name": "stderr",
     "output_type": "stream",
     "text": [
      "WARNING:absl:You are saving your model as an HDF5 file via `model.save()` or `keras.saving.save_model(model)`. This file format is considered legacy. We recommend using instead the native Keras format, e.g. `model.save('my_model.keras')` or `keras.saving.save_model(model, 'my_model.keras')`. \n"
     ]
    },
    {
     "name": "stdout",
     "output_type": "stream",
     "text": [
      "\n",
      "Epoch 6: val_accuracy improved from 0.08571 to 0.17143, saving model to data/models/trained\\simple_cnn_lfw_anony_v1.h5\n"
     ]
    },
    {
     "name": "stderr",
     "output_type": "stream",
     "text": [
      "WARNING:absl:You are saving your model as an HDF5 file via `model.save()` or `keras.saving.save_model(model)`. This file format is considered legacy. We recommend using instead the native Keras format, e.g. `model.save('my_model.keras')` or `keras.saving.save_model(model, 'my_model.keras')`. \n"
     ]
    },
    {
     "name": "stdout",
     "output_type": "stream",
     "text": [
      "\n",
      "Epoch 7: val_accuracy did not improve from 0.17143\n",
      "\n",
      "Epoch 8: val_accuracy did not improve from 0.17143\n",
      "\n",
      "Epoch 9: val_accuracy did not improve from 0.17143\n",
      "\n",
      "Epoch 10: val_accuracy did not improve from 0.17143\n",
      "\n",
      "Epoch 11: val_accuracy did not improve from 0.17143\n",
      "\n",
      "Epoch 12: val_accuracy improved from 0.17143 to 0.22857, saving model to data/models/trained\\simple_cnn_lfw_anony_v1.h5\n"
     ]
    },
    {
     "name": "stderr",
     "output_type": "stream",
     "text": [
      "WARNING:absl:You are saving your model as an HDF5 file via `model.save()` or `keras.saving.save_model(model)`. This file format is considered legacy. We recommend using instead the native Keras format, e.g. `model.save('my_model.keras')` or `keras.saving.save_model(model, 'my_model.keras')`. \n"
     ]
    },
    {
     "name": "stdout",
     "output_type": "stream",
     "text": [
      "\n",
      "Epoch 13: val_accuracy did not improve from 0.22857\n",
      "\n",
      "Epoch 14: val_accuracy improved from 0.22857 to 0.27143, saving model to data/models/trained\\simple_cnn_lfw_anony_v1.h5\n"
     ]
    },
    {
     "name": "stderr",
     "output_type": "stream",
     "text": [
      "WARNING:absl:You are saving your model as an HDF5 file via `model.save()` or `keras.saving.save_model(model)`. This file format is considered legacy. We recommend using instead the native Keras format, e.g. `model.save('my_model.keras')` or `keras.saving.save_model(model, 'my_model.keras')`. \n"
     ]
    },
    {
     "name": "stdout",
     "output_type": "stream",
     "text": [
      "\n",
      "Epoch 15: val_accuracy improved from 0.27143 to 0.31429, saving model to data/models/trained\\simple_cnn_lfw_anony_v1.h5\n"
     ]
    },
    {
     "name": "stderr",
     "output_type": "stream",
     "text": [
      "WARNING:absl:You are saving your model as an HDF5 file via `model.save()` or `keras.saving.save_model(model)`. This file format is considered legacy. We recommend using instead the native Keras format, e.g. `model.save('my_model.keras')` or `keras.saving.save_model(model, 'my_model.keras')`. \n"
     ]
    },
    {
     "name": "stdout",
     "output_type": "stream",
     "text": [
      "\n",
      "Epoch 16: val_accuracy did not improve from 0.31429\n",
      "\n",
      "Epoch 17: val_accuracy did not improve from 0.31429\n",
      "\n",
      "Epoch 18: val_accuracy improved from 0.31429 to 0.32857, saving model to data/models/trained\\simple_cnn_lfw_anony_v1.h5\n"
     ]
    },
    {
     "name": "stderr",
     "output_type": "stream",
     "text": [
      "WARNING:absl:You are saving your model as an HDF5 file via `model.save()` or `keras.saving.save_model(model)`. This file format is considered legacy. We recommend using instead the native Keras format, e.g. `model.save('my_model.keras')` or `keras.saving.save_model(model, 'my_model.keras')`. \n"
     ]
    },
    {
     "name": "stdout",
     "output_type": "stream",
     "text": [
      "\n",
      "Epoch 19: val_accuracy improved from 0.32857 to 0.34286, saving model to data/models/trained\\simple_cnn_lfw_anony_v1.h5\n"
     ]
    },
    {
     "name": "stderr",
     "output_type": "stream",
     "text": [
      "WARNING:absl:You are saving your model as an HDF5 file via `model.save()` or `keras.saving.save_model(model)`. This file format is considered legacy. We recommend using instead the native Keras format, e.g. `model.save('my_model.keras')` or `keras.saving.save_model(model, 'my_model.keras')`. \n"
     ]
    },
    {
     "name": "stdout",
     "output_type": "stream",
     "text": [
      "\n",
      "Epoch 20: val_accuracy did not improve from 0.34286\n",
      "\n",
      "Epoch 21: val_accuracy improved from 0.34286 to 0.40000, saving model to data/models/trained\\simple_cnn_lfw_anony_v1.h5\n"
     ]
    },
    {
     "name": "stderr",
     "output_type": "stream",
     "text": [
      "WARNING:absl:You are saving your model as an HDF5 file via `model.save()` or `keras.saving.save_model(model)`. This file format is considered legacy. We recommend using instead the native Keras format, e.g. `model.save('my_model.keras')` or `keras.saving.save_model(model, 'my_model.keras')`. \n"
     ]
    },
    {
     "name": "stdout",
     "output_type": "stream",
     "text": [
      "\n",
      "Epoch 22: val_accuracy did not improve from 0.40000\n",
      "\n",
      "Epoch 23: val_accuracy did not improve from 0.40000\n",
      "\n",
      "Epoch 24: val_accuracy improved from 0.40000 to 0.41429, saving model to data/models/trained\\simple_cnn_lfw_anony_v1.h5\n"
     ]
    },
    {
     "name": "stderr",
     "output_type": "stream",
     "text": [
      "WARNING:absl:You are saving your model as an HDF5 file via `model.save()` or `keras.saving.save_model(model)`. This file format is considered legacy. We recommend using instead the native Keras format, e.g. `model.save('my_model.keras')` or `keras.saving.save_model(model, 'my_model.keras')`. \n"
     ]
    },
    {
     "name": "stdout",
     "output_type": "stream",
     "text": [
      "\n",
      "Epoch 25: val_accuracy improved from 0.41429 to 0.42857, saving model to data/models/trained\\simple_cnn_lfw_anony_v1.h5\n"
     ]
    },
    {
     "name": "stderr",
     "output_type": "stream",
     "text": [
      "WARNING:absl:You are saving your model as an HDF5 file via `model.save()` or `keras.saving.save_model(model)`. This file format is considered legacy. We recommend using instead the native Keras format, e.g. `model.save('my_model.keras')` or `keras.saving.save_model(model, 'my_model.keras')`. \n"
     ]
    },
    {
     "name": "stdout",
     "output_type": "stream",
     "text": [
      "\n",
      "Epoch 26: val_accuracy improved from 0.42857 to 0.44286, saving model to data/models/trained\\simple_cnn_lfw_anony_v1.h5\n"
     ]
    },
    {
     "name": "stderr",
     "output_type": "stream",
     "text": [
      "WARNING:absl:You are saving your model as an HDF5 file via `model.save()` or `keras.saving.save_model(model)`. This file format is considered legacy. We recommend using instead the native Keras format, e.g. `model.save('my_model.keras')` or `keras.saving.save_model(model, 'my_model.keras')`. \n"
     ]
    },
    {
     "name": "stdout",
     "output_type": "stream",
     "text": [
      "\n",
      "Epoch 27: val_accuracy improved from 0.44286 to 0.45714, saving model to data/models/trained\\simple_cnn_lfw_anony_v1.h5\n"
     ]
    },
    {
     "name": "stderr",
     "output_type": "stream",
     "text": [
      "WARNING:absl:You are saving your model as an HDF5 file via `model.save()` or `keras.saving.save_model(model)`. This file format is considered legacy. We recommend using instead the native Keras format, e.g. `model.save('my_model.keras')` or `keras.saving.save_model(model, 'my_model.keras')`. \n"
     ]
    },
    {
     "name": "stdout",
     "output_type": "stream",
     "text": [
      "\n",
      "Epoch 28: val_accuracy did not improve from 0.45714\n",
      "\n",
      "Epoch 29: val_accuracy improved from 0.45714 to 0.48571, saving model to data/models/trained\\simple_cnn_lfw_anony_v1.h5\n"
     ]
    },
    {
     "name": "stderr",
     "output_type": "stream",
     "text": [
      "WARNING:absl:You are saving your model as an HDF5 file via `model.save()` or `keras.saving.save_model(model)`. This file format is considered legacy. We recommend using instead the native Keras format, e.g. `model.save('my_model.keras')` or `keras.saving.save_model(model, 'my_model.keras')`. \n"
     ]
    },
    {
     "name": "stdout",
     "output_type": "stream",
     "text": [
      "\n",
      "Epoch 30: val_accuracy did not improve from 0.48571\n",
      "\n",
      "Epoch 31: val_accuracy did not improve from 0.48571\n",
      "\n",
      "Epoch 32: val_accuracy did not improve from 0.48571\n",
      "\n",
      "Epoch 33: val_accuracy did not improve from 0.48571\n",
      "\n",
      "Epoch 34: val_accuracy did not improve from 0.48571\n",
      "\n",
      "Epoch 35: val_accuracy did not improve from 0.48571\n",
      "\n",
      "Epoch 36: val_accuracy improved from 0.48571 to 0.50000, saving model to data/models/trained\\simple_cnn_lfw_anony_v1.h5\n"
     ]
    },
    {
     "name": "stderr",
     "output_type": "stream",
     "text": [
      "WARNING:absl:You are saving your model as an HDF5 file via `model.save()` or `keras.saving.save_model(model)`. This file format is considered legacy. We recommend using instead the native Keras format, e.g. `model.save('my_model.keras')` or `keras.saving.save_model(model, 'my_model.keras')`. \n"
     ]
    },
    {
     "name": "stdout",
     "output_type": "stream",
     "text": [
      "\n",
      "Epoch 37: val_accuracy did not improve from 0.50000\n",
      "\n",
      "Epoch 38: val_accuracy did not improve from 0.50000\n",
      "\n",
      "Epoch 39: val_accuracy improved from 0.50000 to 0.51429, saving model to data/models/trained\\simple_cnn_lfw_anony_v1.h5\n"
     ]
    },
    {
     "name": "stderr",
     "output_type": "stream",
     "text": [
      "WARNING:absl:You are saving your model as an HDF5 file via `model.save()` or `keras.saving.save_model(model)`. This file format is considered legacy. We recommend using instead the native Keras format, e.g. `model.save('my_model.keras')` or `keras.saving.save_model(model, 'my_model.keras')`. \n"
     ]
    },
    {
     "name": "stdout",
     "output_type": "stream",
     "text": [
      "\n",
      "Epoch 40: val_accuracy did not improve from 0.51429\n",
      "\n",
      "Epoch 41: val_accuracy did not improve from 0.51429\n",
      "\n",
      "Epoch 42: val_accuracy did not improve from 0.51429\n",
      "\n",
      "Epoch 43: val_accuracy did not improve from 0.51429\n",
      "\n",
      "Epoch 44: val_accuracy did not improve from 0.51429\n",
      "\n",
      "Epoch 45: val_accuracy did not improve from 0.51429\n",
      "\n",
      "Epoch 46: val_accuracy did not improve from 0.51429\n",
      "\n",
      "Epoch 47: val_accuracy did not improve from 0.51429\n",
      "\n",
      "Epoch 48: val_accuracy improved from 0.51429 to 0.52857, saving model to data/models/trained\\simple_cnn_lfw_anony_v1.h5\n"
     ]
    },
    {
     "name": "stderr",
     "output_type": "stream",
     "text": [
      "WARNING:absl:You are saving your model as an HDF5 file via `model.save()` or `keras.saving.save_model(model)`. This file format is considered legacy. We recommend using instead the native Keras format, e.g. `model.save('my_model.keras')` or `keras.saving.save_model(model, 'my_model.keras')`. \n"
     ]
    },
    {
     "name": "stdout",
     "output_type": "stream",
     "text": [
      "\n",
      "Epoch 49: val_accuracy did not improve from 0.52857\n",
      "\n",
      "Epoch 50: val_accuracy did not improve from 0.52857\n",
      "Restoring model weights from the end of the best epoch: 48.\n",
      "LabelEncoder sauvegardé dans : data/models/trained\\None_label_encoder.joblib\n",
      "\u001B[1m3/3\u001B[0m \u001B[32m━━━━━━━━━━━━━━━━━━━━\u001B[0m\u001B[37m\u001B[0m \u001B[1m0s\u001B[0m 78ms/step - accuracy: 0.4262 - loss: 2.1332\n",
      "\u001B[1m3/3\u001B[0m \u001B[32m━━━━━━━━━━━━━━━━━━━━\u001B[0m\u001B[37m\u001B[0m \u001B[1m1s\u001B[0m 157ms/step\n"
     ]
    },
    {
     "name": "stderr",
     "output_type": "stream",
     "text": [
      "D:\\myDocs\\Apprentissage\\Isep\\Year_3\\Brno-Privacy_Preserving_Face_Recognition_Project\\venv\\Lib\\site-packages\\sklearn\\metrics\\_classification.py:1517: UndefinedMetricWarning: Precision is ill-defined and being set to 0.0 in labels with no predicted samples. Use `zero_division` parameter to control this behavior.\n",
      "  _warn_prf(average, modifier, f\"{metric.capitalize()} is\", len(result))\n",
      "D:\\myDocs\\Apprentissage\\Isep\\Year_3\\Brno-Privacy_Preserving_Face_Recognition_Project\\venv\\Lib\\site-packages\\sklearn\\metrics\\_classification.py:1517: UndefinedMetricWarning: Precision is ill-defined and being set to 0.0 in labels with no predicted samples. Use `zero_division` parameter to control this behavior.\n",
      "  _warn_prf(average, modifier, f\"{metric.capitalize()} is\", len(result))\n",
      "D:\\myDocs\\Apprentissage\\Isep\\Year_3\\Brno-Privacy_Preserving_Face_Recognition_Project\\venv\\Lib\\site-packages\\sklearn\\metrics\\_classification.py:1517: UndefinedMetricWarning: Precision is ill-defined and being set to 0.0 in labels with no predicted samples. Use `zero_division` parameter to control this behavior.\n",
      "  _warn_prf(average, modifier, f\"{metric.capitalize()} is\", len(result))\n"
     ]
    },
    {
     "data": {
      "text/plain": [
       "<Figure size 1200x500 with 2 Axes>"
      ],
      "image/png": "[encoded data removed]"
     },
     "metadata": {},
     "output_type": "display_data"
    }
   ],
   "execution_count": 5
  },
  {
   "metadata": {
    "ExecuteTime": {
     "end_time": "2025-04-26T10:04:58.023256Z",
     "start_time": "2025-04-26T10:04:58.017130Z"
    }
   },
   "cell_type": "code",
   "source": [
    "print(f\"summary_text: {mlc.summary_text}\")\n",
    "print(f\"duration: {mlc.duration}\")\n",
    "print(f\"evaluation: {result['evaluation']}\")\n",
    "print(f\"training_plot: {result['curves']}\") # .show()"
   ],
   "id": "ecc20e90e8392b11",
   "outputs": [
    {
     "name": "stdout",
     "output_type": "stream",
     "text": [
      "summary_text: Model: \"simple_cnn\"\n",
      "┏━━━━━━━━━━━━━━━━━━━━━━━━━━━━━━━━━┳━━━━━━━━━━━━━━━━━━━━━━━━┳━━━━━━━━━━━━━━━┓\n",
      "┃ Layer (type)                    ┃ Output Shape           ┃       Param # ┃\n",
      "┡━━━━━━━━━━━━━━━━━━━━━━━━━━━━━━━━━╇━━━━━━━━━━━━━━━━━━━━━━━━╇━━━━━━━━━━━━━━━┩\n",
      "│ input_image (InputLayer)        │ (None, 100, 100, 1)    │             0 │\n",
      "├─────────────────────────────────┼────────────────────────┼───────────────┤\n",
      "│ conv1_1 (Conv2D)                │ (None, 100, 100, 32)   │           320 │\n",
      "├─────────────────────────────────┼────────────────────────┼───────────────┤\n",
      "│ bn1_1 (BatchNormalization)      │ (None, 100, 100, 32)   │           128 │\n",
      "├─────────────────────────────────┼────────────────────────┼───────────────┤\n",
      "│ conv1_2 (Conv2D)                │ (None, 100, 100, 32)   │         9,248 │\n",
      "├─────────────────────────────────┼────────────────────────┼───────────────┤\n",
      "│ bn1_2 (BatchNormalization)      │ (None, 100, 100, 32)   │           128 │\n",
      "├─────────────────────────────────┼────────────────────────┼───────────────┤\n",
      "│ pool1 (MaxPooling2D)            │ (None, 50, 50, 32)     │             0 │\n",
      "├─────────────────────────────────┼────────────────────────┼───────────────┤\n",
      "│ drop1 (Dropout)                 │ (None, 50, 50, 32)     │             0 │\n",
      "├─────────────────────────────────┼────────────────────────┼───────────────┤\n",
      "│ conv2_1 (Conv2D)                │ (None, 50, 50, 64)     │        18,496 │\n",
      "├─────────────────────────────────┼────────────────────────┼───────────────┤\n",
      "│ bn2_1 (BatchNormalization)      │ (None, 50, 50, 64)     │           256 │\n",
      "├─────────────────────────────────┼────────────────────────┼───────────────┤\n",
      "│ conv2_2 (Conv2D)                │ (None, 50, 50, 64)     │        36,928 │\n",
      "├─────────────────────────────────┼────────────────────────┼───────────────┤\n",
      "│ bn2_2 (BatchNormalization)      │ (None, 50, 50, 64)     │           256 │\n",
      "├─────────────────────────────────┼────────────────────────┼───────────────┤\n",
      "│ pool2 (MaxPooling2D)            │ (None, 25, 25, 64)     │             0 │\n",
      "├─────────────────────────────────┼────────────────────────┼───────────────┤\n",
      "│ drop2 (Dropout)                 │ (None, 25, 25, 64)     │             0 │\n",
      "├─────────────────────────────────┼────────────────────────┼───────────────┤\n",
      "│ flatten (Flatten)               │ (None, 40000)          │             0 │\n",
      "├─────────────────────────────────┼────────────────────────┼───────────────┤\n",
      "│ dense1 (Dense)                  │ (None, 128)            │     5,120,128 │\n",
      "├─────────────────────────────────┼────────────────────────┼───────────────┤\n",
      "│ bn_dense1 (BatchNormalization)  │ (None, 128)            │           512 │\n",
      "├─────────────────────────────────┼────────────────────────┼───────────────┤\n",
      "│ drop_dense1 (Dropout)           │ (None, 128)            │             0 │\n",
      "├─────────────────────────────────┼────────────────────────┼───────────────┤\n",
      "│ output_softmax (Dense)          │ (None, 43)             │         5,547 │\n",
      "└─────────────────────────────────┴────────────────────────┴───────────────┘\n",
      " Total params: 5,191,947 (19.81 MB)\n",
      " Trainable params: 5,191,307 (19.80 MB)\n",
      " Non-trainable params: 640 (2.50 KB)\n",
      "\n",
      "\n",
      "duration: 0.1963341236114502\n",
      "evaluation: {'loss': 2.1572396755218506, 'accuracy': 0.41489362716674805}\n",
      "training_plot: <PIL.PngImagePlugin.PngImageFile image mode=RGBA size=1200x500 at 0x1F1AA069490>\n"
     ]
    }
   ],
   "execution_count": 6
  },
  {
   "metadata": {},
   "cell_type": "markdown",
   "source": "# Predict",
   "id": "23f748b939d9038c"
  },
  {
   "metadata": {
    "ExecuteTime": {
     "end_time": "2025-04-25T15:43:13.491839Z",
     "start_time": "2025-04-25T15:43:13.425958Z"
    }
   },
   "cell_type": "code",
   "source": "",
   "id": "5931f347d0505aa9",
   "outputs": [
    {
     "data": {
      "text/plain": [
       "array([[[ 43,  43,  43],\n",
       "        [ 26,  26,  26],\n",
       "        [  2,   2,   2],\n",
       "        ...,\n",
       "        [228, 228, 228],\n",
       "        [209, 209, 209],\n",
       "        [245, 245, 245]],\n",
       "\n",
       "       [[218, 218, 218],\n",
       "        [255, 255, 255],\n",
       "        [255, 255, 255],\n",
       "        ...,\n",
       "        [230, 230, 230],\n",
       "        [ 12,  12,  12],\n",
       "        [  8,   8,   8]],\n",
       "\n",
       "       [[240, 240, 240],\n",
       "        [255, 255, 255],\n",
       "        [232, 232, 232],\n",
       "        ...,\n",
       "        [206, 206, 206],\n",
       "        [ 18,  18,  18],\n",
       "        [ 10,  10,  10]],\n",
       "\n",
       "       ...,\n",
       "\n",
       "       [[ 38,  38,  38],\n",
       "        [ 29,  29,  29],\n",
       "        [ 52,  52,  52],\n",
       "        ...,\n",
       "        [  7,   7,   7],\n",
       "        [ 27,  27,  27],\n",
       "        [  6,   6,   6]],\n",
       "\n",
       "       [[ 27,  27,  27],\n",
       "        [ 31,  31,  31],\n",
       "        [  5,   5,   5],\n",
       "        ...,\n",
       "        [254, 254, 254],\n",
       "        [  5,   5,   5],\n",
       "        [ 24,  24,  24]],\n",
       "\n",
       "       [[162, 162, 162],\n",
       "        [157, 157, 157],\n",
       "        [173, 173, 173],\n",
       "        ...,\n",
       "        [157, 157, 157],\n",
       "        [175, 175, 175],\n",
       "        [157, 157, 157]]], dtype=uint8)"
      ]
     },
     "execution_count": 15,
     "metadata": {},
     "output_type": "execute_result"
    }
   ],
   "execution_count": 15
  },
  {
   "metadata": {
    "ExecuteTime": {
     "end_time": "2025-04-25T15:43:44.234648Z",
     "start_time": "2025-04-25T15:43:44.157400Z"
    }
   },
   "cell_type": "code",
   "source": [
    "# Image to predict\n",
    "index = 30\n",
    "MODEL_SAVE_DIR = r'..\\data\\ml_models\\trained'\n",
    "\n",
    "X, y, _ = MLController.get_data_from_db(DB_PATH)\n",
    "img_to_predict = X[index]\n",
    "true_result = y[index]\n",
    "\n",
    "# Make a prediction\n",
    "prediction = ml.predict_image(img_to_predict, model_save_dir=MODEL_SAVE_DIR)\n",
    "\n",
    "# Result\n",
    "print(f\"prediction: {prediction}\")\n",
    "print(f\"true_result: {true_result}\")\n",
    "print(f\"The model is correct: {prediction==true_result}\")"
   ],
   "id": "d94c3b5b28aa82e3",
   "outputs": [
    {
     "ename": "NameError",
     "evalue": "name 'ml' is not defined",
     "output_type": "error",
     "traceback": [
      "\u001B[31m---------------------------------------------------------------------------\u001B[39m",
      "\u001B[31mNameError\u001B[39m                                 Traceback (most recent call last)",
      "\u001B[36mCell\u001B[39m\u001B[36m \u001B[39m\u001B[32mIn[17]\u001B[39m\u001B[32m, line 10\u001B[39m\n\u001B[32m      7\u001B[39m true_result = y[index]\n\u001B[32m      9\u001B[39m \u001B[38;5;66;03m# Make a prediction\u001B[39;00m\n\u001B[32m---> \u001B[39m\u001B[32m10\u001B[39m prediction = \u001B[43mml\u001B[49m.predict_image(img_to_predict, model_save_dir=MODEL_SAVE_DIR)\n\u001B[32m     12\u001B[39m \u001B[38;5;66;03m# Result\u001B[39;00m\n\u001B[32m     13\u001B[39m \u001B[38;5;28mprint\u001B[39m(\u001B[33mf\u001B[39m\u001B[33m\"\u001B[39m\u001B[33mprediction: \u001B[39m\u001B[38;5;132;01m{\u001B[39;00mprediction\u001B[38;5;132;01m}\u001B[39;00m\u001B[33m\"\u001B[39m)\n",
      "\u001B[31mNameError\u001B[39m: name 'ml' is not defined"
     ]
    }
   ],
   "execution_count": 17
  }
 ],
 "metadata": {
  "kernelspec": {
   "display_name": "Python 3",
   "language": "python",
   "name": "python3"
  },
  "language_info": {
   "codemirror_mode": {
    "name": "ipython",
    "version": 2
   },
   "file_extension": ".py",
   "mimetype": "text/x-python",
   "name": "python",
   "nbconvert_exporter": "python",
   "pygments_lexer": "ipython2",
   "version": "2.7.6"
  }
 },
 "nbformat": 4,
 "nbformat_minor": 5
}
