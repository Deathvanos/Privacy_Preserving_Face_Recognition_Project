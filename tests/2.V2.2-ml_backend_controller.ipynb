{
 "cells": [
  {
   "cell_type": "code",
   "id": "153d065b7c437ec2",
   "metadata": {
    "ExecuteTime": {
     "end_time": "2025-04-27T17:34:05.173781Z",
     "start_time": "2025-04-27T17:34:01.814427Z"
    }
   },
   "source": [
    "import os\n",
    "import time\n",
    "import numpy as np\n",
    "import matplotlib.pyplot as plt\n",
    "\n",
    "from tensorflow import float32\n",
    "from tensorflow.image import resize, rgb_to_grayscale, convert_image_dtype\n",
    "from tensorflow.keras.models import Sequential, load_model\n",
    "from tensorflow.keras.layers import Input, Conv2D, MaxPooling2D, Flatten, Dense, Dropout, Activation\n",
    "from tensorflow.keras.utils import to_categorical\n",
    "from tensorflow.keras.optimizers import Adam\n",
    "from tensorflow.keras.callbacks import EarlyStopping, ModelCheckpoint, TensorBoard, CSVLogger\n",
    "\n",
    "from sklearn.model_selection import train_test_split\n",
    "from sklearn.metrics import confusion_matrix, classification_report\n",
    "\n",
    "from config import IMG_HEIGHT, IMG_WIDTH\n",
    "from src.modules import data_loader\n",
    "from src.face_recognition import ml_models\n",
    "\n",
    "\n",
    "################## PATH ##################\n",
    "DB_PATH = r\"..\\data\\gui_database.db\"\n",
    "LFW_DATASET_PATH = r\"..\\data\\dataset-lfw_reconstructed\"\n",
    "ML_OUTPUT = r\"..\\data\\ml_models\"\n",
    "MODEL_SAVE_DIR = f'{ML_OUTPUT}/trained'\n",
    "LOG_DIR = f'{ML_OUTPUT}/logs'\n",
    "\n",
    "\n",
    "############# MODEL SETTINGS #############\n",
    "#####--- prepare_data_train_model ---#####\n",
    "INPUT_SHAPE = (100, 100, 1)\n",
    "IMG_WIDTH, IMG_HEIGHT, CHANNELS = INPUT_SHAPE\n",
    "SPLIT_STRATEGY = 'stratified'\n",
    "TEST_SPLIT_RATIO = 0.2\n",
    "VALIDATION_SPLIT_RATIO = 0.15\n",
    "RANDOM_STATE = 42\n",
    "N_TRAIN_PER_SUBJECT = 7\n",
    "#####--- create_model ---#####\n",
    "MODEL_NAME = 'simple_cnn_lfw_anony_v1'\n",
    "MODEL_ARCHITECTURE = 'simple_cnn'\n",
    "LEARNING_RATE = 0.001\n",
    "EARLY_STOPPING_PATIENCE = 10\n",
    "TRANSFER_BASE_MODEL_NAME = 'MobileNetV2'\n",
    "TRANSFER_FREEZE_BASE = True\n",
    "#####--- train_model ---#####\n",
    "BATCH_SIZE = 32\n",
    "EPOCHS = 50\n",
    "##########################################"
   ],
   "outputs": [],
   "execution_count": 1
  },
  {
   "cell_type": "markdown",
   "id": "e80ea5458bc51b58",
   "metadata": {},
   "source": [
    "# Import Data"
   ]
  },
  {
   "metadata": {},
   "cell_type": "markdown",
   "source": "### Noised DB dataset",
   "id": "158d3c697c8fa35d"
  },
  {
   "metadata": {
    "ExecuteTime": {
     "end_time": "2025-04-27T17:34:05.421133Z",
     "start_time": "2025-04-27T17:34:05.303518Z"
    }
   },
   "cell_type": "code",
   "source": [
    "import controller.ml_controller as mlc\n",
    "\n",
    "X, y, label_encoder = mlc.MLController.get_data_from_db(DB_PATH)\n",
    "print(f\"(nb_image, width, height, channels) : {X.shape}\")"
   ],
   "id": "a4bd8fb06683e169",
   "outputs": [
    {
     "name": "stdout",
     "output_type": "stream",
     "text": [
      "(nb_image, width, height, channels) : (467, 100, 100, 3)\n"
     ]
    }
   ],
   "execution_count": 2
  },
  {
   "metadata": {},
   "cell_type": "markdown",
   "source": "### Noised LFW dataset",
   "id": "8f9dbd59bd7c7471"
  },
  {
   "metadata": {
    "ExecuteTime": {
     "end_time": "2025-04-27T17:34:05.786336Z",
     "start_time": "2025-04-27T17:34:05.436426Z"
    }
   },
   "cell_type": "code",
   "source": [
    "import controller.ml_controller as ml\n",
    "os.makedirs(LFW_DATASET_PATH, exist_ok=True)\n",
    "\n",
    "X, y, label_encoder = ml.data_loader.load_anonymized_images_flat(\n",
    "    data_dir=LFW_DATASET_PATH,\n",
    "    img_width=IMG_WIDTH,\n",
    "    img_height=IMG_HEIGHT,\n",
    "    color_mode='grayscale'\n",
    ")\n",
    "\n",
    "if not X.shape and not y.shape and not label_encoder:\n",
    "    raise ValueError('Erreur critique lors du chargement des données. Arrêt du script.')\n",
    "print(f\"\\n(nb_image, width, height, channels) : {X.shape}\")"
   ],
   "id": "61d47265b29e5f8b",
   "outputs": [
    {
     "name": "stdout",
     "output_type": "stream",
     "text": [
      "Chargement des images depuis : ..\\data\\dataset-lfw_reconstructed\n",
      "Format attendu : 100x100, mode: grayscale\n",
      "Trouvé 1240 fichiers PNG.\n",
      "Chargement terminé. 1240 images traitées, 0 fichiers ignorés.\n",
      "Shape final des données (X): (1240, 100, 100, 1)\n",
      "1240 labels originaux encodés en 62 classes numériques.\n",
      "\n",
      "(nb_image, width, height, channels) : (1240, 100, 100, 1)\n"
     ]
    }
   ],
   "execution_count": 3
  },
  {
   "cell_type": "markdown",
   "id": "842a3ffb71c41754",
   "metadata": {},
   "source": [
    "# Train"
   ]
  },
  {
   "cell_type": "code",
   "id": "65c726ac7985dd37",
   "metadata": {
    "ExecuteTime": {
     "end_time": "2025-04-27T17:34:06.153865Z",
     "start_time": "2025-04-27T17:34:05.796511Z"
    }
   },
   "source": [
    "##### prepare_data_train_model #####\n",
    "\n",
    "# --- 2. Préparation des Données ---\n",
    "\n",
    "def format_ml_image(image: np.array):\n",
    "    # Convert to grayscale\n",
    "    if image.ndim == 2:\n",
    "        image = image[..., np.newaxis]\n",
    "    elif image.shape[2] == 3:\n",
    "        image = rgb_to_grayscale(image).numpy()\n",
    "    elif image.shape[2] != 1:\n",
    "        raise ValueError(\"Image must be grayscale or RGB.\")\n",
    "    # Resize & normalize image\n",
    "    image = convert_image_dtype(image, dtype=float32)\n",
    "    image = resize(image, [IMG_WIDTH, IMG_HEIGHT], method=\"area\").numpy()\n",
    "    return image\n",
    "\n",
    "# Reshape images (size & channel=1)\n",
    "processed_X = []\n",
    "for img in X:\n",
    "    img = format_ml_image(img)\n",
    "    processed_X.append(img)\n",
    "X = np.array(processed_X)\n",
    "\n",
    "num_classes = len(label_encoder.classes_)\n",
    "print(f\"Nombre de classes détectées : {num_classes}\")\n",
    "\n",
    "\n",
    "\n",
    "# --- 3. Division des Données ---\n",
    "print(\"\\n--- Division des données ---\")\n",
    "X_train, y_train = None, None\n",
    "X_val, y_val = None, None\n",
    "X_test, y_test = None, None\n",
    "\n",
    "if SPLIT_STRATEGY == 'stratified':\n",
    "    data_splits = data_loader.split_data_stratified(\n",
    "        X, y,\n",
    "        test_size=TEST_SPLIT_RATIO,\n",
    "        validation_size=VALIDATION_SPLIT_RATIO,\n",
    "        random_state=RANDOM_STATE\n",
    "    )\n",
    "    X_train = data_splits.get('X_train')\n",
    "    y_train = data_splits.get('y_train')\n",
    "    X_val = data_splits.get('X_val')\n",
    "    y_val = data_splits.get('y_val')\n",
    "    X_test = data_splits.get('X_test')\n",
    "    y_test = data_splits.get('y_test')\n",
    "\n",
    "    if X_val is None and VALIDATION_SPLIT_RATIO > 0 and X_train is not None and len(X_train) > 0:\n",
    "         val_ratio_from_train = VALIDATION_SPLIT_RATIO / (1.0 - TEST_SPLIT_RATIO)\n",
    "         if val_ratio_from_train < 1.0:\n",
    "             print(f\"Création du set de validation depuis l'entraînement (ratio: {val_ratio_from_train:.2f})\")\n",
    "             X_train, X_val, y_train, y_val = train_test_split(\n",
    "                 X_train, y_train,\n",
    "                 test_size=val_ratio_from_train,\n",
    "                 random_state=RANDOM_STATE,\n",
    "                 stratify=y_train\n",
    "             )\n",
    "         else:\n",
    "             print(\"Attention: Ratios de split incohérents, pas de données d'entraînement restantes après validation.\")\n",
    "\n",
    "elif SPLIT_STRATEGY == 'fixed_per_subject':\n",
    "    X_train_full, X_test, y_train_full, y_test = data_loader.split_data_fixed_per_subject(\n",
    "        X, y,\n",
    "        n_train_per_class=N_TRAIN_PER_SUBJECT,\n",
    "        random_state=RANDOM_STATE\n",
    "    )\n",
    "    if VALIDATION_SPLIT_RATIO > 0 and X_train_full is not None and len(X_train_full) > 0:\n",
    "        print(f\"Création du set de validation depuis l'entraînement (ratio: {VALIDATION_SPLIT_RATIO})\")\n",
    "        X_train, X_val, y_train, y_val = train_test_split(\n",
    "            X_train_full, y_train_full,\n",
    "            test_size=VALIDATION_SPLIT_RATIO,\n",
    "            random_state=RANDOM_STATE,\n",
    "            stratify=y_train_full\n",
    "        )\n",
    "    else:\n",
    "        X_train, y_train = X_train_full, y_train_full\n",
    "        X_val, y_val = None, None\n",
    "\n",
    "else:\n",
    "    print(f\"Erreur: Stratégie de split '{SPLIT_STRATEGY}' non reconnue.\")\n",
    "\n",
    "if X_train is None or len(X_train) == 0:\n",
    "    print(\"Erreur: Aucune donnée d'entraînement disponible après la division.\")\n",
    "\n",
    "if X_val is None or len(X_val) == 0:\n",
    "    print(\"Attention: Aucune donnée de validation disponible. L'entraînement se fera sans suivi de validation.\")\n",
    "    validation_data = None # `fit` utilisera pas de validation\n",
    "else:\n",
    "    validation_data = (X_val, y_val)\n",
    "    print(f\"Taille finale - Entraînement: {len(X_train)}, Validation: {len(X_val)}, Test: {len(X_test) if X_test is not None else 0}\")"
   ],
   "outputs": [
    {
     "name": "stdout",
     "output_type": "stream",
     "text": [
      "Nombre de classes détectées : 62\n",
      "\n",
      "--- Division des données ---\n",
      "Division des données : test_size=0.2, validation_size=0.15\n",
      "Taille Test: 248 échantillons\n",
      "Taille Entraînement: 806 échantillons\n",
      "Taille Validation: 186 échantillons\n",
      "Taille finale - Entraînement: 806, Validation: 186, Test: 248\n"
     ]
    }
   ],
   "execution_count": 4
  },
  {
   "cell_type": "code",
   "id": "b0e82e66df25d313",
   "metadata": {
    "ExecuteTime": {
     "end_time": "2025-04-27T17:34:06.182029Z",
     "start_time": "2025-04-27T17:34:06.168880Z"
    }
   },
   "source": [
    "print(\"--- Démarrage du Script d'Entraînement ---\")\n",
    "start_time = time.time()\n",
    "\n",
    "# --- 1. Chargement de la Configuration ---\n",
    "print(\"Configuration chargée depuis config.py:\")\n",
    "print(f\"  - Dossier Données: {LFW_DATASET_PATH}\")\n",
    "print(f\"  - Dossier Sauvegarde Modèles: {MODEL_SAVE_DIR}\")\n",
    "print(f\"  - Architecture Modèle: {MODEL_ARCHITECTURE}\")\n",
    "print(f\"  - Nom Modèle: {MODEL_NAME}\")\n",
    "print(f\"  - Dimensions Image: {INPUT_SHAPE}\")\n",
    "print(f\"  - Stratégie Split: {SPLIT_STRATEGY}\")\n",
    "print(f\"  - Époques: {EPOCHS}, Batch Size: {BATCH_SIZE}\")\n",
    "\n",
    "os.makedirs(MODEL_SAVE_DIR, exist_ok=True)\n",
    "os.makedirs(LOG_DIR, exist_ok=True)\n",
    "print(f\"  - Dossier Logs TensorBoard: {LOG_DIR}\")\n"
   ],
   "outputs": [
    {
     "name": "stdout",
     "output_type": "stream",
     "text": [
      "--- Démarrage du Script d'Entraînement ---\n",
      "Configuration chargée depuis config.py:\n",
      "  - Dossier Données: ..\\data\\dataset-lfw_reconstructed\n",
      "  - Dossier Sauvegarde Modèles: ..\\data\\ml_models/trained\n",
      "  - Architecture Modèle: simple_cnn\n",
      "  - Nom Modèle: simple_cnn_lfw_anony_v1\n",
      "  - Dimensions Image: (100, 100, 1)\n",
      "  - Stratégie Split: stratified\n",
      "  - Époques: 50, Batch Size: 32\n",
      "  - Dossier Logs TensorBoard: ..\\data\\ml_models/logs\n"
     ]
    }
   ],
   "execution_count": 5
  },
  {
   "cell_type": "code",
   "id": "3bd2a477de143b2f",
   "metadata": {
    "ExecuteTime": {
     "end_time": "2025-04-27T17:34:06.304786Z",
     "start_time": "2025-04-27T17:34:06.209055Z"
    }
   },
   "source": [
    "# --- 4. Construction du Modèle ---\n",
    "print(\"\\n--- Construction du modèle ---\")\n",
    "model = None\n",
    "if MODEL_ARCHITECTURE == 'simple_cnn':\n",
    "    model = ml_models.build_simple_cnn(input_shape=INPUT_SHAPE, num_classes=num_classes)\n",
    "elif MODEL_ARCHITECTURE.startswith('transfer_'):\n",
    "    print(f\"Utilisation du modèle de base: {TRANSFER_BASE_MODEL_NAME}, Freeze: {TRANSFER_FREEZE_BASE}\")\n",
    "    model = ml_models.build_transfer_model(input_shape=INPUT_SHAPE,\n",
    "                                           num_classes=num_classes,\n",
    "                                           base_model_name=TRANSFER_BASE_MODEL_NAME,\n",
    "                                           freeze_base=TRANSFER_FREEZE_BASE)\n",
    "else:\n",
    "    print(f\"Erreur: Architecture de modèle non reconnue dans config: {MODEL_ARCHITECTURE}\")\n",
    "\n",
    "if model is None:\n",
    "    print(\"Erreur critique lors de la construction du modèle. Arrêt.\")\n",
    "\n",
    "# --- 5. Compilation du Modèle ---\n",
    "print(\"\\n--- Compilation du modèle ---\")\n",
    "optimizer = Adam(learning_rate=LEARNING_RATE)\n",
    "model.compile(optimizer=optimizer,\n",
    "              loss='sparse_categorical_crossentropy',\n",
    "              metrics=['accuracy'])\n",
    "print(\"Modèle compilé avec Adam optimizer.\")\n",
    "model.summary()"
   ],
   "outputs": [
    {
     "name": "stdout",
     "output_type": "stream",
     "text": [
      "\n",
      "--- Construction du modèle ---\n",
      "Construction du modèle CNN simple avec input_shape=(100, 100, 1) et num_classes=62\n",
      "Modèle CNN simple construit.\n",
      "\n",
      "--- Compilation du modèle ---\n",
      "Modèle compilé avec Adam optimizer.\n"
     ]
    },
    {
     "data": {
      "text/plain": [
       "\u001B[1mModel: \"simple_cnn\"\u001B[0m\n"
      ],
      "text/html": [
       "<pre style=\"white-space:pre;overflow-x:auto;line-height:normal;font-family:Menlo,'DejaVu Sans Mono',consolas,'Courier New',monospace\"><span style=\"font-weight: bold\">Model: \"simple_cnn\"</span>\n",
       "</pre>\n"
      ]
     },
     "metadata": {},
     "output_type": "display_data"
    },
    {
     "data": {
      "text/plain": [
       "┏━━━━━━━━━━━━━━━━━━━━━━━━━━━━━━━━━┳━━━━━━━━━━━━━━━━━━━━━━━━┳━━━━━━━━━━━━━━━┓\n",
       "┃\u001B[1m \u001B[0m\u001B[1mLayer (type)                   \u001B[0m\u001B[1m \u001B[0m┃\u001B[1m \u001B[0m\u001B[1mOutput Shape          \u001B[0m\u001B[1m \u001B[0m┃\u001B[1m \u001B[0m\u001B[1m      Param #\u001B[0m\u001B[1m \u001B[0m┃\n",
       "┡━━━━━━━━━━━━━━━━━━━━━━━━━━━━━━━━━╇━━━━━━━━━━━━━━━━━━━━━━━━╇━━━━━━━━━━━━━━━┩\n",
       "│ input_image (\u001B[38;5;33mInputLayer\u001B[0m)        │ (\u001B[38;5;45mNone\u001B[0m, \u001B[38;5;34m100\u001B[0m, \u001B[38;5;34m100\u001B[0m, \u001B[38;5;34m1\u001B[0m)    │             \u001B[38;5;34m0\u001B[0m │\n",
       "├─────────────────────────────────┼────────────────────────┼───────────────┤\n",
       "│ conv1_1 (\u001B[38;5;33mConv2D\u001B[0m)                │ (\u001B[38;5;45mNone\u001B[0m, \u001B[38;5;34m100\u001B[0m, \u001B[38;5;34m100\u001B[0m, \u001B[38;5;34m32\u001B[0m)   │           \u001B[38;5;34m320\u001B[0m │\n",
       "├─────────────────────────────────┼────────────────────────┼───────────────┤\n",
       "│ bn1_1 (\u001B[38;5;33mBatchNormalization\u001B[0m)      │ (\u001B[38;5;45mNone\u001B[0m, \u001B[38;5;34m100\u001B[0m, \u001B[38;5;34m100\u001B[0m, \u001B[38;5;34m32\u001B[0m)   │           \u001B[38;5;34m128\u001B[0m │\n",
       "├─────────────────────────────────┼────────────────────────┼───────────────┤\n",
       "│ conv1_2 (\u001B[38;5;33mConv2D\u001B[0m)                │ (\u001B[38;5;45mNone\u001B[0m, \u001B[38;5;34m100\u001B[0m, \u001B[38;5;34m100\u001B[0m, \u001B[38;5;34m32\u001B[0m)   │         \u001B[38;5;34m9,248\u001B[0m │\n",
       "├─────────────────────────────────┼────────────────────────┼───────────────┤\n",
       "│ bn1_2 (\u001B[38;5;33mBatchNormalization\u001B[0m)      │ (\u001B[38;5;45mNone\u001B[0m, \u001B[38;5;34m100\u001B[0m, \u001B[38;5;34m100\u001B[0m, \u001B[38;5;34m32\u001B[0m)   │           \u001B[38;5;34m128\u001B[0m │\n",
       "├─────────────────────────────────┼────────────────────────┼───────────────┤\n",
       "│ pool1 (\u001B[38;5;33mMaxPooling2D\u001B[0m)            │ (\u001B[38;5;45mNone\u001B[0m, \u001B[38;5;34m50\u001B[0m, \u001B[38;5;34m50\u001B[0m, \u001B[38;5;34m32\u001B[0m)     │             \u001B[38;5;34m0\u001B[0m │\n",
       "├─────────────────────────────────┼────────────────────────┼───────────────┤\n",
       "│ drop1 (\u001B[38;5;33mDropout\u001B[0m)                 │ (\u001B[38;5;45mNone\u001B[0m, \u001B[38;5;34m50\u001B[0m, \u001B[38;5;34m50\u001B[0m, \u001B[38;5;34m32\u001B[0m)     │             \u001B[38;5;34m0\u001B[0m │\n",
       "├─────────────────────────────────┼────────────────────────┼───────────────┤\n",
       "│ conv2_1 (\u001B[38;5;33mConv2D\u001B[0m)                │ (\u001B[38;5;45mNone\u001B[0m, \u001B[38;5;34m50\u001B[0m, \u001B[38;5;34m50\u001B[0m, \u001B[38;5;34m64\u001B[0m)     │        \u001B[38;5;34m18,496\u001B[0m │\n",
       "├─────────────────────────────────┼────────────────────────┼───────────────┤\n",
       "│ bn2_1 (\u001B[38;5;33mBatchNormalization\u001B[0m)      │ (\u001B[38;5;45mNone\u001B[0m, \u001B[38;5;34m50\u001B[0m, \u001B[38;5;34m50\u001B[0m, \u001B[38;5;34m64\u001B[0m)     │           \u001B[38;5;34m256\u001B[0m │\n",
       "├─────────────────────────────────┼────────────────────────┼───────────────┤\n",
       "│ conv2_2 (\u001B[38;5;33mConv2D\u001B[0m)                │ (\u001B[38;5;45mNone\u001B[0m, \u001B[38;5;34m50\u001B[0m, \u001B[38;5;34m50\u001B[0m, \u001B[38;5;34m64\u001B[0m)     │        \u001B[38;5;34m36,928\u001B[0m │\n",
       "├─────────────────────────────────┼────────────────────────┼───────────────┤\n",
       "│ bn2_2 (\u001B[38;5;33mBatchNormalization\u001B[0m)      │ (\u001B[38;5;45mNone\u001B[0m, \u001B[38;5;34m50\u001B[0m, \u001B[38;5;34m50\u001B[0m, \u001B[38;5;34m64\u001B[0m)     │           \u001B[38;5;34m256\u001B[0m │\n",
       "├─────────────────────────────────┼────────────────────────┼───────────────┤\n",
       "│ pool2 (\u001B[38;5;33mMaxPooling2D\u001B[0m)            │ (\u001B[38;5;45mNone\u001B[0m, \u001B[38;5;34m25\u001B[0m, \u001B[38;5;34m25\u001B[0m, \u001B[38;5;34m64\u001B[0m)     │             \u001B[38;5;34m0\u001B[0m │\n",
       "├─────────────────────────────────┼────────────────────────┼───────────────┤\n",
       "│ drop2 (\u001B[38;5;33mDropout\u001B[0m)                 │ (\u001B[38;5;45mNone\u001B[0m, \u001B[38;5;34m25\u001B[0m, \u001B[38;5;34m25\u001B[0m, \u001B[38;5;34m64\u001B[0m)     │             \u001B[38;5;34m0\u001B[0m │\n",
       "├─────────────────────────────────┼────────────────────────┼───────────────┤\n",
       "│ flatten (\u001B[38;5;33mFlatten\u001B[0m)               │ (\u001B[38;5;45mNone\u001B[0m, \u001B[38;5;34m40000\u001B[0m)          │             \u001B[38;5;34m0\u001B[0m │\n",
       "├─────────────────────────────────┼────────────────────────┼───────────────┤\n",
       "│ dense1 (\u001B[38;5;33mDense\u001B[0m)                  │ (\u001B[38;5;45mNone\u001B[0m, \u001B[38;5;34m128\u001B[0m)            │     \u001B[38;5;34m5,120,128\u001B[0m │\n",
       "├─────────────────────────────────┼────────────────────────┼───────────────┤\n",
       "│ bn_dense1 (\u001B[38;5;33mBatchNormalization\u001B[0m)  │ (\u001B[38;5;45mNone\u001B[0m, \u001B[38;5;34m128\u001B[0m)            │           \u001B[38;5;34m512\u001B[0m │\n",
       "├─────────────────────────────────┼────────────────────────┼───────────────┤\n",
       "│ drop_dense1 (\u001B[38;5;33mDropout\u001B[0m)           │ (\u001B[38;5;45mNone\u001B[0m, \u001B[38;5;34m128\u001B[0m)            │             \u001B[38;5;34m0\u001B[0m │\n",
       "├─────────────────────────────────┼────────────────────────┼───────────────┤\n",
       "│ output_softmax (\u001B[38;5;33mDense\u001B[0m)          │ (\u001B[38;5;45mNone\u001B[0m, \u001B[38;5;34m62\u001B[0m)             │         \u001B[38;5;34m7,998\u001B[0m │\n",
       "└─────────────────────────────────┴────────────────────────┴───────────────┘\n"
      ],
      "text/html": [
       "<pre style=\"white-space:pre;overflow-x:auto;line-height:normal;font-family:Menlo,'DejaVu Sans Mono',consolas,'Courier New',monospace\">┏━━━━━━━━━━━━━━━━━━━━━━━━━━━━━━━━━┳━━━━━━━━━━━━━━━━━━━━━━━━┳━━━━━━━━━━━━━━━┓\n",
       "┃<span style=\"font-weight: bold\"> Layer (type)                    </span>┃<span style=\"font-weight: bold\"> Output Shape           </span>┃<span style=\"font-weight: bold\">       Param # </span>┃\n",
       "┡━━━━━━━━━━━━━━━━━━━━━━━━━━━━━━━━━╇━━━━━━━━━━━━━━━━━━━━━━━━╇━━━━━━━━━━━━━━━┩\n",
       "│ input_image (<span style=\"color: #0087ff; text-decoration-color: #0087ff\">InputLayer</span>)        │ (<span style=\"color: #00d7ff; text-decoration-color: #00d7ff\">None</span>, <span style=\"color: #00af00; text-decoration-color: #00af00\">100</span>, <span style=\"color: #00af00; text-decoration-color: #00af00\">100</span>, <span style=\"color: #00af00; text-decoration-color: #00af00\">1</span>)    │             <span style=\"color: #00af00; text-decoration-color: #00af00\">0</span> │\n",
       "├─────────────────────────────────┼────────────────────────┼───────────────┤\n",
       "│ conv1_1 (<span style=\"color: #0087ff; text-decoration-color: #0087ff\">Conv2D</span>)                │ (<span style=\"color: #00d7ff; text-decoration-color: #00d7ff\">None</span>, <span style=\"color: #00af00; text-decoration-color: #00af00\">100</span>, <span style=\"color: #00af00; text-decoration-color: #00af00\">100</span>, <span style=\"color: #00af00; text-decoration-color: #00af00\">32</span>)   │           <span style=\"color: #00af00; text-decoration-color: #00af00\">320</span> │\n",
       "├─────────────────────────────────┼────────────────────────┼───────────────┤\n",
       "│ bn1_1 (<span style=\"color: #0087ff; text-decoration-color: #0087ff\">BatchNormalization</span>)      │ (<span style=\"color: #00d7ff; text-decoration-color: #00d7ff\">None</span>, <span style=\"color: #00af00; text-decoration-color: #00af00\">100</span>, <span style=\"color: #00af00; text-decoration-color: #00af00\">100</span>, <span style=\"color: #00af00; text-decoration-color: #00af00\">32</span>)   │           <span style=\"color: #00af00; text-decoration-color: #00af00\">128</span> │\n",
       "├─────────────────────────────────┼────────────────────────┼───────────────┤\n",
       "│ conv1_2 (<span style=\"color: #0087ff; text-decoration-color: #0087ff\">Conv2D</span>)                │ (<span style=\"color: #00d7ff; text-decoration-color: #00d7ff\">None</span>, <span style=\"color: #00af00; text-decoration-color: #00af00\">100</span>, <span style=\"color: #00af00; text-decoration-color: #00af00\">100</span>, <span style=\"color: #00af00; text-decoration-color: #00af00\">32</span>)   │         <span style=\"color: #00af00; text-decoration-color: #00af00\">9,248</span> │\n",
       "├─────────────────────────────────┼────────────────────────┼───────────────┤\n",
       "│ bn1_2 (<span style=\"color: #0087ff; text-decoration-color: #0087ff\">BatchNormalization</span>)      │ (<span style=\"color: #00d7ff; text-decoration-color: #00d7ff\">None</span>, <span style=\"color: #00af00; text-decoration-color: #00af00\">100</span>, <span style=\"color: #00af00; text-decoration-color: #00af00\">100</span>, <span style=\"color: #00af00; text-decoration-color: #00af00\">32</span>)   │           <span style=\"color: #00af00; text-decoration-color: #00af00\">128</span> │\n",
       "├─────────────────────────────────┼────────────────────────┼───────────────┤\n",
       "│ pool1 (<span style=\"color: #0087ff; text-decoration-color: #0087ff\">MaxPooling2D</span>)            │ (<span style=\"color: #00d7ff; text-decoration-color: #00d7ff\">None</span>, <span style=\"color: #00af00; text-decoration-color: #00af00\">50</span>, <span style=\"color: #00af00; text-decoration-color: #00af00\">50</span>, <span style=\"color: #00af00; text-decoration-color: #00af00\">32</span>)     │             <span style=\"color: #00af00; text-decoration-color: #00af00\">0</span> │\n",
       "├─────────────────────────────────┼────────────────────────┼───────────────┤\n",
       "│ drop1 (<span style=\"color: #0087ff; text-decoration-color: #0087ff\">Dropout</span>)                 │ (<span style=\"color: #00d7ff; text-decoration-color: #00d7ff\">None</span>, <span style=\"color: #00af00; text-decoration-color: #00af00\">50</span>, <span style=\"color: #00af00; text-decoration-color: #00af00\">50</span>, <span style=\"color: #00af00; text-decoration-color: #00af00\">32</span>)     │             <span style=\"color: #00af00; text-decoration-color: #00af00\">0</span> │\n",
       "├─────────────────────────────────┼────────────────────────┼───────────────┤\n",
       "│ conv2_1 (<span style=\"color: #0087ff; text-decoration-color: #0087ff\">Conv2D</span>)                │ (<span style=\"color: #00d7ff; text-decoration-color: #00d7ff\">None</span>, <span style=\"color: #00af00; text-decoration-color: #00af00\">50</span>, <span style=\"color: #00af00; text-decoration-color: #00af00\">50</span>, <span style=\"color: #00af00; text-decoration-color: #00af00\">64</span>)     │        <span style=\"color: #00af00; text-decoration-color: #00af00\">18,496</span> │\n",
       "├─────────────────────────────────┼────────────────────────┼───────────────┤\n",
       "│ bn2_1 (<span style=\"color: #0087ff; text-decoration-color: #0087ff\">BatchNormalization</span>)      │ (<span style=\"color: #00d7ff; text-decoration-color: #00d7ff\">None</span>, <span style=\"color: #00af00; text-decoration-color: #00af00\">50</span>, <span style=\"color: #00af00; text-decoration-color: #00af00\">50</span>, <span style=\"color: #00af00; text-decoration-color: #00af00\">64</span>)     │           <span style=\"color: #00af00; text-decoration-color: #00af00\">256</span> │\n",
       "├─────────────────────────────────┼────────────────────────┼───────────────┤\n",
       "│ conv2_2 (<span style=\"color: #0087ff; text-decoration-color: #0087ff\">Conv2D</span>)                │ (<span style=\"color: #00d7ff; text-decoration-color: #00d7ff\">None</span>, <span style=\"color: #00af00; text-decoration-color: #00af00\">50</span>, <span style=\"color: #00af00; text-decoration-color: #00af00\">50</span>, <span style=\"color: #00af00; text-decoration-color: #00af00\">64</span>)     │        <span style=\"color: #00af00; text-decoration-color: #00af00\">36,928</span> │\n",
       "├─────────────────────────────────┼────────────────────────┼───────────────┤\n",
       "│ bn2_2 (<span style=\"color: #0087ff; text-decoration-color: #0087ff\">BatchNormalization</span>)      │ (<span style=\"color: #00d7ff; text-decoration-color: #00d7ff\">None</span>, <span style=\"color: #00af00; text-decoration-color: #00af00\">50</span>, <span style=\"color: #00af00; text-decoration-color: #00af00\">50</span>, <span style=\"color: #00af00; text-decoration-color: #00af00\">64</span>)     │           <span style=\"color: #00af00; text-decoration-color: #00af00\">256</span> │\n",
       "├─────────────────────────────────┼────────────────────────┼───────────────┤\n",
       "│ pool2 (<span style=\"color: #0087ff; text-decoration-color: #0087ff\">MaxPooling2D</span>)            │ (<span style=\"color: #00d7ff; text-decoration-color: #00d7ff\">None</span>, <span style=\"color: #00af00; text-decoration-color: #00af00\">25</span>, <span style=\"color: #00af00; text-decoration-color: #00af00\">25</span>, <span style=\"color: #00af00; text-decoration-color: #00af00\">64</span>)     │             <span style=\"color: #00af00; text-decoration-color: #00af00\">0</span> │\n",
       "├─────────────────────────────────┼────────────────────────┼───────────────┤\n",
       "│ drop2 (<span style=\"color: #0087ff; text-decoration-color: #0087ff\">Dropout</span>)                 │ (<span style=\"color: #00d7ff; text-decoration-color: #00d7ff\">None</span>, <span style=\"color: #00af00; text-decoration-color: #00af00\">25</span>, <span style=\"color: #00af00; text-decoration-color: #00af00\">25</span>, <span style=\"color: #00af00; text-decoration-color: #00af00\">64</span>)     │             <span style=\"color: #00af00; text-decoration-color: #00af00\">0</span> │\n",
       "├─────────────────────────────────┼────────────────────────┼───────────────┤\n",
       "│ flatten (<span style=\"color: #0087ff; text-decoration-color: #0087ff\">Flatten</span>)               │ (<span style=\"color: #00d7ff; text-decoration-color: #00d7ff\">None</span>, <span style=\"color: #00af00; text-decoration-color: #00af00\">40000</span>)          │             <span style=\"color: #00af00; text-decoration-color: #00af00\">0</span> │\n",
       "├─────────────────────────────────┼────────────────────────┼───────────────┤\n",
       "│ dense1 (<span style=\"color: #0087ff; text-decoration-color: #0087ff\">Dense</span>)                  │ (<span style=\"color: #00d7ff; text-decoration-color: #00d7ff\">None</span>, <span style=\"color: #00af00; text-decoration-color: #00af00\">128</span>)            │     <span style=\"color: #00af00; text-decoration-color: #00af00\">5,120,128</span> │\n",
       "├─────────────────────────────────┼────────────────────────┼───────────────┤\n",
       "│ bn_dense1 (<span style=\"color: #0087ff; text-decoration-color: #0087ff\">BatchNormalization</span>)  │ (<span style=\"color: #00d7ff; text-decoration-color: #00d7ff\">None</span>, <span style=\"color: #00af00; text-decoration-color: #00af00\">128</span>)            │           <span style=\"color: #00af00; text-decoration-color: #00af00\">512</span> │\n",
       "├─────────────────────────────────┼────────────────────────┼───────────────┤\n",
       "│ drop_dense1 (<span style=\"color: #0087ff; text-decoration-color: #0087ff\">Dropout</span>)           │ (<span style=\"color: #00d7ff; text-decoration-color: #00d7ff\">None</span>, <span style=\"color: #00af00; text-decoration-color: #00af00\">128</span>)            │             <span style=\"color: #00af00; text-decoration-color: #00af00\">0</span> │\n",
       "├─────────────────────────────────┼────────────────────────┼───────────────┤\n",
       "│ output_softmax (<span style=\"color: #0087ff; text-decoration-color: #0087ff\">Dense</span>)          │ (<span style=\"color: #00d7ff; text-decoration-color: #00d7ff\">None</span>, <span style=\"color: #00af00; text-decoration-color: #00af00\">62</span>)             │         <span style=\"color: #00af00; text-decoration-color: #00af00\">7,998</span> │\n",
       "└─────────────────────────────────┴────────────────────────┴───────────────┘\n",
       "</pre>\n"
      ]
     },
     "metadata": {},
     "output_type": "display_data"
    },
    {
     "data": {
      "text/plain": [
       "\u001B[1m Total params: \u001B[0m\u001B[38;5;34m5,194,398\u001B[0m (19.82 MB)\n"
      ],
      "text/html": [
       "<pre style=\"white-space:pre;overflow-x:auto;line-height:normal;font-family:Menlo,'DejaVu Sans Mono',consolas,'Courier New',monospace\"><span style=\"font-weight: bold\"> Total params: </span><span style=\"color: #00af00; text-decoration-color: #00af00\">5,194,398</span> (19.82 MB)\n",
       "</pre>\n"
      ]
     },
     "metadata": {},
     "output_type": "display_data"
    },
    {
     "data": {
      "text/plain": [
       "\u001B[1m Trainable params: \u001B[0m\u001B[38;5;34m5,193,758\u001B[0m (19.81 MB)\n"
      ],
      "text/html": [
       "<pre style=\"white-space:pre;overflow-x:auto;line-height:normal;font-family:Menlo,'DejaVu Sans Mono',consolas,'Courier New',monospace\"><span style=\"font-weight: bold\"> Trainable params: </span><span style=\"color: #00af00; text-decoration-color: #00af00\">5,193,758</span> (19.81 MB)\n",
       "</pre>\n"
      ]
     },
     "metadata": {},
     "output_type": "display_data"
    },
    {
     "data": {
      "text/plain": [
       "\u001B[1m Non-trainable params: \u001B[0m\u001B[38;5;34m640\u001B[0m (2.50 KB)\n"
      ],
      "text/html": [
       "<pre style=\"white-space:pre;overflow-x:auto;line-height:normal;font-family:Menlo,'DejaVu Sans Mono',consolas,'Courier New',monospace\"><span style=\"font-weight: bold\"> Non-trainable params: </span><span style=\"color: #00af00; text-decoration-color: #00af00\">640</span> (2.50 KB)\n",
       "</pre>\n"
      ]
     },
     "metadata": {},
     "output_type": "display_data"
    }
   ],
   "execution_count": 6
  },
  {
   "cell_type": "code",
   "id": "46d36bc7bc2ca350",
   "metadata": {
    "ExecuteTime": {
     "end_time": "2025-04-27T17:34:06.336865Z",
     "start_time": "2025-04-27T17:34:06.331966Z"
    }
   },
   "source": [
    "# --- 6. Configuration des Callbacks ---\n",
    "print(\"\\n--- Configuration des Callbacks ---\")\n",
    "callbacks = []\n",
    "\n",
    "model_filename = f\"{MODEL_NAME}.h5\"\n",
    "model_filepath = os.path.join(MODEL_SAVE_DIR, model_filename)\n",
    "print(f\"  - ModelCheckpoint: Sauvegarde du meilleur modèle dans {model_filepath}\")\n",
    "checkpoint_callback = ModelCheckpoint(\n",
    "    filepath=model_filepath,\n",
    "    monitor='val_accuracy',\n",
    "    save_best_only=True,\n",
    "    save_weights_only=False,\n",
    "    mode='max',\n",
    "    verbose=1\n",
    ")\n",
    "callbacks.append(checkpoint_callback)\n",
    "\n",
    "if EARLY_STOPPING_PATIENCE and EARLY_STOPPING_PATIENCE > 0:\n",
    "    print(f\"  - EarlyStopping: Activé avec patience={EARLY_STOPPING_PATIENCE}\")\n",
    "    early_stopping_callback = EarlyStopping(\n",
    "        monitor='val_accuracy',\n",
    "        patience=EARLY_STOPPING_PATIENCE,\n",
    "        mode='max',\n",
    "        restore_best_weights=True,\n",
    "        verbose=1\n",
    "    )\n",
    "    callbacks.append(early_stopping_callback)\n",
    "else:\n",
    "    print(\"  - EarlyStopping: Désactivé.\")\n",
    "\n",
    "\n",
    "if LOG_DIR and LOG_DIR:\n",
    "    tensorboard_log_dir = os.path.join(LOG_DIR, MODEL_NAME + \"_\" + time.strftime(\"%Y%m%d-%H%M%S\"))\n",
    "    print(f\"  - TensorBoard: Logs dans {tensorboard_log_dir}\")\n",
    "    tensorboard_callback = TensorBoard(\n",
    "        log_dir=tensorboard_log_dir,\n",
    "        histogram_freq=1\n",
    "    )\n",
    "    callbacks.append(tensorboard_callback)\n",
    "else:\n",
    "    print(\"  - TensorBoard: Désactivé.\")\n",
    "\n",
    "csv_log_path = os.path.join(MODEL_SAVE_DIR, f\"{MODEL_NAME}_training_log.csv\")\n",
    "print(f\"  - CSVLogger: Logs dans {csv_log_path}\")\n",
    "csv_logger_callback = CSVLogger(csv_log_path, append=False)\n",
    "callbacks.append(csv_logger_callback)"
   ],
   "outputs": [
    {
     "name": "stdout",
     "output_type": "stream",
     "text": [
      "\n",
      "--- Configuration des Callbacks ---\n",
      "  - ModelCheckpoint: Sauvegarde du meilleur modèle dans ..\\data\\ml_models/trained\\simple_cnn_lfw_anony_v1.h5\n",
      "  - EarlyStopping: Activé avec patience=10\n",
      "  - TensorBoard: Logs dans ..\\data\\ml_models/logs\\simple_cnn_lfw_anony_v1_20250427-193406\n",
      "  - CSVLogger: Logs dans ..\\data\\ml_models/trained\\simple_cnn_lfw_anony_v1_training_log.csv\n"
     ]
    }
   ],
   "execution_count": 7
  },
  {
   "cell_type": "code",
   "id": "7d5300d0bb116b4e",
   "metadata": {
    "ExecuteTime": {
     "end_time": "2025-04-27T17:37:02.880135Z",
     "start_time": "2025-04-27T17:34:06.358113Z"
    }
   },
   "source": [
    "# --- 7. Entraînement du Modèle ---\n",
    "print(\"\\n--- Démarrage de l'entraînement ---\")\n",
    "history = None\n",
    "try:\n",
    "    history = model.fit(\n",
    "        X_train, y_train,\n",
    "        epochs=EPOCHS,\n",
    "        batch_size=BATCH_SIZE,\n",
    "        validation_data=validation_data,\n",
    "        callbacks=callbacks,\n",
    "        verbose=1\n",
    "    )\n",
    "    print(\"--- Entraînement terminé ---\")\n",
    "\n",
    "except Exception as e:\n",
    "    print(f\"\\nErreur pendant l'entraînement : {e}\")\n",
    "    encoder_save_path = os.path.join(MODEL_SAVE_DIR, f\"{MODEL_NAME}_label_encoder.joblib\")\n",
    "    print(\"\\nSauvegarde de l'encodeur de labels (même si l'entraînement a échoué)...\")\n",
    "    data_loader.save_label_encoder(label_encoder, encoder_save_path)"
   ],
   "outputs": [
    {
     "name": "stdout",
     "output_type": "stream",
     "text": [
      "\n",
      "--- Démarrage de l'entraînement ---\n",
      "Epoch 1/50\n",
      "\u001B[1m25/26\u001B[0m \u001B[32m━━━━━━━━━━━━━━━━━━━\u001B[0m\u001B[37m━\u001B[0m \u001B[1m0s\u001B[0m 165ms/step - accuracy: 0.0764 - loss: 4.4878\n",
      "Epoch 1: val_accuracy improved from -inf to 0.02688, saving model to ..\\data\\ml_models/trained\\simple_cnn_lfw_anony_v1.h5\n"
     ]
    },
    {
     "name": "stderr",
     "output_type": "stream",
     "text": [
      "WARNING:absl:You are saving your model as an HDF5 file via `model.save()` or `keras.saving.save_model(model)`. This file format is considered legacy. We recommend using instead the native Keras format, e.g. `model.save('my_model.keras')` or `keras.saving.save_model(model, 'my_model.keras')`. \n"
     ]
    },
    {
     "name": "stdout",
     "output_type": "stream",
     "text": [
      "\u001B[1m26/26\u001B[0m \u001B[32m━━━━━━━━━━━━━━━━━━━━\u001B[0m\u001B[37m\u001B[0m \u001B[1m7s\u001B[0m 201ms/step - accuracy: 0.0814 - loss: 4.4520 - val_accuracy: 0.0269 - val_loss: 4.5797\n",
      "Epoch 2/50\n",
      "\u001B[1m25/26\u001B[0m \u001B[32m━━━━━━━━━━━━━━━━━━━\u001B[0m\u001B[37m━\u001B[0m \u001B[1m0s\u001B[0m 161ms/step - accuracy: 0.5449 - loss: 2.2355\n",
      "Epoch 2: val_accuracy did not improve from 0.02688\n",
      "\u001B[1m26/26\u001B[0m \u001B[32m━━━━━━━━━━━━━━━━━━━━\u001B[0m\u001B[37m\u001B[0m \u001B[1m5s\u001B[0m 175ms/step - accuracy: 0.5480 - loss: 2.2224 - val_accuracy: 0.0161 - val_loss: 4.4068\n",
      "Epoch 3/50\n",
      "\u001B[1m26/26\u001B[0m \u001B[32m━━━━━━━━━━━━━━━━━━━━\u001B[0m\u001B[37m\u001B[0m \u001B[1m0s\u001B[0m 159ms/step - accuracy: 0.8707 - loss: 1.0612\n",
      "Epoch 3: val_accuracy did not improve from 0.02688\n",
      "\u001B[1m26/26\u001B[0m \u001B[32m━━━━━━━━━━━━━━━━━━━━\u001B[0m\u001B[37m\u001B[0m \u001B[1m5s\u001B[0m 179ms/step - accuracy: 0.8711 - loss: 1.0582 - val_accuracy: 0.0108 - val_loss: 4.4875\n",
      "Epoch 4/50\n",
      "\u001B[1m25/26\u001B[0m \u001B[32m━━━━━━━━━━━━━━━━━━━\u001B[0m\u001B[37m━\u001B[0m \u001B[1m0s\u001B[0m 171ms/step - accuracy: 0.9812 - loss: 0.5241\n",
      "Epoch 4: val_accuracy did not improve from 0.02688\n",
      "\u001B[1m26/26\u001B[0m \u001B[32m━━━━━━━━━━━━━━━━━━━━\u001B[0m\u001B[37m\u001B[0m \u001B[1m5s\u001B[0m 185ms/step - accuracy: 0.9813 - loss: 0.5206 - val_accuracy: 0.0161 - val_loss: 4.5380\n",
      "Epoch 5/50\n",
      "\u001B[1m25/26\u001B[0m \u001B[32m━━━━━━━━━━━━━━━━━━━\u001B[0m\u001B[37m━\u001B[0m \u001B[1m0s\u001B[0m 172ms/step - accuracy: 0.9972 - loss: 0.3052\n",
      "Epoch 5: val_accuracy improved from 0.02688 to 0.03226, saving model to ..\\data\\ml_models/trained\\simple_cnn_lfw_anony_v1.h5\n"
     ]
    },
    {
     "name": "stderr",
     "output_type": "stream",
     "text": [
      "WARNING:absl:You are saving your model as an HDF5 file via `model.save()` or `keras.saving.save_model(model)`. This file format is considered legacy. We recommend using instead the native Keras format, e.g. `model.save('my_model.keras')` or `keras.saving.save_model(model, 'my_model.keras')`. \n"
     ]
    },
    {
     "name": "stdout",
     "output_type": "stream",
     "text": [
      "\u001B[1m26/26\u001B[0m \u001B[32m━━━━━━━━━━━━━━━━━━━━\u001B[0m\u001B[37m\u001B[0m \u001B[1m5s\u001B[0m 191ms/step - accuracy: 0.9969 - loss: 0.3052 - val_accuracy: 0.0323 - val_loss: 5.1260\n",
      "Epoch 6/50\n",
      "\u001B[1m25/26\u001B[0m \u001B[32m━━━━━━━━━━━━━━━━━━━\u001B[0m\u001B[37m━\u001B[0m \u001B[1m0s\u001B[0m 175ms/step - accuracy: 0.9979 - loss: 0.2133\n",
      "Epoch 6: val_accuracy did not improve from 0.03226\n",
      "\u001B[1m26/26\u001B[0m \u001B[32m━━━━━━━━━━━━━━━━━━━━\u001B[0m\u001B[37m\u001B[0m \u001B[1m5s\u001B[0m 190ms/step - accuracy: 0.9978 - loss: 0.2126 - val_accuracy: 0.0269 - val_loss: 6.0595\n",
      "Epoch 7/50\n",
      "\u001B[1m25/26\u001B[0m \u001B[32m━━━━━━━━━━━━━━━━━━━\u001B[0m\u001B[37m━\u001B[0m \u001B[1m0s\u001B[0m 191ms/step - accuracy: 0.9988 - loss: 0.1861\n",
      "Epoch 7: val_accuracy did not improve from 0.03226\n",
      "\u001B[1m26/26\u001B[0m \u001B[32m━━━━━━━━━━━━━━━━━━━━\u001B[0m\u001B[37m\u001B[0m \u001B[1m5s\u001B[0m 205ms/step - accuracy: 0.9988 - loss: 0.1842 - val_accuracy: 0.0215 - val_loss: 6.3640\n",
      "Epoch 8/50\n",
      "\u001B[1m25/26\u001B[0m \u001B[32m━━━━━━━━━━━━━━━━━━━\u001B[0m\u001B[37m━\u001B[0m \u001B[1m0s\u001B[0m 173ms/step - accuracy: 1.0000 - loss: 0.1111\n",
      "Epoch 8: val_accuracy did not improve from 0.03226\n",
      "\u001B[1m26/26\u001B[0m \u001B[32m━━━━━━━━━━━━━━━━━━━━\u001B[0m\u001B[37m\u001B[0m \u001B[1m5s\u001B[0m 189ms/step - accuracy: 1.0000 - loss: 0.1110 - val_accuracy: 0.0269 - val_loss: 8.8663\n",
      "Epoch 9/50\n",
      "\u001B[1m25/26\u001B[0m \u001B[32m━━━━━━━━━━━━━━━━━━━\u001B[0m\u001B[37m━\u001B[0m \u001B[1m0s\u001B[0m 172ms/step - accuracy: 0.9981 - loss: 0.1055\n",
      "Epoch 9: val_accuracy did not improve from 0.03226\n",
      "\u001B[1m26/26\u001B[0m \u001B[32m━━━━━━━━━━━━━━━━━━━━\u001B[0m\u001B[37m\u001B[0m \u001B[1m5s\u001B[0m 187ms/step - accuracy: 0.9981 - loss: 0.1052 - val_accuracy: 0.0269 - val_loss: 9.9150\n",
      "Epoch 10/50\n",
      "\u001B[1m25/26\u001B[0m \u001B[32m━━━━━━━━━━━━━━━━━━━\u001B[0m\u001B[37m━\u001B[0m \u001B[1m0s\u001B[0m 167ms/step - accuracy: 1.0000 - loss: 0.0773\n",
      "Epoch 10: val_accuracy improved from 0.03226 to 0.03763, saving model to ..\\data\\ml_models/trained\\simple_cnn_lfw_anony_v1.h5\n"
     ]
    },
    {
     "name": "stderr",
     "output_type": "stream",
     "text": [
      "WARNING:absl:You are saving your model as an HDF5 file via `model.save()` or `keras.saving.save_model(model)`. This file format is considered legacy. We recommend using instead the native Keras format, e.g. `model.save('my_model.keras')` or `keras.saving.save_model(model, 'my_model.keras')`. \n"
     ]
    },
    {
     "name": "stdout",
     "output_type": "stream",
     "text": [
      "\u001B[1m26/26\u001B[0m \u001B[32m━━━━━━━━━━━━━━━━━━━━\u001B[0m\u001B[37m\u001B[0m \u001B[1m5s\u001B[0m 187ms/step - accuracy: 1.0000 - loss: 0.0775 - val_accuracy: 0.0376 - val_loss: 10.2450\n",
      "Epoch 11/50\n",
      "\u001B[1m25/26\u001B[0m \u001B[32m━━━━━━━━━━━━━━━━━━━\u001B[0m\u001B[37m━\u001B[0m \u001B[1m0s\u001B[0m 167ms/step - accuracy: 1.0000 - loss: 0.0654\n",
      "Epoch 11: val_accuracy improved from 0.03763 to 0.05376, saving model to ..\\data\\ml_models/trained\\simple_cnn_lfw_anony_v1.h5\n"
     ]
    },
    {
     "name": "stderr",
     "output_type": "stream",
     "text": [
      "WARNING:absl:You are saving your model as an HDF5 file via `model.save()` or `keras.saving.save_model(model)`. This file format is considered legacy. We recommend using instead the native Keras format, e.g. `model.save('my_model.keras')` or `keras.saving.save_model(model, 'my_model.keras')`. \n"
     ]
    },
    {
     "name": "stdout",
     "output_type": "stream",
     "text": [
      "\u001B[1m26/26\u001B[0m \u001B[32m━━━━━━━━━━━━━━━━━━━━\u001B[0m\u001B[37m\u001B[0m \u001B[1m5s\u001B[0m 187ms/step - accuracy: 1.0000 - loss: 0.0654 - val_accuracy: 0.0538 - val_loss: 10.1803\n",
      "Epoch 12/50\n",
      "\u001B[1m25/26\u001B[0m \u001B[32m━━━━━━━━━━━━━━━━━━━\u001B[0m\u001B[37m━\u001B[0m \u001B[1m0s\u001B[0m 170ms/step - accuracy: 1.0000 - loss: 0.0575\n",
      "Epoch 12: val_accuracy improved from 0.05376 to 0.08602, saving model to ..\\data\\ml_models/trained\\simple_cnn_lfw_anony_v1.h5\n"
     ]
    },
    {
     "name": "stderr",
     "output_type": "stream",
     "text": [
      "WARNING:absl:You are saving your model as an HDF5 file via `model.save()` or `keras.saving.save_model(model)`. This file format is considered legacy. We recommend using instead the native Keras format, e.g. `model.save('my_model.keras')` or `keras.saving.save_model(model, 'my_model.keras')`. \n"
     ]
    },
    {
     "name": "stdout",
     "output_type": "stream",
     "text": [
      "\u001B[1m26/26\u001B[0m \u001B[32m━━━━━━━━━━━━━━━━━━━━\u001B[0m\u001B[37m\u001B[0m \u001B[1m5s\u001B[0m 189ms/step - accuracy: 1.0000 - loss: 0.0577 - val_accuracy: 0.0860 - val_loss: 9.9752\n",
      "Epoch 13/50\n",
      "\u001B[1m25/26\u001B[0m \u001B[32m━━━━━━━━━━━━━━━━━━━\u001B[0m\u001B[37m━\u001B[0m \u001B[1m0s\u001B[0m 168ms/step - accuracy: 1.0000 - loss: 0.0483\n",
      "Epoch 13: val_accuracy improved from 0.08602 to 0.16129, saving model to ..\\data\\ml_models/trained\\simple_cnn_lfw_anony_v1.h5\n"
     ]
    },
    {
     "name": "stderr",
     "output_type": "stream",
     "text": [
      "WARNING:absl:You are saving your model as an HDF5 file via `model.save()` or `keras.saving.save_model(model)`. This file format is considered legacy. We recommend using instead the native Keras format, e.g. `model.save('my_model.keras')` or `keras.saving.save_model(model, 'my_model.keras')`. \n"
     ]
    },
    {
     "name": "stdout",
     "output_type": "stream",
     "text": [
      "\u001B[1m26/26\u001B[0m \u001B[32m━━━━━━━━━━━━━━━━━━━━\u001B[0m\u001B[37m\u001B[0m \u001B[1m5s\u001B[0m 187ms/step - accuracy: 1.0000 - loss: 0.0484 - val_accuracy: 0.1613 - val_loss: 8.7037\n",
      "Epoch 14/50\n",
      "\u001B[1m25/26\u001B[0m \u001B[32m━━━━━━━━━━━━━━━━━━━\u001B[0m\u001B[37m━\u001B[0m \u001B[1m0s\u001B[0m 168ms/step - accuracy: 1.0000 - loss: 0.0427\n",
      "Epoch 14: val_accuracy improved from 0.16129 to 0.23118, saving model to ..\\data\\ml_models/trained\\simple_cnn_lfw_anony_v1.h5\n"
     ]
    },
    {
     "name": "stderr",
     "output_type": "stream",
     "text": [
      "WARNING:absl:You are saving your model as an HDF5 file via `model.save()` or `keras.saving.save_model(model)`. This file format is considered legacy. We recommend using instead the native Keras format, e.g. `model.save('my_model.keras')` or `keras.saving.save_model(model, 'my_model.keras')`. \n"
     ]
    },
    {
     "name": "stdout",
     "output_type": "stream",
     "text": [
      "\u001B[1m26/26\u001B[0m \u001B[32m━━━━━━━━━━━━━━━━━━━━\u001B[0m\u001B[37m\u001B[0m \u001B[1m5s\u001B[0m 187ms/step - accuracy: 1.0000 - loss: 0.0429 - val_accuracy: 0.2312 - val_loss: 8.4976\n",
      "Epoch 15/50\n",
      "\u001B[1m25/26\u001B[0m \u001B[32m━━━━━━━━━━━━━━━━━━━\u001B[0m\u001B[37m━\u001B[0m \u001B[1m0s\u001B[0m 167ms/step - accuracy: 1.0000 - loss: 0.0429\n",
      "Epoch 15: val_accuracy improved from 0.23118 to 0.41398, saving model to ..\\data\\ml_models/trained\\simple_cnn_lfw_anony_v1.h5\n"
     ]
    },
    {
     "name": "stderr",
     "output_type": "stream",
     "text": [
      "WARNING:absl:You are saving your model as an HDF5 file via `model.save()` or `keras.saving.save_model(model)`. This file format is considered legacy. We recommend using instead the native Keras format, e.g. `model.save('my_model.keras')` or `keras.saving.save_model(model, 'my_model.keras')`. \n"
     ]
    },
    {
     "name": "stdout",
     "output_type": "stream",
     "text": [
      "\u001B[1m26/26\u001B[0m \u001B[32m━━━━━━━━━━━━━━━━━━━━\u001B[0m\u001B[37m\u001B[0m \u001B[1m5s\u001B[0m 186ms/step - accuracy: 1.0000 - loss: 0.0431 - val_accuracy: 0.4140 - val_loss: 5.5171\n",
      "Epoch 16/50\n",
      "\u001B[1m25/26\u001B[0m \u001B[32m━━━━━━━━━━━━━━━━━━━\u001B[0m\u001B[37m━\u001B[0m \u001B[1m0s\u001B[0m 167ms/step - accuracy: 1.0000 - loss: 0.0353\n",
      "Epoch 16: val_accuracy improved from 0.41398 to 0.63978, saving model to ..\\data\\ml_models/trained\\simple_cnn_lfw_anony_v1.h5\n"
     ]
    },
    {
     "name": "stderr",
     "output_type": "stream",
     "text": [
      "WARNING:absl:You are saving your model as an HDF5 file via `model.save()` or `keras.saving.save_model(model)`. This file format is considered legacy. We recommend using instead the native Keras format, e.g. `model.save('my_model.keras')` or `keras.saving.save_model(model, 'my_model.keras')`. \n"
     ]
    },
    {
     "name": "stdout",
     "output_type": "stream",
     "text": [
      "\u001B[1m26/26\u001B[0m \u001B[32m━━━━━━━━━━━━━━━━━━━━\u001B[0m\u001B[37m\u001B[0m \u001B[1m5s\u001B[0m 186ms/step - accuracy: 1.0000 - loss: 0.0352 - val_accuracy: 0.6398 - val_loss: 2.9117\n",
      "Epoch 17/50\n",
      "\u001B[1m25/26\u001B[0m \u001B[32m━━━━━━━━━━━━━━━━━━━\u001B[0m\u001B[37m━\u001B[0m \u001B[1m0s\u001B[0m 171ms/step - accuracy: 1.0000 - loss: 0.0294\n",
      "Epoch 17: val_accuracy improved from 0.63978 to 0.76344, saving model to ..\\data\\ml_models/trained\\simple_cnn_lfw_anony_v1.h5\n"
     ]
    },
    {
     "name": "stderr",
     "output_type": "stream",
     "text": [
      "WARNING:absl:You are saving your model as an HDF5 file via `model.save()` or `keras.saving.save_model(model)`. This file format is considered legacy. We recommend using instead the native Keras format, e.g. `model.save('my_model.keras')` or `keras.saving.save_model(model, 'my_model.keras')`. \n"
     ]
    },
    {
     "name": "stdout",
     "output_type": "stream",
     "text": [
      "\u001B[1m26/26\u001B[0m \u001B[32m━━━━━━━━━━━━━━━━━━━━\u001B[0m\u001B[37m\u001B[0m \u001B[1m5s\u001B[0m 189ms/step - accuracy: 1.0000 - loss: 0.0294 - val_accuracy: 0.7634 - val_loss: 1.9495\n",
      "Epoch 18/50\n",
      "\u001B[1m25/26\u001B[0m \u001B[32m━━━━━━━━━━━━━━━━━━━\u001B[0m\u001B[37m━\u001B[0m \u001B[1m0s\u001B[0m 172ms/step - accuracy: 1.0000 - loss: 0.0286\n",
      "Epoch 18: val_accuracy improved from 0.76344 to 0.90323, saving model to ..\\data\\ml_models/trained\\simple_cnn_lfw_anony_v1.h5\n"
     ]
    },
    {
     "name": "stderr",
     "output_type": "stream",
     "text": [
      "WARNING:absl:You are saving your model as an HDF5 file via `model.save()` or `keras.saving.save_model(model)`. This file format is considered legacy. We recommend using instead the native Keras format, e.g. `model.save('my_model.keras')` or `keras.saving.save_model(model, 'my_model.keras')`. \n"
     ]
    },
    {
     "name": "stdout",
     "output_type": "stream",
     "text": [
      "\u001B[1m26/26\u001B[0m \u001B[32m━━━━━━━━━━━━━━━━━━━━\u001B[0m\u001B[37m\u001B[0m \u001B[1m5s\u001B[0m 190ms/step - accuracy: 1.0000 - loss: 0.0284 - val_accuracy: 0.9032 - val_loss: 0.8680\n",
      "Epoch 19/50\n",
      "\u001B[1m25/26\u001B[0m \u001B[32m━━━━━━━━━━━━━━━━━━━\u001B[0m\u001B[37m━\u001B[0m \u001B[1m0s\u001B[0m 171ms/step - accuracy: 1.0000 - loss: 0.0291\n",
      "Epoch 19: val_accuracy improved from 0.90323 to 0.90860, saving model to ..\\data\\ml_models/trained\\simple_cnn_lfw_anony_v1.h5\n"
     ]
    },
    {
     "name": "stderr",
     "output_type": "stream",
     "text": [
      "WARNING:absl:You are saving your model as an HDF5 file via `model.save()` or `keras.saving.save_model(model)`. This file format is considered legacy. We recommend using instead the native Keras format, e.g. `model.save('my_model.keras')` or `keras.saving.save_model(model, 'my_model.keras')`. \n"
     ]
    },
    {
     "name": "stdout",
     "output_type": "stream",
     "text": [
      "\u001B[1m26/26\u001B[0m \u001B[32m━━━━━━━━━━━━━━━━━━━━\u001B[0m\u001B[37m\u001B[0m \u001B[1m5s\u001B[0m 191ms/step - accuracy: 1.0000 - loss: 0.0290 - val_accuracy: 0.9086 - val_loss: 0.6806\n",
      "Epoch 20/50\n",
      "\u001B[1m26/26\u001B[0m \u001B[32m━━━━━━━━━━━━━━━━━━━━\u001B[0m\u001B[37m\u001B[0m \u001B[1m0s\u001B[0m 164ms/step - accuracy: 1.0000 - loss: 0.0263\n",
      "Epoch 20: val_accuracy improved from 0.90860 to 0.97312, saving model to ..\\data\\ml_models/trained\\simple_cnn_lfw_anony_v1.h5\n"
     ]
    },
    {
     "name": "stderr",
     "output_type": "stream",
     "text": [
      "WARNING:absl:You are saving your model as an HDF5 file via `model.save()` or `keras.saving.save_model(model)`. This file format is considered legacy. We recommend using instead the native Keras format, e.g. `model.save('my_model.keras')` or `keras.saving.save_model(model, 'my_model.keras')`. \n"
     ]
    },
    {
     "name": "stdout",
     "output_type": "stream",
     "text": [
      "\u001B[1m26/26\u001B[0m \u001B[32m━━━━━━━━━━━━━━━━━━━━\u001B[0m\u001B[37m\u001B[0m \u001B[1m5s\u001B[0m 189ms/step - accuracy: 1.0000 - loss: 0.0264 - val_accuracy: 0.9731 - val_loss: 0.3781\n",
      "Epoch 21/50\n",
      "\u001B[1m26/26\u001B[0m \u001B[32m━━━━━━━━━━━━━━━━━━━━\u001B[0m\u001B[37m\u001B[0m \u001B[1m0s\u001B[0m 193ms/step - accuracy: 1.0000 - loss: 0.0285\n",
      "Epoch 21: val_accuracy improved from 0.97312 to 0.98387, saving model to ..\\data\\ml_models/trained\\simple_cnn_lfw_anony_v1.h5\n"
     ]
    },
    {
     "name": "stderr",
     "output_type": "stream",
     "text": [
      "WARNING:absl:You are saving your model as an HDF5 file via `model.save()` or `keras.saving.save_model(model)`. This file format is considered legacy. We recommend using instead the native Keras format, e.g. `model.save('my_model.keras')` or `keras.saving.save_model(model, 'my_model.keras')`. \n"
     ]
    },
    {
     "name": "stdout",
     "output_type": "stream",
     "text": [
      "\u001B[1m26/26\u001B[0m \u001B[32m━━━━━━━━━━━━━━━━━━━━\u001B[0m\u001B[37m\u001B[0m \u001B[1m6s\u001B[0m 218ms/step - accuracy: 1.0000 - loss: 0.0287 - val_accuracy: 0.9839 - val_loss: 0.3407\n",
      "Epoch 22/50\n",
      "\u001B[1m25/26\u001B[0m \u001B[32m━━━━━━━━━━━━━━━━━━━\u001B[0m\u001B[37m━\u001B[0m \u001B[1m0s\u001B[0m 190ms/step - accuracy: 1.0000 - loss: 0.0225\n",
      "Epoch 22: val_accuracy did not improve from 0.98387\n",
      "\u001B[1m26/26\u001B[0m \u001B[32m━━━━━━━━━━━━━━━━━━━━\u001B[0m\u001B[37m\u001B[0m \u001B[1m5s\u001B[0m 204ms/step - accuracy: 1.0000 - loss: 0.0227 - val_accuracy: 0.9839 - val_loss: 0.2369\n",
      "Epoch 23/50\n",
      "\u001B[1m25/26\u001B[0m \u001B[32m━━━━━━━━━━━━━━━━━━━\u001B[0m\u001B[37m━\u001B[0m \u001B[1m0s\u001B[0m 173ms/step - accuracy: 1.0000 - loss: 0.0276\n",
      "Epoch 23: val_accuracy did not improve from 0.98387\n",
      "\u001B[1m26/26\u001B[0m \u001B[32m━━━━━━━━━━━━━━━━━━━━\u001B[0m\u001B[37m\u001B[0m \u001B[1m5s\u001B[0m 188ms/step - accuracy: 1.0000 - loss: 0.0276 - val_accuracy: 0.9839 - val_loss: 0.1594\n",
      "Epoch 24/50\n",
      "\u001B[1m25/26\u001B[0m \u001B[32m━━━━━━━━━━━━━━━━━━━\u001B[0m\u001B[37m━\u001B[0m \u001B[1m0s\u001B[0m 172ms/step - accuracy: 1.0000 - loss: 0.0237\n",
      "Epoch 24: val_accuracy did not improve from 0.98387\n",
      "\u001B[1m26/26\u001B[0m \u001B[32m━━━━━━━━━━━━━━━━━━━━\u001B[0m\u001B[37m\u001B[0m \u001B[1m5s\u001B[0m 188ms/step - accuracy: 1.0000 - loss: 0.0236 - val_accuracy: 0.9839 - val_loss: 0.1333\n",
      "Epoch 25/50\n",
      "\u001B[1m25/26\u001B[0m \u001B[32m━━━━━━━━━━━━━━━━━━━\u001B[0m\u001B[37m━\u001B[0m \u001B[1m0s\u001B[0m 172ms/step - accuracy: 1.0000 - loss: 0.0172\n",
      "Epoch 25: val_accuracy improved from 0.98387 to 0.99462, saving model to ..\\data\\ml_models/trained\\simple_cnn_lfw_anony_v1.h5\n"
     ]
    },
    {
     "name": "stderr",
     "output_type": "stream",
     "text": [
      "WARNING:absl:You are saving your model as an HDF5 file via `model.save()` or `keras.saving.save_model(model)`. This file format is considered legacy. We recommend using instead the native Keras format, e.g. `model.save('my_model.keras')` or `keras.saving.save_model(model, 'my_model.keras')`. \n"
     ]
    },
    {
     "name": "stdout",
     "output_type": "stream",
     "text": [
      "\u001B[1m26/26\u001B[0m \u001B[32m━━━━━━━━━━━━━━━━━━━━\u001B[0m\u001B[37m\u001B[0m \u001B[1m5s\u001B[0m 192ms/step - accuracy: 1.0000 - loss: 0.0172 - val_accuracy: 0.9946 - val_loss: 0.1106\n",
      "Epoch 26/50\n",
      "\u001B[1m25/26\u001B[0m \u001B[32m━━━━━━━━━━━━━━━━━━━\u001B[0m\u001B[37m━\u001B[0m \u001B[1m0s\u001B[0m 168ms/step - accuracy: 1.0000 - loss: 0.0198\n",
      "Epoch 26: val_accuracy did not improve from 0.99462\n",
      "\u001B[1m26/26\u001B[0m \u001B[32m━━━━━━━━━━━━━━━━━━━━\u001B[0m\u001B[37m\u001B[0m \u001B[1m5s\u001B[0m 183ms/step - accuracy: 1.0000 - loss: 0.0197 - val_accuracy: 0.9892 - val_loss: 0.1191\n",
      "Epoch 27/50\n",
      "\u001B[1m25/26\u001B[0m \u001B[32m━━━━━━━━━━━━━━━━━━━\u001B[0m\u001B[37m━\u001B[0m \u001B[1m0s\u001B[0m 170ms/step - accuracy: 1.0000 - loss: 0.0162\n",
      "Epoch 27: val_accuracy did not improve from 0.99462\n",
      "\u001B[1m26/26\u001B[0m \u001B[32m━━━━━━━━━━━━━━━━━━━━\u001B[0m\u001B[37m\u001B[0m \u001B[1m5s\u001B[0m 185ms/step - accuracy: 1.0000 - loss: 0.0163 - val_accuracy: 0.9946 - val_loss: 0.1112\n",
      "Epoch 28/50\n",
      "\u001B[1m25/26\u001B[0m \u001B[32m━━━━━━━━━━━━━━━━━━━\u001B[0m\u001B[37m━\u001B[0m \u001B[1m0s\u001B[0m 168ms/step - accuracy: 1.0000 - loss: 0.0161\n",
      "Epoch 28: val_accuracy did not improve from 0.99462\n",
      "\u001B[1m26/26\u001B[0m \u001B[32m━━━━━━━━━━━━━━━━━━━━\u001B[0m\u001B[37m\u001B[0m \u001B[1m5s\u001B[0m 183ms/step - accuracy: 1.0000 - loss: 0.0161 - val_accuracy: 0.9892 - val_loss: 0.1050\n",
      "Epoch 29/50\n",
      "\u001B[1m25/26\u001B[0m \u001B[32m━━━━━━━━━━━━━━━━━━━\u001B[0m\u001B[37m━\u001B[0m \u001B[1m0s\u001B[0m 176ms/step - accuracy: 1.0000 - loss: 0.0170\n",
      "Epoch 29: val_accuracy did not improve from 0.99462\n",
      "\u001B[1m26/26\u001B[0m \u001B[32m━━━━━━━━━━━━━━━━━━━━\u001B[0m\u001B[37m\u001B[0m \u001B[1m5s\u001B[0m 191ms/step - accuracy: 1.0000 - loss: 0.0170 - val_accuracy: 0.9892 - val_loss: 0.0919\n",
      "Epoch 30/50\n",
      "\u001B[1m25/26\u001B[0m \u001B[32m━━━━━━━━━━━━━━━━━━━\u001B[0m\u001B[37m━\u001B[0m \u001B[1m0s\u001B[0m 170ms/step - accuracy: 1.0000 - loss: 0.0145\n",
      "Epoch 30: val_accuracy did not improve from 0.99462\n",
      "\u001B[1m26/26\u001B[0m \u001B[32m━━━━━━━━━━━━━━━━━━━━\u001B[0m\u001B[37m\u001B[0m \u001B[1m5s\u001B[0m 185ms/step - accuracy: 1.0000 - loss: 0.0147 - val_accuracy: 0.9892 - val_loss: 0.1001\n",
      "Epoch 31/50\n",
      "\u001B[1m25/26\u001B[0m \u001B[32m━━━━━━━━━━━━━━━━━━━\u001B[0m\u001B[37m━\u001B[0m \u001B[1m0s\u001B[0m 172ms/step - accuracy: 1.0000 - loss: 0.0142\n",
      "Epoch 31: val_accuracy did not improve from 0.99462\n",
      "\u001B[1m26/26\u001B[0m \u001B[32m━━━━━━━━━━━━━━━━━━━━\u001B[0m\u001B[37m\u001B[0m \u001B[1m5s\u001B[0m 187ms/step - accuracy: 1.0000 - loss: 0.0143 - val_accuracy: 0.9892 - val_loss: 0.1100\n",
      "Epoch 32/50\n",
      "\u001B[1m26/26\u001B[0m \u001B[32m━━━━━━━━━━━━━━━━━━━━\u001B[0m\u001B[37m\u001B[0m \u001B[1m0s\u001B[0m 166ms/step - accuracy: 1.0000 - loss: 0.0150\n",
      "Epoch 32: val_accuracy did not improve from 0.99462\n",
      "\u001B[1m26/26\u001B[0m \u001B[32m━━━━━━━━━━━━━━━━━━━━\u001B[0m\u001B[37m\u001B[0m \u001B[1m5s\u001B[0m 186ms/step - accuracy: 1.0000 - loss: 0.0150 - val_accuracy: 0.9892 - val_loss: 0.1071\n",
      "Epoch 33/50\n",
      "\u001B[1m25/26\u001B[0m \u001B[32m━━━━━━━━━━━━━━━━━━━\u001B[0m\u001B[37m━\u001B[0m \u001B[1m0s\u001B[0m 168ms/step - accuracy: 1.0000 - loss: 0.0132\n",
      "Epoch 33: val_accuracy did not improve from 0.99462\n",
      "\u001B[1m26/26\u001B[0m \u001B[32m━━━━━━━━━━━━━━━━━━━━\u001B[0m\u001B[37m\u001B[0m \u001B[1m5s\u001B[0m 183ms/step - accuracy: 1.0000 - loss: 0.0132 - val_accuracy: 0.9892 - val_loss: 0.0796\n",
      "Epoch 34/50\n",
      "\u001B[1m25/26\u001B[0m \u001B[32m━━━━━━━━━━━━━━━━━━━\u001B[0m\u001B[37m━\u001B[0m \u001B[1m0s\u001B[0m 172ms/step - accuracy: 1.0000 - loss: 0.0117\n",
      "Epoch 34: val_accuracy did not improve from 0.99462\n",
      "\u001B[1m26/26\u001B[0m \u001B[32m━━━━━━━━━━━━━━━━━━━━\u001B[0m\u001B[37m\u001B[0m \u001B[1m5s\u001B[0m 186ms/step - accuracy: 1.0000 - loss: 0.0117 - val_accuracy: 0.9946 - val_loss: 0.0759\n",
      "Epoch 35/50\n",
      "\u001B[1m25/26\u001B[0m \u001B[32m━━━━━━━━━━━━━━━━━━━\u001B[0m\u001B[37m━\u001B[0m \u001B[1m0s\u001B[0m 218ms/step - accuracy: 1.0000 - loss: 0.0099\n",
      "Epoch 35: val_accuracy did not improve from 0.99462\n",
      "\u001B[1m26/26\u001B[0m \u001B[32m━━━━━━━━━━━━━━━━━━━━\u001B[0m\u001B[37m\u001B[0m \u001B[1m6s\u001B[0m 232ms/step - accuracy: 1.0000 - loss: 0.0100 - val_accuracy: 0.9839 - val_loss: 0.1044\n",
      "Epoch 35: early stopping\n",
      "Restoring model weights from the end of the best epoch: 25.\n",
      "--- Entraînement terminé ---\n"
     ]
    }
   ],
   "execution_count": 8
  },
  {
   "cell_type": "code",
   "id": "52021639fc4844b5",
   "metadata": {
    "ExecuteTime": {
     "end_time": "2025-04-27T17:37:03.339019Z",
     "start_time": "2025-04-27T17:37:02.904531Z"
    }
   },
   "source": [
    "# --- 8. Post-Entraînement ---\n",
    "encoder_save_path = os.path.join(MODEL_SAVE_DIR, f\"{MODEL_NAME}_label_encoder.joblib\")\n",
    "print(\"\\n--- Sauvegarde de l'encodeur de labels ---\")\n",
    "data_loader.save_label_encoder(label_encoder, encoder_save_path)\n",
    "\n",
    "if history is not None:\n",
    "    print(\"\\n--- Affichage des courbes d'apprentissage ---\")\n",
    "    try:\n",
    "        acc = history.history['accuracy']\n",
    "        loss = history.history['loss']\n",
    "        epochs_range = range(len(acc))\n",
    "\n",
    "        plt.figure(figsize=(12, 5))\n",
    "\n",
    "        plt.subplot(1, 2, 1)\n",
    "        plt.plot(epochs_range, acc, label='Training Accuracy')\n",
    "        if validation_data: # Seulement si validation existe\n",
    "             val_acc = history.history['val_accuracy']\n",
    "             plt.plot(epochs_range, val_acc, label='Validation Accuracy')\n",
    "        plt.legend(loc='lower right')\n",
    "        plt.title('Training and Validation Accuracy')\n",
    "        plt.xlabel('Epochs')\n",
    "        plt.ylabel('Accuracy')\n",
    "\n",
    "        plt.subplot(1, 2, 2)\n",
    "        plt.plot(epochs_range, loss, label='Training Loss')\n",
    "        if validation_data: # Seulement si validation existe\n",
    "            val_loss = history.history['val_loss']\n",
    "            plt.plot(epochs_range, val_loss, label='Validation Loss')\n",
    "        plt.legend(loc='upper right')\n",
    "        plt.title('Training and Validation Loss')\n",
    "        plt.xlabel('Epochs')\n",
    "        plt.ylabel('Loss')\n",
    "\n",
    "        plot_save_path = os.path.join(MODEL_SAVE_DIR, f\"{MODEL_NAME}_training_curves.pdf\")\n",
    "        plt.savefig(plot_save_path, format='pdf', bbox_inches='tight')\n",
    "        print(f\"Courbes sauvegardées dans : {plot_save_path}\")\n",
    "\n",
    "    except Exception as plot_e:\n",
    "        print(f\"Erreur lors de la génération/sauvegarde des courbes: {plot_e}\")\n",
    "\n",
    "\n",
    "end_time = time.time()\n",
    "duration = end_time - start_time\n",
    "print(f\"\\n--- Script d'Entraînement Terminé en {duration:.2f} secondes ---\")\n",
    "print(f\"Le meilleur modèle devrait être sauvegardé dans : {model_filepath}\")\n",
    "print(f\"L'encodeur de labels est sauvegardé dans : {encoder_save_path}\")"
   ],
   "outputs": [
    {
     "name": "stdout",
     "output_type": "stream",
     "text": [
      "\n",
      "--- Sauvegarde de l'encodeur de labels ---\n",
      "LabelEncoder sauvegardé dans : ..\\data\\ml_models/trained\\simple_cnn_lfw_anony_v1_label_encoder.joblib\n",
      "\n",
      "--- Affichage des courbes d'apprentissage ---\n",
      "Courbes sauvegardées dans : ..\\data\\ml_models/trained\\simple_cnn_lfw_anony_v1_training_curves.pdf\n",
      "\n",
      "--- Script d'Entraînement Terminé en 177.03 secondes ---\n",
      "Le meilleur modèle devrait être sauvegardé dans : ..\\data\\ml_models/trained\\simple_cnn_lfw_anony_v1.h5\n",
      "L'encodeur de labels est sauvegardé dans : ..\\data\\ml_models/trained\\simple_cnn_lfw_anony_v1_label_encoder.joblib\n"
     ]
    },
    {
     "data": {
      "text/plain": [
       "<Figure size 1200x500 with 2 Axes>"
      ],
      "image/png": "[encoded data removed]"
     },
     "metadata": {},
     "output_type": "display_data"
    }
   ],
   "execution_count": 9
  },
  {
   "metadata": {
    "ExecuteTime": {
     "end_time": "2025-04-27T17:37:04.338245Z",
     "start_time": "2025-04-27T17:37:03.357763Z"
    }
   },
   "cell_type": "code",
   "source": [
    "# Evaluation\n",
    "eval_loss, eval_acc = model.evaluate(X_test, y_test)\n",
    "y_pred = np.argmax(model.predict(X_test), axis=1)\n",
    "cm = confusion_matrix(y_test, y_pred)\n",
    "report = classification_report(y_test, y_pred)\n",
    "print(f\"Evaluation Loss: {eval_loss:.4f}\")\n",
    "print(f\"Evaluation Accuracy: {eval_acc*100:.2f}%\")\n",
    "print(report)"
   ],
   "id": "851855eeca0845a3",
   "outputs": [
    {
     "name": "stdout",
     "output_type": "stream",
     "text": [
      "\u001B[1m8/8\u001B[0m \u001B[32m━━━━━━━━━━━━━━━━━━━━\u001B[0m\u001B[37m\u001B[0m \u001B[1m0s\u001B[0m 47ms/step - accuracy: 0.9889 - loss: 0.1282\n",
      "\u001B[1m8/8\u001B[0m \u001B[32m━━━━━━━━━━━━━━━━━━━━\u001B[0m\u001B[37m\u001B[0m \u001B[1m1s\u001B[0m 57ms/step\n",
      "Evaluation Loss: 0.1179\n",
      "Evaluation Accuracy: 99.19%\n",
      "              precision    recall  f1-score   support\n",
      "\n",
      "           0       1.00      1.00      1.00         4\n",
      "           1       1.00      1.00      1.00         4\n",
      "           2       1.00      1.00      1.00         4\n",
      "           3       1.00      0.75      0.86         4\n",
      "           4       1.00      1.00      1.00         4\n",
      "           5       1.00      1.00      1.00         4\n",
      "           6       0.80      1.00      0.89         4\n",
      "           7       1.00      1.00      1.00         4\n",
      "           8       1.00      1.00      1.00         4\n",
      "           9       1.00      1.00      1.00         4\n",
      "          10       1.00      1.00      1.00         4\n",
      "          11       1.00      1.00      1.00         4\n",
      "          12       1.00      1.00      1.00         4\n",
      "          13       1.00      1.00      1.00         4\n",
      "          14       1.00      1.00      1.00         4\n",
      "          15       1.00      1.00      1.00         4\n",
      "          16       1.00      1.00      1.00         4\n",
      "          17       1.00      1.00      1.00         4\n",
      "          18       1.00      1.00      1.00         4\n",
      "          19       1.00      1.00      1.00         4\n",
      "          20       1.00      1.00      1.00         4\n",
      "          21       1.00      1.00      1.00         4\n",
      "          22       1.00      1.00      1.00         4\n",
      "          23       1.00      1.00      1.00         4\n",
      "          24       1.00      1.00      1.00         4\n",
      "          25       1.00      0.75      0.86         4\n",
      "          26       1.00      1.00      1.00         4\n",
      "          27       1.00      1.00      1.00         4\n",
      "          28       1.00      1.00      1.00         4\n",
      "          29       1.00      1.00      1.00         4\n",
      "          30       1.00      1.00      1.00         4\n",
      "          31       1.00      1.00      1.00         4\n",
      "          32       1.00      1.00      1.00         4\n",
      "          33       1.00      1.00      1.00         4\n",
      "          34       1.00      1.00      1.00         4\n",
      "          35       1.00      1.00      1.00         4\n",
      "          36       1.00      1.00      1.00         4\n",
      "          37       1.00      1.00      1.00         4\n",
      "          38       1.00      1.00      1.00         4\n",
      "          39       1.00      1.00      1.00         4\n",
      "          40       1.00      1.00      1.00         4\n",
      "          41       1.00      1.00      1.00         4\n",
      "          42       1.00      1.00      1.00         4\n",
      "          43       1.00      1.00      1.00         4\n",
      "          44       1.00      1.00      1.00         4\n",
      "          45       1.00      1.00      1.00         4\n",
      "          46       1.00      1.00      1.00         4\n",
      "          47       1.00      1.00      1.00         4\n",
      "          48       1.00      1.00      1.00         4\n",
      "          49       1.00      1.00      1.00         4\n",
      "          50       1.00      1.00      1.00         4\n",
      "          51       1.00      1.00      1.00         4\n",
      "          52       1.00      1.00      1.00         4\n",
      "          53       1.00      1.00      1.00         4\n",
      "          54       1.00      1.00      1.00         4\n",
      "          55       1.00      1.00      1.00         4\n",
      "          56       1.00      1.00      1.00         4\n",
      "          57       1.00      1.00      1.00         4\n",
      "          58       1.00      1.00      1.00         4\n",
      "          59       1.00      1.00      1.00         4\n",
      "          60       1.00      1.00      1.00         4\n",
      "          61       0.80      1.00      0.89         4\n",
      "\n",
      "    accuracy                           0.99       248\n",
      "   macro avg       0.99      0.99      0.99       248\n",
      "weighted avg       0.99      0.99      0.99       248\n",
      "\n"
     ]
    }
   ],
   "execution_count": 10
  },
  {
   "cell_type": "markdown",
   "id": "cc9ee36ea101e496",
   "metadata": {},
   "source": "# Predict noised image"
  },
  {
   "cell_type": "code",
   "id": "b33999dcd2ce82a0",
   "metadata": {
    "ExecuteTime": {
     "end_time": "2025-04-27T17:37:04.361045Z",
     "start_time": "2025-04-27T17:37:04.357131Z"
    }
   },
   "source": [
    "import os\n",
    "import numpy as np\n",
    "import time\n",
    "from typing import Optional\n",
    "from PIL import Image\n",
    "\n",
    "user = 9\n",
    "image_path = f\"../data/dataset-lfw_reconstructed/reconstructed_{user}_2.png\""
   ],
   "outputs": [],
   "execution_count": 11
  },
  {
   "cell_type": "code",
   "id": "8b52d85a2b88db70",
   "metadata": {
    "ExecuteTime": {
     "end_time": "2025-04-27T17:37:04.383341Z",
     "start_time": "2025-04-27T17:37:04.378157Z"
    }
   },
   "source": [
    "print(\"--- Démarrage du Script de Prédiction ---\")\n",
    "start_time = time.time()\n",
    "\n",
    "# --- 1. Charger Configuration et Chemins ---\n",
    "print(\"Chargement de la configuration...\")\n",
    "model_filename = f\"{MODEL_NAME}.h5\" # ou .keras\n",
    "model_filepath = os.path.join(MODEL_SAVE_DIR, model_filename)\n",
    "encoder_filename = f\"{MODEL_NAME}_label_encoder.joblib\"\n",
    "encoder_filepath = os.path.join(MODEL_SAVE_DIR, encoder_filename)\n",
    "\n",
    "print(f\"  - Modèle utilisé: {model_filepath}\")\n",
    "print(f\"  - Encodeur utilisé: {encoder_filepath}\")\n",
    "print(f\"  - Image à prédire: {image_path}\")"
   ],
   "outputs": [
    {
     "name": "stdout",
     "output_type": "stream",
     "text": [
      "--- Démarrage du Script de Prédiction ---\n",
      "Chargement de la configuration...\n",
      "  - Modèle utilisé: ..\\data\\ml_models/trained\\simple_cnn_lfw_anony_v1.h5\n",
      "  - Encodeur utilisé: ..\\data\\ml_models/trained\\simple_cnn_lfw_anony_v1_label_encoder.joblib\n",
      "  - Image à prédire: ../data/dataset-lfw_reconstructed/reconstructed_9_2.png\n"
     ]
    }
   ],
   "execution_count": 12
  },
  {
   "cell_type": "code",
   "id": "3ec5e7fe31a3d72",
   "metadata": {
    "ExecuteTime": {
     "end_time": "2025-04-27T17:37:04.484873Z",
     "start_time": "2025-04-27T17:37:04.402005Z"
    }
   },
   "source": [
    "# --- 2. Charger Modèle et Encodeur ---\n",
    "print(\"\\n--- Chargement du modèle et de l'encodeur ---\")\n",
    "if not os.path.exists(model_filepath):\n",
    "    print(f\"Erreur: Fichier modèle non trouvé: {model_filepath}\")\n",
    "try:\n",
    "    model = load_model(model_filepath)\n",
    "    print(\"Modèle chargé avec succès.\")\n",
    "except Exception as e:\n",
    "    print(f\"Erreur lors du chargement du modèle Keras: {e}\")\n",
    "\n",
    "# Charger l'encodeur de labels\n",
    "label_encoder = data_loader.load_label_encoder(encoder_filepath)\n",
    "if label_encoder is None:\n",
    "    print(\"Erreur critique : Impossible de charger l'encodeur de labels.\")"
   ],
   "outputs": [
    {
     "name": "stderr",
     "output_type": "stream",
     "text": [
      "WARNING:absl:Compiled the loaded model, but the compiled metrics have yet to be built. `model.compile_metrics` will be empty until you train or evaluate the model.\n"
     ]
    },
    {
     "name": "stdout",
     "output_type": "stream",
     "text": [
      "\n",
      "--- Chargement du modèle et de l'encodeur ---\n",
      "Modèle chargé avec succès.\n",
      "LabelEncoder chargé depuis : ..\\data\\ml_models/trained\\simple_cnn_lfw_anony_v1_label_encoder.joblib\n"
     ]
    }
   ],
   "execution_count": 13
  },
  {
   "cell_type": "code",
   "id": "681a354b97fc7bbf",
   "metadata": {
    "ExecuteTime": {
     "end_time": "2025-04-27T17:37:04.513027Z",
     "start_time": "2025-04-27T17:37:04.502165Z"
    }
   },
   "source": [
    "# --- 3. Prétraiter l'Image d'Entrée ---\n",
    "\n",
    "def preprocess_single_image(\n",
    "    image_path: str,\n",
    "    img_width: int,\n",
    "    img_height: int,\n",
    ") -> Optional[np.ndarray]:\n",
    "    \"\"\"\n",
    "    Charge, redimensionne, normalise et formate une image unique pour la prédiction.\n",
    "    \"\"\"\n",
    "    try:\n",
    "        image = Image.open(image_path)\n",
    "        image = np.array(image)\n",
    "        image = format_ml_image(image)\n",
    "        image = np.expand_dims(image, axis=-1)\n",
    "        image = np.expand_dims(image, axis=0)\n",
    "        print(f\"Image prétraitée, shape final: {image.shape}\")\n",
    "        return image\n",
    "\n",
    "    except FileNotFoundError:\n",
    "        print(f\"Erreur: Fichier image introuvable : {image_path}\")\n",
    "        return None\n",
    "    except Exception as e:\n",
    "        print(f\"Erreur lors du prétraitement de l'image {image_path}: {e}\")\n",
    "        return None\n",
    "\n",
    "print(\"\\n--- Prétraitement de l'image d'entrée ---\")\n",
    "preprocessed_image = preprocess_single_image(\n",
    "    image_path=image_path,\n",
    "    img_width=IMG_WIDTH,\n",
    "    img_height=IMG_HEIGHT,\n",
    ")\n",
    "\n",
    "if preprocessed_image is None:\n",
    "    print(\"Échec du prétraitement de l'image.\")"
   ],
   "outputs": [
    {
     "name": "stdout",
     "output_type": "stream",
     "text": [
      "\n",
      "--- Prétraitement de l'image d'entrée ---\n",
      "Image prétraitée, shape final: (1, 100, 100, 1, 1)\n"
     ]
    }
   ],
   "execution_count": 14
  },
  {
   "cell_type": "code",
   "id": "f42f575e8421b215",
   "metadata": {
    "ExecuteTime": {
     "end_time": "2025-04-27T17:37:04.674759Z",
     "start_time": "2025-04-27T17:37:04.529906Z"
    }
   },
   "source": [
    "# --- 4. Faire la Prédiction ---\n",
    "print(\"\\n--- Prédiction ---\")\n",
    "try:\n",
    "    prediction_probabilities = model.predict(preprocessed_image)\n",
    "\n",
    "    predicted_index = np.argmax(prediction_probabilities[0])\n",
    "    prediction_confidence = prediction_probabilities[0][predicted_index]\n",
    "\n",
    "    predicted_label = label_encoder.inverse_transform([predicted_index])[0]\n",
    "\n",
    "    print(\"\\n--- Résultat de la Prédiction ---\")\n",
    "    print(f\"  - Image : {os.path.basename(image_path)}\")\n",
    "    print(f\"  - Identité Prédite (Subject ID) : {predicted_label}\")\n",
    "    print(f\"  - Confiance : {prediction_confidence:.4f} ({prediction_confidence*100:.2f}%)\")\n",
    "\n",
    "except Exception as e:\n",
    "    print(f\"Erreur lors de la prédiction: {e}\")\n",
    "\n",
    "end_time = time.time()\n",
    "duration = end_time - start_time\n",
    "print(f\"\\n--- Script de Prédiction Terminé en {duration:.2f} secondes ---\")\n",
    "\n",
    "print(predicted_label)"
   ],
   "outputs": [
    {
     "name": "stdout",
     "output_type": "stream",
     "text": [
      "\n",
      "--- Prédiction ---\n",
      "\u001B[1m1/1\u001B[0m \u001B[32m━━━━━━━━━━━━━━━━━━━━\u001B[0m\u001B[37m\u001B[0m \u001B[1m0s\u001B[0m 111ms/step"
     ]
    },
    {
     "name": "stderr",
     "output_type": "stream",
     "text": [
      "D:\\myDocs\\Apprentissage\\Isep\\Year_3\\Brno-Privacy_Preserving_Face_Recognition_Project\\venv\\Lib\\site-packages\\keras\\src\\models\\functional.py:238: UserWarning: The structure of `inputs` doesn't match the expected structure.\n",
      "Expected: ['input_image']\n",
      "Received: inputs=Tensor(shape=(1, 100, 100, 1, 1))\n",
      "  warnings.warn(msg)\n"
     ]
    },
    {
     "name": "stdout",
     "output_type": "stream",
     "text": [
      "\u001B[1m1/1\u001B[0m \u001B[32m━━━━━━━━━━━━━━━━━━━━\u001B[0m\u001B[37m\u001B[0m \u001B[1m0s\u001B[0m 124ms/step\n",
      "\n",
      "--- Résultat de la Prédiction ---\n",
      "  - Image : reconstructed_9_2.png\n",
      "  - Identité Prédite (Subject ID) : 9\n",
      "  - Confiance : 0.9963 (99.63%)\n",
      "\n",
      "--- Script de Prédiction Terminé en 0.29 secondes ---\n",
      "9\n"
     ]
    }
   ],
   "execution_count": 15
  }
 ],
 "metadata": {
  "kernelspec": {
   "display_name": "Python 3 (ipykernel)",
   "language": "python",
   "name": "python3"
  },
  "language_info": {
   "codemirror_mode": {
    "name": "ipython",
    "version": 3
   },
   "file_extension": ".py",
   "mimetype": "text/x-python",
   "name": "python",
   "nbconvert_exporter": "python",
   "pygments_lexer": "ipython3",
   "version": "3.12.6"
  }
 },
 "nbformat": 4,
 "nbformat_minor": 5
}
