{
 "cells": [
  {
   "cell_type": "code",
   "id": "153d065b7c437ec2",
   "metadata": {
    "ExecuteTime": {
     "end_time": "2025-04-29T13:22:10.199022Z",
     "start_time": "2025-04-29T13:22:06.814669Z"
    }
   },
   "source": [
    "import os\n",
    "import time\n",
    "import numpy as np\n",
    "from PIL import Image\n",
    "\n",
    "from src.controller import ml_controllerV2 as mlc2\n",
    "\n",
    "\n",
    "################## PATH ##################\n",
    "LFW_DATASET_PATH = r\"..\\data\\dataset-lfw_reconstructed\"\n",
    "DB_PATH = r\"..\\data\\gui_database.db\"\n",
    "ML_OUTPUT = r\"..\\data\\ml_models\"\n",
    "MODEL_SAVE_DIR = f'{ML_OUTPUT}/trained'\n",
    "LOG_DIR = f'{ML_OUTPUT}/logs'\n",
    "\n",
    "\n",
    "############# MODEL SETTINGS #############\n",
    "#####--- prepare_data_train_model ---#####\n",
    "INPUT_SHAPE = (100, 100, 1)\n",
    "IMG_WIDTH, IMG_HEIGHT, CHANNELS = INPUT_SHAPE\n",
    "SPLIT_STRATEGY = 'stratified'\n",
    "TEST_SPLIT_RATIO = 0.2\n",
    "VALIDATION_SPLIT_RATIO = 0.15\n",
    "RANDOM_STATE = 42\n",
    "N_TRAIN_PER_SUBJECT = 7\n",
    "#####--- create_model ---#####\n",
    "MODEL_NAME = 'simple_cnn_lfw_anony_v1'\n",
    "MODEL_ARCHITECTURE = 'simple_cnn'\n",
    "LEARNING_RATE = 0.001\n",
    "EARLY_STOPPING_PATIENCE = 10\n",
    "TRANSFER_BASE_MODEL_NAME = 'MobileNetV2'\n",
    "TRANSFER_FREEZE_BASE = True\n",
    "#####--- train_model ---#####\n",
    "BATCH_SIZE = 32\n",
    "EPOCHS = 50\n",
    "##########################################"
   ],
   "outputs": [],
   "execution_count": 1
  },
  {
   "cell_type": "markdown",
   "id": "e80ea5458bc51b58",
   "metadata": {},
   "source": [
    "# Import Data"
   ]
  },
  {
   "metadata": {},
   "cell_type": "markdown",
   "source": "### Noised DB dataset",
   "id": "158d3c697c8fa35d"
  },
  {
   "metadata": {
    "ExecuteTime": {
     "end_time": "2025-04-29T13:22:10.402080Z",
     "start_time": "2025-04-29T13:22:10.328438Z"
    }
   },
   "cell_type": "code",
   "source": [
    "X, y, label_encoder = mlc2.MLController.get_data_from_db(DB_PATH)\n",
    "print(f\"(nb_image, width, height, channels) : {X.shape}\")"
   ],
   "id": "a4bd8fb06683e169",
   "outputs": [
    {
     "name": "stdout",
     "output_type": "stream",
     "text": [
      "(nb_image, width, height, channels) : (467, 100, 100, 3)\n"
     ]
    }
   ],
   "execution_count": 2
  },
  {
   "metadata": {},
   "cell_type": "markdown",
   "source": "### Noised LFW dataset",
   "id": "8f9dbd59bd7c7471"
  },
  {
   "metadata": {
    "ExecuteTime": {
     "end_time": "2025-04-29T13:22:10.776801Z",
     "start_time": "2025-04-29T13:22:10.416766Z"
    }
   },
   "cell_type": "code",
   "source": [
    "import controller.ml_controller as ml\n",
    "os.makedirs(LFW_DATASET_PATH, exist_ok=True)\n",
    "\n",
    "X, y, label_encoder = ml.data_loader.load_anonymized_images_flat(\n",
    "    data_dir=LFW_DATASET_PATH,\n",
    "    img_width=IMG_WIDTH,\n",
    "    img_height=IMG_HEIGHT,\n",
    "    color_mode='grayscale'\n",
    ")\n",
    "\n",
    "if not X.shape and not y.shape and not label_encoder:\n",
    "    raise ValueError('Critical error while loading data. Script stopped..')\n",
    "print(f\"\\n(nb_image, width, height, channels) : {X.shape}\")"
   ],
   "id": "61d47265b29e5f8b",
   "outputs": [
    {
     "name": "stdout",
     "output_type": "stream",
     "text": [
      "Chargement des images depuis : ..\\data\\dataset-lfw_reconstructed\n",
      "Format attendu : 100x100, mode: grayscale\n",
      "Trouvé 1240 fichiers PNG.\n",
      "Chargement terminé. 1240 images traitées, 0 fichiers ignorés.\n",
      "Shape final des données (X): (1240, 100, 100, 1)\n",
      "1240 labels originaux encodés en 62 classes numériques.\n",
      "\n",
      "(nb_image, width, height, channels) : (1240, 100, 100, 1)\n"
     ]
    }
   ],
   "execution_count": 3
  },
  {
   "cell_type": "markdown",
   "id": "842a3ffb71c41754",
   "metadata": {},
   "source": [
    "# Train"
   ]
  },
  {
   "metadata": {
    "ExecuteTime": {
     "end_time": "2025-04-29T13:22:11.317415Z",
     "start_time": "2025-04-29T13:22:10.786208Z"
    }
   },
   "cell_type": "code",
   "source": [
    "res = mlc2.prepare_data_train_model(\n",
    "    X, y, label_encoder,\n",
    "    input_shape=INPUT_SHAPE,\n",
    "    split_strategy=SPLIT_STRATEGY,\n",
    "    test_split_ratio=TEST_SPLIT_RATIO,\n",
    "    validation_split_ratio=VALIDATION_SPLIT_RATIO,\n",
    "    random_state=RANDOM_STATE,\n",
    "    n_train_per_subject=N_TRAIN_PER_SUBJECT\n",
    ")\n",
    "num_classes, X_train, y_train, X_test, y_test, X_val, y_val, validation_data = res\n",
    "print(X_train.shape)"
   ],
   "id": "778e8f233d461ee7",
   "outputs": [
    {
     "name": "stdout",
     "output_type": "stream",
     "text": [
      "Division des données : test_size=0.2, validation_size=0.15\n",
      "Taille Test: 248 échantillons\n",
      "Taille Entraînement: 806 échantillons\n",
      "Taille Validation: 186 échantillons\n",
      "(806, 150, 150, 1)\n"
     ]
    }
   ],
   "execution_count": 4
  },
  {
   "metadata": {
    "ExecuteTime": {
     "end_time": "2025-04-29T13:22:11.450957Z",
     "start_time": "2025-04-29T13:22:11.332079Z"
    }
   },
   "cell_type": "code",
   "source": [
    "res = mlc2.create_model(\n",
    "    num_classes,\n",
    "    input_shape=INPUT_SHAPE,\n",
    "    model_save_dir=MODEL_SAVE_DIR,\n",
    "    log_dir=LOG_DIR,\n",
    "    model_name=MODEL_NAME,\n",
    "    model_architecture=MODEL_ARCHITECTURE,\n",
    "    learning_rate=LEARNING_RATE,\n",
    "    early_stopping_patience=EARLY_STOPPING_PATIENCE,\n",
    "    transfer_base_model_name=TRANSFER_BASE_MODEL_NAME,\n",
    "    transfer_freeze_base=TRANSFER_FREEZE_BASE\n",
    ")\n",
    "model, callbacks, model_filepath, summary_text = res"
   ],
   "id": "68ae00f1b76de1a0",
   "outputs": [
    {
     "name": "stdout",
     "output_type": "stream",
     "text": [
      "Construction du modèle CNN simple avec input_shape=(150, 150, 1) et num_classes=62\n",
      "Modèle CNN simple construit.\n"
     ]
    },
    {
     "data": {
      "text/plain": [
       "\u001B[1mModel: \"simple_cnn\"\u001B[0m\n"
      ],
      "text/html": [
       "<pre style=\"white-space:pre;overflow-x:auto;line-height:normal;font-family:Menlo,'DejaVu Sans Mono',consolas,'Courier New',monospace\"><span style=\"font-weight: bold\">Model: \"simple_cnn\"</span>\n",
       "</pre>\n"
      ]
     },
     "metadata": {},
     "output_type": "display_data"
    },
    {
     "data": {
      "text/plain": [
       "┏━━━━━━━━━━━━━━━━━━━━━━━━━━━━━━━━━┳━━━━━━━━━━━━━━━━━━━━━━━━┳━━━━━━━━━━━━━━━┓\n",
       "┃\u001B[1m \u001B[0m\u001B[1mLayer (type)                   \u001B[0m\u001B[1m \u001B[0m┃\u001B[1m \u001B[0m\u001B[1mOutput Shape          \u001B[0m\u001B[1m \u001B[0m┃\u001B[1m \u001B[0m\u001B[1m      Param #\u001B[0m\u001B[1m \u001B[0m┃\n",
       "┡━━━━━━━━━━━━━━━━━━━━━━━━━━━━━━━━━╇━━━━━━━━━━━━━━━━━━━━━━━━╇━━━━━━━━━━━━━━━┩\n",
       "│ input_image (\u001B[38;5;33mInputLayer\u001B[0m)        │ (\u001B[38;5;45mNone\u001B[0m, \u001B[38;5;34m150\u001B[0m, \u001B[38;5;34m150\u001B[0m, \u001B[38;5;34m1\u001B[0m)    │             \u001B[38;5;34m0\u001B[0m │\n",
       "├─────────────────────────────────┼────────────────────────┼───────────────┤\n",
       "│ conv1_1 (\u001B[38;5;33mConv2D\u001B[0m)                │ (\u001B[38;5;45mNone\u001B[0m, \u001B[38;5;34m150\u001B[0m, \u001B[38;5;34m150\u001B[0m, \u001B[38;5;34m32\u001B[0m)   │           \u001B[38;5;34m320\u001B[0m │\n",
       "├─────────────────────────────────┼────────────────────────┼───────────────┤\n",
       "│ bn1_1 (\u001B[38;5;33mBatchNormalization\u001B[0m)      │ (\u001B[38;5;45mNone\u001B[0m, \u001B[38;5;34m150\u001B[0m, \u001B[38;5;34m150\u001B[0m, \u001B[38;5;34m32\u001B[0m)   │           \u001B[38;5;34m128\u001B[0m │\n",
       "├─────────────────────────────────┼────────────────────────┼───────────────┤\n",
       "│ conv1_2 (\u001B[38;5;33mConv2D\u001B[0m)                │ (\u001B[38;5;45mNone\u001B[0m, \u001B[38;5;34m150\u001B[0m, \u001B[38;5;34m150\u001B[0m, \u001B[38;5;34m32\u001B[0m)   │         \u001B[38;5;34m9,248\u001B[0m │\n",
       "├─────────────────────────────────┼────────────────────────┼───────────────┤\n",
       "│ bn1_2 (\u001B[38;5;33mBatchNormalization\u001B[0m)      │ (\u001B[38;5;45mNone\u001B[0m, \u001B[38;5;34m150\u001B[0m, \u001B[38;5;34m150\u001B[0m, \u001B[38;5;34m32\u001B[0m)   │           \u001B[38;5;34m128\u001B[0m │\n",
       "├─────────────────────────────────┼────────────────────────┼───────────────┤\n",
       "│ pool1 (\u001B[38;5;33mMaxPooling2D\u001B[0m)            │ (\u001B[38;5;45mNone\u001B[0m, \u001B[38;5;34m75\u001B[0m, \u001B[38;5;34m75\u001B[0m, \u001B[38;5;34m32\u001B[0m)     │             \u001B[38;5;34m0\u001B[0m │\n",
       "├─────────────────────────────────┼────────────────────────┼───────────────┤\n",
       "│ drop1 (\u001B[38;5;33mDropout\u001B[0m)                 │ (\u001B[38;5;45mNone\u001B[0m, \u001B[38;5;34m75\u001B[0m, \u001B[38;5;34m75\u001B[0m, \u001B[38;5;34m32\u001B[0m)     │             \u001B[38;5;34m0\u001B[0m │\n",
       "├─────────────────────────────────┼────────────────────────┼───────────────┤\n",
       "│ conv2_1 (\u001B[38;5;33mConv2D\u001B[0m)                │ (\u001B[38;5;45mNone\u001B[0m, \u001B[38;5;34m75\u001B[0m, \u001B[38;5;34m75\u001B[0m, \u001B[38;5;34m64\u001B[0m)     │        \u001B[38;5;34m18,496\u001B[0m │\n",
       "├─────────────────────────────────┼────────────────────────┼───────────────┤\n",
       "│ bn2_1 (\u001B[38;5;33mBatchNormalization\u001B[0m)      │ (\u001B[38;5;45mNone\u001B[0m, \u001B[38;5;34m75\u001B[0m, \u001B[38;5;34m75\u001B[0m, \u001B[38;5;34m64\u001B[0m)     │           \u001B[38;5;34m256\u001B[0m │\n",
       "├─────────────────────────────────┼────────────────────────┼───────────────┤\n",
       "│ conv2_2 (\u001B[38;5;33mConv2D\u001B[0m)                │ (\u001B[38;5;45mNone\u001B[0m, \u001B[38;5;34m75\u001B[0m, \u001B[38;5;34m75\u001B[0m, \u001B[38;5;34m64\u001B[0m)     │        \u001B[38;5;34m36,928\u001B[0m │\n",
       "├─────────────────────────────────┼────────────────────────┼───────────────┤\n",
       "│ bn2_2 (\u001B[38;5;33mBatchNormalization\u001B[0m)      │ (\u001B[38;5;45mNone\u001B[0m, \u001B[38;5;34m75\u001B[0m, \u001B[38;5;34m75\u001B[0m, \u001B[38;5;34m64\u001B[0m)     │           \u001B[38;5;34m256\u001B[0m │\n",
       "├─────────────────────────────────┼────────────────────────┼───────────────┤\n",
       "│ pool2 (\u001B[38;5;33mMaxPooling2D\u001B[0m)            │ (\u001B[38;5;45mNone\u001B[0m, \u001B[38;5;34m37\u001B[0m, \u001B[38;5;34m37\u001B[0m, \u001B[38;5;34m64\u001B[0m)     │             \u001B[38;5;34m0\u001B[0m │\n",
       "├─────────────────────────────────┼────────────────────────┼───────────────┤\n",
       "│ drop2 (\u001B[38;5;33mDropout\u001B[0m)                 │ (\u001B[38;5;45mNone\u001B[0m, \u001B[38;5;34m37\u001B[0m, \u001B[38;5;34m37\u001B[0m, \u001B[38;5;34m64\u001B[0m)     │             \u001B[38;5;34m0\u001B[0m │\n",
       "├─────────────────────────────────┼────────────────────────┼───────────────┤\n",
       "│ flatten (\u001B[38;5;33mFlatten\u001B[0m)               │ (\u001B[38;5;45mNone\u001B[0m, \u001B[38;5;34m87616\u001B[0m)          │             \u001B[38;5;34m0\u001B[0m │\n",
       "├─────────────────────────────────┼────────────────────────┼───────────────┤\n",
       "│ dense1 (\u001B[38;5;33mDense\u001B[0m)                  │ (\u001B[38;5;45mNone\u001B[0m, \u001B[38;5;34m128\u001B[0m)            │    \u001B[38;5;34m11,214,976\u001B[0m │\n",
       "├─────────────────────────────────┼────────────────────────┼───────────────┤\n",
       "│ bn_dense1 (\u001B[38;5;33mBatchNormalization\u001B[0m)  │ (\u001B[38;5;45mNone\u001B[0m, \u001B[38;5;34m128\u001B[0m)            │           \u001B[38;5;34m512\u001B[0m │\n",
       "├─────────────────────────────────┼────────────────────────┼───────────────┤\n",
       "│ drop_dense1 (\u001B[38;5;33mDropout\u001B[0m)           │ (\u001B[38;5;45mNone\u001B[0m, \u001B[38;5;34m128\u001B[0m)            │             \u001B[38;5;34m0\u001B[0m │\n",
       "├─────────────────────────────────┼────────────────────────┼───────────────┤\n",
       "│ output_softmax (\u001B[38;5;33mDense\u001B[0m)          │ (\u001B[38;5;45mNone\u001B[0m, \u001B[38;5;34m62\u001B[0m)             │         \u001B[38;5;34m7,998\u001B[0m │\n",
       "└─────────────────────────────────┴────────────────────────┴───────────────┘\n"
      ],
      "text/html": [
       "<pre style=\"white-space:pre;overflow-x:auto;line-height:normal;font-family:Menlo,'DejaVu Sans Mono',consolas,'Courier New',monospace\">┏━━━━━━━━━━━━━━━━━━━━━━━━━━━━━━━━━┳━━━━━━━━━━━━━━━━━━━━━━━━┳━━━━━━━━━━━━━━━┓\n",
       "┃<span style=\"font-weight: bold\"> Layer (type)                    </span>┃<span style=\"font-weight: bold\"> Output Shape           </span>┃<span style=\"font-weight: bold\">       Param # </span>┃\n",
       "┡━━━━━━━━━━━━━━━━━━━━━━━━━━━━━━━━━╇━━━━━━━━━━━━━━━━━━━━━━━━╇━━━━━━━━━━━━━━━┩\n",
       "│ input_image (<span style=\"color: #0087ff; text-decoration-color: #0087ff\">InputLayer</span>)        │ (<span style=\"color: #00d7ff; text-decoration-color: #00d7ff\">None</span>, <span style=\"color: #00af00; text-decoration-color: #00af00\">150</span>, <span style=\"color: #00af00; text-decoration-color: #00af00\">150</span>, <span style=\"color: #00af00; text-decoration-color: #00af00\">1</span>)    │             <span style=\"color: #00af00; text-decoration-color: #00af00\">0</span> │\n",
       "├─────────────────────────────────┼────────────────────────┼───────────────┤\n",
       "│ conv1_1 (<span style=\"color: #0087ff; text-decoration-color: #0087ff\">Conv2D</span>)                │ (<span style=\"color: #00d7ff; text-decoration-color: #00d7ff\">None</span>, <span style=\"color: #00af00; text-decoration-color: #00af00\">150</span>, <span style=\"color: #00af00; text-decoration-color: #00af00\">150</span>, <span style=\"color: #00af00; text-decoration-color: #00af00\">32</span>)   │           <span style=\"color: #00af00; text-decoration-color: #00af00\">320</span> │\n",
       "├─────────────────────────────────┼────────────────────────┼───────────────┤\n",
       "│ bn1_1 (<span style=\"color: #0087ff; text-decoration-color: #0087ff\">BatchNormalization</span>)      │ (<span style=\"color: #00d7ff; text-decoration-color: #00d7ff\">None</span>, <span style=\"color: #00af00; text-decoration-color: #00af00\">150</span>, <span style=\"color: #00af00; text-decoration-color: #00af00\">150</span>, <span style=\"color: #00af00; text-decoration-color: #00af00\">32</span>)   │           <span style=\"color: #00af00; text-decoration-color: #00af00\">128</span> │\n",
       "├─────────────────────────────────┼────────────────────────┼───────────────┤\n",
       "│ conv1_2 (<span style=\"color: #0087ff; text-decoration-color: #0087ff\">Conv2D</span>)                │ (<span style=\"color: #00d7ff; text-decoration-color: #00d7ff\">None</span>, <span style=\"color: #00af00; text-decoration-color: #00af00\">150</span>, <span style=\"color: #00af00; text-decoration-color: #00af00\">150</span>, <span style=\"color: #00af00; text-decoration-color: #00af00\">32</span>)   │         <span style=\"color: #00af00; text-decoration-color: #00af00\">9,248</span> │\n",
       "├─────────────────────────────────┼────────────────────────┼───────────────┤\n",
       "│ bn1_2 (<span style=\"color: #0087ff; text-decoration-color: #0087ff\">BatchNormalization</span>)      │ (<span style=\"color: #00d7ff; text-decoration-color: #00d7ff\">None</span>, <span style=\"color: #00af00; text-decoration-color: #00af00\">150</span>, <span style=\"color: #00af00; text-decoration-color: #00af00\">150</span>, <span style=\"color: #00af00; text-decoration-color: #00af00\">32</span>)   │           <span style=\"color: #00af00; text-decoration-color: #00af00\">128</span> │\n",
       "├─────────────────────────────────┼────────────────────────┼───────────────┤\n",
       "│ pool1 (<span style=\"color: #0087ff; text-decoration-color: #0087ff\">MaxPooling2D</span>)            │ (<span style=\"color: #00d7ff; text-decoration-color: #00d7ff\">None</span>, <span style=\"color: #00af00; text-decoration-color: #00af00\">75</span>, <span style=\"color: #00af00; text-decoration-color: #00af00\">75</span>, <span style=\"color: #00af00; text-decoration-color: #00af00\">32</span>)     │             <span style=\"color: #00af00; text-decoration-color: #00af00\">0</span> │\n",
       "├─────────────────────────────────┼────────────────────────┼───────────────┤\n",
       "│ drop1 (<span style=\"color: #0087ff; text-decoration-color: #0087ff\">Dropout</span>)                 │ (<span style=\"color: #00d7ff; text-decoration-color: #00d7ff\">None</span>, <span style=\"color: #00af00; text-decoration-color: #00af00\">75</span>, <span style=\"color: #00af00; text-decoration-color: #00af00\">75</span>, <span style=\"color: #00af00; text-decoration-color: #00af00\">32</span>)     │             <span style=\"color: #00af00; text-decoration-color: #00af00\">0</span> │\n",
       "├─────────────────────────────────┼────────────────────────┼───────────────┤\n",
       "│ conv2_1 (<span style=\"color: #0087ff; text-decoration-color: #0087ff\">Conv2D</span>)                │ (<span style=\"color: #00d7ff; text-decoration-color: #00d7ff\">None</span>, <span style=\"color: #00af00; text-decoration-color: #00af00\">75</span>, <span style=\"color: #00af00; text-decoration-color: #00af00\">75</span>, <span style=\"color: #00af00; text-decoration-color: #00af00\">64</span>)     │        <span style=\"color: #00af00; text-decoration-color: #00af00\">18,496</span> │\n",
       "├─────────────────────────────────┼────────────────────────┼───────────────┤\n",
       "│ bn2_1 (<span style=\"color: #0087ff; text-decoration-color: #0087ff\">BatchNormalization</span>)      │ (<span style=\"color: #00d7ff; text-decoration-color: #00d7ff\">None</span>, <span style=\"color: #00af00; text-decoration-color: #00af00\">75</span>, <span style=\"color: #00af00; text-decoration-color: #00af00\">75</span>, <span style=\"color: #00af00; text-decoration-color: #00af00\">64</span>)     │           <span style=\"color: #00af00; text-decoration-color: #00af00\">256</span> │\n",
       "├─────────────────────────────────┼────────────────────────┼───────────────┤\n",
       "│ conv2_2 (<span style=\"color: #0087ff; text-decoration-color: #0087ff\">Conv2D</span>)                │ (<span style=\"color: #00d7ff; text-decoration-color: #00d7ff\">None</span>, <span style=\"color: #00af00; text-decoration-color: #00af00\">75</span>, <span style=\"color: #00af00; text-decoration-color: #00af00\">75</span>, <span style=\"color: #00af00; text-decoration-color: #00af00\">64</span>)     │        <span style=\"color: #00af00; text-decoration-color: #00af00\">36,928</span> │\n",
       "├─────────────────────────────────┼────────────────────────┼───────────────┤\n",
       "│ bn2_2 (<span style=\"color: #0087ff; text-decoration-color: #0087ff\">BatchNormalization</span>)      │ (<span style=\"color: #00d7ff; text-decoration-color: #00d7ff\">None</span>, <span style=\"color: #00af00; text-decoration-color: #00af00\">75</span>, <span style=\"color: #00af00; text-decoration-color: #00af00\">75</span>, <span style=\"color: #00af00; text-decoration-color: #00af00\">64</span>)     │           <span style=\"color: #00af00; text-decoration-color: #00af00\">256</span> │\n",
       "├─────────────────────────────────┼────────────────────────┼───────────────┤\n",
       "│ pool2 (<span style=\"color: #0087ff; text-decoration-color: #0087ff\">MaxPooling2D</span>)            │ (<span style=\"color: #00d7ff; text-decoration-color: #00d7ff\">None</span>, <span style=\"color: #00af00; text-decoration-color: #00af00\">37</span>, <span style=\"color: #00af00; text-decoration-color: #00af00\">37</span>, <span style=\"color: #00af00; text-decoration-color: #00af00\">64</span>)     │             <span style=\"color: #00af00; text-decoration-color: #00af00\">0</span> │\n",
       "├─────────────────────────────────┼────────────────────────┼───────────────┤\n",
       "│ drop2 (<span style=\"color: #0087ff; text-decoration-color: #0087ff\">Dropout</span>)                 │ (<span style=\"color: #00d7ff; text-decoration-color: #00d7ff\">None</span>, <span style=\"color: #00af00; text-decoration-color: #00af00\">37</span>, <span style=\"color: #00af00; text-decoration-color: #00af00\">37</span>, <span style=\"color: #00af00; text-decoration-color: #00af00\">64</span>)     │             <span style=\"color: #00af00; text-decoration-color: #00af00\">0</span> │\n",
       "├─────────────────────────────────┼────────────────────────┼───────────────┤\n",
       "│ flatten (<span style=\"color: #0087ff; text-decoration-color: #0087ff\">Flatten</span>)               │ (<span style=\"color: #00d7ff; text-decoration-color: #00d7ff\">None</span>, <span style=\"color: #00af00; text-decoration-color: #00af00\">87616</span>)          │             <span style=\"color: #00af00; text-decoration-color: #00af00\">0</span> │\n",
       "├─────────────────────────────────┼────────────────────────┼───────────────┤\n",
       "│ dense1 (<span style=\"color: #0087ff; text-decoration-color: #0087ff\">Dense</span>)                  │ (<span style=\"color: #00d7ff; text-decoration-color: #00d7ff\">None</span>, <span style=\"color: #00af00; text-decoration-color: #00af00\">128</span>)            │    <span style=\"color: #00af00; text-decoration-color: #00af00\">11,214,976</span> │\n",
       "├─────────────────────────────────┼────────────────────────┼───────────────┤\n",
       "│ bn_dense1 (<span style=\"color: #0087ff; text-decoration-color: #0087ff\">BatchNormalization</span>)  │ (<span style=\"color: #00d7ff; text-decoration-color: #00d7ff\">None</span>, <span style=\"color: #00af00; text-decoration-color: #00af00\">128</span>)            │           <span style=\"color: #00af00; text-decoration-color: #00af00\">512</span> │\n",
       "├─────────────────────────────────┼────────────────────────┼───────────────┤\n",
       "│ drop_dense1 (<span style=\"color: #0087ff; text-decoration-color: #0087ff\">Dropout</span>)           │ (<span style=\"color: #00d7ff; text-decoration-color: #00d7ff\">None</span>, <span style=\"color: #00af00; text-decoration-color: #00af00\">128</span>)            │             <span style=\"color: #00af00; text-decoration-color: #00af00\">0</span> │\n",
       "├─────────────────────────────────┼────────────────────────┼───────────────┤\n",
       "│ output_softmax (<span style=\"color: #0087ff; text-decoration-color: #0087ff\">Dense</span>)          │ (<span style=\"color: #00d7ff; text-decoration-color: #00d7ff\">None</span>, <span style=\"color: #00af00; text-decoration-color: #00af00\">62</span>)             │         <span style=\"color: #00af00; text-decoration-color: #00af00\">7,998</span> │\n",
       "└─────────────────────────────────┴────────────────────────┴───────────────┘\n",
       "</pre>\n"
      ]
     },
     "metadata": {},
     "output_type": "display_data"
    },
    {
     "data": {
      "text/plain": [
       "\u001B[1m Total params: \u001B[0m\u001B[38;5;34m11,289,246\u001B[0m (43.07 MB)\n"
      ],
      "text/html": [
       "<pre style=\"white-space:pre;overflow-x:auto;line-height:normal;font-family:Menlo,'DejaVu Sans Mono',consolas,'Courier New',monospace\"><span style=\"font-weight: bold\"> Total params: </span><span style=\"color: #00af00; text-decoration-color: #00af00\">11,289,246</span> (43.07 MB)\n",
       "</pre>\n"
      ]
     },
     "metadata": {},
     "output_type": "display_data"
    },
    {
     "data": {
      "text/plain": [
       "\u001B[1m Trainable params: \u001B[0m\u001B[38;5;34m11,288,606\u001B[0m (43.06 MB)\n"
      ],
      "text/html": [
       "<pre style=\"white-space:pre;overflow-x:auto;line-height:normal;font-family:Menlo,'DejaVu Sans Mono',consolas,'Courier New',monospace\"><span style=\"font-weight: bold\"> Trainable params: </span><span style=\"color: #00af00; text-decoration-color: #00af00\">11,288,606</span> (43.06 MB)\n",
       "</pre>\n"
      ]
     },
     "metadata": {},
     "output_type": "display_data"
    },
    {
     "data": {
      "text/plain": [
       "\u001B[1m Non-trainable params: \u001B[0m\u001B[38;5;34m640\u001B[0m (2.50 KB)\n"
      ],
      "text/html": [
       "<pre style=\"white-space:pre;overflow-x:auto;line-height:normal;font-family:Menlo,'DejaVu Sans Mono',consolas,'Courier New',monospace\"><span style=\"font-weight: bold\"> Non-trainable params: </span><span style=\"color: #00af00; text-decoration-color: #00af00\">640</span> (2.50 KB)\n",
       "</pre>\n"
      ]
     },
     "metadata": {},
     "output_type": "display_data"
    },
    {
     "data": {
      "text/plain": [],
      "text/html": [
       "<pre style=\"white-space:pre;overflow-x:auto;line-height:normal;font-family:Menlo,'DejaVu Sans Mono',consolas,'Courier New',monospace\"></pre>\n"
      ]
     },
     "metadata": {},
     "output_type": "display_data"
    }
   ],
   "execution_count": 5
  },
  {
   "metadata": {
    "ExecuteTime": {
     "end_time": "2025-04-29T13:30:37.767694Z",
     "start_time": "2025-04-29T13:22:11.483085Z"
    }
   },
   "cell_type": "code",
   "source": [
    "# Start timer\n",
    "print(\"--- Starting the Training Script ---\")\n",
    "start_time = time.time()\n",
    "\n",
    "# Train Model\n",
    "res = mlc2.train_model(\n",
    "    model,\n",
    "    X_train, y_train, X_test, y_test,\n",
    "    validation_data, callbacks, label_encoder, model_filepath,\n",
    "    model_save_dir=MODEL_SAVE_DIR,\n",
    "    model_name=MODEL_NAME,\n",
    "    batch_size=BATCH_SIZE,\n",
    "    epochs=EPOCHS,\n",
    "\n",
    ")\n",
    "for key, val in res.items(): print(f\"\\n{key} : {val}\")\n",
    "\n",
    "# End timer\n",
    "end_time = time.time()\n",
    "duration = end_time - start_time\n",
    "print(f\"--- Training Script Completed in {duration:.2f} secondes ---\")"
   ],
   "id": "faeab04ffb5d7a71",
   "outputs": [
    {
     "name": "stdout",
     "output_type": "stream",
     "text": [
      "--- Starting the Training Script ---\n",
      "\n",
      "Epoch 1: val_accuracy improved from -inf to 0.01613, saving model to ..\\data\\ml_models/trained\\simple_cnn_lfw_anony_v1.h5\n"
     ]
    },
    {
     "name": "stderr",
     "output_type": "stream",
     "text": [
      "WARNING:absl:You are saving your model as an HDF5 file via `model.save()` or `keras.saving.save_model(model)`. This file format is considered legacy. We recommend using instead the native Keras format, e.g. `model.save('my_model.keras')` or `keras.saving.save_model(model, 'my_model.keras')`. \n"
     ]
    },
    {
     "name": "stdout",
     "output_type": "stream",
     "text": [
      "\n",
      "Epoch 2: val_accuracy did not improve from 0.01613\n",
      "\n",
      "Epoch 3: val_accuracy did not improve from 0.01613\n",
      "\n",
      "Epoch 4: val_accuracy improved from 0.01613 to 0.02151, saving model to ..\\data\\ml_models/trained\\simple_cnn_lfw_anony_v1.h5\n"
     ]
    },
    {
     "name": "stderr",
     "output_type": "stream",
     "text": [
      "WARNING:absl:You are saving your model as an HDF5 file via `model.save()` or `keras.saving.save_model(model)`. This file format is considered legacy. We recommend using instead the native Keras format, e.g. `model.save('my_model.keras')` or `keras.saving.save_model(model, 'my_model.keras')`. \n"
     ]
    },
    {
     "name": "stdout",
     "output_type": "stream",
     "text": [
      "\n",
      "Epoch 5: val_accuracy improved from 0.02151 to 0.02688, saving model to ..\\data\\ml_models/trained\\simple_cnn_lfw_anony_v1.h5\n"
     ]
    },
    {
     "name": "stderr",
     "output_type": "stream",
     "text": [
      "WARNING:absl:You are saving your model as an HDF5 file via `model.save()` or `keras.saving.save_model(model)`. This file format is considered legacy. We recommend using instead the native Keras format, e.g. `model.save('my_model.keras')` or `keras.saving.save_model(model, 'my_model.keras')`. \n"
     ]
    },
    {
     "name": "stdout",
     "output_type": "stream",
     "text": [
      "\n",
      "Epoch 6: val_accuracy improved from 0.02688 to 0.05376, saving model to ..\\data\\ml_models/trained\\simple_cnn_lfw_anony_v1.h5\n"
     ]
    },
    {
     "name": "stderr",
     "output_type": "stream",
     "text": [
      "WARNING:absl:You are saving your model as an HDF5 file via `model.save()` or `keras.saving.save_model(model)`. This file format is considered legacy. We recommend using instead the native Keras format, e.g. `model.save('my_model.keras')` or `keras.saving.save_model(model, 'my_model.keras')`. \n"
     ]
    },
    {
     "name": "stdout",
     "output_type": "stream",
     "text": [
      "\n",
      "Epoch 7: val_accuracy did not improve from 0.05376\n",
      "\n",
      "Epoch 8: val_accuracy did not improve from 0.05376\n",
      "\n",
      "Epoch 9: val_accuracy did not improve from 0.05376\n",
      "\n",
      "Epoch 10: val_accuracy did not improve from 0.05376\n",
      "\n",
      "Epoch 11: val_accuracy improved from 0.05376 to 0.05914, saving model to ..\\data\\ml_models/trained\\simple_cnn_lfw_anony_v1.h5\n"
     ]
    },
    {
     "name": "stderr",
     "output_type": "stream",
     "text": [
      "WARNING:absl:You are saving your model as an HDF5 file via `model.save()` or `keras.saving.save_model(model)`. This file format is considered legacy. We recommend using instead the native Keras format, e.g. `model.save('my_model.keras')` or `keras.saving.save_model(model, 'my_model.keras')`. \n"
     ]
    },
    {
     "name": "stdout",
     "output_type": "stream",
     "text": [
      "\n",
      "Epoch 12: val_accuracy improved from 0.05914 to 0.06452, saving model to ..\\data\\ml_models/trained\\simple_cnn_lfw_anony_v1.h5\n"
     ]
    },
    {
     "name": "stderr",
     "output_type": "stream",
     "text": [
      "WARNING:absl:You are saving your model as an HDF5 file via `model.save()` or `keras.saving.save_model(model)`. This file format is considered legacy. We recommend using instead the native Keras format, e.g. `model.save('my_model.keras')` or `keras.saving.save_model(model, 'my_model.keras')`. \n"
     ]
    },
    {
     "name": "stdout",
     "output_type": "stream",
     "text": [
      "\n",
      "Epoch 13: val_accuracy improved from 0.06452 to 0.15591, saving model to ..\\data\\ml_models/trained\\simple_cnn_lfw_anony_v1.h5\n"
     ]
    },
    {
     "name": "stderr",
     "output_type": "stream",
     "text": [
      "WARNING:absl:You are saving your model as an HDF5 file via `model.save()` or `keras.saving.save_model(model)`. This file format is considered legacy. We recommend using instead the native Keras format, e.g. `model.save('my_model.keras')` or `keras.saving.save_model(model, 'my_model.keras')`. \n"
     ]
    },
    {
     "name": "stdout",
     "output_type": "stream",
     "text": [
      "\n",
      "Epoch 14: val_accuracy did not improve from 0.15591\n",
      "\n",
      "Epoch 15: val_accuracy improved from 0.15591 to 0.46237, saving model to ..\\data\\ml_models/trained\\simple_cnn_lfw_anony_v1.h5\n"
     ]
    },
    {
     "name": "stderr",
     "output_type": "stream",
     "text": [
      "WARNING:absl:You are saving your model as an HDF5 file via `model.save()` or `keras.saving.save_model(model)`. This file format is considered legacy. We recommend using instead the native Keras format, e.g. `model.save('my_model.keras')` or `keras.saving.save_model(model, 'my_model.keras')`. \n"
     ]
    },
    {
     "name": "stdout",
     "output_type": "stream",
     "text": [
      "\n",
      "Epoch 16: val_accuracy did not improve from 0.46237\n",
      "\n",
      "Epoch 17: val_accuracy improved from 0.46237 to 0.66129, saving model to ..\\data\\ml_models/trained\\simple_cnn_lfw_anony_v1.h5\n"
     ]
    },
    {
     "name": "stderr",
     "output_type": "stream",
     "text": [
      "WARNING:absl:You are saving your model as an HDF5 file via `model.save()` or `keras.saving.save_model(model)`. This file format is considered legacy. We recommend using instead the native Keras format, e.g. `model.save('my_model.keras')` or `keras.saving.save_model(model, 'my_model.keras')`. \n"
     ]
    },
    {
     "name": "stdout",
     "output_type": "stream",
     "text": [
      "\n",
      "Epoch 18: val_accuracy improved from 0.66129 to 0.79570, saving model to ..\\data\\ml_models/trained\\simple_cnn_lfw_anony_v1.h5\n"
     ]
    },
    {
     "name": "stderr",
     "output_type": "stream",
     "text": [
      "WARNING:absl:You are saving your model as an HDF5 file via `model.save()` or `keras.saving.save_model(model)`. This file format is considered legacy. We recommend using instead the native Keras format, e.g. `model.save('my_model.keras')` or `keras.saving.save_model(model, 'my_model.keras')`. \n"
     ]
    },
    {
     "name": "stdout",
     "output_type": "stream",
     "text": [
      "\n",
      "Epoch 19: val_accuracy improved from 0.79570 to 0.92473, saving model to ..\\data\\ml_models/trained\\simple_cnn_lfw_anony_v1.h5\n"
     ]
    },
    {
     "name": "stderr",
     "output_type": "stream",
     "text": [
      "WARNING:absl:You are saving your model as an HDF5 file via `model.save()` or `keras.saving.save_model(model)`. This file format is considered legacy. We recommend using instead the native Keras format, e.g. `model.save('my_model.keras')` or `keras.saving.save_model(model, 'my_model.keras')`. \n"
     ]
    },
    {
     "name": "stdout",
     "output_type": "stream",
     "text": [
      "\n",
      "Epoch 20: val_accuracy improved from 0.92473 to 0.93548, saving model to ..\\data\\ml_models/trained\\simple_cnn_lfw_anony_v1.h5\n"
     ]
    },
    {
     "name": "stderr",
     "output_type": "stream",
     "text": [
      "WARNING:absl:You are saving your model as an HDF5 file via `model.save()` or `keras.saving.save_model(model)`. This file format is considered legacy. We recommend using instead the native Keras format, e.g. `model.save('my_model.keras')` or `keras.saving.save_model(model, 'my_model.keras')`. \n"
     ]
    },
    {
     "name": "stdout",
     "output_type": "stream",
     "text": [
      "\n",
      "Epoch 21: val_accuracy improved from 0.93548 to 0.96237, saving model to ..\\data\\ml_models/trained\\simple_cnn_lfw_anony_v1.h5\n"
     ]
    },
    {
     "name": "stderr",
     "output_type": "stream",
     "text": [
      "WARNING:absl:You are saving your model as an HDF5 file via `model.save()` or `keras.saving.save_model(model)`. This file format is considered legacy. We recommend using instead the native Keras format, e.g. `model.save('my_model.keras')` or `keras.saving.save_model(model, 'my_model.keras')`. \n"
     ]
    },
    {
     "name": "stdout",
     "output_type": "stream",
     "text": [
      "\n",
      "Epoch 22: val_accuracy improved from 0.96237 to 0.96774, saving model to ..\\data\\ml_models/trained\\simple_cnn_lfw_anony_v1.h5\n"
     ]
    },
    {
     "name": "stderr",
     "output_type": "stream",
     "text": [
      "WARNING:absl:You are saving your model as an HDF5 file via `model.save()` or `keras.saving.save_model(model)`. This file format is considered legacy. We recommend using instead the native Keras format, e.g. `model.save('my_model.keras')` or `keras.saving.save_model(model, 'my_model.keras')`. \n"
     ]
    },
    {
     "name": "stdout",
     "output_type": "stream",
     "text": [
      "\n",
      "Epoch 23: val_accuracy improved from 0.96774 to 0.97312, saving model to ..\\data\\ml_models/trained\\simple_cnn_lfw_anony_v1.h5\n"
     ]
    },
    {
     "name": "stderr",
     "output_type": "stream",
     "text": [
      "WARNING:absl:You are saving your model as an HDF5 file via `model.save()` or `keras.saving.save_model(model)`. This file format is considered legacy. We recommend using instead the native Keras format, e.g. `model.save('my_model.keras')` or `keras.saving.save_model(model, 'my_model.keras')`. \n"
     ]
    },
    {
     "name": "stdout",
     "output_type": "stream",
     "text": [
      "\n",
      "Epoch 24: val_accuracy improved from 0.97312 to 0.98387, saving model to ..\\data\\ml_models/trained\\simple_cnn_lfw_anony_v1.h5\n"
     ]
    },
    {
     "name": "stderr",
     "output_type": "stream",
     "text": [
      "WARNING:absl:You are saving your model as an HDF5 file via `model.save()` or `keras.saving.save_model(model)`. This file format is considered legacy. We recommend using instead the native Keras format, e.g. `model.save('my_model.keras')` or `keras.saving.save_model(model, 'my_model.keras')`. \n"
     ]
    },
    {
     "name": "stdout",
     "output_type": "stream",
     "text": [
      "\n",
      "Epoch 25: val_accuracy improved from 0.98387 to 0.98925, saving model to ..\\data\\ml_models/trained\\simple_cnn_lfw_anony_v1.h5\n"
     ]
    },
    {
     "name": "stderr",
     "output_type": "stream",
     "text": [
      "WARNING:absl:You are saving your model as an HDF5 file via `model.save()` or `keras.saving.save_model(model)`. This file format is considered legacy. We recommend using instead the native Keras format, e.g. `model.save('my_model.keras')` or `keras.saving.save_model(model, 'my_model.keras')`. \n"
     ]
    },
    {
     "name": "stdout",
     "output_type": "stream",
     "text": [
      "\n",
      "Epoch 26: val_accuracy did not improve from 0.98925\n",
      "\n",
      "Epoch 27: val_accuracy did not improve from 0.98925\n",
      "\n",
      "Epoch 28: val_accuracy did not improve from 0.98925\n",
      "\n",
      "Epoch 29: val_accuracy improved from 0.98925 to 0.99462, saving model to ..\\data\\ml_models/trained\\simple_cnn_lfw_anony_v1.h5\n"
     ]
    },
    {
     "name": "stderr",
     "output_type": "stream",
     "text": [
      "WARNING:absl:You are saving your model as an HDF5 file via `model.save()` or `keras.saving.save_model(model)`. This file format is considered legacy. We recommend using instead the native Keras format, e.g. `model.save('my_model.keras')` or `keras.saving.save_model(model, 'my_model.keras')`. \n"
     ]
    },
    {
     "name": "stdout",
     "output_type": "stream",
     "text": [
      "\n",
      "Epoch 30: val_accuracy did not improve from 0.99462\n",
      "\n",
      "Epoch 31: val_accuracy did not improve from 0.99462\n",
      "\n",
      "Epoch 32: val_accuracy did not improve from 0.99462\n",
      "\n",
      "Epoch 33: val_accuracy did not improve from 0.99462\n",
      "\n",
      "Epoch 34: val_accuracy did not improve from 0.99462\n",
      "\n",
      "Epoch 35: val_accuracy did not improve from 0.99462\n",
      "\n",
      "Epoch 36: val_accuracy did not improve from 0.99462\n",
      "\n",
      "Epoch 37: val_accuracy did not improve from 0.99462\n",
      "\n",
      "Epoch 38: val_accuracy did not improve from 0.99462\n",
      "\n",
      "Epoch 39: val_accuracy did not improve from 0.99462\n",
      "Epoch 39: early stopping\n",
      "Restoring model weights from the end of the best epoch: 29.\n",
      "LabelEncoder sauvegardé dans : ..\\data\\ml_models/trained\\simple_cnn_lfw_anony_v1_label_encoder.joblib\n",
      "\u001B[1m8/8\u001B[0m \u001B[32m━━━━━━━━━━━━━━━━━━━━\u001B[0m\u001B[37m\u001B[0m \u001B[1m1s\u001B[0m 81ms/step - accuracy: 0.9889 - loss: 0.1476\n",
      "\u001B[1m8/8\u001B[0m \u001B[32m━━━━━━━━━━━━━━━━━━━━\u001B[0m\u001B[37m\u001B[0m \u001B[1m1s\u001B[0m 96ms/step\n",
      "\n",
      "curves : <PIL.PngImagePlugin.PngImageFile image mode=RGBA size=1200x500 at 0x1C06174B800>\n",
      "\n",
      "confusion_matrix : [[4 0 0 ... 0 0 0]\n",
      " [0 4 0 ... 0 0 0]\n",
      " [0 0 4 ... 0 0 0]\n",
      " ...\n",
      " [0 0 0 ... 4 0 0]\n",
      " [0 0 0 ... 0 4 0]\n",
      " [0 0 0 ... 0 0 4]]\n",
      "\n",
      "classification_report : {'0': {'precision': 1.0, 'recall': 1.0, 'f1-score': 1.0, 'support': 4.0}, '1': {'precision': 1.0, 'recall': 1.0, 'f1-score': 1.0, 'support': 4.0}, '2': {'precision': 1.0, 'recall': 1.0, 'f1-score': 1.0, 'support': 4.0}, '3': {'precision': 1.0, 'recall': 0.75, 'f1-score': 0.8571428571428571, 'support': 4.0}, '4': {'precision': 1.0, 'recall': 1.0, 'f1-score': 1.0, 'support': 4.0}, '5': {'precision': 1.0, 'recall': 1.0, 'f1-score': 1.0, 'support': 4.0}, '6': {'precision': 1.0, 'recall': 1.0, 'f1-score': 1.0, 'support': 4.0}, '7': {'precision': 1.0, 'recall': 1.0, 'f1-score': 1.0, 'support': 4.0}, '8': {'precision': 1.0, 'recall': 1.0, 'f1-score': 1.0, 'support': 4.0}, '9': {'precision': 1.0, 'recall': 1.0, 'f1-score': 1.0, 'support': 4.0}, '10': {'precision': 1.0, 'recall': 1.0, 'f1-score': 1.0, 'support': 4.0}, '11': {'precision': 1.0, 'recall': 1.0, 'f1-score': 1.0, 'support': 4.0}, '12': {'precision': 1.0, 'recall': 1.0, 'f1-score': 1.0, 'support': 4.0}, '13': {'precision': 0.8, 'recall': 1.0, 'f1-score': 0.8888888888888888, 'support': 4.0}, '14': {'precision': 1.0, 'recall': 1.0, 'f1-score': 1.0, 'support': 4.0}, '15': {'precision': 1.0, 'recall': 1.0, 'f1-score': 1.0, 'support': 4.0}, '16': {'precision': 1.0, 'recall': 1.0, 'f1-score': 1.0, 'support': 4.0}, '17': {'precision': 1.0, 'recall': 1.0, 'f1-score': 1.0, 'support': 4.0}, '18': {'precision': 1.0, 'recall': 1.0, 'f1-score': 1.0, 'support': 4.0}, '19': {'precision': 1.0, 'recall': 1.0, 'f1-score': 1.0, 'support': 4.0}, '20': {'precision': 1.0, 'recall': 1.0, 'f1-score': 1.0, 'support': 4.0}, '21': {'precision': 1.0, 'recall': 1.0, 'f1-score': 1.0, 'support': 4.0}, '22': {'precision': 1.0, 'recall': 1.0, 'f1-score': 1.0, 'support': 4.0}, '23': {'precision': 1.0, 'recall': 1.0, 'f1-score': 1.0, 'support': 4.0}, '24': {'precision': 1.0, 'recall': 1.0, 'f1-score': 1.0, 'support': 4.0}, '25': {'precision': 1.0, 'recall': 0.75, 'f1-score': 0.8571428571428571, 'support': 4.0}, '26': {'precision': 1.0, 'recall': 1.0, 'f1-score': 1.0, 'support': 4.0}, '27': {'precision': 1.0, 'recall': 1.0, 'f1-score': 1.0, 'support': 4.0}, '28': {'precision': 1.0, 'recall': 1.0, 'f1-score': 1.0, 'support': 4.0}, '29': {'precision': 1.0, 'recall': 1.0, 'f1-score': 1.0, 'support': 4.0}, '30': {'precision': 0.8, 'recall': 1.0, 'f1-score': 0.8888888888888888, 'support': 4.0}, '31': {'precision': 1.0, 'recall': 1.0, 'f1-score': 1.0, 'support': 4.0}, '32': {'precision': 1.0, 'recall': 1.0, 'f1-score': 1.0, 'support': 4.0}, '33': {'precision': 1.0, 'recall': 1.0, 'f1-score': 1.0, 'support': 4.0}, '34': {'precision': 1.0, 'recall': 1.0, 'f1-score': 1.0, 'support': 4.0}, '35': {'precision': 1.0, 'recall': 1.0, 'f1-score': 1.0, 'support': 4.0}, '36': {'precision': 1.0, 'recall': 1.0, 'f1-score': 1.0, 'support': 4.0}, '37': {'precision': 1.0, 'recall': 1.0, 'f1-score': 1.0, 'support': 4.0}, '38': {'precision': 1.0, 'recall': 1.0, 'f1-score': 1.0, 'support': 4.0}, '39': {'precision': 1.0, 'recall': 1.0, 'f1-score': 1.0, 'support': 4.0}, '40': {'precision': 1.0, 'recall': 1.0, 'f1-score': 1.0, 'support': 4.0}, '41': {'precision': 1.0, 'recall': 1.0, 'f1-score': 1.0, 'support': 4.0}, '42': {'precision': 1.0, 'recall': 1.0, 'f1-score': 1.0, 'support': 4.0}, '43': {'precision': 1.0, 'recall': 1.0, 'f1-score': 1.0, 'support': 4.0}, '44': {'precision': 1.0, 'recall': 1.0, 'f1-score': 1.0, 'support': 4.0}, '45': {'precision': 1.0, 'recall': 1.0, 'f1-score': 1.0, 'support': 4.0}, '46': {'precision': 1.0, 'recall': 1.0, 'f1-score': 1.0, 'support': 4.0}, '47': {'precision': 1.0, 'recall': 1.0, 'f1-score': 1.0, 'support': 4.0}, '48': {'precision': 1.0, 'recall': 1.0, 'f1-score': 1.0, 'support': 4.0}, '49': {'precision': 1.0, 'recall': 1.0, 'f1-score': 1.0, 'support': 4.0}, '50': {'precision': 1.0, 'recall': 1.0, 'f1-score': 1.0, 'support': 4.0}, '51': {'precision': 1.0, 'recall': 1.0, 'f1-score': 1.0, 'support': 4.0}, '52': {'precision': 1.0, 'recall': 1.0, 'f1-score': 1.0, 'support': 4.0}, '53': {'precision': 1.0, 'recall': 1.0, 'f1-score': 1.0, 'support': 4.0}, '54': {'precision': 1.0, 'recall': 1.0, 'f1-score': 1.0, 'support': 4.0}, '55': {'precision': 1.0, 'recall': 1.0, 'f1-score': 1.0, 'support': 4.0}, '56': {'precision': 1.0, 'recall': 1.0, 'f1-score': 1.0, 'support': 4.0}, '57': {'precision': 1.0, 'recall': 1.0, 'f1-score': 1.0, 'support': 4.0}, '58': {'precision': 1.0, 'recall': 1.0, 'f1-score': 1.0, 'support': 4.0}, '59': {'precision': 1.0, 'recall': 1.0, 'f1-score': 1.0, 'support': 4.0}, '60': {'precision': 1.0, 'recall': 1.0, 'f1-score': 1.0, 'support': 4.0}, '61': {'precision': 1.0, 'recall': 1.0, 'f1-score': 1.0, 'support': 4.0}, 'accuracy': 0.9919354838709677, 'macro avg': {'precision': 0.9935483870967742, 'recall': 0.9919354838709677, 'f1-score': 0.9918074756784434, 'support': 248.0}, 'weighted avg': {'precision': 0.9935483870967742, 'recall': 0.9919354838709677, 'f1-score': 0.9918074756784434, 'support': 248.0}}\n",
      "\n",
      "evaluation : {'loss': 0.13633298873901367, 'accuracy': 0.9919354915618896}\n",
      "--- Training Script Completed in 506.14 secondes ---\n"
     ]
    },
    {
     "data": {
      "text/plain": [
       "<Figure size 1200x500 with 2 Axes>"
      ],
      "image/png": "[encoded data removed]"
     },
     "metadata": {},
     "output_type": "display_data"
    }
   ],
   "execution_count": 6
  },
  {
   "cell_type": "markdown",
   "id": "cc9ee36ea101e496",
   "metadata": {},
   "source": "# Predict noised image"
  },
  {
   "metadata": {
    "ExecuteTime": {
     "end_time": "2025-04-29T13:31:33.351245Z",
     "start_time": "2025-04-29T13:31:33.111884Z"
    }
   },
   "cell_type": "code",
   "source": [
    "user = 27\n",
    "image_path = f\"../data/dataset-lfw_reconstructed/reconstructed_{user}_2.png\"\n",
    "image = np.array(Image.open(image_path))\n",
    "\n",
    "result = mlc2.predict_image(image, MODEL_SAVE_DIR, MODEL_NAME, INPUT_SHAPE)\n",
    "predicted_label, prediction_confidence = result\n",
    "print(f\"  - Predicted Identity (Subject ID) : {predicted_label}\")\n",
    "print(f\"  - Trust : {prediction_confidence:.4f} ({prediction_confidence*100:.2f}%)\")"
   ],
   "id": "18dbab7c7272b28",
   "outputs": [
    {
     "name": "stderr",
     "output_type": "stream",
     "text": [
      "WARNING:absl:Compiled the loaded model, but the compiled metrics have yet to be built. `model.compile_metrics` will be empty until you train or evaluate the model.\n"
     ]
    },
    {
     "name": "stdout",
     "output_type": "stream",
     "text": [
      "LabelEncoder chargé depuis : ..\\data\\ml_models/trained\\simple_cnn_lfw_anony_v1_label_encoder.joblib\n",
      "Preprocessed image, final shape: (1, 150, 150, 1, 1)\n",
      "\u001B[1m1/1\u001B[0m \u001B[32m━━━━━━━━━━━━━━━━━━━━\u001B[0m\u001B[37m\u001B[0m \u001B[1m0s\u001B[0m 94ms/step\n",
      "  - Predicted Identity (Subject ID) : 27\n",
      "  - Trust : 0.9924 (99.24%)\n"
     ]
    },
    {
     "name": "stderr",
     "output_type": "stream",
     "text": [
      "D:\\myDocs\\Apprentissage\\Isep\\Year_3\\Brno-Privacy_Preserving_Face_Recognition_Project\\venv\\Lib\\site-packages\\keras\\src\\models\\functional.py:238: UserWarning: The structure of `inputs` doesn't match the expected structure.\n",
      "Expected: ['input_image']\n",
      "Received: inputs=Tensor(shape=(1, 150, 150, 1, 1))\n",
      "  warnings.warn(msg)\n"
     ]
    }
   ],
   "execution_count": 11
  }
 ],
 "metadata": {
  "kernelspec": {
   "display_name": "Python 3 (ipykernel)",
   "language": "python",
   "name": "python3"
  },
  "language_info": {
   "codemirror_mode": {
    "name": "ipython",
    "version": 3
   },
   "file_extension": ".py",
   "mimetype": "text/x-python",
   "name": "python",
   "nbconvert_exporter": "python",
   "pygments_lexer": "ipython3",
   "version": "3.12.6"
  }
 },
 "nbformat": 4,
 "nbformat_minor": 5
}
