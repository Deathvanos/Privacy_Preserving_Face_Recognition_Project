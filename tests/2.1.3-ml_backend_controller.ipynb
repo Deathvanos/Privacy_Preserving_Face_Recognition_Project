{
 "cells": [
  {
   "metadata": {},
   "cell_type": "markdown",
   "source": [
    "Configuration de train_model() et predict_image() dans ce notebook\n",
    "\n",
    "* Il faut prendre quoi comme valeur d'epsilon par defaut ?\n",
    "**la meilleure combinaison de valeurs est en sortie de la fonction gridsearch_analysis (valeur par défaut changeant en fonction du set d'image)**\n",
    "\n",
    "* train_model() prend maintenant en input: X, y, label_encoder + config.all_variables\n",
    "* predict_image() prend maintenant en input un np.array\n",
    "\n",
    "* Je ne trouve pas un model > 90% d'accuracy\n",
    "**on l'a testé sur LFW; l'accuracy peut changer avec une image inconnue (d'où l'indication des améliorations futures \"changer la méthode de bruit ou changer de modèle\")**\n",
    "\n",
    "* Dans la DB, les images ont 1 ou 3 channels ? (greyscale/RGB)\n",
    "**originales : 3\n",
    "processed/anonymisées : 1**\n",
    "\n",
    "* J'ai ajouté une fonction resize_images à implementer dans train_model() car:\n",
    "    * Taille des images variables pour chaque user\n",
    "**ATTENTION : LE MODELE S'ENTRAINE SUR TOUTE LA DB. SI PLUSIEURS TAILLE D'IMAGE (DE MATRICE) SONT RENCONTRES, L'ENTRAINEMENT S'ARRETERA**\n",
    "**il faut conserver les mêmes dimensions entre l'entrainement et la prédiction qu'entre chaque images**\n",
    "\n",
    "* Verifier le ML car:\n",
    "    * Nombre d'images variable en fonction des users\n",
    "**AJOUT D'UN BALANCED ACCURACY UTILE MAIS OVERKILL : ON PEUT S'EN PASSER**\n",
    "\n",
    "* Je n'ai pas utilisé les variables de **config** pour faire des fonctions plus propre. Elle pourront être récupéré plus tard juste avant l'appel des fonctions\n",
    "* Ajout de show_logs car le GUI n'a pas besoin de print"
   ],
   "id": "3181f2cd62b5aa6a"
  },
  {
   "metadata": {
    "ExecuteTime": {
     "end_time": "2025-04-25T16:02:28.627751Z",
     "start_time": "2025-04-25T16:02:28.616464Z"
    }
   },
   "cell_type": "code",
   "source": "import controller.ml_controller as mlc",
   "id": "be8f4dd325ae10e6",
   "outputs": [],
   "execution_count": 6
  },
  {
   "metadata": {
    "ExecuteTime": {
     "end_time": "2025-04-25T16:02:29.810399Z",
     "start_time": "2025-04-25T16:02:29.805153Z"
    }
   },
   "cell_type": "code",
   "source": [
    "#####--- Import data ---#####\n",
    "DB_PATH = r\"..\\data\\gui_database.db\"\n",
    "\n",
    "#####--- prepare_data_train_model ---#####\n",
    "WIDTH, HEIGHT = (100, 100)\n",
    "SPLIT_STRATEGY = 'stratified'\n",
    "TEST_SPLIT_RATIO = 0.2\n",
    "VALIDATION_SPLIT_RATIO = 0.15\n",
    "RANDOM_STATE = 42\n",
    "N_TRAIN_PER_SUBJECT = 7\n",
    "\n",
    "#####--- create_model ---#####\n",
    "#WIDTH, HEIGHT = WIDTH, HEIGHT\n",
    "MODEL_SAVE_DIR = r'..\\data\\ml_models\\trained'\n",
    "LOG_DIR = r'..\\data\\ml_models\\logs'\n",
    "MODEL_NAME = 'simple_cnn_lfw_anony_v1'\n",
    "MODEL_ARCHITECTURE = 'simple_cnn'\n",
    "LEARNING_RATE = 0.001\n",
    "EARLY_STOPPING_PATIENCE = 10\n",
    "TRANSFER_BASE_MODEL_NAME = 'MobileNetV2'\n",
    "TRANSFER_FREEZE_BASE = True\n",
    "\n",
    "#####--- train_model ---#####\n",
    "#MODEL_SAVE_DIR = MODEL_SAVE_DIR\n",
    "#MODEL_NAME = MODEL_NAME\n",
    "BATCH_SIZE = 32\n",
    "EPOCHS = 50"
   ],
   "id": "843e91f6d2c0dc2c",
   "outputs": [],
   "execution_count": 7
  },
  {
   "metadata": {},
   "cell_type": "markdown",
   "source": "### Get data from LFW dataset folder",
   "id": "a2b50897b9258143"
  },
  {
   "metadata": {
    "ExecuteTime": {
     "end_time": "2025-04-25T16:02:15.376425Z",
     "start_time": "2025-04-25T16:02:15.371500Z"
    }
   },
   "cell_type": "code",
   "source": [
    "import os\n",
    "import controller.ml_controller as ml\n",
    "\n",
    "LFW_DATASET_PATH = r\"..\\data\\reconstructed_pipeline\"\n",
    "os.makedirs(LFW_DATASET_PATH, exist_ok=True)\n",
    "\n",
    "X, y, label_encoder = ml.data_loader.load_anonymized_images_flat(\n",
    "    data_dir=LFW_DATASET_PATH,\n",
    "    img_width=WIDTH,\n",
    "    img_height=HEIGHT,\n",
    "    color_mode='grayscale'\n",
    ")"
   ],
   "id": "8bc2de5c455275e",
   "outputs": [
    {
     "name": "stdout",
     "output_type": "stream",
     "text": [
      "Chargement des images depuis : ..\\data\\reconstructed_pipeline\n",
      "Format attendu : 100x100, mode: grayscale\n",
      "Erreur: Aucun fichier .png trouvé dans ..\\data\\reconstructed_pipeline\n"
     ]
    }
   ],
   "execution_count": 3
  },
  {
   "metadata": {},
   "cell_type": "markdown",
   "source": "### Get data from database",
   "id": "c3b92555a440d604"
  },
  {
   "metadata": {
    "ExecuteTime": {
     "end_time": "2025-04-25T16:02:33.771941Z",
     "start_time": "2025-04-25T16:02:33.705996Z"
    }
   },
   "cell_type": "code",
   "source": [
    "X, y, label_encoder = mlc.MLController.get_data_from_db(DB_PATH)\n",
    "print(f\"(nb_image, width, height, dim) : {X.shape}\")"
   ],
   "id": "cb4e96e88d85faa6",
   "outputs": [
    {
     "name": "stdout",
     "output_type": "stream",
     "text": [
      "(nb_image, width, height, dim) : (467, 100, 100, 3)\n"
     ]
    }
   ],
   "execution_count": 8
  },
  {
   "metadata": {},
   "cell_type": "markdown",
   "source": "### Prepare data",
   "id": "19b40012d6295e57"
  },
  {
   "metadata": {
    "ExecuteTime": {
     "end_time": "2025-04-25T16:02:36.346206Z",
     "start_time": "2025-04-25T16:02:36.262343Z"
    }
   },
   "cell_type": "code",
   "source": [
    "res = mlc.prepare_data_train_model2(\n",
    "    X, y, label_encoder,\n",
    "    input_shape=(WIDTH, HEIGHT),\n",
    "    split_strategy=SPLIT_STRATEGY,\n",
    "    test_split_ratio=TEST_SPLIT_RATIO,\n",
    "    validation_split_ratio=VALIDATION_SPLIT_RATIO,\n",
    "    random_state=RANDOM_STATE,\n",
    "    n_train_per_subject=N_TRAIN_PER_SUBJECT\n",
    ")\n",
    "num_classes, X_train, y_train, X_test, y_test, X_val, y_val, validation_data = res\n",
    "print(f\"Image size : {X_train.shape[1:]}\")"
   ],
   "id": "6c99409725c1d58f",
   "outputs": [
    {
     "name": "stdout",
     "output_type": "stream",
     "text": [
      "Division des données : test_size=0.2, validation_size=0.15\n",
      "Taille Test: 94 échantillons\n",
      "Taille Entraînement: 303 échantillons\n",
      "Taille Validation: 70 échantillons\n",
      "Image size : (100, 100, 1)\n"
     ]
    }
   ],
   "execution_count": 9
  },
  {
   "metadata": {},
   "cell_type": "markdown",
   "source": "### Create Model",
   "id": "1d083f5836f3bfcb"
  },
  {
   "metadata": {
    "ExecuteTime": {
     "end_time": "2025-04-25T16:02:38.901935Z",
     "start_time": "2025-04-25T16:02:38.796682Z"
    }
   },
   "cell_type": "code",
   "source": [
    "res = mlc.create_model2(\n",
    "    num_classes,\n",
    "    input_shape=(WIDTH, HEIGHT),\n",
    "    model_save_dir=MODEL_SAVE_DIR,\n",
    "    log_dir=LOG_DIR,\n",
    "    model_name=MODEL_NAME,\n",
    "    model_architecture=MODEL_ARCHITECTURE,\n",
    "    learning_rate=LEARNING_RATE,\n",
    "    early_stopping_patience=EARLY_STOPPING_PATIENCE,\n",
    "    transfer_base_model_name=TRANSFER_BASE_MODEL_NAME,\n",
    "    transfer_freeze_base=TRANSFER_FREEZE_BASE\n",
    ")\n",
    "model, callbacks, model_filepath, summary_text = res"
   ],
   "id": "8611fa9b6d2af0b8",
   "outputs": [
    {
     "name": "stdout",
     "output_type": "stream",
     "text": [
      "Construction du modèle CNN simple avec input_shape=(100, 100, 1) et num_classes=43\n",
      "Modèle CNN simple construit.\n"
     ]
    },
    {
     "data": {
      "text/plain": [],
      "text/html": [
       "<pre style=\"white-space:pre;overflow-x:auto;line-height:normal;font-family:Menlo,'DejaVu Sans Mono',consolas,'Courier New',monospace\"></pre>\n"
      ]
     },
     "metadata": {},
     "output_type": "display_data"
    }
   ],
   "execution_count": 10
  },
  {
   "metadata": {},
   "cell_type": "markdown",
   "source": "### Train model",
   "id": "48eb8fdb2279921e"
  },
  {
   "metadata": {
    "ExecuteTime": {
     "end_time": "2025-04-25T16:04:59.086147Z",
     "start_time": "2025-04-25T16:02:43.627124Z"
    }
   },
   "cell_type": "code",
   "source": [
    "# Start timer\n",
    "import time\n",
    "print(\"--- Démarrage du Script d'Entraînement ---\")\n",
    "start_time = time.time()\n",
    "\n",
    "# Train Model\n",
    "res = mlc.train_model2(\n",
    "    model,\n",
    "    X_train, y_train, X_test, y_test,\n",
    "    validation_data, callbacks, label_encoder, model_filepath,\n",
    "    model_save_dir=MODEL_SAVE_DIR,\n",
    "    model_name=MODEL_NAME,\n",
    "    batch_size=BATCH_SIZE,\n",
    "    epochs=EPOCHS,\n",
    "\n",
    ")\n",
    "for key, val in res.items(): print(f\"\\n{key} : {val}\")\n",
    "\n",
    "# End timer\n",
    "end_time = time.time()\n",
    "duration = end_time - start_time\n",
    "print(f\"--- Script d'Entraînement Terminé en {duration:.2f} secondes ---\")"
   ],
   "id": "d46e5317bc11f013",
   "outputs": [
    {
     "name": "stdout",
     "output_type": "stream",
     "text": [
      "--- Démarrage du Script d'Entraînement ---\n",
      "\n",
      "Epoch 1: val_accuracy improved from -inf to 0.02857, saving model to ..\\data\\models\\trained\\simple_cnn_lfw_anony_v1.h5\n"
     ]
    },
    {
     "name": "stderr",
     "output_type": "stream",
     "text": [
      "WARNING:absl:You are saving your model as an HDF5 file via `model.save()` or `keras.saving.save_model(model)`. This file format is considered legacy. We recommend using instead the native Keras format, e.g. `model.save('my_model.keras')` or `keras.saving.save_model(model, 'my_model.keras')`. \n"
     ]
    },
    {
     "name": "stdout",
     "output_type": "stream",
     "text": [
      "\n",
      "Epoch 2: val_accuracy did not improve from 0.02857\n",
      "\n",
      "Epoch 3: val_accuracy improved from 0.02857 to 0.10000, saving model to ..\\data\\models\\trained\\simple_cnn_lfw_anony_v1.h5\n"
     ]
    },
    {
     "name": "stderr",
     "output_type": "stream",
     "text": [
      "WARNING:absl:You are saving your model as an HDF5 file via `model.save()` or `keras.saving.save_model(model)`. This file format is considered legacy. We recommend using instead the native Keras format, e.g. `model.save('my_model.keras')` or `keras.saving.save_model(model, 'my_model.keras')`. \n"
     ]
    },
    {
     "name": "stdout",
     "output_type": "stream",
     "text": [
      "\n",
      "Epoch 4: val_accuracy improved from 0.10000 to 0.15714, saving model to ..\\data\\models\\trained\\simple_cnn_lfw_anony_v1.h5\n"
     ]
    },
    {
     "name": "stderr",
     "output_type": "stream",
     "text": [
      "WARNING:absl:You are saving your model as an HDF5 file via `model.save()` or `keras.saving.save_model(model)`. This file format is considered legacy. We recommend using instead the native Keras format, e.g. `model.save('my_model.keras')` or `keras.saving.save_model(model, 'my_model.keras')`. \n"
     ]
    },
    {
     "name": "stdout",
     "output_type": "stream",
     "text": [
      "\n",
      "Epoch 5: val_accuracy improved from 0.15714 to 0.18571, saving model to ..\\data\\models\\trained\\simple_cnn_lfw_anony_v1.h5\n"
     ]
    },
    {
     "name": "stderr",
     "output_type": "stream",
     "text": [
      "WARNING:absl:You are saving your model as an HDF5 file via `model.save()` or `keras.saving.save_model(model)`. This file format is considered legacy. We recommend using instead the native Keras format, e.g. `model.save('my_model.keras')` or `keras.saving.save_model(model, 'my_model.keras')`. \n"
     ]
    },
    {
     "name": "stdout",
     "output_type": "stream",
     "text": [
      "\n",
      "Epoch 6: val_accuracy did not improve from 0.18571\n",
      "\n",
      "Epoch 7: val_accuracy did not improve from 0.18571\n",
      "\n",
      "Epoch 8: val_accuracy improved from 0.18571 to 0.22857, saving model to ..\\data\\models\\trained\\simple_cnn_lfw_anony_v1.h5\n"
     ]
    },
    {
     "name": "stderr",
     "output_type": "stream",
     "text": [
      "WARNING:absl:You are saving your model as an HDF5 file via `model.save()` or `keras.saving.save_model(model)`. This file format is considered legacy. We recommend using instead the native Keras format, e.g. `model.save('my_model.keras')` or `keras.saving.save_model(model, 'my_model.keras')`. \n"
     ]
    },
    {
     "name": "stdout",
     "output_type": "stream",
     "text": [
      "\n",
      "Epoch 9: val_accuracy did not improve from 0.22857\n",
      "\n",
      "Epoch 10: val_accuracy did not improve from 0.22857\n",
      "\n",
      "Epoch 11: val_accuracy improved from 0.22857 to 0.27143, saving model to ..\\data\\models\\trained\\simple_cnn_lfw_anony_v1.h5\n"
     ]
    },
    {
     "name": "stderr",
     "output_type": "stream",
     "text": [
      "WARNING:absl:You are saving your model as an HDF5 file via `model.save()` or `keras.saving.save_model(model)`. This file format is considered legacy. We recommend using instead the native Keras format, e.g. `model.save('my_model.keras')` or `keras.saving.save_model(model, 'my_model.keras')`. \n"
     ]
    },
    {
     "name": "stdout",
     "output_type": "stream",
     "text": [
      "\n",
      "Epoch 12: val_accuracy improved from 0.27143 to 0.28571, saving model to ..\\data\\models\\trained\\simple_cnn_lfw_anony_v1.h5\n"
     ]
    },
    {
     "name": "stderr",
     "output_type": "stream",
     "text": [
      "WARNING:absl:You are saving your model as an HDF5 file via `model.save()` or `keras.saving.save_model(model)`. This file format is considered legacy. We recommend using instead the native Keras format, e.g. `model.save('my_model.keras')` or `keras.saving.save_model(model, 'my_model.keras')`. \n"
     ]
    },
    {
     "name": "stdout",
     "output_type": "stream",
     "text": [
      "\n",
      "Epoch 13: val_accuracy did not improve from 0.28571\n",
      "\n",
      "Epoch 14: val_accuracy improved from 0.28571 to 0.31429, saving model to ..\\data\\models\\trained\\simple_cnn_lfw_anony_v1.h5\n"
     ]
    },
    {
     "name": "stderr",
     "output_type": "stream",
     "text": [
      "WARNING:absl:You are saving your model as an HDF5 file via `model.save()` or `keras.saving.save_model(model)`. This file format is considered legacy. We recommend using instead the native Keras format, e.g. `model.save('my_model.keras')` or `keras.saving.save_model(model, 'my_model.keras')`. \n"
     ]
    },
    {
     "name": "stdout",
     "output_type": "stream",
     "text": [
      "\n",
      "Epoch 15: val_accuracy did not improve from 0.31429\n",
      "\n",
      "Epoch 16: val_accuracy improved from 0.31429 to 0.32857, saving model to ..\\data\\models\\trained\\simple_cnn_lfw_anony_v1.h5\n"
     ]
    },
    {
     "name": "stderr",
     "output_type": "stream",
     "text": [
      "WARNING:absl:You are saving your model as an HDF5 file via `model.save()` or `keras.saving.save_model(model)`. This file format is considered legacy. We recommend using instead the native Keras format, e.g. `model.save('my_model.keras')` or `keras.saving.save_model(model, 'my_model.keras')`. \n"
     ]
    },
    {
     "name": "stdout",
     "output_type": "stream",
     "text": [
      "\n",
      "Epoch 17: val_accuracy did not improve from 0.32857\n",
      "\n",
      "Epoch 18: val_accuracy improved from 0.32857 to 0.35714, saving model to ..\\data\\models\\trained\\simple_cnn_lfw_anony_v1.h5\n"
     ]
    },
    {
     "name": "stderr",
     "output_type": "stream",
     "text": [
      "WARNING:absl:You are saving your model as an HDF5 file via `model.save()` or `keras.saving.save_model(model)`. This file format is considered legacy. We recommend using instead the native Keras format, e.g. `model.save('my_model.keras')` or `keras.saving.save_model(model, 'my_model.keras')`. \n"
     ]
    },
    {
     "name": "stdout",
     "output_type": "stream",
     "text": [
      "\n",
      "Epoch 19: val_accuracy did not improve from 0.35714\n",
      "\n",
      "Epoch 20: val_accuracy did not improve from 0.35714\n",
      "\n",
      "Epoch 21: val_accuracy improved from 0.35714 to 0.37143, saving model to ..\\data\\models\\trained\\simple_cnn_lfw_anony_v1.h5\n"
     ]
    },
    {
     "name": "stderr",
     "output_type": "stream",
     "text": [
      "WARNING:absl:You are saving your model as an HDF5 file via `model.save()` or `keras.saving.save_model(model)`. This file format is considered legacy. We recommend using instead the native Keras format, e.g. `model.save('my_model.keras')` or `keras.saving.save_model(model, 'my_model.keras')`. \n"
     ]
    },
    {
     "name": "stdout",
     "output_type": "stream",
     "text": [
      "\n",
      "Epoch 22: val_accuracy did not improve from 0.37143\n",
      "\n",
      "Epoch 23: val_accuracy improved from 0.37143 to 0.40000, saving model to ..\\data\\models\\trained\\simple_cnn_lfw_anony_v1.h5\n"
     ]
    },
    {
     "name": "stderr",
     "output_type": "stream",
     "text": [
      "WARNING:absl:You are saving your model as an HDF5 file via `model.save()` or `keras.saving.save_model(model)`. This file format is considered legacy. We recommend using instead the native Keras format, e.g. `model.save('my_model.keras')` or `keras.saving.save_model(model, 'my_model.keras')`. \n"
     ]
    },
    {
     "name": "stdout",
     "output_type": "stream",
     "text": [
      "\n",
      "Epoch 24: val_accuracy did not improve from 0.40000\n",
      "\n",
      "Epoch 25: val_accuracy did not improve from 0.40000\n",
      "\n",
      "Epoch 26: val_accuracy did not improve from 0.40000\n",
      "\n",
      "Epoch 27: val_accuracy improved from 0.40000 to 0.41429, saving model to ..\\data\\models\\trained\\simple_cnn_lfw_anony_v1.h5\n"
     ]
    },
    {
     "name": "stderr",
     "output_type": "stream",
     "text": [
      "WARNING:absl:You are saving your model as an HDF5 file via `model.save()` or `keras.saving.save_model(model)`. This file format is considered legacy. We recommend using instead the native Keras format, e.g. `model.save('my_model.keras')` or `keras.saving.save_model(model, 'my_model.keras')`. \n"
     ]
    },
    {
     "name": "stdout",
     "output_type": "stream",
     "text": [
      "\n",
      "Epoch 28: val_accuracy improved from 0.41429 to 0.42857, saving model to ..\\data\\models\\trained\\simple_cnn_lfw_anony_v1.h5\n"
     ]
    },
    {
     "name": "stderr",
     "output_type": "stream",
     "text": [
      "WARNING:absl:You are saving your model as an HDF5 file via `model.save()` or `keras.saving.save_model(model)`. This file format is considered legacy. We recommend using instead the native Keras format, e.g. `model.save('my_model.keras')` or `keras.saving.save_model(model, 'my_model.keras')`. \n"
     ]
    },
    {
     "name": "stdout",
     "output_type": "stream",
     "text": [
      "\n",
      "Epoch 29: val_accuracy improved from 0.42857 to 0.45714, saving model to ..\\data\\models\\trained\\simple_cnn_lfw_anony_v1.h5\n"
     ]
    },
    {
     "name": "stderr",
     "output_type": "stream",
     "text": [
      "WARNING:absl:You are saving your model as an HDF5 file via `model.save()` or `keras.saving.save_model(model)`. This file format is considered legacy. We recommend using instead the native Keras format, e.g. `model.save('my_model.keras')` or `keras.saving.save_model(model, 'my_model.keras')`. \n"
     ]
    },
    {
     "name": "stdout",
     "output_type": "stream",
     "text": [
      "\n",
      "Epoch 30: val_accuracy did not improve from 0.45714\n",
      "\n",
      "Epoch 31: val_accuracy did not improve from 0.45714\n",
      "\n",
      "Epoch 32: val_accuracy did not improve from 0.45714\n",
      "\n",
      "Epoch 33: val_accuracy improved from 0.45714 to 0.47143, saving model to ..\\data\\models\\trained\\simple_cnn_lfw_anony_v1.h5\n"
     ]
    },
    {
     "name": "stderr",
     "output_type": "stream",
     "text": [
      "WARNING:absl:You are saving your model as an HDF5 file via `model.save()` or `keras.saving.save_model(model)`. This file format is considered legacy. We recommend using instead the native Keras format, e.g. `model.save('my_model.keras')` or `keras.saving.save_model(model, 'my_model.keras')`. \n"
     ]
    },
    {
     "name": "stdout",
     "output_type": "stream",
     "text": [
      "\n",
      "Epoch 34: val_accuracy did not improve from 0.47143\n",
      "\n",
      "Epoch 35: val_accuracy did not improve from 0.47143\n",
      "\n",
      "Epoch 36: val_accuracy improved from 0.47143 to 0.48571, saving model to ..\\data\\models\\trained\\simple_cnn_lfw_anony_v1.h5\n"
     ]
    },
    {
     "name": "stderr",
     "output_type": "stream",
     "text": [
      "WARNING:absl:You are saving your model as an HDF5 file via `model.save()` or `keras.saving.save_model(model)`. This file format is considered legacy. We recommend using instead the native Keras format, e.g. `model.save('my_model.keras')` or `keras.saving.save_model(model, 'my_model.keras')`. \n"
     ]
    },
    {
     "name": "stdout",
     "output_type": "stream",
     "text": [
      "\n",
      "Epoch 37: val_accuracy did not improve from 0.48571\n",
      "\n",
      "Epoch 38: val_accuracy did not improve from 0.48571\n",
      "\n",
      "Epoch 39: val_accuracy did not improve from 0.48571\n",
      "\n",
      "Epoch 40: val_accuracy did not improve from 0.48571\n",
      "\n",
      "Epoch 41: val_accuracy improved from 0.48571 to 0.50000, saving model to ..\\data\\models\\trained\\simple_cnn_lfw_anony_v1.h5\n"
     ]
    },
    {
     "name": "stderr",
     "output_type": "stream",
     "text": [
      "WARNING:absl:You are saving your model as an HDF5 file via `model.save()` or `keras.saving.save_model(model)`. This file format is considered legacy. We recommend using instead the native Keras format, e.g. `model.save('my_model.keras')` or `keras.saving.save_model(model, 'my_model.keras')`. \n"
     ]
    },
    {
     "name": "stdout",
     "output_type": "stream",
     "text": [
      "\n",
      "Epoch 42: val_accuracy did not improve from 0.50000\n",
      "\n",
      "Epoch 43: val_accuracy did not improve from 0.50000\n",
      "\n",
      "Epoch 44: val_accuracy did not improve from 0.50000\n",
      "\n",
      "Epoch 45: val_accuracy did not improve from 0.50000\n",
      "\n",
      "Epoch 46: val_accuracy did not improve from 0.50000\n",
      "\n",
      "Epoch 47: val_accuracy did not improve from 0.50000\n",
      "\n",
      "Epoch 48: val_accuracy improved from 0.50000 to 0.51429, saving model to ..\\data\\models\\trained\\simple_cnn_lfw_anony_v1.h5\n"
     ]
    },
    {
     "name": "stderr",
     "output_type": "stream",
     "text": [
      "WARNING:absl:You are saving your model as an HDF5 file via `model.save()` or `keras.saving.save_model(model)`. This file format is considered legacy. We recommend using instead the native Keras format, e.g. `model.save('my_model.keras')` or `keras.saving.save_model(model, 'my_model.keras')`. \n"
     ]
    },
    {
     "name": "stdout",
     "output_type": "stream",
     "text": [
      "\n",
      "Epoch 49: val_accuracy did not improve from 0.51429\n",
      "\n",
      "Epoch 50: val_accuracy did not improve from 0.51429\n",
      "Restoring model weights from the end of the best epoch: 48.\n",
      "LabelEncoder sauvegardé dans : ..\\data\\models\\trained\\simple_cnn_lfw_anony_v1_label_encoder.joblib\n",
      "\u001B[1m3/3\u001B[0m \u001B[32m━━━━━━━━━━━━━━━━━━━━\u001B[0m\u001B[37m\u001B[0m \u001B[1m0s\u001B[0m 44ms/step - accuracy: 0.4397 - loss: 2.1714\n",
      "\u001B[1m3/3\u001B[0m \u001B[32m━━━━━━━━━━━━━━━━━━━━\u001B[0m\u001B[37m\u001B[0m \u001B[1m0s\u001B[0m 87ms/step\n"
     ]
    },
    {
     "name": "stderr",
     "output_type": "stream",
     "text": [
      "D:\\myDocs\\Apprentissage\\Isep\\Year_3\\Brno-Privacy_Preserving_Face_Recognition_Project\\venv\\Lib\\site-packages\\sklearn\\metrics\\_classification.py:1517: UndefinedMetricWarning: Precision is ill-defined and being set to 0.0 in labels with no predicted samples. Use `zero_division` parameter to control this behavior.\n",
      "  _warn_prf(average, modifier, f\"{metric.capitalize()} is\", len(result))\n",
      "D:\\myDocs\\Apprentissage\\Isep\\Year_3\\Brno-Privacy_Preserving_Face_Recognition_Project\\venv\\Lib\\site-packages\\sklearn\\metrics\\_classification.py:1517: UndefinedMetricWarning: Precision is ill-defined and being set to 0.0 in labels with no predicted samples. Use `zero_division` parameter to control this behavior.\n",
      "  _warn_prf(average, modifier, f\"{metric.capitalize()} is\", len(result))\n",
      "D:\\myDocs\\Apprentissage\\Isep\\Year_3\\Brno-Privacy_Preserving_Face_Recognition_Project\\venv\\Lib\\site-packages\\sklearn\\metrics\\_classification.py:1517: UndefinedMetricWarning: Precision is ill-defined and being set to 0.0 in labels with no predicted samples. Use `zero_division` parameter to control this behavior.\n",
      "  _warn_prf(average, modifier, f\"{metric.capitalize()} is\", len(result))\n"
     ]
    },
    {
     "name": "stdout",
     "output_type": "stream",
     "text": [
      "\n",
      "curves : <PIL.PngImagePlugin.PngImageFile image mode=RGBA size=1200x500 at 0x2030EA2D4F0>\n",
      "\n",
      "confusion_matrix : [[1 0 0 ... 0 0 0]\n",
      " [0 1 0 ... 0 0 0]\n",
      " [0 0 1 ... 0 1 0]\n",
      " ...\n",
      " [0 0 0 ... 0 0 0]\n",
      " [0 0 0 ... 0 0 0]\n",
      " [0 0 0 ... 0 0 2]]\n",
      "\n",
      "classification_report : {'0': {'precision': 0.5, 'recall': 0.5, 'f1-score': 0.5, 'support': 2.0}, '1': {'precision': 1.0, 'recall': 0.5, 'f1-score': 0.6666666666666666, 'support': 2.0}, '2': {'precision': 1.0, 'recall': 0.5, 'f1-score': 0.6666666666666666, 'support': 2.0}, '3': {'precision': 1.0, 'recall': 1.0, 'f1-score': 1.0, 'support': 2.0}, '4': {'precision': 0.5, 'recall': 1.0, 'f1-score': 0.6666666666666666, 'support': 2.0}, '5': {'precision': 1.0, 'recall': 1.0, 'f1-score': 1.0, 'support': 2.0}, '6': {'precision': 1.0, 'recall': 1.0, 'f1-score': 1.0, 'support': 2.0}, '7': {'precision': 1.0, 'recall': 1.0, 'f1-score': 1.0, 'support': 3.0}, '8': {'precision': 1.0, 'recall': 1.0, 'f1-score': 1.0, 'support': 2.0}, '9': {'precision': 1.0, 'recall': 1.0, 'f1-score': 1.0, 'support': 2.0}, '10': {'precision': 1.0, 'recall': 1.0, 'f1-score': 1.0, 'support': 3.0}, '11': {'precision': 1.0, 'recall': 1.0, 'f1-score': 1.0, 'support': 2.0}, '12': {'precision': 1.0, 'recall': 0.5, 'f1-score': 0.6666666666666666, 'support': 2.0}, '13': {'precision': 1.0, 'recall': 1.0, 'f1-score': 1.0, 'support': 2.0}, '14': {'precision': 1.0, 'recall': 0.6666666666666666, 'f1-score': 0.8, 'support': 3.0}, '15': {'precision': 1.0, 'recall': 1.0, 'f1-score': 1.0, 'support': 2.0}, '16': {'precision': 1.0, 'recall': 1.0, 'f1-score': 1.0, 'support': 2.0}, '17': {'precision': 1.0, 'recall': 1.0, 'f1-score': 1.0, 'support': 2.0}, '18': {'precision': 0.0, 'recall': 0.0, 'f1-score': 0.0, 'support': 2.0}, '19': {'precision': 0.0, 'recall': 0.0, 'f1-score': 0.0, 'support': 2.0}, '20': {'precision': 0.0, 'recall': 0.0, 'f1-score': 0.0, 'support': 2.0}, '21': {'precision': 0.3333333333333333, 'recall': 0.6666666666666666, 'f1-score': 0.4444444444444444, 'support': 3.0}, '22': {'precision': 0.0, 'recall': 0.0, 'f1-score': 0.0, 'support': 2.0}, '23': {'precision': 0.0, 'recall': 0.0, 'f1-score': 0.0, 'support': 3.0}, '24': {'precision': 0.0, 'recall': 0.0, 'f1-score': 0.0, 'support': 2.0}, '25': {'precision': 0.16666666666666666, 'recall': 0.3333333333333333, 'f1-score': 0.2222222222222222, 'support': 3.0}, '26': {'precision': 0.0, 'recall': 0.0, 'f1-score': 0.0, 'support': 2.0}, '27': {'precision': 0.0, 'recall': 0.0, 'f1-score': 0.0, 'support': 2.0}, '28': {'precision': 0.25, 'recall': 1.0, 'f1-score': 0.4, 'support': 2.0}, '29': {'precision': 0.0, 'recall': 0.0, 'f1-score': 0.0, 'support': 2.0}, '30': {'precision': 0.0, 'recall': 0.0, 'f1-score': 0.0, 'support': 2.0}, '31': {'precision': 0.0, 'recall': 0.0, 'f1-score': 0.0, 'support': 3.0}, '32': {'precision': 0.0, 'recall': 0.0, 'f1-score': 0.0, 'support': 2.0}, '33': {'precision': 0.0, 'recall': 0.0, 'f1-score': 0.0, 'support': 2.0}, '34': {'precision': 0.0, 'recall': 0.0, 'f1-score': 0.0, 'support': 2.0}, '35': {'precision': 0.0, 'recall': 0.0, 'f1-score': 0.0, 'support': 3.0}, '36': {'precision': 0.0, 'recall': 0.0, 'f1-score': 0.0, 'support': 2.0}, '37': {'precision': 0.2222222222222222, 'recall': 1.0, 'f1-score': 0.36363636363636365, 'support': 2.0}, '38': {'precision': 0.0, 'recall': 0.0, 'f1-score': 0.0, 'support': 2.0}, '39': {'precision': 0.0, 'recall': 0.0, 'f1-score': 0.0, 'support': 2.0}, '40': {'precision': 0.0, 'recall': 0.0, 'f1-score': 0.0, 'support': 2.0}, '41': {'precision': 0.0, 'recall': 0.0, 'f1-score': 0.0, 'support': 2.0}, '42': {'precision': 1.0, 'recall': 1.0, 'f1-score': 1.0, 'support': 2.0}, 'accuracy': 0.4574468085106383, 'macro avg': {'precision': 0.4412144702842377, 'recall': 0.45736434108527124, 'f1-score': 0.42783650458069067, 'support': 94.0}, 'weighted avg': {'precision': 0.4408983451536643, 'recall': 0.4574468085106383, 'f1-score': 0.42830431979368155, 'support': 94.0}}\n",
      "\n",
      "evaluation : {'loss': 2.079535722732544, 'accuracy': 0.457446813583374}\n",
      "--- Script d'Entraînement Terminé en 135.32 secondes ---\n"
     ]
    },
    {
     "data": {
      "text/plain": [
       "<Figure size 1200x500 with 2 Axes>"
      ],
      "image/png": "[encoded data removed]"
     },
     "metadata": {},
     "output_type": "display_data"
    }
   ],
   "execution_count": 11
  },
  {
   "metadata": {},
   "cell_type": "markdown",
   "source": "# Predict",
   "id": "c54fd60cf1398647"
  },
  {
   "metadata": {
    "ExecuteTime": {
     "end_time": "2025-04-25T16:04:59.169952Z",
     "start_time": "2025-04-25T16:04:59.102202Z"
    }
   },
   "cell_type": "code",
   "source": [
    "X, y, label_encoder = mlc.MLController.get_data_from_db(DB_PATH)\n",
    "print(f\"(nb_image, width, height, dim) : {X.shape}\")"
   ],
   "id": "4c67f0be2814f844",
   "outputs": [
    {
     "name": "stdout",
     "output_type": "stream",
     "text": [
      "(nb_image, width, height, dim) : (467, 100, 100, 3)\n"
     ]
    }
   ],
   "execution_count": 12
  },
  {
   "metadata": {
    "ExecuteTime": {
     "end_time": "2025-04-25T16:21:54.458908Z",
     "start_time": "2025-04-25T16:21:54.453867Z"
    }
   },
   "cell_type": "code",
   "source": [
    "import numpy as np\n",
    "from PIL import Image\n",
    "\n",
    "def reshape_image(image, input_shape: (int, int)):\n",
    "    img_resized = np.array(Image.fromarray(image).resize(input_shape))\n",
    "    if img_resized.ndim == 3:\n",
    "        img_gray = np.dot(img_resized[..., :3], [0.2989, 0.5870, 0.1140])[..., np.newaxis]\n",
    "    elif img_resized.ndim == 2:\n",
    "        img_gray = img_resized[..., np.newaxis]\n",
    "    else:\n",
    "        img_gray = img_resized\n",
    "    return img_gray"
   ],
   "id": "1767203ac14320ab",
   "outputs": [],
   "execution_count": 50
  },
  {
   "metadata": {
    "ExecuteTime": {
     "end_time": "2025-04-25T15:53:09.489436Z",
     "start_time": "2025-04-25T15:53:09.482460Z"
    }
   },
   "cell_type": "code",
   "source": [
    "# Image to predict\n",
    "index = 30\n",
    "\n",
    "img_to_predict = reshape_image(X[index], (WIDTH, HEIGHT))\n",
    "true_result = y[index]\n",
    "img_to_predict.shape"
   ],
   "id": "2d411121f1eaff81",
   "outputs": [
    {
     "data": {
      "text/plain": [
       "(100, 100, 1)"
      ]
     },
     "execution_count": 29,
     "metadata": {},
     "output_type": "execute_result"
    }
   ],
   "execution_count": 29
  },
  {
   "metadata": {
    "ExecuteTime": {
     "end_time": "2025-04-25T16:06:18.374170Z",
     "start_time": "2025-04-25T16:06:18.044625Z"
    }
   },
   "cell_type": "code",
   "source": [
    "# Image to predict\n",
    "index = 30\n",
    "\n",
    "img_to_predict = X[index]\n",
    "true_result = y[index]\n",
    "\n",
    "# Make a prediction\n",
    "prediction = mlc.predict_image(img_to_predict, model_save_dir=MODEL_SAVE_DIR)\n",
    "\n",
    "# Result\n",
    "print(f\"prediction: {prediction}\")\n",
    "print(f\"true_result: {true_result}\")\n",
    "print(f\"The model is correct: {prediction==true_result}\")"
   ],
   "id": "f5b96f5c25db1fb6",
   "outputs": [
    {
     "name": "stderr",
     "output_type": "stream",
     "text": [
      "WARNING:absl:Compiled the loaded model, but the compiled metrics have yet to be built. `model.compile_metrics` will be empty until you train or evaluate the model.\n"
     ]
    },
    {
     "name": "stdout",
     "output_type": "stream",
     "text": [
      "LabelEncoder chargé depuis : ..\\data\\models\\trained\\simple_cnn_lfw_anony_v1_label_encoder.joblib\n"
     ]
    },
    {
     "ename": "ValueError",
     "evalue": "Exception encountered when calling Functional.call().\n\n\u001B[1mInput 0 of layer \"conv1_1\" is incompatible with the layer: expected axis -1 of input shape to have value 1, but received input with shape (1, 100, 100, 3)\u001B[0m\n\nArguments received by Functional.call():\n  • inputs=tf.Tensor(shape=(1, 100, 100, 3), dtype=float32)\n  • training=False\n  • mask=None",
     "output_type": "error",
     "traceback": [
      "\u001B[31m---------------------------------------------------------------------------\u001B[39m",
      "\u001B[31mValueError\u001B[39m                                Traceback (most recent call last)",
      "\u001B[36mCell\u001B[39m\u001B[36m \u001B[39m\u001B[32mIn[17]\u001B[39m\u001B[32m, line 8\u001B[39m\n\u001B[32m      5\u001B[39m true_result = y[index]\n\u001B[32m      7\u001B[39m \u001B[38;5;66;03m# Make a prediction\u001B[39;00m\n\u001B[32m----> \u001B[39m\u001B[32m8\u001B[39m prediction = \u001B[43mmlc\u001B[49m\u001B[43m.\u001B[49m\u001B[43mpredict_image\u001B[49m\u001B[43m(\u001B[49m\u001B[43mimg_to_predict\u001B[49m\u001B[43m,\u001B[49m\u001B[43m \u001B[49m\u001B[43mmodel_save_dir\u001B[49m\u001B[43m=\u001B[49m\u001B[43mMODEL_SAVE_DIR\u001B[49m\u001B[43m)\u001B[49m\n\u001B[32m     10\u001B[39m \u001B[38;5;66;03m# Result\u001B[39;00m\n\u001B[32m     11\u001B[39m \u001B[38;5;28mprint\u001B[39m(\u001B[33mf\u001B[39m\u001B[33m\"\u001B[39m\u001B[33mprediction: \u001B[39m\u001B[38;5;132;01m{\u001B[39;00mprediction\u001B[38;5;132;01m}\u001B[39;00m\u001B[33m\"\u001B[39m)\n",
      "\u001B[36mFile \u001B[39m\u001B[32mD:\\myDocs\\Apprentissage\\Isep\\Year_3\\Brno-Privacy_Preserving_Face_Recognition_Project\\src\\controller\\ml_controller.py:1060\u001B[39m, in \u001B[36mpredict_image\u001B[39m\u001B[34m(image_array, model_save_dir, model_name, input_shape, show_logs)\u001B[39m\n\u001B[32m   1057\u001B[39m image_array = image_array.astype(\u001B[33m\"\u001B[39m\u001B[33mfloat32\u001B[39m\u001B[33m\"\u001B[39m) / \u001B[32m255.0\u001B[39m\n\u001B[32m   1059\u001B[39m \u001B[38;5;66;03m# --- 4. Prédiction ---\u001B[39;00m\n\u001B[32m-> \u001B[39m\u001B[32m1060\u001B[39m prediction_probabilities = \u001B[43mmodel\u001B[49m\u001B[43m.\u001B[49m\u001B[43mpredict\u001B[49m\u001B[43m(\u001B[49m\u001B[43mimage_array\u001B[49m\u001B[43m)\u001B[49m\n\u001B[32m   1061\u001B[39m predicted_index = np.argmax(prediction_probabilities[\u001B[32m0\u001B[39m])\n\u001B[32m   1062\u001B[39m prediction_confidence = prediction_probabilities[\u001B[32m0\u001B[39m][predicted_index]\n",
      "\u001B[36mFile \u001B[39m\u001B[32mD:\\myDocs\\Apprentissage\\Isep\\Year_3\\Brno-Privacy_Preserving_Face_Recognition_Project\\venv\\Lib\\site-packages\\keras\\src\\utils\\traceback_utils.py:122\u001B[39m, in \u001B[36mfilter_traceback.<locals>.error_handler\u001B[39m\u001B[34m(*args, **kwargs)\u001B[39m\n\u001B[32m    119\u001B[39m     filtered_tb = _process_traceback_frames(e.__traceback__)\n\u001B[32m    120\u001B[39m     \u001B[38;5;66;03m# To get the full stack trace, call:\u001B[39;00m\n\u001B[32m    121\u001B[39m     \u001B[38;5;66;03m# `keras.config.disable_traceback_filtering()`\u001B[39;00m\n\u001B[32m--> \u001B[39m\u001B[32m122\u001B[39m     \u001B[38;5;28;01mraise\u001B[39;00m e.with_traceback(filtered_tb) \u001B[38;5;28;01mfrom\u001B[39;00m\u001B[38;5;250m \u001B[39m\u001B[38;5;28;01mNone\u001B[39;00m\n\u001B[32m    123\u001B[39m \u001B[38;5;28;01mfinally\u001B[39;00m:\n\u001B[32m    124\u001B[39m     \u001B[38;5;28;01mdel\u001B[39;00m filtered_tb\n",
      "\u001B[36mFile \u001B[39m\u001B[32mD:\\myDocs\\Apprentissage\\Isep\\Year_3\\Brno-Privacy_Preserving_Face_Recognition_Project\\venv\\Lib\\site-packages\\keras\\src\\layers\\input_spec.py:227\u001B[39m, in \u001B[36massert_input_compatibility\u001B[39m\u001B[34m(input_spec, inputs, layer_name)\u001B[39m\n\u001B[32m    222\u001B[39m     \u001B[38;5;28;01mfor\u001B[39;00m axis, value \u001B[38;5;129;01min\u001B[39;00m spec.axes.items():\n\u001B[32m    223\u001B[39m         \u001B[38;5;28;01mif\u001B[39;00m value \u001B[38;5;129;01mis\u001B[39;00m \u001B[38;5;129;01mnot\u001B[39;00m \u001B[38;5;28;01mNone\u001B[39;00m \u001B[38;5;129;01mand\u001B[39;00m shape[axis] \u001B[38;5;129;01mnot\u001B[39;00m \u001B[38;5;129;01min\u001B[39;00m {\n\u001B[32m    224\u001B[39m             value,\n\u001B[32m    225\u001B[39m             \u001B[38;5;28;01mNone\u001B[39;00m,\n\u001B[32m    226\u001B[39m         }:\n\u001B[32m--> \u001B[39m\u001B[32m227\u001B[39m             \u001B[38;5;28;01mraise\u001B[39;00m \u001B[38;5;167;01mValueError\u001B[39;00m(\n\u001B[32m    228\u001B[39m                 \u001B[33mf\u001B[39m\u001B[33m'\u001B[39m\u001B[33mInput \u001B[39m\u001B[38;5;132;01m{\u001B[39;00minput_index\u001B[38;5;132;01m}\u001B[39;00m\u001B[33m of layer \u001B[39m\u001B[33m\"\u001B[39m\u001B[38;5;132;01m{\u001B[39;00mlayer_name\u001B[38;5;132;01m}\u001B[39;00m\u001B[33m\"\u001B[39m\u001B[33m is \u001B[39m\u001B[33m'\u001B[39m\n\u001B[32m    229\u001B[39m                 \u001B[33mf\u001B[39m\u001B[33m\"\u001B[39m\u001B[33mincompatible with the layer: expected axis \u001B[39m\u001B[38;5;132;01m{\u001B[39;00maxis\u001B[38;5;132;01m}\u001B[39;00m\u001B[33m \u001B[39m\u001B[33m\"\u001B[39m\n\u001B[32m    230\u001B[39m                 \u001B[33mf\u001B[39m\u001B[33m\"\u001B[39m\u001B[33mof input shape to have value \u001B[39m\u001B[38;5;132;01m{\u001B[39;00mvalue\u001B[38;5;132;01m}\u001B[39;00m\u001B[33m, \u001B[39m\u001B[33m\"\u001B[39m\n\u001B[32m    231\u001B[39m                 \u001B[33m\"\u001B[39m\u001B[33mbut received input with \u001B[39m\u001B[33m\"\u001B[39m\n\u001B[32m    232\u001B[39m                 \u001B[33mf\u001B[39m\u001B[33m\"\u001B[39m\u001B[33mshape \u001B[39m\u001B[38;5;132;01m{\u001B[39;00mshape\u001B[38;5;132;01m}\u001B[39;00m\u001B[33m\"\u001B[39m\n\u001B[32m    233\u001B[39m             )\n\u001B[32m    234\u001B[39m \u001B[38;5;66;03m# Check shape.\u001B[39;00m\n\u001B[32m    235\u001B[39m \u001B[38;5;28;01mif\u001B[39;00m spec.shape \u001B[38;5;129;01mis\u001B[39;00m \u001B[38;5;129;01mnot\u001B[39;00m \u001B[38;5;28;01mNone\u001B[39;00m:\n",
      "\u001B[31mValueError\u001B[39m: Exception encountered when calling Functional.call().\n\n\u001B[1mInput 0 of layer \"conv1_1\" is incompatible with the layer: expected axis -1 of input shape to have value 1, but received input with shape (1, 100, 100, 3)\u001B[0m\n\nArguments received by Functional.call():\n  • inputs=tf.Tensor(shape=(1, 100, 100, 3), dtype=float32)\n  • training=False\n  • mask=None"
     ]
    }
   ],
   "execution_count": 17
  },
  {
   "metadata": {
    "ExecuteTime": {
     "end_time": "2025-04-25T16:16:22.863805Z",
     "start_time": "2025-04-25T16:16:22.857854Z"
    }
   },
   "cell_type": "code",
   "source": [
    "from tensorflow.keras.models import load_model\n",
    "import src.modules.data_loader as data_loader\n",
    "import numpy as np\n",
    "from PIL import Image\n",
    "\n",
    "image_array= img_to_predict\n",
    "model_save_dir: str = 'models/trained/'\n",
    "model_name: str = 'simple_cnn_lfw_anony_v1'\n",
    "input_shape: tuple = (100, 100, 1)\n",
    "show_logs = False"
   ],
   "id": "baf418f4f9b6b791",
   "outputs": [],
   "execution_count": 31
  },
  {
   "metadata": {
    "ExecuteTime": {
     "end_time": "2025-04-25T16:18:02.003921Z",
     "start_time": "2025-04-25T16:18:01.960416Z"
    }
   },
   "cell_type": "code",
   "source": [
    "img_to_predict = X[index]\n",
    "true_result = y[index]\n",
    "\n",
    "img_to_predict.shape\n",
    "\n",
    "width, height, _ = input_shape\n",
    "image_array = Image.fromarray(image_array)\n"
   ],
   "id": "ccb8c8fd2d885457",
   "outputs": [
    {
     "ename": "TypeError",
     "evalue": "Cannot handle this data type: (1, 1, 100, 3), <f4",
     "output_type": "error",
     "traceback": [
      "\u001B[31m---------------------------------------------------------------------------\u001B[39m",
      "\u001B[31mKeyError\u001B[39m                                  Traceback (most recent call last)",
      "\u001B[36mFile \u001B[39m\u001B[32mD:\\myDocs\\Apprentissage\\Isep\\Year_3\\Brno-Privacy_Preserving_Face_Recognition_Project\\venv\\Lib\\site-packages\\PIL\\Image.py:3098\u001B[39m, in \u001B[36mfromarray\u001B[39m\u001B[34m(obj, mode)\u001B[39m\n\u001B[32m   3097\u001B[39m \u001B[38;5;28;01mtry\u001B[39;00m:\n\u001B[32m-> \u001B[39m\u001B[32m3098\u001B[39m     mode, rawmode = \u001B[43m_fromarray_typemap\u001B[49m\u001B[43m[\u001B[49m\u001B[43mtypekey\u001B[49m\u001B[43m]\u001B[49m\n\u001B[32m   3099\u001B[39m \u001B[38;5;28;01mexcept\u001B[39;00m \u001B[38;5;167;01mKeyError\u001B[39;00m \u001B[38;5;28;01mas\u001B[39;00m e:\n",
      "\u001B[31mKeyError\u001B[39m: ((1, 1, 100, 3), '<f4')",
      "\nThe above exception was the direct cause of the following exception:\n",
      "\u001B[31mTypeError\u001B[39m                                 Traceback (most recent call last)",
      "\u001B[36mCell\u001B[39m\u001B[36m \u001B[39m\u001B[32mIn[41]\u001B[39m\u001B[32m, line 7\u001B[39m\n\u001B[32m      4\u001B[39m img_to_predict.shape\n\u001B[32m      6\u001B[39m width, height, _ = input_shape\n\u001B[32m----> \u001B[39m\u001B[32m7\u001B[39m image_array = \u001B[43mImage\u001B[49m\u001B[43m.\u001B[49m\u001B[43mfromarray\u001B[49m\u001B[43m(\u001B[49m\u001B[43mimage_array\u001B[49m\u001B[43m)\u001B[49m\n",
      "\u001B[36mFile \u001B[39m\u001B[32mD:\\myDocs\\Apprentissage\\Isep\\Year_3\\Brno-Privacy_Preserving_Face_Recognition_Project\\venv\\Lib\\site-packages\\PIL\\Image.py:3102\u001B[39m, in \u001B[36mfromarray\u001B[39m\u001B[34m(obj, mode)\u001B[39m\n\u001B[32m   3100\u001B[39m         typekey_shape, typestr = typekey\n\u001B[32m   3101\u001B[39m         msg = \u001B[33mf\u001B[39m\u001B[33m\"\u001B[39m\u001B[33mCannot handle this data type: \u001B[39m\u001B[38;5;132;01m{\u001B[39;00mtypekey_shape\u001B[38;5;132;01m}\u001B[39;00m\u001B[33m, \u001B[39m\u001B[38;5;132;01m{\u001B[39;00mtypestr\u001B[38;5;132;01m}\u001B[39;00m\u001B[33m\"\u001B[39m\n\u001B[32m-> \u001B[39m\u001B[32m3102\u001B[39m         \u001B[38;5;28;01mraise\u001B[39;00m \u001B[38;5;167;01mTypeError\u001B[39;00m(msg) \u001B[38;5;28;01mfrom\u001B[39;00m\u001B[38;5;250m \u001B[39m\u001B[34;01me\u001B[39;00m\n\u001B[32m   3103\u001B[39m \u001B[38;5;28;01melse\u001B[39;00m:\n\u001B[32m   3104\u001B[39m     rawmode = mode\n",
      "\u001B[31mTypeError\u001B[39m: Cannot handle this data type: (1, 1, 100, 3), <f4"
     ]
    }
   ],
   "execution_count": 41
  },
  {
   "metadata": {
    "ExecuteTime": {
     "end_time": "2025-04-25T16:19:55.645079Z",
     "start_time": "2025-04-25T16:19:55.571591Z"
    }
   },
   "cell_type": "code",
   "source": "prediction_probabilities = model.predict(image_array)\n",
   "id": "551735f865cb8137",
   "outputs": [
    {
     "ename": "ValueError",
     "evalue": "Exception encountered when calling Functional.call().\n\n\u001B[1mInput 0 of layer \"conv1_1\" is incompatible with the layer: expected axis -1 of input shape to have value 1, but received input with shape (1, 100, 100, 3)\u001B[0m\n\nArguments received by Functional.call():\n  • inputs=tf.Tensor(shape=(1, 100, 100, 3), dtype=float32)\n  • training=False\n  • mask=None",
     "output_type": "error",
     "traceback": [
      "\u001B[31m---------------------------------------------------------------------------\u001B[39m",
      "\u001B[31mValueError\u001B[39m                                Traceback (most recent call last)",
      "\u001B[36mCell\u001B[39m\u001B[36m \u001B[39m\u001B[32mIn[48]\u001B[39m\u001B[32m, line 1\u001B[39m\n\u001B[32m----> \u001B[39m\u001B[32m1\u001B[39m prediction_probabilities = \u001B[43mmodel\u001B[49m\u001B[43m.\u001B[49m\u001B[43mpredict\u001B[49m\u001B[43m(\u001B[49m\u001B[43mimage_array\u001B[49m\u001B[43m)\u001B[49m\n",
      "\u001B[36mFile \u001B[39m\u001B[32mD:\\myDocs\\Apprentissage\\Isep\\Year_3\\Brno-Privacy_Preserving_Face_Recognition_Project\\venv\\Lib\\site-packages\\keras\\src\\utils\\traceback_utils.py:122\u001B[39m, in \u001B[36mfilter_traceback.<locals>.error_handler\u001B[39m\u001B[34m(*args, **kwargs)\u001B[39m\n\u001B[32m    119\u001B[39m     filtered_tb = _process_traceback_frames(e.__traceback__)\n\u001B[32m    120\u001B[39m     \u001B[38;5;66;03m# To get the full stack trace, call:\u001B[39;00m\n\u001B[32m    121\u001B[39m     \u001B[38;5;66;03m# `keras.config.disable_traceback_filtering()`\u001B[39;00m\n\u001B[32m--> \u001B[39m\u001B[32m122\u001B[39m     \u001B[38;5;28;01mraise\u001B[39;00m e.with_traceback(filtered_tb) \u001B[38;5;28;01mfrom\u001B[39;00m\u001B[38;5;250m \u001B[39m\u001B[38;5;28;01mNone\u001B[39;00m\n\u001B[32m    123\u001B[39m \u001B[38;5;28;01mfinally\u001B[39;00m:\n\u001B[32m    124\u001B[39m     \u001B[38;5;28;01mdel\u001B[39;00m filtered_tb\n",
      "\u001B[36mFile \u001B[39m\u001B[32mD:\\myDocs\\Apprentissage\\Isep\\Year_3\\Brno-Privacy_Preserving_Face_Recognition_Project\\venv\\Lib\\site-packages\\keras\\src\\layers\\input_spec.py:227\u001B[39m, in \u001B[36massert_input_compatibility\u001B[39m\u001B[34m(input_spec, inputs, layer_name)\u001B[39m\n\u001B[32m    222\u001B[39m     \u001B[38;5;28;01mfor\u001B[39;00m axis, value \u001B[38;5;129;01min\u001B[39;00m spec.axes.items():\n\u001B[32m    223\u001B[39m         \u001B[38;5;28;01mif\u001B[39;00m value \u001B[38;5;129;01mis\u001B[39;00m \u001B[38;5;129;01mnot\u001B[39;00m \u001B[38;5;28;01mNone\u001B[39;00m \u001B[38;5;129;01mand\u001B[39;00m shape[axis] \u001B[38;5;129;01mnot\u001B[39;00m \u001B[38;5;129;01min\u001B[39;00m {\n\u001B[32m    224\u001B[39m             value,\n\u001B[32m    225\u001B[39m             \u001B[38;5;28;01mNone\u001B[39;00m,\n\u001B[32m    226\u001B[39m         }:\n\u001B[32m--> \u001B[39m\u001B[32m227\u001B[39m             \u001B[38;5;28;01mraise\u001B[39;00m \u001B[38;5;167;01mValueError\u001B[39;00m(\n\u001B[32m    228\u001B[39m                 \u001B[33mf\u001B[39m\u001B[33m'\u001B[39m\u001B[33mInput \u001B[39m\u001B[38;5;132;01m{\u001B[39;00minput_index\u001B[38;5;132;01m}\u001B[39;00m\u001B[33m of layer \u001B[39m\u001B[33m\"\u001B[39m\u001B[38;5;132;01m{\u001B[39;00mlayer_name\u001B[38;5;132;01m}\u001B[39;00m\u001B[33m\"\u001B[39m\u001B[33m is \u001B[39m\u001B[33m'\u001B[39m\n\u001B[32m    229\u001B[39m                 \u001B[33mf\u001B[39m\u001B[33m\"\u001B[39m\u001B[33mincompatible with the layer: expected axis \u001B[39m\u001B[38;5;132;01m{\u001B[39;00maxis\u001B[38;5;132;01m}\u001B[39;00m\u001B[33m \u001B[39m\u001B[33m\"\u001B[39m\n\u001B[32m    230\u001B[39m                 \u001B[33mf\u001B[39m\u001B[33m\"\u001B[39m\u001B[33mof input shape to have value \u001B[39m\u001B[38;5;132;01m{\u001B[39;00mvalue\u001B[38;5;132;01m}\u001B[39;00m\u001B[33m, \u001B[39m\u001B[33m\"\u001B[39m\n\u001B[32m    231\u001B[39m                 \u001B[33m\"\u001B[39m\u001B[33mbut received input with \u001B[39m\u001B[33m\"\u001B[39m\n\u001B[32m    232\u001B[39m                 \u001B[33mf\u001B[39m\u001B[33m\"\u001B[39m\u001B[33mshape \u001B[39m\u001B[38;5;132;01m{\u001B[39;00mshape\u001B[38;5;132;01m}\u001B[39;00m\u001B[33m\"\u001B[39m\n\u001B[32m    233\u001B[39m             )\n\u001B[32m    234\u001B[39m \u001B[38;5;66;03m# Check shape.\u001B[39;00m\n\u001B[32m    235\u001B[39m \u001B[38;5;28;01mif\u001B[39;00m spec.shape \u001B[38;5;129;01mis\u001B[39;00m \u001B[38;5;129;01mnot\u001B[39;00m \u001B[38;5;28;01mNone\u001B[39;00m:\n",
      "\u001B[31mValueError\u001B[39m: Exception encountered when calling Functional.call().\n\n\u001B[1mInput 0 of layer \"conv1_1\" is incompatible with the layer: expected axis -1 of input shape to have value 1, but received input with shape (1, 100, 100, 3)\u001B[0m\n\nArguments received by Functional.call():\n  • inputs=tf.Tensor(shape=(1, 100, 100, 3), dtype=float32)\n  • training=False\n  • mask=None"
     ]
    }
   ],
   "execution_count": 48
  },
  {
   "metadata": {
    "ExecuteTime": {
     "end_time": "2025-04-25T16:24:11.400509Z",
     "start_time": "2025-04-25T16:24:11.393146Z"
    }
   },
   "cell_type": "code",
   "source": "img_to_predict.shape",
   "id": "380a56493cec4e8",
   "outputs": [
    {
     "data": {
      "text/plain": [
       "(100, 100, 3)"
      ]
     },
     "execution_count": 54,
     "metadata": {},
     "output_type": "execute_result"
    }
   ],
   "execution_count": 54
  },
  {
   "metadata": {
    "ExecuteTime": {
     "end_time": "2025-04-25T16:38:43.273876Z",
     "start_time": "2025-04-25T16:38:43.105320Z"
    }
   },
   "cell_type": "code",
   "source": [
    "image_array = img_to_predict\n",
    "\n",
    "if show_logs: print(\"--- Démarrage du Script de Prédiction ---\")\n",
    "start_time = time.time()\n",
    "\n",
    "# --- 1. Charger Configuration et Chemins ---\n",
    "model_filepath = os.path.join(model_save_dir, f\"{model_name}.h5\")\n",
    "encoder_filepath = os.path.join(model_save_dir, f\"{model_name}_label_encoder.joblib\")\n",
    "\n",
    "if show_logs:\n",
    "    print(f\"  - Modèle utilisé: {model_filepath}\")\n",
    "    print(f\"  - Encodeur utilisé: {encoder_filepath}\")\n",
    "    print(f\"  - Image à prédire: tableau NumPy, shape={image_array.shape}\")\n",
    "\n",
    "# --- 2. Charger Modèle et Encodeur ---\n",
    "if not os.path.exists(model_filepath):\n",
    "    raise FileNotFoundError(f\"Modèle introuvable: {model_filepath}\")\n",
    "model = load_model(model_filepath)\n",
    "\n",
    "label_encoder = data_loader.load_label_encoder(encoder_filepath)\n",
    "if label_encoder is None:\n",
    "    raise ValueError(\"Erreur: Encodeur de labels introuvable ou invalide\")\n",
    "\n",
    "# --- 3. Prétraitement de l’image ---\n",
    "width, height, _ = input_shape\n",
    "#image_array = np.array(Image.fromarray(image_array).resize((width, height)))\n",
    "print('$$$')\n",
    "image_array = reshape_image(image_array, (width, height))\n",
    "\n",
    "image_array = image_array.astype(\"float32\") / 255.0\n",
    "\n",
    "print('***')\n",
    "print(image_array.shape)\n",
    "# --- 4. Prédiction ---\n",
    "prediction_probabilities = model.predict(image_array)\n",
    "predicted_index = np.argmax(prediction_probabilities[0])\n",
    "prediction_confidence = prediction_probabilities[0][predicted_index]\n",
    "predicted_label = label_encoder.inverse_transform([predicted_index])[0]\n",
    "print('---')\n",
    "\n",
    "if show_logs:\n",
    "    print(\"\\n--- Résultat de la Prédiction ---\")\n",
    "    print(f\"  - Identité Prédite : {predicted_label}\")\n",
    "    print(f\"  - Confiance : {prediction_confidence:.4f} ({prediction_confidence*100:.2f}%)\")\n",
    "\n",
    "    print(f\"--- Script terminé en {time.time() - start_time:.2f} secondes ---\")\n"
   ],
   "id": "4a041a5a7ef744f",
   "outputs": [
    {
     "name": "stderr",
     "output_type": "stream",
     "text": [
      "WARNING:absl:Compiled the loaded model, but the compiled metrics have yet to be built. `model.compile_metrics` will be empty until you train or evaluate the model.\n"
     ]
    },
    {
     "name": "stdout",
     "output_type": "stream",
     "text": [
      "LabelEncoder chargé depuis : models/trained/simple_cnn_lfw_anony_v1_label_encoder.joblib\n",
      "$$$\n",
      "***\n",
      "(100, 100, 1)\n"
     ]
    },
    {
     "ename": "ValueError",
     "evalue": "Exception encountered when calling MaxPooling2D.call().\n\n\u001B[1mNegative dimension size caused by subtracting 2 from 1 for '{{node simple_cnn_1/pool1_1/MaxPool2d}} = MaxPool[T=DT_FLOAT, data_format=\"NHWC\", explicit_paddings=[], ksize=[1, 2, 2, 1], padding=\"VALID\", strides=[1, 2, 2, 1]](simple_cnn_1/bn1_2_1/batchnorm/add_1)' with input shapes: [32,100,1,32].\u001B[0m\n\nArguments received by MaxPooling2D.call():\n  • inputs=tf.Tensor(shape=(32, 100, 1, 32), dtype=float32)",
     "output_type": "error",
     "traceback": [
      "\u001B[31m---------------------------------------------------------------------------\u001B[39m",
      "\u001B[31mValueError\u001B[39m                                Traceback (most recent call last)",
      "\u001B[36mCell\u001B[39m\u001B[36m \u001B[39m\u001B[32mIn[59]\u001B[39m\u001B[32m, line 35\u001B[39m\n\u001B[32m     33\u001B[39m \u001B[38;5;28mprint\u001B[39m(image_array.shape)\n\u001B[32m     34\u001B[39m \u001B[38;5;66;03m# --- 4. Prédiction ---\u001B[39;00m\n\u001B[32m---> \u001B[39m\u001B[32m35\u001B[39m prediction_probabilities = \u001B[43mmodel\u001B[49m\u001B[43m.\u001B[49m\u001B[43mpredict\u001B[49m\u001B[43m(\u001B[49m\u001B[43mimage_array\u001B[49m\u001B[43m)\u001B[49m\n\u001B[32m     36\u001B[39m predicted_index = np.argmax(prediction_probabilities[\u001B[32m0\u001B[39m])\n\u001B[32m     37\u001B[39m prediction_confidence = prediction_probabilities[\u001B[32m0\u001B[39m][predicted_index]\n",
      "\u001B[36mFile \u001B[39m\u001B[32mD:\\myDocs\\Apprentissage\\Isep\\Year_3\\Brno-Privacy_Preserving_Face_Recognition_Project\\venv\\Lib\\site-packages\\keras\\src\\utils\\traceback_utils.py:122\u001B[39m, in \u001B[36mfilter_traceback.<locals>.error_handler\u001B[39m\u001B[34m(*args, **kwargs)\u001B[39m\n\u001B[32m    119\u001B[39m     filtered_tb = _process_traceback_frames(e.__traceback__)\n\u001B[32m    120\u001B[39m     \u001B[38;5;66;03m# To get the full stack trace, call:\u001B[39;00m\n\u001B[32m    121\u001B[39m     \u001B[38;5;66;03m# `keras.config.disable_traceback_filtering()`\u001B[39;00m\n\u001B[32m--> \u001B[39m\u001B[32m122\u001B[39m     \u001B[38;5;28;01mraise\u001B[39;00m e.with_traceback(filtered_tb) \u001B[38;5;28;01mfrom\u001B[39;00m\u001B[38;5;250m \u001B[39m\u001B[38;5;28;01mNone\u001B[39;00m\n\u001B[32m    123\u001B[39m \u001B[38;5;28;01mfinally\u001B[39;00m:\n\u001B[32m    124\u001B[39m     \u001B[38;5;28;01mdel\u001B[39;00m filtered_tb\n",
      "\u001B[36mFile \u001B[39m\u001B[32mD:\\myDocs\\Apprentissage\\Isep\\Year_3\\Brno-Privacy_Preserving_Face_Recognition_Project\\venv\\Lib\\site-packages\\keras\\src\\utils\\traceback_utils.py:122\u001B[39m, in \u001B[36mfilter_traceback.<locals>.error_handler\u001B[39m\u001B[34m(*args, **kwargs)\u001B[39m\n\u001B[32m    119\u001B[39m     filtered_tb = _process_traceback_frames(e.__traceback__)\n\u001B[32m    120\u001B[39m     \u001B[38;5;66;03m# To get the full stack trace, call:\u001B[39;00m\n\u001B[32m    121\u001B[39m     \u001B[38;5;66;03m# `keras.config.disable_traceback_filtering()`\u001B[39;00m\n\u001B[32m--> \u001B[39m\u001B[32m122\u001B[39m     \u001B[38;5;28;01mraise\u001B[39;00m e.with_traceback(filtered_tb) \u001B[38;5;28;01mfrom\u001B[39;00m\u001B[38;5;250m \u001B[39m\u001B[38;5;28;01mNone\u001B[39;00m\n\u001B[32m    123\u001B[39m \u001B[38;5;28;01mfinally\u001B[39;00m:\n\u001B[32m    124\u001B[39m     \u001B[38;5;28;01mdel\u001B[39;00m filtered_tb\n",
      "\u001B[31mValueError\u001B[39m: Exception encountered when calling MaxPooling2D.call().\n\n\u001B[1mNegative dimension size caused by subtracting 2 from 1 for '{{node simple_cnn_1/pool1_1/MaxPool2d}} = MaxPool[T=DT_FLOAT, data_format=\"NHWC\", explicit_paddings=[], ksize=[1, 2, 2, 1], padding=\"VALID\", strides=[1, 2, 2, 1]](simple_cnn_1/bn1_2_1/batchnorm/add_1)' with input shapes: [32,100,1,32].\u001B[0m\n\nArguments received by MaxPooling2D.call():\n  • inputs=tf.Tensor(shape=(32, 100, 1, 32), dtype=float32)"
     ]
    }
   ],
   "execution_count": 59
  }
 ],
 "metadata": {
  "kernelspec": {
   "display_name": "Python 3",
   "language": "python",
   "name": "python3"
  },
  "language_info": {
   "codemirror_mode": {
    "name": "ipython",
    "version": 2
   },
   "file_extension": ".py",
   "mimetype": "text/x-python",
   "name": "python",
   "nbconvert_exporter": "python",
   "pygments_lexer": "ipython2",
   "version": "2.7.6"
  }
 },
 "nbformat": 4,
 "nbformat_minor": 5
}
