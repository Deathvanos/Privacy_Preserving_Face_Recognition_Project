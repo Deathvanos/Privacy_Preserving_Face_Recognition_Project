{
 "cells": [
  {
   "cell_type": "code",
   "id": "153d065b7c437ec2",
   "metadata": {},
   "source": [
    "import os\n",
    "import time\n",
    "import numpy as np\n",
    "from PIL import Image\n",
    "\n",
    "from src.controller import ml_controller as mlc2\n",
    "\n",
    "\n",
    "################## PATH ##################\n",
    "LFW_DATASET_PATH = r\"..\\data\\dataset-lfw_reconstructed\"\n",
    "DB_PATH = r\"..\\data\\gui_database.db\"\n",
    "ML_OUTPUT = r\"..\\data\\ml_models\"\n",
    "MODEL_SAVE_DIR = f'{ML_OUTPUT}/trained'\n",
    "LOG_DIR = f'{ML_OUTPUT}/logs'\n",
    "\n",
    "\n",
    "############# MODEL SETTINGS #############\n",
    "#####--- prepare_data_train_model ---#####\n",
    "INPUT_SHAPE = (100, 100, 1)\n",
    "IMG_WIDTH, IMG_HEIGHT, CHANNELS = INPUT_SHAPE\n",
    "SPLIT_STRATEGY = 'stratified'\n",
    "TEST_SPLIT_RATIO = 0.2\n",
    "VALIDATION_SPLIT_RATIO = 0.15\n",
    "RANDOM_STATE = 42\n",
    "N_TRAIN_PER_SUBJECT = 7\n",
    "#####--- create_model ---#####\n",
    "MODEL_NAME = 'simple_cnn_lfw_anony_v1'\n",
    "MODEL_ARCHITECTURE = 'simple_cnn'\n",
    "LEARNING_RATE = 0.001\n",
    "EARLY_STOPPING_PATIENCE = 10\n",
    "TRANSFER_BASE_MODEL_NAME = 'MobileNetV2'\n",
    "TRANSFER_FREEZE_BASE = True\n",
    "#####--- train_model ---#####\n",
    "BATCH_SIZE = 32\n",
    "EPOCHS = 50\n",
    "##########################################"
   ],
   "outputs": [],
   "execution_count": null
  },
  {
   "cell_type": "markdown",
   "id": "e80ea5458bc51b58",
   "metadata": {},
   "source": [
    "# Import Data"
   ]
  },
  {
   "metadata": {},
   "cell_type": "markdown",
   "source": "### Noised DB dataset",
   "id": "158d3c697c8fa35d"
  },
  {
   "metadata": {},
   "cell_type": "code",
   "source": [
    "X, y, label_encoder = mlc2.MLController.get_data_from_db(DB_PATH)\n",
    "print(f\"(nb_image, width, height, channels) : {X.shape}\")"
   ],
   "id": "a4bd8fb06683e169",
   "outputs": [],
   "execution_count": null
  },
  {
   "metadata": {},
   "cell_type": "markdown",
   "source": "### Noised LFW dataset",
   "id": "8f9dbd59bd7c7471"
  },
  {
   "metadata": {},
   "cell_type": "code",
   "source": [
    "from src.modules.data_loader import load_anonymized_images_flat\n",
    "os.makedirs(LFW_DATASET_PATH, exist_ok=True)\n",
    "\n",
    "X, y, label_encoder = load_anonymized_images_flat(\n",
    "    data_dir=LFW_DATASET_PATH,\n",
    "    img_width=IMG_WIDTH,\n",
    "    img_height=IMG_HEIGHT,\n",
    "    color_mode='grayscale'\n",
    ")\n",
    "\n",
    "if not X.shape and not y.shape and not label_encoder:\n",
    "    raise ValueError('Critical error while loading data. Script stopped..')\n",
    "print(f\"\\n(nb_image, width, height, channels) : {X.shape}\")"
   ],
   "id": "61d47265b29e5f8b",
   "outputs": [],
   "execution_count": null
  },
  {
   "cell_type": "markdown",
   "id": "842a3ffb71c41754",
   "metadata": {},
   "source": [
    "# Train"
   ]
  },
  {
   "metadata": {},
   "cell_type": "code",
   "source": [
    "res = mlc2.prepare_data_train_model(\n",
    "    X, y, label_encoder,\n",
    "    input_shape=INPUT_SHAPE,\n",
    "    split_strategy=SPLIT_STRATEGY,\n",
    "    test_split_ratio=TEST_SPLIT_RATIO,\n",
    "    validation_split_ratio=VALIDATION_SPLIT_RATIO,\n",
    "    random_state=RANDOM_STATE,\n",
    "    n_train_per_subject=N_TRAIN_PER_SUBJECT\n",
    ")\n",
    "num_classes, X_train, y_train, X_test, y_test, X_val, y_val, validation_data = res\n",
    "print(X_train.shape)"
   ],
   "id": "778e8f233d461ee7",
   "outputs": [],
   "execution_count": null
  },
  {
   "metadata": {},
   "cell_type": "code",
   "source": [
    "res = mlc2.create_model(\n",
    "    num_classes,\n",
    "    input_shape=INPUT_SHAPE,\n",
    "    model_save_dir=MODEL_SAVE_DIR,\n",
    "    log_dir=LOG_DIR,\n",
    "    model_name=MODEL_NAME,\n",
    "    model_architecture=MODEL_ARCHITECTURE,\n",
    "    learning_rate=LEARNING_RATE,\n",
    "    early_stopping_patience=EARLY_STOPPING_PATIENCE,\n",
    "    transfer_base_model_name=TRANSFER_BASE_MODEL_NAME,\n",
    "    transfer_freeze_base=TRANSFER_FREEZE_BASE\n",
    ")\n",
    "model, callbacks, model_filepath, summary_text = res"
   ],
   "id": "68ae00f1b76de1a0",
   "outputs": [],
   "execution_count": null
  },
  {
   "metadata": {},
   "cell_type": "code",
   "source": [
    "# Start timer\n",
    "print(\"--- Starting the Training Script ---\")\n",
    "start_time = time.time()\n",
    "\n",
    "# Train Model\n",
    "res = mlc2.train_model(\n",
    "    model,\n",
    "    X_train, y_train, X_test, y_test,\n",
    "    validation_data, callbacks, label_encoder, model_filepath,\n",
    "    model_save_dir=MODEL_SAVE_DIR,\n",
    "    model_name=MODEL_NAME,\n",
    "    batch_size=BATCH_SIZE,\n",
    "    epochs=EPOCHS,\n",
    "\n",
    ")\n",
    "for key, val in res.items(): print(f\"\\n{key} : {val}\")\n",
    "\n",
    "# End timer\n",
    "end_time = time.time()\n",
    "duration = end_time - start_time\n",
    "print(f\"--- Training Script Completed in {duration:.2f} secondes ---\")"
   ],
   "id": "faeab04ffb5d7a71",
   "outputs": [],
   "execution_count": null
  },
  {
   "cell_type": "markdown",
   "id": "cc9ee36ea101e496",
   "metadata": {},
   "source": "# Predict noised image (l'image source ne doit pas etre noised normalement)"
  },
  {
   "metadata": {},
   "cell_type": "code",
   "source": [
    "user = 27\n",
    "image_path = f\"../data/dataset-lfw_reconstructed/reconstructed_{user}_2.png\"\n",
    "image = np.array(Image.open(image_path))\n",
    "\n",
    "result = mlc2.predict_image(image, MODEL_SAVE_DIR, MODEL_NAME, INPUT_SHAPE)\n",
    "predicted_label, prediction_confidence = result\n",
    "print(f\"  - Predicted Identity (Subject ID) : {predicted_label}\")\n",
    "print(f\"  - Trust : {prediction_confidence:.4f} ({prediction_confidence*100:.2f}%)\")"
   ],
   "id": "18dbab7c7272b28",
   "outputs": [],
   "execution_count": null
  }
 ],
 "metadata": {
  "kernelspec": {
   "display_name": "Python 3 (ipykernel)",
   "language": "python",
   "name": "python3"
  },
  "language_info": {
   "codemirror_mode": {
    "name": "ipython",
    "version": 3
   },
   "file_extension": ".py",
   "mimetype": "text/x-python",
   "name": "python",
   "nbconvert_exporter": "python",
   "pygments_lexer": "ipython3",
   "version": "3.12.6"
  }
 },
 "nbformat": 4,
 "nbformat_minor": 5
}
