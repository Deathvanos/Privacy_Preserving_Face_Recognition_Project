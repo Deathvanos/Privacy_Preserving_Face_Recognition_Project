{
 "cells": [
  {
   "metadata": {},
   "cell_type": "markdown",
   "source": "# Train",
   "id": "c58dae2925de0a3f"
  },
  {
   "metadata": {
    "ExecuteTime": {
     "end_time": "2025-04-27T14:16:07.806210Z",
     "start_time": "2025-04-27T14:16:07.802166Z"
    }
   },
   "cell_type": "code",
   "source": [
    "import os\n",
    "import tensorflow as tf\n",
    "from sklearn.model_selection import train_test_split\n",
    "import matplotlib.pyplot as plt\n",
    "import time\n",
    "\n",
    "import src.face_recognition.ml_models as ml_models\n",
    "import src.modules.data_loader as data_loader\n",
    "import src.config as config\n",
    "\n",
    "config.ANONY_IMAGES_PATH = '../data/dataset-lfw_reconstructed'\n",
    "ML_OUTPUT = r\"..\\data\\ml_models\"\n",
    "config.MODEL_SAVE_DIR = f'{ML_OUTPUT}/trained'\n",
    "config.LOG_DIR = f'{ML_OUTPUT}/logs'\n",
    "config.IMG_WIDTH, config.IMG_HEIGHT, config.CHANNELS = (100, 100, 1)\n",
    "\n"
   ],
   "id": "dad1014640b10f77",
   "outputs": [],
   "execution_count": 23
  },
  {
   "metadata": {
    "ExecuteTime": {
     "end_time": "2025-04-27T14:16:09.037039Z",
     "start_time": "2025-04-27T14:16:09.029213Z"
    }
   },
   "cell_type": "code",
   "source": [
    "print(\"--- Démarrage du Script d'Entraînement ---\")\n",
    "start_time = time.time()\n",
    "\n",
    "# --- 1. Chargement de la Configuration ---\n",
    "print(\"Configuration chargée depuis config.py:\")\n",
    "print(f\"  - Dossier Données: {config.ANONY_IMAGES_PATH}\")\n",
    "print(f\"  - Dossier Sauvegarde Modèles: {config.MODEL_SAVE_DIR}\")\n",
    "print(f\"  - Architecture Modèle: {config.MODEL_ARCHITECTURE}\")\n",
    "print(f\"  - Nom Modèle: {config.MODEL_NAME}\")\n",
    "print(f\"  - Dimensions Image: {config.IMG_HEIGHT}x{config.IMG_WIDTH}x{config.CHANNELS}\")\n",
    "print(f\"  - Stratégie Split: {config.SPLIT_STRATEGY}\")\n",
    "print(f\"  - Époques: {config.EPOCHS}, Batch Size: {config.BATCH_SIZE}\")\n",
    "\n",
    "os.makedirs(config.MODEL_SAVE_DIR, exist_ok=True)\n",
    "if hasattr(config, 'LOG_DIR') and config.LOG_DIR:\n",
    "    os.makedirs(config.LOG_DIR, exist_ok=True)\n",
    "    print(f\"  - Dossier Logs TensorBoard: {config.LOG_DIR}\")\n"
   ],
   "id": "b0e82e66df25d313",
   "outputs": [
    {
     "name": "stdout",
     "output_type": "stream",
     "text": [
      "--- Démarrage du Script d'Entraînement ---\n",
      "Configuration chargée depuis config.py:\n",
      "  - Dossier Données: ../data/dataset-lfw_reconstructed\n",
      "  - Dossier Sauvegarde Modèles: ..\\data\\ml_models/trained\n",
      "  - Architecture Modèle: simple_cnn\n",
      "  - Nom Modèle: simple_cnn_lfw_anony_v1\n",
      "  - Dimensions Image: 100x100x1\n",
      "  - Stratégie Split: stratified\n",
      "  - Époques: 50, Batch Size: 32\n",
      "  - Dossier Logs TensorBoard: ..\\data\\ml_models/logs\n"
     ]
    }
   ],
   "execution_count": 24
  },
  {
   "metadata": {
    "ExecuteTime": {
     "end_time": "2025-04-27T14:16:11.419368Z",
     "start_time": "2025-04-27T14:16:11.014461Z"
    }
   },
   "cell_type": "code",
   "source": [
    "# --- 2. Chargement et Préparation des Données ---\n",
    "print(\"\\n--- Chargement des données ---\")\n",
    "X, y, label_encoder = data_loader.load_anonymized_images_flat(\n",
    "    data_dir=config.ANONY_IMAGES_PATH,\n",
    "    img_width=config.IMG_WIDTH,\n",
    "    img_height=config.IMG_HEIGHT,\n",
    "    color_mode=config.COLOR_MODE\n",
    ")\n",
    "\n",
    "if X is None or y is None or label_encoder is None:\n",
    "    print(\"Erreur critique lors du chargement des données. Arrêt du script.\")\n",
    "\n",
    "\n",
    "num_classes = len(label_encoder.classes_)\n",
    "input_shape = (config.IMG_HEIGHT, config.IMG_WIDTH, config.CHANNELS)\n",
    "print(f\"Nombre de classes détectées : {num_classes}\")"
   ],
   "id": "6342e4d0c705d44a",
   "outputs": [
    {
     "name": "stdout",
     "output_type": "stream",
     "text": [
      "\n",
      "--- Chargement des données ---\n",
      "Chargement des images depuis : ../data/dataset-lfw_reconstructed\n",
      "Format attendu : 100x100, mode: grayscale\n",
      "Trouvé 1240 fichiers PNG.\n",
      "Chargement terminé. 1240 images traitées, 0 fichiers ignorés.\n",
      "Shape final des données (X): (1240, 100, 100, 1)\n",
      "1240 labels originaux encodés en 62 classes numériques.\n",
      "Nombre de classes détectées : 62\n"
     ]
    }
   ],
   "execution_count": 25
  },
  {
   "metadata": {
    "ExecuteTime": {
     "end_time": "2025-04-27T14:16:12.685459Z",
     "start_time": "2025-04-27T14:16:12.641982Z"
    }
   },
   "cell_type": "code",
   "source": [
    "# --- 3. Division des Données ---\n",
    "print(\"\\n--- Division des données ---\")\n",
    "X_train, y_train = None, None\n",
    "X_val, y_val = None, None\n",
    "X_test, y_test = None, None\n",
    "\n",
    "if config.SPLIT_STRATEGY == 'stratified':\n",
    "    data_splits = data_loader.split_data_stratified(\n",
    "        X, y,\n",
    "        test_size=config.TEST_SPLIT_RATIO,\n",
    "        validation_size=config.VALIDATION_SPLIT_RATIO,\n",
    "        random_state=config.RANDOM_STATE\n",
    "    )\n",
    "    X_train = data_splits.get('X_train')\n",
    "    y_train = data_splits.get('y_train')\n",
    "    X_val = data_splits.get('X_val')\n",
    "    y_val = data_splits.get('y_val')\n",
    "    X_test = data_splits.get('X_test')\n",
    "    y_test = data_splits.get('y_test')\n",
    "\n",
    "    if X_val is None and config.VALIDATION_SPLIT_RATIO > 0 and X_train is not None and len(X_train) > 0:\n",
    "         val_ratio_from_train = config.VALIDATION_SPLIT_RATIO / (1.0 - config.TEST_SPLIT_RATIO)\n",
    "         if val_ratio_from_train < 1.0:\n",
    "             print(f\"Création du set de validation depuis l'entraînement (ratio: {val_ratio_from_train:.2f})\")\n",
    "             X_train, X_val, y_train, y_val = train_test_split(\n",
    "                 X_train, y_train,\n",
    "                 test_size=val_ratio_from_train,\n",
    "                 random_state=config.RANDOM_STATE,\n",
    "                 stratify=y_train\n",
    "             )\n",
    "         else:\n",
    "             print(\"Attention: Ratios de split incohérents, pas de données d'entraînement restantes après validation.\")\n",
    "\n",
    "elif config.SPLIT_STRATEGY == 'fixed_per_subject':\n",
    "    X_train_full, X_test, y_train_full, y_test = data_loader.split_data_fixed_per_subject(\n",
    "        X, y,\n",
    "        n_train_per_class=config.N_TRAIN_PER_SUBJECT,\n",
    "        random_state=config.RANDOM_STATE\n",
    "    )\n",
    "    if config.VALIDATION_SPLIT_RATIO > 0 and X_train_full is not None and len(X_train_full) > 0:\n",
    "        print(f\"Création du set de validation depuis l'entraînement (ratio: {config.VALIDATION_SPLIT_RATIO})\")\n",
    "        X_train, X_val, y_train, y_val = train_test_split(\n",
    "            X_train_full, y_train_full,\n",
    "            test_size=config.VALIDATION_SPLIT_RATIO,\n",
    "            random_state=config.RANDOM_STATE,\n",
    "            stratify=y_train_full\n",
    "        )\n",
    "    else:\n",
    "        X_train, y_train = X_train_full, y_train_full\n",
    "        X_val, y_val = None, None\n",
    "\n",
    "else:\n",
    "    print(f\"Erreur: Stratégie de split '{config.SPLIT_STRATEGY}' non reconnue.\")\n",
    "\n",
    "if X_train is None or len(X_train) == 0:\n",
    "    print(\"Erreur: Aucune donnée d'entraînement disponible après la division.\")\n",
    "\n",
    "if X_val is None or len(X_val) == 0:\n",
    "    print(\"Attention: Aucune donnée de validation disponible. L'entraînement se fera sans suivi de validation.\")\n",
    "    validation_data = None # `fit` utilisera pas de validation\n",
    "else:\n",
    "    validation_data = (X_val, y_val)\n",
    "    print(f\"Taille finale - Entraînement: {len(X_train)}, Validation: {len(X_val)}, Test: {len(X_test) if X_test is not None else 0}\")"
   ],
   "id": "a004ac439d0a45e6",
   "outputs": [
    {
     "name": "stdout",
     "output_type": "stream",
     "text": [
      "\n",
      "--- Division des données ---\n",
      "Division des données : test_size=0.2, validation_size=0.15\n",
      "Taille Test: 248 échantillons\n",
      "Taille Entraînement: 806 échantillons\n",
      "Taille Validation: 186 échantillons\n",
      "Taille finale - Entraînement: 806, Validation: 186, Test: 248\n"
     ]
    }
   ],
   "execution_count": 26
  },
  {
   "metadata": {
    "ExecuteTime": {
     "end_time": "2025-04-27T14:16:15.994117Z",
     "start_time": "2025-04-27T14:16:15.937447Z"
    }
   },
   "cell_type": "code",
   "source": [
    "# --- 4. Construction du Modèle ---\n",
    "print(\"\\n--- Construction du modèle ---\")\n",
    "model = None\n",
    "if config.MODEL_ARCHITECTURE == 'simple_cnn':\n",
    "    model = ml_models.build_simple_cnn(input_shape=input_shape, num_classes=num_classes)\n",
    "elif config.MODEL_ARCHITECTURE.startswith('transfer_'):\n",
    "    base_name = getattr(config, 'TRANSFER_BASE_MODEL_NAME', 'MobileNetV2')\n",
    "    freeze = getattr(config, 'TRANSFER_FREEZE_BASE', True)\n",
    "    print(f\"Utilisation du modèle de base: {base_name}, Freeze: {freeze}\")\n",
    "    model = ml_models.build_transfer_model(input_shape=input_shape,\n",
    "                                           num_classes=num_classes,\n",
    "                                           base_model_name=base_name,\n",
    "                                           freeze_base=freeze)\n",
    "else:\n",
    "    print(f\"Erreur: Architecture de modèle non reconnue dans config: {config.MODEL_ARCHITECTURE}\")\n",
    "\n",
    "if model is None:\n",
    "    print(\"Erreur critique lors de la construction du modèle. Arrêt.\")\n",
    "\n",
    "# --- 5. Compilation du Modèle ---\n",
    "print(\"\\n--- Compilation du modèle ---\")\n",
    "optimizer = tf.keras.optimizers.Adam(learning_rate=config.LEARNING_RATE)\n",
    "model.compile(optimizer=optimizer,\n",
    "              loss='sparse_categorical_crossentropy',\n",
    "              metrics=['accuracy'])\n",
    "print(\"Modèle compilé avec Adam optimizer.\")\n",
    "model.summary()"
   ],
   "id": "3bd2a477de143b2f",
   "outputs": [
    {
     "name": "stdout",
     "output_type": "stream",
     "text": [
      "\n",
      "--- Construction du modèle ---\n",
      "Construction du modèle CNN simple avec input_shape=(100, 100, 1) et num_classes=62\n",
      "Modèle CNN simple construit.\n",
      "\n",
      "--- Compilation du modèle ---\n",
      "Modèle compilé avec Adam optimizer.\n"
     ]
    },
    {
     "data": {
      "text/plain": [
       "\u001B[1mModel: \"simple_cnn\"\u001B[0m\n"
      ],
      "text/html": [
       "<pre style=\"white-space:pre;overflow-x:auto;line-height:normal;font-family:Menlo,'DejaVu Sans Mono',consolas,'Courier New',monospace\"><span style=\"font-weight: bold\">Model: \"simple_cnn\"</span>\n",
       "</pre>\n"
      ]
     },
     "metadata": {},
     "output_type": "display_data"
    },
    {
     "data": {
      "text/plain": [
       "┏━━━━━━━━━━━━━━━━━━━━━━━━━━━━━━━━━┳━━━━━━━━━━━━━━━━━━━━━━━━┳━━━━━━━━━━━━━━━┓\n",
       "┃\u001B[1m \u001B[0m\u001B[1mLayer (type)                   \u001B[0m\u001B[1m \u001B[0m┃\u001B[1m \u001B[0m\u001B[1mOutput Shape          \u001B[0m\u001B[1m \u001B[0m┃\u001B[1m \u001B[0m\u001B[1m      Param #\u001B[0m\u001B[1m \u001B[0m┃\n",
       "┡━━━━━━━━━━━━━━━━━━━━━━━━━━━━━━━━━╇━━━━━━━━━━━━━━━━━━━━━━━━╇━━━━━━━━━━━━━━━┩\n",
       "│ input_image (\u001B[38;5;33mInputLayer\u001B[0m)        │ (\u001B[38;5;45mNone\u001B[0m, \u001B[38;5;34m100\u001B[0m, \u001B[38;5;34m100\u001B[0m, \u001B[38;5;34m1\u001B[0m)    │             \u001B[38;5;34m0\u001B[0m │\n",
       "├─────────────────────────────────┼────────────────────────┼───────────────┤\n",
       "│ conv1_1 (\u001B[38;5;33mConv2D\u001B[0m)                │ (\u001B[38;5;45mNone\u001B[0m, \u001B[38;5;34m100\u001B[0m, \u001B[38;5;34m100\u001B[0m, \u001B[38;5;34m32\u001B[0m)   │           \u001B[38;5;34m320\u001B[0m │\n",
       "├─────────────────────────────────┼────────────────────────┼───────────────┤\n",
       "│ bn1_1 (\u001B[38;5;33mBatchNormalization\u001B[0m)      │ (\u001B[38;5;45mNone\u001B[0m, \u001B[38;5;34m100\u001B[0m, \u001B[38;5;34m100\u001B[0m, \u001B[38;5;34m32\u001B[0m)   │           \u001B[38;5;34m128\u001B[0m │\n",
       "├─────────────────────────────────┼────────────────────────┼───────────────┤\n",
       "│ conv1_2 (\u001B[38;5;33mConv2D\u001B[0m)                │ (\u001B[38;5;45mNone\u001B[0m, \u001B[38;5;34m100\u001B[0m, \u001B[38;5;34m100\u001B[0m, \u001B[38;5;34m32\u001B[0m)   │         \u001B[38;5;34m9,248\u001B[0m │\n",
       "├─────────────────────────────────┼────────────────────────┼───────────────┤\n",
       "│ bn1_2 (\u001B[38;5;33mBatchNormalization\u001B[0m)      │ (\u001B[38;5;45mNone\u001B[0m, \u001B[38;5;34m100\u001B[0m, \u001B[38;5;34m100\u001B[0m, \u001B[38;5;34m32\u001B[0m)   │           \u001B[38;5;34m128\u001B[0m │\n",
       "├─────────────────────────────────┼────────────────────────┼───────────────┤\n",
       "│ pool1 (\u001B[38;5;33mMaxPooling2D\u001B[0m)            │ (\u001B[38;5;45mNone\u001B[0m, \u001B[38;5;34m50\u001B[0m, \u001B[38;5;34m50\u001B[0m, \u001B[38;5;34m32\u001B[0m)     │             \u001B[38;5;34m0\u001B[0m │\n",
       "├─────────────────────────────────┼────────────────────────┼───────────────┤\n",
       "│ drop1 (\u001B[38;5;33mDropout\u001B[0m)                 │ (\u001B[38;5;45mNone\u001B[0m, \u001B[38;5;34m50\u001B[0m, \u001B[38;5;34m50\u001B[0m, \u001B[38;5;34m32\u001B[0m)     │             \u001B[38;5;34m0\u001B[0m │\n",
       "├─────────────────────────────────┼────────────────────────┼───────────────┤\n",
       "│ conv2_1 (\u001B[38;5;33mConv2D\u001B[0m)                │ (\u001B[38;5;45mNone\u001B[0m, \u001B[38;5;34m50\u001B[0m, \u001B[38;5;34m50\u001B[0m, \u001B[38;5;34m64\u001B[0m)     │        \u001B[38;5;34m18,496\u001B[0m │\n",
       "├─────────────────────────────────┼────────────────────────┼───────────────┤\n",
       "│ bn2_1 (\u001B[38;5;33mBatchNormalization\u001B[0m)      │ (\u001B[38;5;45mNone\u001B[0m, \u001B[38;5;34m50\u001B[0m, \u001B[38;5;34m50\u001B[0m, \u001B[38;5;34m64\u001B[0m)     │           \u001B[38;5;34m256\u001B[0m │\n",
       "├─────────────────────────────────┼────────────────────────┼───────────────┤\n",
       "│ conv2_2 (\u001B[38;5;33mConv2D\u001B[0m)                │ (\u001B[38;5;45mNone\u001B[0m, \u001B[38;5;34m50\u001B[0m, \u001B[38;5;34m50\u001B[0m, \u001B[38;5;34m64\u001B[0m)     │        \u001B[38;5;34m36,928\u001B[0m │\n",
       "├─────────────────────────────────┼────────────────────────┼───────────────┤\n",
       "│ bn2_2 (\u001B[38;5;33mBatchNormalization\u001B[0m)      │ (\u001B[38;5;45mNone\u001B[0m, \u001B[38;5;34m50\u001B[0m, \u001B[38;5;34m50\u001B[0m, \u001B[38;5;34m64\u001B[0m)     │           \u001B[38;5;34m256\u001B[0m │\n",
       "├─────────────────────────────────┼────────────────────────┼───────────────┤\n",
       "│ pool2 (\u001B[38;5;33mMaxPooling2D\u001B[0m)            │ (\u001B[38;5;45mNone\u001B[0m, \u001B[38;5;34m25\u001B[0m, \u001B[38;5;34m25\u001B[0m, \u001B[38;5;34m64\u001B[0m)     │             \u001B[38;5;34m0\u001B[0m │\n",
       "├─────────────────────────────────┼────────────────────────┼───────────────┤\n",
       "│ drop2 (\u001B[38;5;33mDropout\u001B[0m)                 │ (\u001B[38;5;45mNone\u001B[0m, \u001B[38;5;34m25\u001B[0m, \u001B[38;5;34m25\u001B[0m, \u001B[38;5;34m64\u001B[0m)     │             \u001B[38;5;34m0\u001B[0m │\n",
       "├─────────────────────────────────┼────────────────────────┼───────────────┤\n",
       "│ flatten (\u001B[38;5;33mFlatten\u001B[0m)               │ (\u001B[38;5;45mNone\u001B[0m, \u001B[38;5;34m40000\u001B[0m)          │             \u001B[38;5;34m0\u001B[0m │\n",
       "├─────────────────────────────────┼────────────────────────┼───────────────┤\n",
       "│ dense1 (\u001B[38;5;33mDense\u001B[0m)                  │ (\u001B[38;5;45mNone\u001B[0m, \u001B[38;5;34m128\u001B[0m)            │     \u001B[38;5;34m5,120,128\u001B[0m │\n",
       "├─────────────────────────────────┼────────────────────────┼───────────────┤\n",
       "│ bn_dense1 (\u001B[38;5;33mBatchNormalization\u001B[0m)  │ (\u001B[38;5;45mNone\u001B[0m, \u001B[38;5;34m128\u001B[0m)            │           \u001B[38;5;34m512\u001B[0m │\n",
       "├─────────────────────────────────┼────────────────────────┼───────────────┤\n",
       "│ drop_dense1 (\u001B[38;5;33mDropout\u001B[0m)           │ (\u001B[38;5;45mNone\u001B[0m, \u001B[38;5;34m128\u001B[0m)            │             \u001B[38;5;34m0\u001B[0m │\n",
       "├─────────────────────────────────┼────────────────────────┼───────────────┤\n",
       "│ output_softmax (\u001B[38;5;33mDense\u001B[0m)          │ (\u001B[38;5;45mNone\u001B[0m, \u001B[38;5;34m62\u001B[0m)             │         \u001B[38;5;34m7,998\u001B[0m │\n",
       "└─────────────────────────────────┴────────────────────────┴───────────────┘\n"
      ],
      "text/html": [
       "<pre style=\"white-space:pre;overflow-x:auto;line-height:normal;font-family:Menlo,'DejaVu Sans Mono',consolas,'Courier New',monospace\">┏━━━━━━━━━━━━━━━━━━━━━━━━━━━━━━━━━┳━━━━━━━━━━━━━━━━━━━━━━━━┳━━━━━━━━━━━━━━━┓\n",
       "┃<span style=\"font-weight: bold\"> Layer (type)                    </span>┃<span style=\"font-weight: bold\"> Output Shape           </span>┃<span style=\"font-weight: bold\">       Param # </span>┃\n",
       "┡━━━━━━━━━━━━━━━━━━━━━━━━━━━━━━━━━╇━━━━━━━━━━━━━━━━━━━━━━━━╇━━━━━━━━━━━━━━━┩\n",
       "│ input_image (<span style=\"color: #0087ff; text-decoration-color: #0087ff\">InputLayer</span>)        │ (<span style=\"color: #00d7ff; text-decoration-color: #00d7ff\">None</span>, <span style=\"color: #00af00; text-decoration-color: #00af00\">100</span>, <span style=\"color: #00af00; text-decoration-color: #00af00\">100</span>, <span style=\"color: #00af00; text-decoration-color: #00af00\">1</span>)    │             <span style=\"color: #00af00; text-decoration-color: #00af00\">0</span> │\n",
       "├─────────────────────────────────┼────────────────────────┼───────────────┤\n",
       "│ conv1_1 (<span style=\"color: #0087ff; text-decoration-color: #0087ff\">Conv2D</span>)                │ (<span style=\"color: #00d7ff; text-decoration-color: #00d7ff\">None</span>, <span style=\"color: #00af00; text-decoration-color: #00af00\">100</span>, <span style=\"color: #00af00; text-decoration-color: #00af00\">100</span>, <span style=\"color: #00af00; text-decoration-color: #00af00\">32</span>)   │           <span style=\"color: #00af00; text-decoration-color: #00af00\">320</span> │\n",
       "├─────────────────────────────────┼────────────────────────┼───────────────┤\n",
       "│ bn1_1 (<span style=\"color: #0087ff; text-decoration-color: #0087ff\">BatchNormalization</span>)      │ (<span style=\"color: #00d7ff; text-decoration-color: #00d7ff\">None</span>, <span style=\"color: #00af00; text-decoration-color: #00af00\">100</span>, <span style=\"color: #00af00; text-decoration-color: #00af00\">100</span>, <span style=\"color: #00af00; text-decoration-color: #00af00\">32</span>)   │           <span style=\"color: #00af00; text-decoration-color: #00af00\">128</span> │\n",
       "├─────────────────────────────────┼────────────────────────┼───────────────┤\n",
       "│ conv1_2 (<span style=\"color: #0087ff; text-decoration-color: #0087ff\">Conv2D</span>)                │ (<span style=\"color: #00d7ff; text-decoration-color: #00d7ff\">None</span>, <span style=\"color: #00af00; text-decoration-color: #00af00\">100</span>, <span style=\"color: #00af00; text-decoration-color: #00af00\">100</span>, <span style=\"color: #00af00; text-decoration-color: #00af00\">32</span>)   │         <span style=\"color: #00af00; text-decoration-color: #00af00\">9,248</span> │\n",
       "├─────────────────────────────────┼────────────────────────┼───────────────┤\n",
       "│ bn1_2 (<span style=\"color: #0087ff; text-decoration-color: #0087ff\">BatchNormalization</span>)      │ (<span style=\"color: #00d7ff; text-decoration-color: #00d7ff\">None</span>, <span style=\"color: #00af00; text-decoration-color: #00af00\">100</span>, <span style=\"color: #00af00; text-decoration-color: #00af00\">100</span>, <span style=\"color: #00af00; text-decoration-color: #00af00\">32</span>)   │           <span style=\"color: #00af00; text-decoration-color: #00af00\">128</span> │\n",
       "├─────────────────────────────────┼────────────────────────┼───────────────┤\n",
       "│ pool1 (<span style=\"color: #0087ff; text-decoration-color: #0087ff\">MaxPooling2D</span>)            │ (<span style=\"color: #00d7ff; text-decoration-color: #00d7ff\">None</span>, <span style=\"color: #00af00; text-decoration-color: #00af00\">50</span>, <span style=\"color: #00af00; text-decoration-color: #00af00\">50</span>, <span style=\"color: #00af00; text-decoration-color: #00af00\">32</span>)     │             <span style=\"color: #00af00; text-decoration-color: #00af00\">0</span> │\n",
       "├─────────────────────────────────┼────────────────────────┼───────────────┤\n",
       "│ drop1 (<span style=\"color: #0087ff; text-decoration-color: #0087ff\">Dropout</span>)                 │ (<span style=\"color: #00d7ff; text-decoration-color: #00d7ff\">None</span>, <span style=\"color: #00af00; text-decoration-color: #00af00\">50</span>, <span style=\"color: #00af00; text-decoration-color: #00af00\">50</span>, <span style=\"color: #00af00; text-decoration-color: #00af00\">32</span>)     │             <span style=\"color: #00af00; text-decoration-color: #00af00\">0</span> │\n",
       "├─────────────────────────────────┼────────────────────────┼───────────────┤\n",
       "│ conv2_1 (<span style=\"color: #0087ff; text-decoration-color: #0087ff\">Conv2D</span>)                │ (<span style=\"color: #00d7ff; text-decoration-color: #00d7ff\">None</span>, <span style=\"color: #00af00; text-decoration-color: #00af00\">50</span>, <span style=\"color: #00af00; text-decoration-color: #00af00\">50</span>, <span style=\"color: #00af00; text-decoration-color: #00af00\">64</span>)     │        <span style=\"color: #00af00; text-decoration-color: #00af00\">18,496</span> │\n",
       "├─────────────────────────────────┼────────────────────────┼───────────────┤\n",
       "│ bn2_1 (<span style=\"color: #0087ff; text-decoration-color: #0087ff\">BatchNormalization</span>)      │ (<span style=\"color: #00d7ff; text-decoration-color: #00d7ff\">None</span>, <span style=\"color: #00af00; text-decoration-color: #00af00\">50</span>, <span style=\"color: #00af00; text-decoration-color: #00af00\">50</span>, <span style=\"color: #00af00; text-decoration-color: #00af00\">64</span>)     │           <span style=\"color: #00af00; text-decoration-color: #00af00\">256</span> │\n",
       "├─────────────────────────────────┼────────────────────────┼───────────────┤\n",
       "│ conv2_2 (<span style=\"color: #0087ff; text-decoration-color: #0087ff\">Conv2D</span>)                │ (<span style=\"color: #00d7ff; text-decoration-color: #00d7ff\">None</span>, <span style=\"color: #00af00; text-decoration-color: #00af00\">50</span>, <span style=\"color: #00af00; text-decoration-color: #00af00\">50</span>, <span style=\"color: #00af00; text-decoration-color: #00af00\">64</span>)     │        <span style=\"color: #00af00; text-decoration-color: #00af00\">36,928</span> │\n",
       "├─────────────────────────────────┼────────────────────────┼───────────────┤\n",
       "│ bn2_2 (<span style=\"color: #0087ff; text-decoration-color: #0087ff\">BatchNormalization</span>)      │ (<span style=\"color: #00d7ff; text-decoration-color: #00d7ff\">None</span>, <span style=\"color: #00af00; text-decoration-color: #00af00\">50</span>, <span style=\"color: #00af00; text-decoration-color: #00af00\">50</span>, <span style=\"color: #00af00; text-decoration-color: #00af00\">64</span>)     │           <span style=\"color: #00af00; text-decoration-color: #00af00\">256</span> │\n",
       "├─────────────────────────────────┼────────────────────────┼───────────────┤\n",
       "│ pool2 (<span style=\"color: #0087ff; text-decoration-color: #0087ff\">MaxPooling2D</span>)            │ (<span style=\"color: #00d7ff; text-decoration-color: #00d7ff\">None</span>, <span style=\"color: #00af00; text-decoration-color: #00af00\">25</span>, <span style=\"color: #00af00; text-decoration-color: #00af00\">25</span>, <span style=\"color: #00af00; text-decoration-color: #00af00\">64</span>)     │             <span style=\"color: #00af00; text-decoration-color: #00af00\">0</span> │\n",
       "├─────────────────────────────────┼────────────────────────┼───────────────┤\n",
       "│ drop2 (<span style=\"color: #0087ff; text-decoration-color: #0087ff\">Dropout</span>)                 │ (<span style=\"color: #00d7ff; text-decoration-color: #00d7ff\">None</span>, <span style=\"color: #00af00; text-decoration-color: #00af00\">25</span>, <span style=\"color: #00af00; text-decoration-color: #00af00\">25</span>, <span style=\"color: #00af00; text-decoration-color: #00af00\">64</span>)     │             <span style=\"color: #00af00; text-decoration-color: #00af00\">0</span> │\n",
       "├─────────────────────────────────┼────────────────────────┼───────────────┤\n",
       "│ flatten (<span style=\"color: #0087ff; text-decoration-color: #0087ff\">Flatten</span>)               │ (<span style=\"color: #00d7ff; text-decoration-color: #00d7ff\">None</span>, <span style=\"color: #00af00; text-decoration-color: #00af00\">40000</span>)          │             <span style=\"color: #00af00; text-decoration-color: #00af00\">0</span> │\n",
       "├─────────────────────────────────┼────────────────────────┼───────────────┤\n",
       "│ dense1 (<span style=\"color: #0087ff; text-decoration-color: #0087ff\">Dense</span>)                  │ (<span style=\"color: #00d7ff; text-decoration-color: #00d7ff\">None</span>, <span style=\"color: #00af00; text-decoration-color: #00af00\">128</span>)            │     <span style=\"color: #00af00; text-decoration-color: #00af00\">5,120,128</span> │\n",
       "├─────────────────────────────────┼────────────────────────┼───────────────┤\n",
       "│ bn_dense1 (<span style=\"color: #0087ff; text-decoration-color: #0087ff\">BatchNormalization</span>)  │ (<span style=\"color: #00d7ff; text-decoration-color: #00d7ff\">None</span>, <span style=\"color: #00af00; text-decoration-color: #00af00\">128</span>)            │           <span style=\"color: #00af00; text-decoration-color: #00af00\">512</span> │\n",
       "├─────────────────────────────────┼────────────────────────┼───────────────┤\n",
       "│ drop_dense1 (<span style=\"color: #0087ff; text-decoration-color: #0087ff\">Dropout</span>)           │ (<span style=\"color: #00d7ff; text-decoration-color: #00d7ff\">None</span>, <span style=\"color: #00af00; text-decoration-color: #00af00\">128</span>)            │             <span style=\"color: #00af00; text-decoration-color: #00af00\">0</span> │\n",
       "├─────────────────────────────────┼────────────────────────┼───────────────┤\n",
       "│ output_softmax (<span style=\"color: #0087ff; text-decoration-color: #0087ff\">Dense</span>)          │ (<span style=\"color: #00d7ff; text-decoration-color: #00d7ff\">None</span>, <span style=\"color: #00af00; text-decoration-color: #00af00\">62</span>)             │         <span style=\"color: #00af00; text-decoration-color: #00af00\">7,998</span> │\n",
       "└─────────────────────────────────┴────────────────────────┴───────────────┘\n",
       "</pre>\n"
      ]
     },
     "metadata": {},
     "output_type": "display_data"
    },
    {
     "data": {
      "text/plain": [
       "\u001B[1m Total params: \u001B[0m\u001B[38;5;34m5,194,398\u001B[0m (19.82 MB)\n"
      ],
      "text/html": [
       "<pre style=\"white-space:pre;overflow-x:auto;line-height:normal;font-family:Menlo,'DejaVu Sans Mono',consolas,'Courier New',monospace\"><span style=\"font-weight: bold\"> Total params: </span><span style=\"color: #00af00; text-decoration-color: #00af00\">5,194,398</span> (19.82 MB)\n",
       "</pre>\n"
      ]
     },
     "metadata": {},
     "output_type": "display_data"
    },
    {
     "data": {
      "text/plain": [
       "\u001B[1m Trainable params: \u001B[0m\u001B[38;5;34m5,193,758\u001B[0m (19.81 MB)\n"
      ],
      "text/html": [
       "<pre style=\"white-space:pre;overflow-x:auto;line-height:normal;font-family:Menlo,'DejaVu Sans Mono',consolas,'Courier New',monospace\"><span style=\"font-weight: bold\"> Trainable params: </span><span style=\"color: #00af00; text-decoration-color: #00af00\">5,193,758</span> (19.81 MB)\n",
       "</pre>\n"
      ]
     },
     "metadata": {},
     "output_type": "display_data"
    },
    {
     "data": {
      "text/plain": [
       "\u001B[1m Non-trainable params: \u001B[0m\u001B[38;5;34m640\u001B[0m (2.50 KB)\n"
      ],
      "text/html": [
       "<pre style=\"white-space:pre;overflow-x:auto;line-height:normal;font-family:Menlo,'DejaVu Sans Mono',consolas,'Courier New',monospace\"><span style=\"font-weight: bold\"> Non-trainable params: </span><span style=\"color: #00af00; text-decoration-color: #00af00\">640</span> (2.50 KB)\n",
       "</pre>\n"
      ]
     },
     "metadata": {},
     "output_type": "display_data"
    }
   ],
   "execution_count": 27
  },
  {
   "metadata": {
    "ExecuteTime": {
     "end_time": "2025-04-27T14:12:02.690116Z",
     "start_time": "2025-04-27T14:12:02.682484Z"
    }
   },
   "cell_type": "code",
   "source": [
    "# --- 6. Configuration des Callbacks ---\n",
    "print(\"\\n--- Configuration des Callbacks ---\")\n",
    "callbacks = []\n",
    "\n",
    "model_filename = f\"{config.MODEL_NAME}.h5\"\n",
    "model_filepath = os.path.join(config.MODEL_SAVE_DIR, model_filename)\n",
    "print(f\"  - ModelCheckpoint: Sauvegarde du meilleur modèle dans {model_filepath}\")\n",
    "checkpoint_callback = tf.keras.callbacks.ModelCheckpoint(\n",
    "    filepath=model_filepath,\n",
    "    monitor='val_accuracy',\n",
    "    save_best_only=True,\n",
    "    save_weights_only=False,\n",
    "    mode='max',\n",
    "    verbose=1\n",
    ")\n",
    "callbacks.append(checkpoint_callback)\n",
    "\n",
    "if hasattr(config, 'EARLY_STOPPING_PATIENCE') and config.EARLY_STOPPING_PATIENCE > 0:\n",
    "    print(f\"  - EarlyStopping: Activé avec patience={config.EARLY_STOPPING_PATIENCE}\")\n",
    "    early_stopping_callback = tf.keras.callbacks.EarlyStopping(\n",
    "        monitor='val_accuracy',\n",
    "        patience=config.EARLY_STOPPING_PATIENCE,\n",
    "        mode='max',\n",
    "        restore_best_weights=True,\n",
    "        verbose=1\n",
    "    )\n",
    "    callbacks.append(early_stopping_callback)\n",
    "else:\n",
    "    print(\"  - EarlyStopping: Désactivé.\")\n",
    "\n",
    "\n",
    "if hasattr(config, 'LOG_DIR') and config.LOG_DIR:\n",
    "    tensorboard_log_dir = os.path.join(config.LOG_DIR, config.MODEL_NAME + \"_\" + time.strftime(\"%Y%m%d-%H%M%S\"))\n",
    "    print(f\"  - TensorBoard: Logs dans {tensorboard_log_dir}\")\n",
    "    tensorboard_callback = tf.keras.callbacks.TensorBoard(\n",
    "        log_dir=tensorboard_log_dir,\n",
    "        histogram_freq=1\n",
    "    )\n",
    "    callbacks.append(tensorboard_callback)\n",
    "else:\n",
    "    print(\"  - TensorBoard: Désactivé.\")\n",
    "\n",
    "csv_log_path = os.path.join(config.MODEL_SAVE_DIR, f\"{config.MODEL_NAME}_training_log.csv\")\n",
    "print(f\"  - CSVLogger: Logs dans {csv_log_path}\")\n",
    "csv_logger_callback = tf.keras.callbacks.CSVLogger(csv_log_path, append=False)\n",
    "callbacks.append(csv_logger_callback)"
   ],
   "id": "46d36bc7bc2ca350",
   "outputs": [
    {
     "name": "stdout",
     "output_type": "stream",
     "text": [
      "\n",
      "--- Configuration des Callbacks ---\n",
      "  - ModelCheckpoint: Sauvegarde du meilleur modèle dans ..\\data\\ml_models/trained\\simple_cnn_lfw_anony_v1.h5\n",
      "  - EarlyStopping: Activé avec patience=10\n",
      "  - TensorBoard: Logs dans ..\\data\\ml_models/logs\\simple_cnn_lfw_anony_v1_20250427-161202\n",
      "  - CSVLogger: Logs dans ..\\data\\ml_models/trained\\simple_cnn_lfw_anony_v1_training_log.csv\n"
     ]
    }
   ],
   "execution_count": 10
  },
  {
   "metadata": {
    "ExecuteTime": {
     "end_time": "2025-04-27T14:14:00.503932Z",
     "start_time": "2025-04-27T14:12:02.706098Z"
    }
   },
   "cell_type": "code",
   "source": [
    "# --- 7. Entraînement du Modèle ---\n",
    "print(\"\\n--- Démarrage de l'entraînement ---\")\n",
    "history = None\n",
    "try:\n",
    "    history = model.fit(\n",
    "        X_train, y_train,\n",
    "        epochs=config.EPOCHS,\n",
    "        batch_size=config.BATCH_SIZE,\n",
    "        validation_data=validation_data,\n",
    "        callbacks=callbacks,\n",
    "        verbose=1\n",
    "    )\n",
    "    print(\"--- Entraînement terminé ---\")\n",
    "\n",
    "except Exception as e:\n",
    "    print(f\"\\nErreur pendant l'entraînement : {e}\")\n",
    "    encoder_save_path = os.path.join(config.MODEL_SAVE_DIR, f\"{config.MODEL_NAME}_label_encoder.joblib\")\n",
    "    print(\"\\nSauvegarde de l'encodeur de labels (même si l'entraînement a échoué)...\")\n",
    "    data_loader.save_label_encoder(label_encoder, encoder_save_path)"
   ],
   "id": "7d5300d0bb116b4e",
   "outputs": [
    {
     "name": "stdout",
     "output_type": "stream",
     "text": [
      "\n",
      "--- Démarrage de l'entraînement ---\n",
      "Epoch 1/50\n",
      "\u001B[1m25/26\u001B[0m \u001B[32m━━━━━━━━━━━━━━━━━━━\u001B[0m\u001B[37m━\u001B[0m \u001B[1m0s\u001B[0m 81ms/step - accuracy: 0.0647 - loss: 4.4573\n",
      "Epoch 1: val_accuracy improved from -inf to 0.01613, saving model to ..\\data\\ml_models/trained\\simple_cnn_lfw_anony_v1.h5\n"
     ]
    },
    {
     "name": "stderr",
     "output_type": "stream",
     "text": [
      "WARNING:absl:You are saving your model as an HDF5 file via `model.save()` or `keras.saving.save_model(model)`. This file format is considered legacy. We recommend using instead the native Keras format, e.g. `model.save('my_model.keras')` or `keras.saving.save_model(model, 'my_model.keras')`. \n"
     ]
    },
    {
     "name": "stdout",
     "output_type": "stream",
     "text": [
      "\u001B[1m26/26\u001B[0m \u001B[32m━━━━━━━━━━━━━━━━━━━━\u001B[0m\u001B[37m\u001B[0m \u001B[1m6s\u001B[0m 119ms/step - accuracy: 0.0672 - loss: 4.4231 - val_accuracy: 0.0161 - val_loss: 4.5659\n",
      "Epoch 2/50\n",
      "\u001B[1m25/26\u001B[0m \u001B[32m━━━━━━━━━━━━━━━━━━━\u001B[0m\u001B[37m━\u001B[0m \u001B[1m0s\u001B[0m 80ms/step - accuracy: 0.3404 - loss: 2.8352\n",
      "Epoch 2: val_accuracy did not improve from 0.01613\n",
      "\u001B[1m26/26\u001B[0m \u001B[32m━━━━━━━━━━━━━━━━━━━━\u001B[0m\u001B[37m\u001B[0m \u001B[1m2s\u001B[0m 94ms/step - accuracy: 0.3449 - loss: 2.8189 - val_accuracy: 0.0161 - val_loss: 5.7831\n",
      "Epoch 3/50\n",
      "\u001B[1m25/26\u001B[0m \u001B[32m━━━━━━━━━━━━━━━━━━━\u001B[0m\u001B[37m━\u001B[0m \u001B[1m0s\u001B[0m 95ms/step - accuracy: 0.6640 - loss: 1.8014\n",
      "Epoch 3: val_accuracy did not improve from 0.01613\n",
      "\u001B[1m26/26\u001B[0m \u001B[32m━━━━━━━━━━━━━━━━━━━━\u001B[0m\u001B[37m\u001B[0m \u001B[1m3s\u001B[0m 108ms/step - accuracy: 0.6676 - loss: 1.7889 - val_accuracy: 0.0161 - val_loss: 6.4339\n",
      "Epoch 4/50\n",
      "\u001B[1m25/26\u001B[0m \u001B[32m━━━━━━━━━━━━━━━━━━━\u001B[0m\u001B[37m━\u001B[0m \u001B[1m0s\u001B[0m 86ms/step - accuracy: 0.8597 - loss: 1.1047\n",
      "Epoch 4: val_accuracy did not improve from 0.01613\n",
      "\u001B[1m26/26\u001B[0m \u001B[32m━━━━━━━━━━━━━━━━━━━━\u001B[0m\u001B[37m\u001B[0m \u001B[1m3s\u001B[0m 100ms/step - accuracy: 0.8612 - loss: 1.0984 - val_accuracy: 0.0161 - val_loss: 5.5986\n",
      "Epoch 5/50\n",
      "\u001B[1m25/26\u001B[0m \u001B[32m━━━━━━━━━━━━━━━━━━━\u001B[0m\u001B[37m━\u001B[0m \u001B[1m0s\u001B[0m 85ms/step - accuracy: 0.9658 - loss: 0.6356\n",
      "Epoch 5: val_accuracy did not improve from 0.01613\n",
      "\u001B[1m26/26\u001B[0m \u001B[32m━━━━━━━━━━━━━━━━━━━━\u001B[0m\u001B[37m\u001B[0m \u001B[1m3s\u001B[0m 98ms/step - accuracy: 0.9649 - loss: 0.6345 - val_accuracy: 0.0161 - val_loss: 6.0736\n",
      "Epoch 6/50\n",
      "\u001B[1m25/26\u001B[0m \u001B[32m━━━━━━━━━━━━━━━━━━━\u001B[0m\u001B[37m━\u001B[0m \u001B[1m0s\u001B[0m 87ms/step - accuracy: 0.9822 - loss: 0.4093\n",
      "Epoch 6: val_accuracy improved from 0.01613 to 0.02688, saving model to ..\\data\\ml_models/trained\\simple_cnn_lfw_anony_v1.h5\n"
     ]
    },
    {
     "name": "stderr",
     "output_type": "stream",
     "text": [
      "WARNING:absl:You are saving your model as an HDF5 file via `model.save()` or `keras.saving.save_model(model)`. This file format is considered legacy. We recommend using instead the native Keras format, e.g. `model.save('my_model.keras')` or `keras.saving.save_model(model, 'my_model.keras')`. \n"
     ]
    },
    {
     "name": "stdout",
     "output_type": "stream",
     "text": [
      "\u001B[1m26/26\u001B[0m \u001B[32m━━━━━━━━━━━━━━━━━━━━\u001B[0m\u001B[37m\u001B[0m \u001B[1m3s\u001B[0m 103ms/step - accuracy: 0.9824 - loss: 0.4082 - val_accuracy: 0.0269 - val_loss: 5.5324\n",
      "Epoch 7/50\n",
      "\u001B[1m25/26\u001B[0m \u001B[32m━━━━━━━━━━━━━━━━━━━\u001B[0m\u001B[37m━\u001B[0m \u001B[1m0s\u001B[0m 87ms/step - accuracy: 0.9909 - loss: 0.3220\n",
      "Epoch 7: val_accuracy did not improve from 0.02688\n",
      "\u001B[1m26/26\u001B[0m \u001B[32m━━━━━━━━━━━━━━━━━━━━\u001B[0m\u001B[37m\u001B[0m \u001B[1m3s\u001B[0m 99ms/step - accuracy: 0.9910 - loss: 0.3197 - val_accuracy: 0.0161 - val_loss: 5.3222\n",
      "Epoch 8/50\n",
      "\u001B[1m25/26\u001B[0m \u001B[32m━━━━━━━━━━━━━━━━━━━\u001B[0m\u001B[37m━\u001B[0m \u001B[1m0s\u001B[0m 79ms/step - accuracy: 0.9999 - loss: 0.2280\n",
      "Epoch 8: val_accuracy did not improve from 0.02688\n",
      "\u001B[1m26/26\u001B[0m \u001B[32m━━━━━━━━━━━━━━━━━━━━\u001B[0m\u001B[37m\u001B[0m \u001B[1m2s\u001B[0m 92ms/step - accuracy: 0.9999 - loss: 0.2296 - val_accuracy: 0.0161 - val_loss: 22.2569\n",
      "Epoch 9/50\n",
      "\u001B[1m25/26\u001B[0m \u001B[32m━━━━━━━━━━━━━━━━━━━\u001B[0m\u001B[37m━\u001B[0m \u001B[1m0s\u001B[0m 89ms/step - accuracy: 0.9871 - loss: 0.3020\n",
      "Epoch 9: val_accuracy did not improve from 0.02688\n",
      "\u001B[1m26/26\u001B[0m \u001B[32m━━━━━━━━━━━━━━━━━━━━\u001B[0m\u001B[37m\u001B[0m \u001B[1m3s\u001B[0m 101ms/step - accuracy: 0.9875 - loss: 0.2991 - val_accuracy: 0.0161 - val_loss: 16.8663\n",
      "Epoch 10/50\n",
      "\u001B[1m25/26\u001B[0m \u001B[32m━━━━━━━━━━━━━━━━━━━\u001B[0m\u001B[37m━\u001B[0m \u001B[1m0s\u001B[0m 99ms/step - accuracy: 1.0000 - loss: 0.1895 \n",
      "Epoch 10: val_accuracy did not improve from 0.02688\n",
      "\u001B[1m26/26\u001B[0m \u001B[32m━━━━━━━━━━━━━━━━━━━━\u001B[0m\u001B[37m\u001B[0m \u001B[1m3s\u001B[0m 112ms/step - accuracy: 1.0000 - loss: 0.1879 - val_accuracy: 0.0161 - val_loss: 15.3759\n",
      "Epoch 11/50\n",
      "\u001B[1m25/26\u001B[0m \u001B[32m━━━━━━━━━━━━━━━━━━━\u001B[0m\u001B[37m━\u001B[0m \u001B[1m0s\u001B[0m 94ms/step - accuracy: 0.9950 - loss: 0.1259\n",
      "Epoch 11: val_accuracy did not improve from 0.02688\n",
      "\u001B[1m26/26\u001B[0m \u001B[32m━━━━━━━━━━━━━━━━━━━━\u001B[0m\u001B[37m\u001B[0m \u001B[1m3s\u001B[0m 108ms/step - accuracy: 0.9951 - loss: 0.1254 - val_accuracy: 0.0215 - val_loss: 7.3655\n",
      "Epoch 12/50\n",
      "\u001B[1m25/26\u001B[0m \u001B[32m━━━━━━━━━━━━━━━━━━━\u001B[0m\u001B[37m━\u001B[0m \u001B[1m0s\u001B[0m 93ms/step - accuracy: 1.0000 - loss: 0.0851\n",
      "Epoch 12: val_accuracy improved from 0.02688 to 0.09677, saving model to ..\\data\\ml_models/trained\\simple_cnn_lfw_anony_v1.h5\n"
     ]
    },
    {
     "name": "stderr",
     "output_type": "stream",
     "text": [
      "WARNING:absl:You are saving your model as an HDF5 file via `model.save()` or `keras.saving.save_model(model)`. This file format is considered legacy. We recommend using instead the native Keras format, e.g. `model.save('my_model.keras')` or `keras.saving.save_model(model, 'my_model.keras')`. \n"
     ]
    },
    {
     "name": "stdout",
     "output_type": "stream",
     "text": [
      "\u001B[1m26/26\u001B[0m \u001B[32m━━━━━━━━━━━━━━━━━━━━\u001B[0m\u001B[37m\u001B[0m \u001B[1m3s\u001B[0m 112ms/step - accuracy: 1.0000 - loss: 0.0860 - val_accuracy: 0.0968 - val_loss: 4.3256\n",
      "Epoch 13/50\n",
      "\u001B[1m25/26\u001B[0m \u001B[32m━━━━━━━━━━━━━━━━━━━\u001B[0m\u001B[37m━\u001B[0m \u001B[1m0s\u001B[0m 96ms/step - accuracy: 1.0000 - loss: 0.0834\n",
      "Epoch 13: val_accuracy improved from 0.09677 to 0.18280, saving model to ..\\data\\ml_models/trained\\simple_cnn_lfw_anony_v1.h5\n"
     ]
    },
    {
     "name": "stderr",
     "output_type": "stream",
     "text": [
      "WARNING:absl:You are saving your model as an HDF5 file via `model.save()` or `keras.saving.save_model(model)`. This file format is considered legacy. We recommend using instead the native Keras format, e.g. `model.save('my_model.keras')` or `keras.saving.save_model(model, 'my_model.keras')`. \n"
     ]
    },
    {
     "name": "stdout",
     "output_type": "stream",
     "text": [
      "\u001B[1m26/26\u001B[0m \u001B[32m━━━━━━━━━━━━━━━━━━━━\u001B[0m\u001B[37m\u001B[0m \u001B[1m3s\u001B[0m 113ms/step - accuracy: 1.0000 - loss: 0.0833 - val_accuracy: 0.1828 - val_loss: 3.5303\n",
      "Epoch 14/50\n",
      "\u001B[1m25/26\u001B[0m \u001B[32m━━━━━━━━━━━━━━━━━━━\u001B[0m\u001B[37m━\u001B[0m \u001B[1m0s\u001B[0m 96ms/step - accuracy: 1.0000 - loss: 0.0779\n",
      "Epoch 14: val_accuracy improved from 0.18280 to 0.27419, saving model to ..\\data\\ml_models/trained\\simple_cnn_lfw_anony_v1.h5\n"
     ]
    },
    {
     "name": "stderr",
     "output_type": "stream",
     "text": [
      "WARNING:absl:You are saving your model as an HDF5 file via `model.save()` or `keras.saving.save_model(model)`. This file format is considered legacy. We recommend using instead the native Keras format, e.g. `model.save('my_model.keras')` or `keras.saving.save_model(model, 'my_model.keras')`. \n"
     ]
    },
    {
     "name": "stdout",
     "output_type": "stream",
     "text": [
      "\u001B[1m26/26\u001B[0m \u001B[32m━━━━━━━━━━━━━━━━━━━━\u001B[0m\u001B[37m\u001B[0m \u001B[1m3s\u001B[0m 119ms/step - accuracy: 1.0000 - loss: 0.0777 - val_accuracy: 0.2742 - val_loss: 3.0939\n",
      "Epoch 15/50\n",
      "\u001B[1m25/26\u001B[0m \u001B[32m━━━━━━━━━━━━━━━━━━━\u001B[0m\u001B[37m━\u001B[0m \u001B[1m0s\u001B[0m 88ms/step - accuracy: 0.9996 - loss: 0.0675\n",
      "Epoch 15: val_accuracy improved from 0.27419 to 0.46774, saving model to ..\\data\\ml_models/trained\\simple_cnn_lfw_anony_v1.h5\n"
     ]
    },
    {
     "name": "stderr",
     "output_type": "stream",
     "text": [
      "WARNING:absl:You are saving your model as an HDF5 file via `model.save()` or `keras.saving.save_model(model)`. This file format is considered legacy. We recommend using instead the native Keras format, e.g. `model.save('my_model.keras')` or `keras.saving.save_model(model, 'my_model.keras')`. \n"
     ]
    },
    {
     "name": "stdout",
     "output_type": "stream",
     "text": [
      "\u001B[1m26/26\u001B[0m \u001B[32m━━━━━━━━━━━━━━━━━━━━\u001B[0m\u001B[37m\u001B[0m \u001B[1m3s\u001B[0m 105ms/step - accuracy: 0.9995 - loss: 0.0674 - val_accuracy: 0.4677 - val_loss: 2.4487\n",
      "Epoch 16/50\n",
      "\u001B[1m25/26\u001B[0m \u001B[32m━━━━━━━━━━━━━━━━━━━\u001B[0m\u001B[37m━\u001B[0m \u001B[1m0s\u001B[0m 82ms/step - accuracy: 1.0000 - loss: 0.0589\n",
      "Epoch 16: val_accuracy improved from 0.46774 to 0.69892, saving model to ..\\data\\ml_models/trained\\simple_cnn_lfw_anony_v1.h5\n"
     ]
    },
    {
     "name": "stderr",
     "output_type": "stream",
     "text": [
      "WARNING:absl:You are saving your model as an HDF5 file via `model.save()` or `keras.saving.save_model(model)`. This file format is considered legacy. We recommend using instead the native Keras format, e.g. `model.save('my_model.keras')` or `keras.saving.save_model(model, 'my_model.keras')`. \n"
     ]
    },
    {
     "name": "stdout",
     "output_type": "stream",
     "text": [
      "\u001B[1m26/26\u001B[0m \u001B[32m━━━━━━━━━━━━━━━━━━━━\u001B[0m\u001B[37m\u001B[0m \u001B[1m3s\u001B[0m 98ms/step - accuracy: 1.0000 - loss: 0.0589 - val_accuracy: 0.6989 - val_loss: 1.7207\n",
      "Epoch 17/50\n",
      "\u001B[1m25/26\u001B[0m \u001B[32m━━━━━━━━━━━━━━━━━━━\u001B[0m\u001B[37m━\u001B[0m \u001B[1m0s\u001B[0m 83ms/step - accuracy: 1.0000 - loss: 0.0503\n",
      "Epoch 17: val_accuracy improved from 0.69892 to 0.76344, saving model to ..\\data\\ml_models/trained\\simple_cnn_lfw_anony_v1.h5\n"
     ]
    },
    {
     "name": "stderr",
     "output_type": "stream",
     "text": [
      "WARNING:absl:You are saving your model as an HDF5 file via `model.save()` or `keras.saving.save_model(model)`. This file format is considered legacy. We recommend using instead the native Keras format, e.g. `model.save('my_model.keras')` or `keras.saving.save_model(model, 'my_model.keras')`. \n"
     ]
    },
    {
     "name": "stdout",
     "output_type": "stream",
     "text": [
      "\u001B[1m26/26\u001B[0m \u001B[32m━━━━━━━━━━━━━━━━━━━━\u001B[0m\u001B[37m\u001B[0m \u001B[1m3s\u001B[0m 101ms/step - accuracy: 1.0000 - loss: 0.0505 - val_accuracy: 0.7634 - val_loss: 1.3576\n",
      "Epoch 18/50\n",
      "\u001B[1m25/26\u001B[0m \u001B[32m━━━━━━━━━━━━━━━━━━━\u001B[0m\u001B[37m━\u001B[0m \u001B[1m0s\u001B[0m 81ms/step - accuracy: 1.0000 - loss: 0.0495\n",
      "Epoch 18: val_accuracy improved from 0.76344 to 0.93011, saving model to ..\\data\\ml_models/trained\\simple_cnn_lfw_anony_v1.h5\n"
     ]
    },
    {
     "name": "stderr",
     "output_type": "stream",
     "text": [
      "WARNING:absl:You are saving your model as an HDF5 file via `model.save()` or `keras.saving.save_model(model)`. This file format is considered legacy. We recommend using instead the native Keras format, e.g. `model.save('my_model.keras')` or `keras.saving.save_model(model, 'my_model.keras')`. \n"
     ]
    },
    {
     "name": "stdout",
     "output_type": "stream",
     "text": [
      "\u001B[1m26/26\u001B[0m \u001B[32m━━━━━━━━━━━━━━━━━━━━\u001B[0m\u001B[37m\u001B[0m \u001B[1m3s\u001B[0m 99ms/step - accuracy: 1.0000 - loss: 0.0495 - val_accuracy: 0.9301 - val_loss: 0.8404\n",
      "Epoch 19/50\n",
      "\u001B[1m25/26\u001B[0m \u001B[32m━━━━━━━━━━━━━━━━━━━\u001B[0m\u001B[37m━\u001B[0m \u001B[1m0s\u001B[0m 78ms/step - accuracy: 1.0000 - loss: 0.0451\n",
      "Epoch 19: val_accuracy improved from 0.93011 to 0.96237, saving model to ..\\data\\ml_models/trained\\simple_cnn_lfw_anony_v1.h5\n"
     ]
    },
    {
     "name": "stderr",
     "output_type": "stream",
     "text": [
      "WARNING:absl:You are saving your model as an HDF5 file via `model.save()` or `keras.saving.save_model(model)`. This file format is considered legacy. We recommend using instead the native Keras format, e.g. `model.save('my_model.keras')` or `keras.saving.save_model(model, 'my_model.keras')`. \n"
     ]
    },
    {
     "name": "stdout",
     "output_type": "stream",
     "text": [
      "\u001B[1m26/26\u001B[0m \u001B[32m━━━━━━━━━━━━━━━━━━━━\u001B[0m\u001B[37m\u001B[0m \u001B[1m2s\u001B[0m 94ms/step - accuracy: 1.0000 - loss: 0.0450 - val_accuracy: 0.9624 - val_loss: 0.5484\n",
      "Epoch 20/50\n",
      "\u001B[1m25/26\u001B[0m \u001B[32m━━━━━━━━━━━━━━━━━━━\u001B[0m\u001B[37m━\u001B[0m \u001B[1m0s\u001B[0m 77ms/step - accuracy: 1.0000 - loss: 0.0382\n",
      "Epoch 20: val_accuracy improved from 0.96237 to 0.97849, saving model to ..\\data\\ml_models/trained\\simple_cnn_lfw_anony_v1.h5\n"
     ]
    },
    {
     "name": "stderr",
     "output_type": "stream",
     "text": [
      "WARNING:absl:You are saving your model as an HDF5 file via `model.save()` or `keras.saving.save_model(model)`. This file format is considered legacy. We recommend using instead the native Keras format, e.g. `model.save('my_model.keras')` or `keras.saving.save_model(model, 'my_model.keras')`. \n"
     ]
    },
    {
     "name": "stdout",
     "output_type": "stream",
     "text": [
      "\u001B[1m26/26\u001B[0m \u001B[32m━━━━━━━━━━━━━━━━━━━━\u001B[0m\u001B[37m\u001B[0m \u001B[1m2s\u001B[0m 93ms/step - accuracy: 1.0000 - loss: 0.0385 - val_accuracy: 0.9785 - val_loss: 0.4253\n",
      "Epoch 21/50\n",
      "\u001B[1m25/26\u001B[0m \u001B[32m━━━━━━━━━━━━━━━━━━━\u001B[0m\u001B[37m━\u001B[0m \u001B[1m0s\u001B[0m 78ms/step - accuracy: 1.0000 - loss: 0.0423\n",
      "Epoch 21: val_accuracy improved from 0.97849 to 0.98387, saving model to ..\\data\\ml_models/trained\\simple_cnn_lfw_anony_v1.h5\n"
     ]
    },
    {
     "name": "stderr",
     "output_type": "stream",
     "text": [
      "WARNING:absl:You are saving your model as an HDF5 file via `model.save()` or `keras.saving.save_model(model)`. This file format is considered legacy. We recommend using instead the native Keras format, e.g. `model.save('my_model.keras')` or `keras.saving.save_model(model, 'my_model.keras')`. \n"
     ]
    },
    {
     "name": "stdout",
     "output_type": "stream",
     "text": [
      "\u001B[1m26/26\u001B[0m \u001B[32m━━━━━━━━━━━━━━━━━━━━\u001B[0m\u001B[37m\u001B[0m \u001B[1m2s\u001B[0m 93ms/step - accuracy: 1.0000 - loss: 0.0421 - val_accuracy: 0.9839 - val_loss: 0.2974\n",
      "Epoch 22/50\n",
      "\u001B[1m25/26\u001B[0m \u001B[32m━━━━━━━━━━━━━━━━━━━\u001B[0m\u001B[37m━\u001B[0m \u001B[1m0s\u001B[0m 76ms/step - accuracy: 1.0000 - loss: 0.0384\n",
      "Epoch 22: val_accuracy improved from 0.98387 to 0.98925, saving model to ..\\data\\ml_models/trained\\simple_cnn_lfw_anony_v1.h5\n"
     ]
    },
    {
     "name": "stderr",
     "output_type": "stream",
     "text": [
      "WARNING:absl:You are saving your model as an HDF5 file via `model.save()` or `keras.saving.save_model(model)`. This file format is considered legacy. We recommend using instead the native Keras format, e.g. `model.save('my_model.keras')` or `keras.saving.save_model(model, 'my_model.keras')`. \n"
     ]
    },
    {
     "name": "stdout",
     "output_type": "stream",
     "text": [
      "\u001B[1m26/26\u001B[0m \u001B[32m━━━━━━━━━━━━━━━━━━━━\u001B[0m\u001B[37m\u001B[0m \u001B[1m2s\u001B[0m 92ms/step - accuracy: 1.0000 - loss: 0.0382 - val_accuracy: 0.9892 - val_loss: 0.2172\n",
      "Epoch 23/50\n",
      "\u001B[1m25/26\u001B[0m \u001B[32m━━━━━━━━━━━━━━━━━━━\u001B[0m\u001B[37m━\u001B[0m \u001B[1m0s\u001B[0m 76ms/step - accuracy: 1.0000 - loss: 0.0330\n",
      "Epoch 23: val_accuracy did not improve from 0.98925\n",
      "\u001B[1m26/26\u001B[0m \u001B[32m━━━━━━━━━━━━━━━━━━━━\u001B[0m\u001B[37m\u001B[0m \u001B[1m2s\u001B[0m 88ms/step - accuracy: 1.0000 - loss: 0.0330 - val_accuracy: 0.9892 - val_loss: 0.1805\n",
      "Epoch 24/50\n",
      "\u001B[1m25/26\u001B[0m \u001B[32m━━━━━━━━━━━━━━━━━━━\u001B[0m\u001B[37m━\u001B[0m \u001B[1m0s\u001B[0m 72ms/step - accuracy: 1.0000 - loss: 0.0307\n",
      "Epoch 24: val_accuracy did not improve from 0.98925\n",
      "\u001B[1m26/26\u001B[0m \u001B[32m━━━━━━━━━━━━━━━━━━━━\u001B[0m\u001B[37m\u001B[0m \u001B[1m2s\u001B[0m 84ms/step - accuracy: 1.0000 - loss: 0.0307 - val_accuracy: 0.9892 - val_loss: 0.1527\n",
      "Epoch 25/50\n",
      "\u001B[1m25/26\u001B[0m \u001B[32m━━━━━━━━━━━━━━━━━━━\u001B[0m\u001B[37m━\u001B[0m \u001B[1m0s\u001B[0m 72ms/step - accuracy: 1.0000 - loss: 0.0264\n",
      "Epoch 25: val_accuracy improved from 0.98925 to 0.99462, saving model to ..\\data\\ml_models/trained\\simple_cnn_lfw_anony_v1.h5\n"
     ]
    },
    {
     "name": "stderr",
     "output_type": "stream",
     "text": [
      "WARNING:absl:You are saving your model as an HDF5 file via `model.save()` or `keras.saving.save_model(model)`. This file format is considered legacy. We recommend using instead the native Keras format, e.g. `model.save('my_model.keras')` or `keras.saving.save_model(model, 'my_model.keras')`. \n"
     ]
    },
    {
     "name": "stdout",
     "output_type": "stream",
     "text": [
      "\u001B[1m26/26\u001B[0m \u001B[32m━━━━━━━━━━━━━━━━━━━━\u001B[0m\u001B[37m\u001B[0m \u001B[1m2s\u001B[0m 88ms/step - accuracy: 1.0000 - loss: 0.0263 - val_accuracy: 0.9946 - val_loss: 0.1176\n",
      "Epoch 26/50\n",
      "\u001B[1m25/26\u001B[0m \u001B[32m━━━━━━━━━━━━━━━━━━━\u001B[0m\u001B[37m━\u001B[0m \u001B[1m0s\u001B[0m 94ms/step - accuracy: 1.0000 - loss: 0.0260\n",
      "Epoch 26: val_accuracy did not improve from 0.99462\n",
      "\u001B[1m26/26\u001B[0m \u001B[32m━━━━━━━━━━━━━━━━━━━━\u001B[0m\u001B[37m\u001B[0m \u001B[1m3s\u001B[0m 107ms/step - accuracy: 1.0000 - loss: 0.0261 - val_accuracy: 0.9946 - val_loss: 0.1099\n",
      "Epoch 27/50\n",
      "\u001B[1m25/26\u001B[0m \u001B[32m━━━━━━━━━━━━━━━━━━━\u001B[0m\u001B[37m━\u001B[0m \u001B[1m0s\u001B[0m 98ms/step - accuracy: 1.0000 - loss: 0.0252\n",
      "Epoch 27: val_accuracy did not improve from 0.99462\n",
      "\u001B[1m26/26\u001B[0m \u001B[32m━━━━━━━━━━━━━━━━━━━━\u001B[0m\u001B[37m\u001B[0m \u001B[1m3s\u001B[0m 110ms/step - accuracy: 1.0000 - loss: 0.0251 - val_accuracy: 0.9892 - val_loss: 0.1021\n",
      "Epoch 28/50\n",
      "\u001B[1m25/26\u001B[0m \u001B[32m━━━━━━━━━━━━━━━━━━━\u001B[0m\u001B[37m━\u001B[0m \u001B[1m0s\u001B[0m 85ms/step - accuracy: 1.0000 - loss: 0.0199\n",
      "Epoch 28: val_accuracy did not improve from 0.99462\n",
      "\u001B[1m26/26\u001B[0m \u001B[32m━━━━━━━━━━━━━━━━━━━━\u001B[0m\u001B[37m\u001B[0m \u001B[1m3s\u001B[0m 97ms/step - accuracy: 1.0000 - loss: 0.0200 - val_accuracy: 0.9946 - val_loss: 0.0940\n",
      "Epoch 29/50\n",
      "\u001B[1m25/26\u001B[0m \u001B[32m━━━━━━━━━━━━━━━━━━━\u001B[0m\u001B[37m━\u001B[0m \u001B[1m0s\u001B[0m 102ms/step - accuracy: 1.0000 - loss: 0.0206\n",
      "Epoch 29: val_accuracy did not improve from 0.99462\n",
      "\u001B[1m26/26\u001B[0m \u001B[32m━━━━━━━━━━━━━━━━━━━━\u001B[0m\u001B[37m\u001B[0m \u001B[1m3s\u001B[0m 115ms/step - accuracy: 1.0000 - loss: 0.0208 - val_accuracy: 0.9946 - val_loss: 0.0839\n",
      "Epoch 30/50\n",
      "\u001B[1m25/26\u001B[0m \u001B[32m━━━━━━━━━━━━━━━━━━━\u001B[0m\u001B[37m━\u001B[0m \u001B[1m0s\u001B[0m 90ms/step - accuracy: 1.0000 - loss: 0.0238\n",
      "Epoch 30: val_accuracy did not improve from 0.99462\n",
      "\u001B[1m26/26\u001B[0m \u001B[32m━━━━━━━━━━━━━━━━━━━━\u001B[0m\u001B[37m\u001B[0m \u001B[1m3s\u001B[0m 102ms/step - accuracy: 1.0000 - loss: 0.0236 - val_accuracy: 0.9946 - val_loss: 0.0693\n",
      "Epoch 31/50\n",
      "\u001B[1m25/26\u001B[0m \u001B[32m━━━━━━━━━━━━━━━━━━━\u001B[0m\u001B[37m━\u001B[0m \u001B[1m0s\u001B[0m 90ms/step - accuracy: 1.0000 - loss: 0.0197\n",
      "Epoch 31: val_accuracy did not improve from 0.99462\n",
      "\u001B[1m26/26\u001B[0m \u001B[32m━━━━━━━━━━━━━━━━━━━━\u001B[0m\u001B[37m\u001B[0m \u001B[1m3s\u001B[0m 103ms/step - accuracy: 1.0000 - loss: 0.0197 - val_accuracy: 0.9946 - val_loss: 0.0671\n",
      "Epoch 32/50\n",
      "\u001B[1m25/26\u001B[0m \u001B[32m━━━━━━━━━━━━━━━━━━━\u001B[0m\u001B[37m━\u001B[0m \u001B[1m0s\u001B[0m 99ms/step - accuracy: 1.0000 - loss: 0.0197 \n",
      "Epoch 32: val_accuracy improved from 0.99462 to 1.00000, saving model to ..\\data\\ml_models/trained\\simple_cnn_lfw_anony_v1.h5\n"
     ]
    },
    {
     "name": "stderr",
     "output_type": "stream",
     "text": [
      "WARNING:absl:You are saving your model as an HDF5 file via `model.save()` or `keras.saving.save_model(model)`. This file format is considered legacy. We recommend using instead the native Keras format, e.g. `model.save('my_model.keras')` or `keras.saving.save_model(model, 'my_model.keras')`. \n"
     ]
    },
    {
     "name": "stdout",
     "output_type": "stream",
     "text": [
      "\u001B[1m26/26\u001B[0m \u001B[32m━━━━━━━━━━━━━━━━━━━━\u001B[0m\u001B[37m\u001B[0m \u001B[1m3s\u001B[0m 115ms/step - accuracy: 1.0000 - loss: 0.0196 - val_accuracy: 1.0000 - val_loss: 0.0684\n",
      "Epoch 33/50\n",
      "\u001B[1m25/26\u001B[0m \u001B[32m━━━━━━━━━━━━━━━━━━━\u001B[0m\u001B[37m━\u001B[0m \u001B[1m0s\u001B[0m 86ms/step - accuracy: 1.0000 - loss: 0.0193\n",
      "Epoch 33: val_accuracy did not improve from 1.00000\n",
      "\u001B[1m26/26\u001B[0m \u001B[32m━━━━━━━━━━━━━━━━━━━━\u001B[0m\u001B[37m\u001B[0m \u001B[1m3s\u001B[0m 98ms/step - accuracy: 1.0000 - loss: 0.0193 - val_accuracy: 1.0000 - val_loss: 0.0727\n",
      "Epoch 34/50\n",
      "\u001B[1m25/26\u001B[0m \u001B[32m━━━━━━━━━━━━━━━━━━━\u001B[0m\u001B[37m━\u001B[0m \u001B[1m0s\u001B[0m 101ms/step - accuracy: 1.0000 - loss: 0.0163\n",
      "Epoch 34: val_accuracy did not improve from 1.00000\n",
      "\u001B[1m26/26\u001B[0m \u001B[32m━━━━━━━━━━━━━━━━━━━━\u001B[0m\u001B[37m\u001B[0m \u001B[1m3s\u001B[0m 116ms/step - accuracy: 1.0000 - loss: 0.0163 - val_accuracy: 1.0000 - val_loss: 0.0752\n",
      "Epoch 35/50\n",
      "\u001B[1m25/26\u001B[0m \u001B[32m━━━━━━━━━━━━━━━━━━━\u001B[0m\u001B[37m━\u001B[0m \u001B[1m0s\u001B[0m 89ms/step - accuracy: 1.0000 - loss: 0.0176\n",
      "Epoch 35: val_accuracy did not improve from 1.00000\n",
      "\u001B[1m26/26\u001B[0m \u001B[32m━━━━━━━━━━━━━━━━━━━━\u001B[0m\u001B[37m\u001B[0m \u001B[1m3s\u001B[0m 102ms/step - accuracy: 1.0000 - loss: 0.0176 - val_accuracy: 0.9946 - val_loss: 0.0901\n",
      "Epoch 36/50\n",
      "\u001B[1m25/26\u001B[0m \u001B[32m━━━━━━━━━━━━━━━━━━━\u001B[0m\u001B[37m━\u001B[0m \u001B[1m0s\u001B[0m 106ms/step - accuracy: 1.0000 - loss: 0.0208\n",
      "Epoch 36: val_accuracy did not improve from 1.00000\n",
      "\u001B[1m26/26\u001B[0m \u001B[32m━━━━━━━━━━━━━━━━━━━━\u001B[0m\u001B[37m\u001B[0m \u001B[1m3s\u001B[0m 120ms/step - accuracy: 1.0000 - loss: 0.0210 - val_accuracy: 0.9839 - val_loss: 0.1541\n",
      "Epoch 37/50\n",
      "\u001B[1m25/26\u001B[0m \u001B[32m━━━━━━━━━━━━━━━━━━━\u001B[0m\u001B[37m━\u001B[0m \u001B[1m0s\u001B[0m 102ms/step - accuracy: 1.0000 - loss: 0.0210\n",
      "Epoch 37: val_accuracy did not improve from 1.00000\n",
      "\u001B[1m26/26\u001B[0m \u001B[32m━━━━━━━━━━━━━━━━━━━━\u001B[0m\u001B[37m\u001B[0m \u001B[1m3s\u001B[0m 115ms/step - accuracy: 1.0000 - loss: 0.0210 - val_accuracy: 1.0000 - val_loss: 0.1000\n",
      "Epoch 38/50\n",
      "\u001B[1m25/26\u001B[0m \u001B[32m━━━━━━━━━━━━━━━━━━━\u001B[0m\u001B[37m━\u001B[0m \u001B[1m0s\u001B[0m 99ms/step - accuracy: 1.0000 - loss: 0.0174 \n",
      "Epoch 38: val_accuracy did not improve from 1.00000\n",
      "\u001B[1m26/26\u001B[0m \u001B[32m━━━━━━━━━━━━━━━━━━━━\u001B[0m\u001B[37m\u001B[0m \u001B[1m3s\u001B[0m 113ms/step - accuracy: 1.0000 - loss: 0.0173 - val_accuracy: 1.0000 - val_loss: 0.0923\n",
      "Epoch 39/50\n",
      "\u001B[1m26/26\u001B[0m \u001B[32m━━━━━━━━━━━━━━━━━━━━\u001B[0m\u001B[37m\u001B[0m \u001B[1m0s\u001B[0m 100ms/step - accuracy: 1.0000 - loss: 0.0154\n",
      "Epoch 39: val_accuracy did not improve from 1.00000\n",
      "\u001B[1m26/26\u001B[0m \u001B[32m━━━━━━━━━━━━━━━━━━━━\u001B[0m\u001B[37m\u001B[0m \u001B[1m3s\u001B[0m 114ms/step - accuracy: 1.0000 - loss: 0.0153 - val_accuracy: 1.0000 - val_loss: 0.0760\n",
      "Epoch 40/50\n",
      "\u001B[1m25/26\u001B[0m \u001B[32m━━━━━━━━━━━━━━━━━━━\u001B[0m\u001B[37m━\u001B[0m \u001B[1m0s\u001B[0m 85ms/step - accuracy: 1.0000 - loss: 0.0155\n",
      "Epoch 40: val_accuracy did not improve from 1.00000\n",
      "\u001B[1m26/26\u001B[0m \u001B[32m━━━━━━━━━━━━━━━━━━━━\u001B[0m\u001B[37m\u001B[0m \u001B[1m3s\u001B[0m 97ms/step - accuracy: 1.0000 - loss: 0.0154 - val_accuracy: 1.0000 - val_loss: 0.0532\n",
      "Epoch 41/50\n",
      "\u001B[1m25/26\u001B[0m \u001B[32m━━━━━━━━━━━━━━━━━━━\u001B[0m\u001B[37m━\u001B[0m \u001B[1m0s\u001B[0m 84ms/step - accuracy: 1.0000 - loss: 0.0102\n",
      "Epoch 41: val_accuracy did not improve from 1.00000\n",
      "\u001B[1m26/26\u001B[0m \u001B[32m━━━━━━━━━━━━━━━━━━━━\u001B[0m\u001B[37m\u001B[0m \u001B[1m3s\u001B[0m 97ms/step - accuracy: 1.0000 - loss: 0.0103 - val_accuracy: 0.9946 - val_loss: 0.0537\n",
      "Epoch 42/50\n",
      "\u001B[1m25/26\u001B[0m \u001B[32m━━━━━━━━━━━━━━━━━━━\u001B[0m\u001B[37m━\u001B[0m \u001B[1m0s\u001B[0m 113ms/step - accuracy: 1.0000 - loss: 0.0136\n",
      "Epoch 42: val_accuracy did not improve from 1.00000\n",
      "\u001B[1m26/26\u001B[0m \u001B[32m━━━━━━━━━━━━━━━━━━━━\u001B[0m\u001B[37m\u001B[0m \u001B[1m3s\u001B[0m 125ms/step - accuracy: 1.0000 - loss: 0.0137 - val_accuracy: 1.0000 - val_loss: 0.0536\n",
      "Epoch 42: early stopping\n",
      "Restoring model weights from the end of the best epoch: 32.\n",
      "--- Entraînement terminé ---\n"
     ]
    }
   ],
   "execution_count": 11
  },
  {
   "metadata": {
    "ExecuteTime": {
     "end_time": "2025-04-27T14:14:01.225671Z",
     "start_time": "2025-04-27T14:14:00.537686Z"
    }
   },
   "cell_type": "code",
   "source": [
    "# --- 8. Post-Entraînement ---\n",
    "encoder_save_path = os.path.join(config.MODEL_SAVE_DIR, f\"{config.MODEL_NAME}_label_encoder.joblib\")\n",
    "print(\"\\n--- Sauvegarde de l'encodeur de labels ---\")\n",
    "data_loader.save_label_encoder(label_encoder, encoder_save_path)\n",
    "\n",
    "if history is not None:\n",
    "    print(\"\\n--- Affichage des courbes d'apprentissage ---\")\n",
    "    try:\n",
    "        acc = history.history['accuracy']\n",
    "        loss = history.history['loss']\n",
    "        epochs_range = range(len(acc))\n",
    "\n",
    "        plt.figure(figsize=(12, 5))\n",
    "\n",
    "        plt.subplot(1, 2, 1)\n",
    "        plt.plot(epochs_range, acc, label='Training Accuracy')\n",
    "        if validation_data: # Seulement si validation existe\n",
    "             val_acc = history.history['val_accuracy']\n",
    "             plt.plot(epochs_range, val_acc, label='Validation Accuracy')\n",
    "        plt.legend(loc='lower right')\n",
    "        plt.title('Training and Validation Accuracy')\n",
    "        plt.xlabel('Epochs')\n",
    "        plt.ylabel('Accuracy')\n",
    "\n",
    "        plt.subplot(1, 2, 2)\n",
    "        plt.plot(epochs_range, loss, label='Training Loss')\n",
    "        if validation_data: # Seulement si validation existe\n",
    "            val_loss = history.history['val_loss']\n",
    "            plt.plot(epochs_range, val_loss, label='Validation Loss')\n",
    "        plt.legend(loc='upper right')\n",
    "        plt.title('Training and Validation Loss')\n",
    "        plt.xlabel('Epochs')\n",
    "        plt.ylabel('Loss')\n",
    "\n",
    "        plot_save_path = os.path.join(config.MODEL_SAVE_DIR, f\"{config.MODEL_NAME}_training_curves.pdf\")\n",
    "        plt.savefig(plot_save_path, format='pdf', bbox_inches='tight')\n",
    "        print(f\"Courbes sauvegardées dans : {plot_save_path}\")\n",
    "\n",
    "    except Exception as plot_e:\n",
    "        print(f\"Erreur lors de la génération/sauvegarde des courbes: {plot_e}\")\n",
    "\n",
    "\n",
    "end_time = time.time()\n",
    "duration = end_time - start_time\n",
    "print(f\"\\n--- Script d'Entraînement Terminé en {duration:.2f} secondes ---\")\n",
    "print(f\"Le meilleur modèle devrait être sauvegardé dans : {model_filepath}\")\n",
    "print(f\"L'encodeur de labels est sauvegardé dans : {encoder_save_path}\")\n",
    "\n"
   ],
   "id": "52021639fc4844b5",
   "outputs": [
    {
     "name": "stdout",
     "output_type": "stream",
     "text": [
      "\n",
      "--- Sauvegarde de l'encodeur de labels ---\n",
      "LabelEncoder sauvegardé dans : ..\\data\\ml_models/trained\\simple_cnn_lfw_anony_v1_label_encoder.joblib\n",
      "\n",
      "--- Affichage des courbes d'apprentissage ---\n",
      "Courbes sauvegardées dans : ..\\data\\ml_models/trained\\simple_cnn_lfw_anony_v1_training_curves.pdf\n",
      "\n",
      "--- Script d'Entraînement Terminé en 119.25 secondes ---\n",
      "Le meilleur modèle devrait être sauvegardé dans : ..\\data\\ml_models/trained\\simple_cnn_lfw_anony_v1.h5\n",
      "L'encodeur de labels est sauvegardé dans : ..\\data\\ml_models/trained\\simple_cnn_lfw_anony_v1_label_encoder.joblib\n"
     ]
    },
    {
     "data": {
      "text/plain": [
       "<Figure size 1200x500 with 2 Axes>"
      ],
      "image/png": "[encoded data removed]"
     },
     "metadata": {},
     "output_type": "display_data"
    }
   ],
   "execution_count": 12
  },
  {
   "metadata": {},
   "cell_type": "markdown",
   "source": "# Predict",
   "id": "cc9ee36ea101e496"
  },
  {
   "metadata": {
    "ExecuteTime": {
     "end_time": "2025-04-27T14:15:07.221434Z",
     "start_time": "2025-04-27T14:15:07.216115Z"
    }
   },
   "cell_type": "code",
   "source": [
    "import os\n",
    "import numpy as np\n",
    "import time\n",
    "from typing import Optional\n",
    "from PIL import Image\n",
    "\n",
    "user = 5\n",
    "image_path = f\"../data/dataset-lfw_reconstructed/reconstructed_{user}_2.png\""
   ],
   "id": "b33999dcd2ce82a0",
   "outputs": [],
   "execution_count": 18
  },
  {
   "metadata": {
    "ExecuteTime": {
     "end_time": "2025-04-27T14:15:09.361955Z",
     "start_time": "2025-04-27T14:15:09.343815Z"
    }
   },
   "cell_type": "code",
   "source": [
    "print(\"--- Démarrage du Script de Prédiction ---\")\n",
    "start_time = time.time()\n",
    "\n",
    "# --- 1. Charger Configuration et Chemins ---\n",
    "print(\"Chargement de la configuration...\")\n",
    "model_filename = f\"{config.MODEL_NAME}.h5\" # ou .keras\n",
    "model_filepath = os.path.join(config.MODEL_SAVE_DIR, model_filename)\n",
    "encoder_filename = f\"{config.MODEL_NAME}_label_encoder.joblib\"\n",
    "encoder_filepath = os.path.join(config.MODEL_SAVE_DIR, encoder_filename)\n",
    "\n",
    "print(f\"  - Modèle utilisé: {model_filepath}\")\n",
    "print(f\"  - Encodeur utilisé: {encoder_filepath}\")\n",
    "print(f\"  - Image à prédire: {image_path}\")"
   ],
   "id": "8b52d85a2b88db70",
   "outputs": [
    {
     "name": "stdout",
     "output_type": "stream",
     "text": [
      "--- Démarrage du Script de Prédiction ---\n",
      "Chargement de la configuration...\n",
      "  - Modèle utilisé: ..\\data\\ml_models/trained\\simple_cnn_lfw_anony_v1.h5\n",
      "  - Encodeur utilisé: ..\\data\\ml_models/trained\\simple_cnn_lfw_anony_v1_label_encoder.joblib\n",
      "  - Image à prédire: ../data/dataset-lfw_reconstructed/reconstructed_6_2.png\n"
     ]
    }
   ],
   "execution_count": 19
  },
  {
   "metadata": {
    "ExecuteTime": {
     "end_time": "2025-04-27T14:15:11.017591Z",
     "start_time": "2025-04-27T14:15:10.942667Z"
    }
   },
   "cell_type": "code",
   "source": [
    "# --- 2. Charger Modèle et Encodeur ---\n",
    "print(\"\\n--- Chargement du modèle et de l'encodeur ---\")\n",
    "if not os.path.exists(model_filepath):\n",
    "    print(f\"Erreur: Fichier modèle non trouvé: {model_filepath}\")\n",
    "try:\n",
    "    model = tf.keras.models.load_model(model_filepath)\n",
    "    print(\"Modèle chargé avec succès.\")\n",
    "except Exception as e:\n",
    "    print(f\"Erreur lors du chargement du modèle Keras: {e}\")\n",
    "\n",
    "# Charger l'encodeur de labels\n",
    "label_encoder = data_loader.load_label_encoder(encoder_filepath)\n",
    "if label_encoder is None:\n",
    "    print(\"Erreur critique : Impossible de charger l'encodeur de labels.\")"
   ],
   "id": "3ec5e7fe31a3d72",
   "outputs": [
    {
     "name": "stderr",
     "output_type": "stream",
     "text": [
      "WARNING:absl:Compiled the loaded model, but the compiled metrics have yet to be built. `model.compile_metrics` will be empty until you train or evaluate the model.\n"
     ]
    },
    {
     "name": "stdout",
     "output_type": "stream",
     "text": [
      "\n",
      "--- Chargement du modèle et de l'encodeur ---\n",
      "Modèle chargé avec succès.\n",
      "LabelEncoder chargé depuis : ..\\data\\ml_models/trained\\simple_cnn_lfw_anony_v1_label_encoder.joblib\n"
     ]
    }
   ],
   "execution_count": 20
  },
  {
   "metadata": {
    "ExecuteTime": {
     "end_time": "2025-04-27T14:15:13.703025Z",
     "start_time": "2025-04-27T14:15:13.695879Z"
    }
   },
   "cell_type": "code",
   "source": [
    "# --- 3. Prétraiter l'Image d'Entrée ---\n",
    "\n",
    "def preprocess_single_image(\n",
    "    image_path: str,\n",
    "    img_width: int,\n",
    "    img_height: int,\n",
    "    color_mode: str\n",
    ") -> Optional[np.ndarray]:\n",
    "    \"\"\"\n",
    "    Charge, redimensionne, normalise et formate une image unique pour la prédiction.\n",
    "    \"\"\"\n",
    "    try:\n",
    "        img = Image.open(image_path)\n",
    "\n",
    "        pil_mode = 'L' if color_mode == 'grayscale' else 'RGB'\n",
    "        img_converted = img.convert(pil_mode)\n",
    "\n",
    "        img_resized = img_converted.resize((img_width, img_height))\n",
    "\n",
    "        img_array = np.array(img_resized)\n",
    "\n",
    "        img_normalized = img_array.astype('float32') / 255.0\n",
    "\n",
    "        if color_mode == 'grayscale':\n",
    "            img_final = np.expand_dims(img_normalized, axis=-1)\n",
    "        else:\n",
    "            img_final = img_normalized\n",
    "\n",
    "        img_batch = np.expand_dims(img_final, axis=0)\n",
    "\n",
    "        print(f\"Image prétraitée, shape final: {img_batch.shape}\")\n",
    "        return img_batch\n",
    "\n",
    "    except FileNotFoundError:\n",
    "        print(f\"Erreur: Fichier image introuvable : {image_path}\")\n",
    "        return None\n",
    "    except Exception as e:\n",
    "        print(f\"Erreur lors du prétraitement de l'image {image_path}: {e}\")\n",
    "        return None\n",
    "\n",
    "print(\"\\n--- Prétraitement de l'image d'entrée ---\")\n",
    "preprocessed_image = preprocess_single_image(\n",
    "    image_path=image_path,\n",
    "    img_width=config.IMG_WIDTH,\n",
    "    img_height=config.IMG_HEIGHT,\n",
    "    color_mode=config.COLOR_MODE\n",
    ")\n",
    "\n",
    "if preprocessed_image is None:\n",
    "    print(\"Échec du prétraitement de l'image.\")"
   ],
   "id": "681a354b97fc7bbf",
   "outputs": [
    {
     "name": "stdout",
     "output_type": "stream",
     "text": [
      "\n",
      "--- Prétraitement de l'image d'entrée ---\n",
      "Image prétraitée, shape final: (1, 64, 64, 1)\n"
     ]
    }
   ],
   "execution_count": 21
  },
  {
   "metadata": {
    "ExecuteTime": {
     "end_time": "2025-04-27T14:15:16.575398Z",
     "start_time": "2025-04-27T14:15:16.430714Z"
    }
   },
   "cell_type": "code",
   "source": [
    "# --- 4. Faire la Prédiction ---\n",
    "print(\"\\n--- Prédiction ---\")\n",
    "try:\n",
    "    prediction_probabilities = model.predict(preprocessed_image)\n",
    "\n",
    "    predicted_index = np.argmax(prediction_probabilities[0])\n",
    "    prediction_confidence = prediction_probabilities[0][predicted_index]\n",
    "\n",
    "    predicted_label = label_encoder.inverse_transform([predicted_index])[0]\n",
    "\n",
    "    print(\"\\n--- Résultat de la Prédiction ---\")\n",
    "    print(f\"  - Image : {os.path.basename(image_path)}\")\n",
    "    print(f\"  - Identité Prédite (Subject ID) : {predicted_label}\")\n",
    "    print(f\"  - Confiance : {prediction_confidence:.4f} ({prediction_confidence*100:.2f}%)\")\n",
    "\n",
    "except Exception as e:\n",
    "    print(f\"Erreur lors de la prédiction: {e}\")\n",
    "\n",
    "end_time = time.time()\n",
    "duration = end_time - start_time\n",
    "print(f\"\\n--- Script de Prédiction Terminé en {duration:.2f} secondes ---\")\n",
    "\n",
    "print(predicted_label)"
   ],
   "id": "f42f575e8421b215",
   "outputs": [
    {
     "name": "stdout",
     "output_type": "stream",
     "text": [
      "\n",
      "--- Prédiction ---\n",
      "\u001B[1m1/1\u001B[0m \u001B[32m━━━━━━━━━━━━━━━━━━━━\u001B[0m\u001B[37m\u001B[0m \u001B[1m0s\u001B[0m 110ms/step\n",
      "\n",
      "--- Résultat de la Prédiction ---\n",
      "  - Image : reconstructed_6_2.png\n",
      "  - Identité Prédite (Subject ID) : 6\n",
      "  - Confiance : 0.9966 (99.66%)\n",
      "\n",
      "--- Script de Prédiction Terminé en 7.21 secondes ---\n",
      "6\n"
     ]
    },
    {
     "name": "stderr",
     "output_type": "stream",
     "text": [
      "D:\\myDocs\\Apprentissage\\Isep\\Year_3\\Brno-Privacy_Preserving_Face_Recognition_Project\\venv\\Lib\\site-packages\\keras\\src\\models\\functional.py:238: UserWarning: The structure of `inputs` doesn't match the expected structure.\n",
      "Expected: ['input_image']\n",
      "Received: inputs=Tensor(shape=(1, 64, 64, 1))\n",
      "  warnings.warn(msg)\n"
     ]
    }
   ],
   "execution_count": 22
  }
 ],
 "metadata": {
  "kernelspec": {
   "display_name": "Python 3",
   "language": "python",
   "name": "python3"
  },
  "language_info": {
   "codemirror_mode": {
    "name": "ipython",
    "version": 2
   },
   "file_extension": ".py",
   "mimetype": "text/x-python",
   "name": "python",
   "nbconvert_exporter": "python",
   "pygments_lexer": "ipython2",
   "version": "2.7.6"
  }
 },
 "nbformat": 4,
 "nbformat_minor": 5
}
