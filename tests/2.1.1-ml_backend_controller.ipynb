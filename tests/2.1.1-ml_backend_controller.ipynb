{
 "cells": [
  {
   "metadata": {
    "ExecuteTime": {
     "end_time": "2025-04-26T09:56:29.330713Z",
     "start_time": "2025-04-26T09:56:22.949332Z"
    }
   },
   "cell_type": "code",
   "source": [
    "import controller.ml_controller as ml\n",
    "MODEL_SAVE_DIR = r'..\\data\\models\\trained'\n",
    "LOG_DIR = r'..\\data\\models\\logs'\n",
    "DB_PATH = r\"..\\data\\database.db\""
   ],
   "id": "be8f4dd325ae10e6",
   "outputs": [],
   "execution_count": 1
  },
  {
   "metadata": {
    "ExecuteTime": {
     "end_time": "2025-04-26T09:56:31.218164Z",
     "start_time": "2025-04-26T09:56:31.208966Z"
    }
   },
   "cell_type": "code",
   "source": [
    "# Aucune des variables ici n'est utilisé. Les valeurs ont été implementées en input des fonctions\n",
    "# --- Chemins et Noms ---\n",
    "ANONY_IMAGES_PATH = 'data/reconstructed_pipeline'\n",
    "MODEL_NAME = 'simple_cnn_lfw_anony_v1'\n",
    "# --- Paramètres des Données et Prétraitement ---\n",
    "COLOR_MODE = 'grayscale'\n",
    "IMG_WIDTH, IMG_HEIGHT, CHANNELS = (100, 100, 1 if COLOR_MODE == 'grayscale' else 3)\n",
    "# --- Paramètres de Division des Données ---\n",
    "SPLIT_STRATEGY = 'stratified'\n",
    "# -- Pour 'stratified' --\n",
    "TEST_SPLIT_RATIO = 0.2\n",
    "VALIDATION_SPLIT_RATIO = 0.15\n",
    "# -- Pour 'fixed_per_subject' --\n",
    "N_TRAIN_PER_SUBJECT = 16\n",
    "RANDOM_STATE = 42\n",
    "# ---    Paramètres du Modèle ---\n",
    "MODEL_ARCHITECTURE = 'simple_cnn'\n",
    "# -- Pour Transfer Learning (si MODEL_ARCHITECTURE commence par 'transfer_') --\n",
    "TRANSFER_BASE_MODEL_NAME = 'MobileNetV2'\n",
    "TRANSFER_FREEZE_BASE = True\n",
    "# --- Paramètres d'Entraînement ---\n",
    "EPOCHS = 50\n",
    "BATCH_SIZE = 32\n",
    "LEARNING_RATE = 0.001\n",
    "EARLY_STOPPING_PATIENCE = 10"
   ],
   "id": "cb4e96e88d85faa6",
   "outputs": [],
   "execution_count": 2
  },
  {
   "metadata": {},
   "cell_type": "markdown",
   "source": "### Data from folder (LFW dataset)",
   "id": "60ff5ecf4cd4d651"
  },
  {
   "metadata": {
    "ExecuteTime": {
     "end_time": "2025-04-25T15:58:08.927303Z",
     "start_time": "2025-04-25T15:58:08.779151Z"
    }
   },
   "cell_type": "code",
   "source": [
    "import os\n",
    "RECONSTRUCTED_DIR = r\"..\\data\\reconstructed_pipeline\"\n",
    "os.makedirs(RECONSTRUCTED_DIR, exist_ok=True)\n",
    "\n",
    "X, y, label_encoder = ml.data_loader.load_anonymized_images_flat(\n",
    "    data_dir=RECONSTRUCTED_DIR,\n",
    "    img_width=IMG_WIDTH,\n",
    "    img_height=IMG_HEIGHT,\n",
    "    color_mode='grayscale'\n",
    ")"
   ],
   "id": "8002dc5917cfa4a5",
   "outputs": [
    {
     "ename": "NameError",
     "evalue": "name 'ml' is not defined",
     "output_type": "error",
     "traceback": [
      "\u001B[31m---------------------------------------------------------------------------\u001B[39m",
      "\u001B[31mNameError\u001B[39m                                 Traceback (most recent call last)",
      "\u001B[36mCell\u001B[39m\u001B[36m \u001B[39m\u001B[32mIn[2]\u001B[39m\u001B[32m, line 5\u001B[39m\n\u001B[32m      2\u001B[39m RECONSTRUCTED_DIR = \u001B[33mr\u001B[39m\u001B[33m\"\u001B[39m\u001B[33m..\u001B[39m\u001B[33m\\\u001B[39m\u001B[33mdata\u001B[39m\u001B[33m\\\u001B[39m\u001B[33mreconstructed_pipeline\u001B[39m\u001B[33m\"\u001B[39m\n\u001B[32m      3\u001B[39m os.makedirs(RECONSTRUCTED_DIR, exist_ok=\u001B[38;5;28;01mTrue\u001B[39;00m)\n\u001B[32m----> \u001B[39m\u001B[32m5\u001B[39m X, y, label_encoder = \u001B[43mml\u001B[49m.data_loader.load_anonymized_images_flat(\n\u001B[32m      6\u001B[39m     data_dir=RECONSTRUCTED_DIR,\n\u001B[32m      7\u001B[39m     img_width=IMG_WIDTH,\n\u001B[32m      8\u001B[39m     img_height=IMG_HEIGHT,\n\u001B[32m      9\u001B[39m     color_mode=\u001B[33m'\u001B[39m\u001B[33mgrayscale\u001B[39m\u001B[33m'\u001B[39m\n\u001B[32m     10\u001B[39m )\n",
      "\u001B[31mNameError\u001B[39m: name 'ml' is not defined"
     ]
    }
   ],
   "execution_count": 2
  },
  {
   "metadata": {},
   "cell_type": "markdown",
   "source": "### Data from database",
   "id": "ca308921b6a78a8a"
  },
  {
   "metadata": {
    "ExecuteTime": {
     "end_time": "2025-04-26T09:56:40.797571Z",
     "start_time": "2025-04-26T09:56:40.619998Z"
    }
   },
   "cell_type": "code",
   "source": [
    "# Get data from db\n",
    "X, y, label_encoder = ml.get_and_prepare_data(DB_PATH)\n",
    "input_shape = X[0].shape\n",
    "print(X.shape)"
   ],
   "id": "f02e202882b7083f",
   "outputs": [
    {
     "name": "stdout",
     "output_type": "stream",
     "text": [
      "(467, 100, 100, 3)\n"
     ]
    }
   ],
   "execution_count": 3
  },
  {
   "metadata": {
    "ExecuteTime": {
     "end_time": "2025-04-26T09:59:32.891842Z",
     "start_time": "2025-04-26T09:56:43.031341Z"
    }
   },
   "cell_type": "code",
   "source": [
    "# Create the model\n",
    "model = ml.train_model(X, y, label_encoder, input_shape=input_shape, model_save_dir=MODEL_SAVE_DIR, log_dir=LOG_DIR)"
   ],
   "id": "2f03b18e7064be29",
   "outputs": [
    {
     "name": "stdout",
     "output_type": "stream",
     "text": [
      "Division des données : test_size=0.2, validation_size=0.15\n",
      "Taille Test: 94 échantillons\n",
      "Taille Entraînement: 303 échantillons\n",
      "Taille Validation: 70 échantillons\n",
      "Construction du modèle CNN simple avec input_shape=(100, 100, 3) et num_classes=43\n",
      "Modèle CNN simple construit.\n"
     ]
    },
    {
     "data": {
      "text/plain": [],
      "text/html": [
       "<pre style=\"white-space:pre;overflow-x:auto;line-height:normal;font-family:Menlo,'DejaVu Sans Mono',consolas,'Courier New',monospace\"></pre>\n"
      ]
     },
     "metadata": {},
     "output_type": "display_data"
    },
    {
     "name": "stdout",
     "output_type": "stream",
     "text": [
      "\n",
      "Epoch 1: val_accuracy improved from -inf to 0.04286, saving model to ..\\data\\models\\trained\\simple_cnn_lfw_anony_v1.h5\n"
     ]
    },
    {
     "name": "stderr",
     "output_type": "stream",
     "text": [
      "WARNING:absl:You are saving your model as an HDF5 file via `model.save()` or `keras.saving.save_model(model)`. This file format is considered legacy. We recommend using instead the native Keras format, e.g. `model.save('my_model.keras')` or `keras.saving.save_model(model, 'my_model.keras')`. \n"
     ]
    },
    {
     "name": "stdout",
     "output_type": "stream",
     "text": [
      "\n",
      "Epoch 2: val_accuracy improved from 0.04286 to 0.05714, saving model to ..\\data\\models\\trained\\simple_cnn_lfw_anony_v1.h5\n"
     ]
    },
    {
     "name": "stderr",
     "output_type": "stream",
     "text": [
      "WARNING:absl:You are saving your model as an HDF5 file via `model.save()` or `keras.saving.save_model(model)`. This file format is considered legacy. We recommend using instead the native Keras format, e.g. `model.save('my_model.keras')` or `keras.saving.save_model(model, 'my_model.keras')`. \n"
     ]
    },
    {
     "name": "stdout",
     "output_type": "stream",
     "text": [
      "\n",
      "Epoch 3: val_accuracy did not improve from 0.05714\n",
      "\n",
      "Epoch 4: val_accuracy improved from 0.05714 to 0.07143, saving model to ..\\data\\models\\trained\\simple_cnn_lfw_anony_v1.h5\n"
     ]
    },
    {
     "name": "stderr",
     "output_type": "stream",
     "text": [
      "WARNING:absl:You are saving your model as an HDF5 file via `model.save()` or `keras.saving.save_model(model)`. This file format is considered legacy. We recommend using instead the native Keras format, e.g. `model.save('my_model.keras')` or `keras.saving.save_model(model, 'my_model.keras')`. \n"
     ]
    },
    {
     "name": "stdout",
     "output_type": "stream",
     "text": [
      "\n",
      "Epoch 5: val_accuracy improved from 0.07143 to 0.12857, saving model to ..\\data\\models\\trained\\simple_cnn_lfw_anony_v1.h5\n"
     ]
    },
    {
     "name": "stderr",
     "output_type": "stream",
     "text": [
      "WARNING:absl:You are saving your model as an HDF5 file via `model.save()` or `keras.saving.save_model(model)`. This file format is considered legacy. We recommend using instead the native Keras format, e.g. `model.save('my_model.keras')` or `keras.saving.save_model(model, 'my_model.keras')`. \n"
     ]
    },
    {
     "name": "stdout",
     "output_type": "stream",
     "text": [
      "\n",
      "Epoch 6: val_accuracy improved from 0.12857 to 0.15714, saving model to ..\\data\\models\\trained\\simple_cnn_lfw_anony_v1.h5\n"
     ]
    },
    {
     "name": "stderr",
     "output_type": "stream",
     "text": [
      "WARNING:absl:You are saving your model as an HDF5 file via `model.save()` or `keras.saving.save_model(model)`. This file format is considered legacy. We recommend using instead the native Keras format, e.g. `model.save('my_model.keras')` or `keras.saving.save_model(model, 'my_model.keras')`. \n"
     ]
    },
    {
     "name": "stdout",
     "output_type": "stream",
     "text": [
      "\n",
      "Epoch 7: val_accuracy improved from 0.15714 to 0.18571, saving model to ..\\data\\models\\trained\\simple_cnn_lfw_anony_v1.h5\n"
     ]
    },
    {
     "name": "stderr",
     "output_type": "stream",
     "text": [
      "WARNING:absl:You are saving your model as an HDF5 file via `model.save()` or `keras.saving.save_model(model)`. This file format is considered legacy. We recommend using instead the native Keras format, e.g. `model.save('my_model.keras')` or `keras.saving.save_model(model, 'my_model.keras')`. \n"
     ]
    },
    {
     "name": "stdout",
     "output_type": "stream",
     "text": [
      "\n",
      "Epoch 8: val_accuracy did not improve from 0.18571\n",
      "\n",
      "Epoch 9: val_accuracy did not improve from 0.18571\n",
      "\n",
      "Epoch 10: val_accuracy did not improve from 0.18571\n",
      "\n",
      "Epoch 11: val_accuracy did not improve from 0.18571\n",
      "\n",
      "Epoch 12: val_accuracy did not improve from 0.18571\n",
      "\n",
      "Epoch 13: val_accuracy did not improve from 0.18571\n",
      "\n",
      "Epoch 14: val_accuracy did not improve from 0.18571\n",
      "\n",
      "Epoch 15: val_accuracy did not improve from 0.18571\n",
      "\n",
      "Epoch 16: val_accuracy did not improve from 0.18571\n",
      "\n",
      "Epoch 17: val_accuracy improved from 0.18571 to 0.20000, saving model to ..\\data\\models\\trained\\simple_cnn_lfw_anony_v1.h5\n"
     ]
    },
    {
     "name": "stderr",
     "output_type": "stream",
     "text": [
      "WARNING:absl:You are saving your model as an HDF5 file via `model.save()` or `keras.saving.save_model(model)`. This file format is considered legacy. We recommend using instead the native Keras format, e.g. `model.save('my_model.keras')` or `keras.saving.save_model(model, 'my_model.keras')`. \n"
     ]
    },
    {
     "name": "stdout",
     "output_type": "stream",
     "text": [
      "\n",
      "Epoch 18: val_accuracy did not improve from 0.20000\n",
      "\n",
      "Epoch 19: val_accuracy improved from 0.20000 to 0.25714, saving model to ..\\data\\models\\trained\\simple_cnn_lfw_anony_v1.h5\n"
     ]
    },
    {
     "name": "stderr",
     "output_type": "stream",
     "text": [
      "WARNING:absl:You are saving your model as an HDF5 file via `model.save()` or `keras.saving.save_model(model)`. This file format is considered legacy. We recommend using instead the native Keras format, e.g. `model.save('my_model.keras')` or `keras.saving.save_model(model, 'my_model.keras')`. \n"
     ]
    },
    {
     "name": "stdout",
     "output_type": "stream",
     "text": [
      "\n",
      "Epoch 20: val_accuracy improved from 0.25714 to 0.27143, saving model to ..\\data\\models\\trained\\simple_cnn_lfw_anony_v1.h5\n"
     ]
    },
    {
     "name": "stderr",
     "output_type": "stream",
     "text": [
      "WARNING:absl:You are saving your model as an HDF5 file via `model.save()` or `keras.saving.save_model(model)`. This file format is considered legacy. We recommend using instead the native Keras format, e.g. `model.save('my_model.keras')` or `keras.saving.save_model(model, 'my_model.keras')`. \n"
     ]
    },
    {
     "name": "stdout",
     "output_type": "stream",
     "text": [
      "\n",
      "Epoch 21: val_accuracy improved from 0.27143 to 0.32857, saving model to ..\\data\\models\\trained\\simple_cnn_lfw_anony_v1.h5\n"
     ]
    },
    {
     "name": "stderr",
     "output_type": "stream",
     "text": [
      "WARNING:absl:You are saving your model as an HDF5 file via `model.save()` or `keras.saving.save_model(model)`. This file format is considered legacy. We recommend using instead the native Keras format, e.g. `model.save('my_model.keras')` or `keras.saving.save_model(model, 'my_model.keras')`. \n"
     ]
    },
    {
     "name": "stdout",
     "output_type": "stream",
     "text": [
      "\n",
      "Epoch 22: val_accuracy improved from 0.32857 to 0.34286, saving model to ..\\data\\models\\trained\\simple_cnn_lfw_anony_v1.h5\n"
     ]
    },
    {
     "name": "stderr",
     "output_type": "stream",
     "text": [
      "WARNING:absl:You are saving your model as an HDF5 file via `model.save()` or `keras.saving.save_model(model)`. This file format is considered legacy. We recommend using instead the native Keras format, e.g. `model.save('my_model.keras')` or `keras.saving.save_model(model, 'my_model.keras')`. \n"
     ]
    },
    {
     "name": "stdout",
     "output_type": "stream",
     "text": [
      "\n",
      "Epoch 23: val_accuracy did not improve from 0.34286\n",
      "\n",
      "Epoch 24: val_accuracy did not improve from 0.34286\n",
      "\n",
      "Epoch 25: val_accuracy did not improve from 0.34286\n",
      "\n",
      "Epoch 26: val_accuracy did not improve from 0.34286\n",
      "\n",
      "Epoch 27: val_accuracy did not improve from 0.34286\n",
      "\n",
      "Epoch 28: val_accuracy did not improve from 0.34286\n",
      "\n",
      "Epoch 29: val_accuracy improved from 0.34286 to 0.41429, saving model to ..\\data\\models\\trained\\simple_cnn_lfw_anony_v1.h5\n"
     ]
    },
    {
     "name": "stderr",
     "output_type": "stream",
     "text": [
      "WARNING:absl:You are saving your model as an HDF5 file via `model.save()` or `keras.saving.save_model(model)`. This file format is considered legacy. We recommend using instead the native Keras format, e.g. `model.save('my_model.keras')` or `keras.saving.save_model(model, 'my_model.keras')`. \n"
     ]
    },
    {
     "name": "stdout",
     "output_type": "stream",
     "text": [
      "\n",
      "Epoch 30: val_accuracy did not improve from 0.41429\n",
      "\n",
      "Epoch 31: val_accuracy improved from 0.41429 to 0.44286, saving model to ..\\data\\models\\trained\\simple_cnn_lfw_anony_v1.h5\n"
     ]
    },
    {
     "name": "stderr",
     "output_type": "stream",
     "text": [
      "WARNING:absl:You are saving your model as an HDF5 file via `model.save()` or `keras.saving.save_model(model)`. This file format is considered legacy. We recommend using instead the native Keras format, e.g. `model.save('my_model.keras')` or `keras.saving.save_model(model, 'my_model.keras')`. \n"
     ]
    },
    {
     "name": "stdout",
     "output_type": "stream",
     "text": [
      "\n",
      "Epoch 32: val_accuracy did not improve from 0.44286\n",
      "\n",
      "Epoch 33: val_accuracy improved from 0.44286 to 0.45714, saving model to ..\\data\\models\\trained\\simple_cnn_lfw_anony_v1.h5\n"
     ]
    },
    {
     "name": "stderr",
     "output_type": "stream",
     "text": [
      "WARNING:absl:You are saving your model as an HDF5 file via `model.save()` or `keras.saving.save_model(model)`. This file format is considered legacy. We recommend using instead the native Keras format, e.g. `model.save('my_model.keras')` or `keras.saving.save_model(model, 'my_model.keras')`. \n"
     ]
    },
    {
     "name": "stdout",
     "output_type": "stream",
     "text": [
      "\n",
      "Epoch 34: val_accuracy did not improve from 0.45714\n",
      "\n",
      "Epoch 35: val_accuracy did not improve from 0.45714\n",
      "\n",
      "Epoch 36: val_accuracy did not improve from 0.45714\n",
      "\n",
      "Epoch 37: val_accuracy did not improve from 0.45714\n",
      "\n",
      "Epoch 38: val_accuracy did not improve from 0.45714\n",
      "\n",
      "Epoch 39: val_accuracy did not improve from 0.45714\n",
      "\n",
      "Epoch 40: val_accuracy did not improve from 0.45714\n",
      "\n",
      "Epoch 41: val_accuracy improved from 0.45714 to 0.47143, saving model to ..\\data\\models\\trained\\simple_cnn_lfw_anony_v1.h5\n"
     ]
    },
    {
     "name": "stderr",
     "output_type": "stream",
     "text": [
      "WARNING:absl:You are saving your model as an HDF5 file via `model.save()` or `keras.saving.save_model(model)`. This file format is considered legacy. We recommend using instead the native Keras format, e.g. `model.save('my_model.keras')` or `keras.saving.save_model(model, 'my_model.keras')`. \n"
     ]
    },
    {
     "name": "stdout",
     "output_type": "stream",
     "text": [
      "\n",
      "Epoch 42: val_accuracy did not improve from 0.47143\n",
      "\n",
      "Epoch 43: val_accuracy did not improve from 0.47143\n",
      "\n",
      "Epoch 44: val_accuracy did not improve from 0.47143\n",
      "\n",
      "Epoch 45: val_accuracy did not improve from 0.47143\n",
      "\n",
      "Epoch 46: val_accuracy did not improve from 0.47143\n",
      "\n",
      "Epoch 47: val_accuracy improved from 0.47143 to 0.51429, saving model to ..\\data\\models\\trained\\simple_cnn_lfw_anony_v1.h5\n"
     ]
    },
    {
     "name": "stderr",
     "output_type": "stream",
     "text": [
      "WARNING:absl:You are saving your model as an HDF5 file via `model.save()` or `keras.saving.save_model(model)`. This file format is considered legacy. We recommend using instead the native Keras format, e.g. `model.save('my_model.keras')` or `keras.saving.save_model(model, 'my_model.keras')`. \n"
     ]
    },
    {
     "name": "stdout",
     "output_type": "stream",
     "text": [
      "\n",
      "Epoch 48: val_accuracy did not improve from 0.51429\n",
      "\n",
      "Epoch 49: val_accuracy did not improve from 0.51429\n",
      "\n",
      "Epoch 50: val_accuracy did not improve from 0.51429\n",
      "Restoring model weights from the end of the best epoch: 47.\n",
      "LabelEncoder sauvegardé dans : ..\\data\\models\\trained\\simple_cnn_lfw_anony_v1_label_encoder.joblib\n",
      "\u001B[1m3/3\u001B[0m \u001B[32m━━━━━━━━━━━━━━━━━━━━\u001B[0m\u001B[37m\u001B[0m \u001B[1m0s\u001B[0m 82ms/step - accuracy: 0.3949 - loss: 2.1615\n",
      "\u001B[1m3/3\u001B[0m \u001B[32m━━━━━━━━━━━━━━━━━━━━\u001B[0m\u001B[37m\u001B[0m \u001B[1m1s\u001B[0m 156ms/step\n"
     ]
    },
    {
     "name": "stderr",
     "output_type": "stream",
     "text": [
      "D:\\myDocs\\Apprentissage\\Isep\\Year_3\\Brno-Privacy_Preserving_Face_Recognition_Project\\venv\\Lib\\site-packages\\sklearn\\metrics\\_classification.py:1517: UndefinedMetricWarning: Precision is ill-defined and being set to 0.0 in labels with no predicted samples. Use `zero_division` parameter to control this behavior.\n",
      "  _warn_prf(average, modifier, f\"{metric.capitalize()} is\", len(result))\n",
      "D:\\myDocs\\Apprentissage\\Isep\\Year_3\\Brno-Privacy_Preserving_Face_Recognition_Project\\venv\\Lib\\site-packages\\sklearn\\metrics\\_classification.py:1517: UndefinedMetricWarning: Precision is ill-defined and being set to 0.0 in labels with no predicted samples. Use `zero_division` parameter to control this behavior.\n",
      "  _warn_prf(average, modifier, f\"{metric.capitalize()} is\", len(result))\n",
      "D:\\myDocs\\Apprentissage\\Isep\\Year_3\\Brno-Privacy_Preserving_Face_Recognition_Project\\venv\\Lib\\site-packages\\sklearn\\metrics\\_classification.py:1517: UndefinedMetricWarning: Precision is ill-defined and being set to 0.0 in labels with no predicted samples. Use `zero_division` parameter to control this behavior.\n",
      "  _warn_prf(average, modifier, f\"{metric.capitalize()} is\", len(result))\n"
     ]
    },
    {
     "data": {
      "text/plain": [
       "<Figure size 1200x500 with 2 Axes>"
      ],
      "image/png": "[encoded data removed]"
     },
     "metadata": {},
     "output_type": "display_data"
    }
   ],
   "execution_count": 4
  },
  {
   "metadata": {
    "ExecuteTime": {
     "end_time": "2025-04-26T09:59:32.965223Z",
     "start_time": "2025-04-26T09:59:32.958671Z"
    }
   },
   "cell_type": "code",
   "source": [
    "print(f\"summary_text: {model['summary_text']}\")\n",
    "print(f\"duration: {model['duration']}\")\n",
    "print(f\"evaluation: {model['evaluation']}\")\n",
    "print(f\"training_plot: {model['training_plot']}\") # .show()"
   ],
   "id": "c39596238fe36385",
   "outputs": [
    {
     "name": "stdout",
     "output_type": "stream",
     "text": [
      "summary_text: Model: \"simple_cnn\"\n",
      "┏━━━━━━━━━━━━━━━━━━━━━━━━━━━━━━━━━┳━━━━━━━━━━━━━━━━━━━━━━━━┳━━━━━━━━━━━━━━━┓\n",
      "┃ Layer (type)                    ┃ Output Shape           ┃       Param # ┃\n",
      "┡━━━━━━━━━━━━━━━━━━━━━━━━━━━━━━━━━╇━━━━━━━━━━━━━━━━━━━━━━━━╇━━━━━━━━━━━━━━━┩\n",
      "│ input_image (InputLayer)        │ (None, 100, 100, 3)    │             0 │\n",
      "├─────────────────────────────────┼────────────────────────┼───────────────┤\n",
      "│ conv1_1 (Conv2D)                │ (None, 100, 100, 32)   │           896 │\n",
      "├─────────────────────────────────┼────────────────────────┼───────────────┤\n",
      "│ bn1_1 (BatchNormalization)      │ (None, 100, 100, 32)   │           128 │\n",
      "├─────────────────────────────────┼────────────────────────┼───────────────┤\n",
      "│ conv1_2 (Conv2D)                │ (None, 100, 100, 32)   │         9,248 │\n",
      "├─────────────────────────────────┼────────────────────────┼───────────────┤\n",
      "│ bn1_2 (BatchNormalization)      │ (None, 100, 100, 32)   │           128 │\n",
      "├─────────────────────────────────┼────────────────────────┼───────────────┤\n",
      "│ pool1 (MaxPooling2D)            │ (None, 50, 50, 32)     │             0 │\n",
      "├─────────────────────────────────┼────────────────────────┼───────────────┤\n",
      "│ drop1 (Dropout)                 │ (None, 50, 50, 32)     │             0 │\n",
      "├─────────────────────────────────┼────────────────────────┼───────────────┤\n",
      "│ conv2_1 (Conv2D)                │ (None, 50, 50, 64)     │        18,496 │\n",
      "├─────────────────────────────────┼────────────────────────┼───────────────┤\n",
      "│ bn2_1 (BatchNormalization)      │ (None, 50, 50, 64)     │           256 │\n",
      "├─────────────────────────────────┼────────────────────────┼───────────────┤\n",
      "│ conv2_2 (Conv2D)                │ (None, 50, 50, 64)     │        36,928 │\n",
      "├─────────────────────────────────┼────────────────────────┼───────────────┤\n",
      "│ bn2_2 (BatchNormalization)      │ (None, 50, 50, 64)     │           256 │\n",
      "├─────────────────────────────────┼────────────────────────┼───────────────┤\n",
      "│ pool2 (MaxPooling2D)            │ (None, 25, 25, 64)     │             0 │\n",
      "├─────────────────────────────────┼────────────────────────┼───────────────┤\n",
      "│ drop2 (Dropout)                 │ (None, 25, 25, 64)     │             0 │\n",
      "├─────────────────────────────────┼────────────────────────┼───────────────┤\n",
      "│ flatten (Flatten)               │ (None, 40000)          │             0 │\n",
      "├─────────────────────────────────┼────────────────────────┼───────────────┤\n",
      "│ dense1 (Dense)                  │ (None, 128)            │     5,120,128 │\n",
      "├─────────────────────────────────┼────────────────────────┼───────────────┤\n",
      "│ bn_dense1 (BatchNormalization)  │ (None, 128)            │           512 │\n",
      "├─────────────────────────────────┼────────────────────────┼───────────────┤\n",
      "│ drop_dense1 (Dropout)           │ (None, 128)            │             0 │\n",
      "├─────────────────────────────────┼────────────────────────┼───────────────┤\n",
      "│ output_softmax (Dense)          │ (None, 43)             │         5,547 │\n",
      "└─────────────────────────────────┴────────────────────────┴───────────────┘\n",
      " Total params: 5,192,523 (19.81 MB)\n",
      " Trainable params: 5,191,883 (19.81 MB)\n",
      " Non-trainable params: 640 (2.50 KB)\n",
      "\n",
      "\n",
      "duration: 169.58463883399963\n",
      "evaluation: {'loss': 2.104935884475708, 'accuracy': 0.41489362716674805}\n",
      "training_plot: <PIL.PngImagePlugin.PngImageFile image mode=RGBA size=1200x500 at 0x1598A866F60>\n"
     ]
    }
   ],
   "execution_count": 5
  },
  {
   "metadata": {
    "ExecuteTime": {
     "end_time": "2025-04-25T16:00:42.427831Z",
     "start_time": "2025-04-25T16:00:42.191899Z"
    }
   },
   "cell_type": "code",
   "source": [
    "# Image to predict\n",
    "index = 30\n",
    "\n",
    "img_to_predict = X[index]\n",
    "true_result = y[index]\n",
    "print(img_to_predict.shape)\n",
    "\n",
    "# Make a prediction\n",
    "prediction = ml.predict_image(img_to_predict, model_save_dir=MODEL_SAVE_DIR)\n",
    "\n",
    "# Result\n",
    "print(f\"prediction: {prediction}\")\n",
    "print(f\"true_result: {true_result}\")\n",
    "print(f\"The model is correct: {prediction==true_result}\")"
   ],
   "id": "d94c3b5b28aa82e3",
   "outputs": [
    {
     "name": "stderr",
     "output_type": "stream",
     "text": [
      "WARNING:absl:Compiled the loaded model, but the compiled metrics have yet to be built. `model.compile_metrics` will be empty until you train or evaluate the model.\n"
     ]
    },
    {
     "name": "stdout",
     "output_type": "stream",
     "text": [
      "LabelEncoder chargé depuis : ..\\data\\models\\trained\\simple_cnn_lfw_anony_v1_label_encoder.joblib\n",
      "\u001B[1m1/1\u001B[0m \u001B[32m━━━━━━━━━━━━━━━━━━━━\u001B[0m\u001B[37m\u001B[0m \u001B[1m0s\u001B[0m 111ms/step\n",
      "prediction: 18\n",
      "true_result: 2\n",
      "The model is correct: False\n"
     ]
    }
   ],
   "execution_count": 9
  }
 ],
 "metadata": {
  "kernelspec": {
   "display_name": "Python 3",
   "language": "python",
   "name": "python3"
  },
  "language_info": {
   "codemirror_mode": {
    "name": "ipython",
    "version": 2
   },
   "file_extension": ".py",
   "mimetype": "text/x-python",
   "name": "python",
   "nbconvert_exporter": "python",
   "pygments_lexer": "ipython2",
   "version": "2.7.6"
  }
 },
 "nbformat": 4,
 "nbformat_minor": 5
}
