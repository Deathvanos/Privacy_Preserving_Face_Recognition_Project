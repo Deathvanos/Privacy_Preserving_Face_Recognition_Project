{
 "cells": [
  {
   "metadata": {
    "ExecuteTime": {
     "end_time": "2025-04-21T12:27:09.474813Z",
     "start_time": "2025-04-21T12:27:06.223320Z"
    }
   },
   "cell_type": "code",
   "source": "import tensorflow as tf # run it first else you will have problems",
   "id": "ea6541ba8716af20",
   "outputs": [],
   "execution_count": 1
  },
  {
   "metadata": {},
   "cell_type": "markdown",
   "source": "### Import dataset 2 (from folder)",
   "id": "e6b0baeac91bcef1"
  },
  {
   "metadata": {
    "ExecuteTime": {
     "end_time": "2025-04-21T12:31:01.356496Z",
     "start_time": "2025-04-21T12:31:01.303985Z"
    }
   },
   "cell_type": "code",
   "source": [
    "import src.modules.data_loader as data_loader\n",
    "\n",
    "X, y, label_encoder = data_loader.load_anonymized_images_flat(\n",
    "        data_dir='data/reconstructed_pipeline',\n",
    "        img_width=64,\n",
    "        img_height=64,\n",
    "        color_mode='grayscale'\n",
    "    )"
   ],
   "id": "f74ec96117247e47",
   "outputs": [
    {
     "name": "stdout",
     "output_type": "stream",
     "text": [
      "Chargement des images depuis : data/reconstructed_pipeline\n",
      "Format attendu : 64x64, mode: grayscale\n",
      "Erreur: Le dossier spécifié n'existe pas : data/reconstructed_pipeline\n"
     ]
    }
   ],
   "execution_count": 2
  },
  {
   "metadata": {},
   "cell_type": "markdown",
   "source": "### Import dataset 1 (from db)",
   "id": "e3460a7e718f33d0"
  },
  {
   "metadata": {
    "ExecuteTime": {
     "end_time": "2025-04-21T12:33:39.637515Z",
     "start_time": "2025-04-21T12:33:39.605141Z"
    }
   },
   "cell_type": "code",
   "source": [
    "import numpy as np\n",
    "import base64\n",
    "from PIL import Image\n",
    "import io\n",
    "from database_controller import DatabaseController\n",
    "from sklearn.preprocessing import LabelEncoder\n",
    "\n",
    "def base64_to_numpy(b64_string):\n",
    "    image_data = base64.b64decode(b64_string)\n",
    "    image = Image.open(io.BytesIO(image_data)).convert(\"RGB\") # RGB/L\n",
    "    #image = np.expand_dims(np.array(image), axis=-1)\n",
    "    # A verifier si c'est forcement du gray scale dans la bdd\n",
    "    return np.array(image)\n",
    "\n",
    "def prepare_data_from_dict(image_dict):\n",
    "    X = []\n",
    "    y = []\n",
    "    for user_id, images in image_dict.items():\n",
    "        for img in images:\n",
    "            X.append(img)\n",
    "            y.append(user_id)\n",
    "    X = np.array(X)\n",
    "    y = np.array(y)\n",
    "    label_encoder = LabelEncoder()\n",
    "    y_encoded = label_encoder.fit_transform(y)\n",
    "    return X, y_encoded, label_encoder\n",
    "\n",
    "def resize_images(image_dict, target_size):\n",
    "    resized_dict = {}\n",
    "    for user_id, images in image_dict.items():\n",
    "        resized_images = [np.array(Image.fromarray(img).resize(target_size)) for img in images]\n",
    "        resized_dict[user_id] = np.array(resized_images)\n",
    "    return resized_dict\n",
    "\n",
    "\n",
    "\n",
    "db = DatabaseController(r\"..\\..\\data\\database.db\")\n",
    "\n",
    "result = db.get_table()\n",
    "dic = {row[0]: np.array([base64_to_numpy(img)for img in row[1].split(',')]) for row in result}\n",
    "\n",
    "input_shape = dic[1][0].shape\n",
    "width, height, _ = input_shape\n",
    "\n",
    "image_dict = resize_images(dic, (width, height))\n",
    "X, y, label_encoder = prepare_data_from_dict(image_dict)\n",
    "\n",
    "print(f\"Number of images: {len(dic)}\")\n",
    "print(f\"input_shape: {input_shape}\")"
   ],
   "id": "ff1bd59aa6520e76",
   "outputs": [
    {
     "name": "stdout",
     "output_type": "stream",
     "text": [
      "Create db connection at: D:\\myDocs\\Apprentissage\\Isep\\Year_3\\Brno-Privacy_Preserving_Face_Recognition_Project\\data\\database.db\n",
      "Number of images: 15\n",
      "input_shape: (100, 100, 3)\n"
     ]
    }
   ],
   "execution_count": 5
  },
  {
   "metadata": {},
   "cell_type": "markdown",
   "source": "### Create model",
   "id": "5c5411e364c42226"
  },
  {
   "metadata": {
    "ExecuteTime": {
     "end_time": "2025-04-21T12:34:17.178324Z",
     "start_time": "2025-04-21T12:33:45.964563Z"
    }
   },
   "cell_type": "code",
   "source": [
    "import os\n",
    "import io\n",
    "import time\n",
    "import numpy as np\n",
    "import matplotlib.pyplot as plt\n",
    "from PIL import Image, ImageDraw, ImageFont\n",
    "from sklearn.model_selection import train_test_split\n",
    "from sklearn.metrics import confusion_matrix, classification_report\n",
    "import src.face_recognition.ml_models as ml_models\n",
    "\n",
    "\n",
    "\n",
    "def draw_accuracy_and_loss_curves(epochs_range, acc, loss, val_acc=None, val_loss=None):\n",
    "    plt.figure(figsize=(12, 5))\n",
    "\n",
    "    plt.subplot(1, 2, 1)\n",
    "    plt.plot(epochs_range, acc, label='Training Accuracy')\n",
    "    if val_acc is not None:\n",
    "        plt.plot(epochs_range, val_acc, label='Validation Accuracy')\n",
    "    plt.legend(loc='lower right')\n",
    "    plt.title('Training and Validation Accuracy')\n",
    "    plt.xlabel('Epochs')\n",
    "    plt.ylabel('Accuracy')\n",
    "\n",
    "    plt.subplot(1, 2, 2)\n",
    "    plt.plot(epochs_range, loss, label='Training Loss')\n",
    "    if val_loss is not None:\n",
    "        plt.plot(epochs_range, val_loss, label='Validation Loss')\n",
    "    plt.legend(loc='upper right')\n",
    "    plt.title('Training and Validation Loss')\n",
    "    plt.xlabel('Epochs')\n",
    "    plt.ylabel('Loss')\n",
    "    return plt\n",
    "\n",
    "# --- Fonction pour convertir du texte en image PIL ---\n",
    "def text_to_pil_image(text, width=800, padding=10, font_size=14):\n",
    "    font = ImageFont.load_default()\n",
    "    lines = text.splitlines()\n",
    "    height = (font_size + 4) * len(lines) + 2 * padding\n",
    "    image = Image.new(\"RGB\", (width, height), color=\"white\")\n",
    "    draw = ImageDraw.Draw(image)\n",
    "    for i, line in enumerate(lines):\n",
    "        draw.text((padding, padding + i * (font_size + 4)), line, fill=\"black\", font=font)\n",
    "    return image\n",
    "\n",
    "def train_model_from_dict(\n",
    "    X, y, label_encoder,\n",
    "    model_save_dir='models/trained/',\n",
    "    log_dir='models/logs/',\n",
    "    model_name='simple_cnn_lfw_anony_v1',\n",
    "    input_shape=(100, 100, 1),\n",
    "    split_strategy='stratified',\n",
    "    test_split_ratio=0.2,\n",
    "    validation_split_ratio=0.15,\n",
    "    n_train_per_subject=7,\n",
    "    random_state=42,\n",
    "    learning_rate=0.001,\n",
    "    batch_size=32,\n",
    "    epochs=50,\n",
    "    early_stopping_patience=10,\n",
    "    transfer_base_model_name='MobileNetV2',\n",
    "    transfer_freeze_base=True,\n",
    "    model_architecture='simple_cnn'\n",
    "    ):\n",
    "    \"\"\"\n",
    "    Orchestre le processus complet d'entraînement du modèle de reconnaissance faciale.\n",
    "\n",
    "    --- List d'images et de labels\n",
    "    :param X: ...\n",
    "    :param y: ...\n",
    "    :param label_encoder: ...\n",
    "\n",
    "    --- Chemins et Noms ---\n",
    "    :param model_save_dir: Dossier pour sauvegarder les modèles entraînés, l'encodeur de labels, etc.\n",
    "    :param log_dir: Dossier pour les logs TensorBoard (optionnel, laisser vide ou None pour désactiver)\n",
    "    :param model_name: # Nom de base pour les fichiers sauvegardés (modèle, logs, courbes)\n",
    "\n",
    "    --- Paramètres des Données et Prétraitement ---\n",
    "    :param input_shape: (Largeur, Hauteur canaux) cible des images. IMPORTANT: 'rgb' (3 canaux) est souvent requis pour les modèles de transfert pré-entraînés. 'grayscale' est plus simple et peut suffire pour un CNN simple.\n",
    "\n",
    "    --- Paramètres de Division des Données ---\n",
    "    :param split_strategy: Stratégie de division: 'stratified' ou 'fixed_per_subject'\n",
    "\n",
    "    --- Pour 'stratified' ---\n",
    "    :param test_split_ratio: Proportion du dataset total à utiliser pour l'ensemble de test\n",
    "    :param validation_split_ratio: Proportion du dataset total à utiliser pour l'ensemble de validation Sera déduite de l'ensemble d'entraînement si non nulle.\n",
    "\n",
    "    --- Pour 'fixed_per_subject' ---\n",
    "    :param n_train_per_subject: Nombre exact d'images par sujet pour l'ensemble d'entraînement. (Ignoré si SPLIT_STRATEGY n'est pas 'fixed_per_subject')\n",
    "    :param random_state: Seed pour la reproductibilité des divisions et initialisations\n",
    "\n",
    "    --- Paramètres d'Entraînement ---\n",
    "    :param learning_rate: Taux d'apprentissage pour l'optimiseur Adam\n",
    "    :param batch_size: Taille du lot (batch size)\n",
    "    :param epochs: Nombre maximal d'époques d'entraînement\n",
    "    :param early_stopping_patience: Patience pour l'EarlyStopping (nombre d'époques sans amélioration sur val_accuracy avant d'arrêter). Mettre à 0 ou une valeur négative pour désactiver l'EarlyStopping.\n",
    "\n",
    "    --- Pour Transfer Learning (si MODEL_ARCHITECTURE commence par 'transfer_') ---\n",
    "    :param transfer_base_model_name: Nom du modèle de base à charger depuis tf.keras.applications\n",
    "    :param transfer_freeze_base: Faut-il geler les poids du modèle de base lors du premier entraînement ? Mettre à False pour du fine-tuning (nécessite souvent un LEARNING_RATE plus bas).\n",
    "\n",
    "    :param model_architecture: Choix de l'architecture dans ml_models.py: 'simple_cnn', 'transfer_MobileNetV2', 'transfer_ResNet50', etc.\n",
    "\n",
    "    :return:\n",
    "    \"\"\"\n",
    "    # --- --------------------------------- ---\n",
    "    # --- 1. Chargement de la Configuration ---\n",
    "    # --- --------------------------------- ---\n",
    "    # Start timer\n",
    "    print(\"--- Démarrage du Script d'Entraînement ---\")\n",
    "    start_time = time.time()\n",
    "\n",
    "    # Display model parameters\n",
    "    print(\"Configuration personnalisée chargée :\")\n",
    "    print(f\"  - Architecture Modèle: {model_architecture}\")\n",
    "    print(f\"  - Nom Modèle: {model_name}\")\n",
    "    print(f\"  - Dimensions Image: {input_shape}\")\n",
    "    print(f\"  - Stratégie Split: {split_strategy}\")\n",
    "    print(f\"  - Époques: {epochs}, Batch Size: {batch_size}\")\n",
    "\n",
    "    # Prepare output & log folder\n",
    "    os.makedirs(model_save_dir, exist_ok=True)\n",
    "    if log_dir:\n",
    "        os.makedirs(log_dir, exist_ok=True)\n",
    "        print(f\"  - Dossier Logs TensorBoard: {log_dir}\")\n",
    "\n",
    "    # --- -------------------------- ---\n",
    "    # --- 2. Préparation des Données ---\n",
    "    # --- -------------------------- ---\n",
    "    print(\"\\n--- Préparation des données depuis dictionnaire ---\")\n",
    "\n",
    "    num_classes = len(label_encoder.classes_)\n",
    "    print(f\"Nombre de classes détectées : {num_classes}\")\n",
    "\n",
    "    # --- ----------------------- ---\n",
    "    # --- 3. Division des Données ---\n",
    "    # --- ----------------------- ---\n",
    "    print(\"\\n--- Division des données ---\")\n",
    "    X_train, y_train = None, None\n",
    "    X_val, y_val = None, None\n",
    "    X_test, y_test = None, None\n",
    "\n",
    "    if split_strategy == 'stratified':\n",
    "        data_splits = data_loader.split_data_stratified(\n",
    "            X, y, # TODO BRUCE: data_loader.split_data_stratified()\n",
    "            test_size=test_split_ratio,\n",
    "            validation_size=validation_split_ratio,\n",
    "            random_state=random_state\n",
    "        )\n",
    "        X_train = data_splits.get('X_train')\n",
    "        y_train = data_splits.get('y_train')\n",
    "        X_val = data_splits.get('X_val')\n",
    "        y_val = data_splits.get('y_val')\n",
    "        X_test = data_splits.get('X_test')\n",
    "        y_test = data_splits.get('y_test')\n",
    "\n",
    "        if X_val is None and validation_split_ratio > 0 and X_train is not None and len(X_train) > 0:\n",
    "            val_ratio_from_train = validation_split_ratio / (1.0 - test_split_ratio)\n",
    "            if val_ratio_from_train < 1.0:\n",
    "                print(f\"Création du set de validation depuis l'entraînement (ratio: {val_ratio_from_train:.2f})\")\n",
    "                X_train, X_val, y_train, y_val = train_test_split(\n",
    "                    X_train, y_train,\n",
    "                    test_size=val_ratio_from_train,\n",
    "                    random_state=random_state,\n",
    "                    stratify=y_train\n",
    "                )\n",
    "            else:\n",
    "                print(\"Attention: Ratios de split incohérents, pas de données d'entraînement restantes après validation.\")\n",
    "    elif split_strategy == 'fixed_per_subject':\n",
    "        X_train_full, X_test, y_train_full, y_test = data_loader.split_data_fixed_per_subject(\n",
    "            X, y,\n",
    "            n_train_per_class=n_train_per_subject,\n",
    "            random_state=random_state\n",
    "        )\n",
    "        if validation_split_ratio > 0 and X_train_full is not None and len(X_train_full) > 0:\n",
    "            print(f\"Création du set de validation depuis l'entraînement (ratio: {validation_split_ratio})\")\n",
    "            X_train, X_val, y_train, y_val = train_test_split(\n",
    "                X_train_full, y_train_full,\n",
    "                test_size=validation_split_ratio,\n",
    "                random_state=random_state,\n",
    "                stratify=y_train_full\n",
    "            )\n",
    "        else:\n",
    "            X_train, y_train = X_train_full, y_train_full\n",
    "            X_val, y_val = None, None\n",
    "    else:\n",
    "        print(f\"Erreur: Stratégie de split '{split_strategy}' non reconnue.\")\n",
    "        return\n",
    "\n",
    "    if X_train is None or len(X_train) == 0:\n",
    "        print(\"Erreur: Aucune donnée d'entraînement disponible après la division.\")\n",
    "        return\n",
    "    if X_val is None or len(X_val) == 0:\n",
    "        print(\"Attention: Aucune donnée de validation disponible. L'entraînement se fera sans suivi de validation.\")\n",
    "        validation_data = None # `fit` utilisera pas de validation\n",
    "    else:\n",
    "        validation_data = (X_val, y_val)\n",
    "        print(f\"Taille finale - Entraînement: {len(X_train)}, Validation: {len(X_val)}, Test: {len(X_test) if X_test is not None else 0}\")\n",
    "\n",
    "    # --- ------------------------- ---\n",
    "    # --- 4. Construction du Modèle ---\n",
    "    # --- ------------------------- ---\n",
    "    print(\"\\n--- Construction du modèle ---\")\n",
    "    model = None\n",
    "    if model_architecture == 'simple_cnn':\n",
    "        model = ml_models.build_simple_cnn(input_shape=input_shape, num_classes=num_classes)\n",
    "    elif model_architecture.startswith('transfer_'):\n",
    "        print(f\"Utilisation du modèle de base: {transfer_base_model_name}, Freeze: {transfer_freeze_base}\")\n",
    "        model = ml_models.build_transfer_model(\n",
    "            input_shape=input_shape,\n",
    "            num_classes=num_classes,\n",
    "            base_model_name=transfer_base_model_name,\n",
    "            freeze_base=transfer_freeze_base)\n",
    "    else:\n",
    "        print(f\"Erreur: Architecture de modèle non reconnue: {model_architecture}\")\n",
    "        return\n",
    "\n",
    "    # --- ------------------------ ---\n",
    "    # --- 5. Compilation du Modèle ---\n",
    "    # --- ------------------------ ---\n",
    "    print(\"\\n--- Compilation du modèle ---\")\n",
    "    optimizer = tf.keras.optimizers.Adam(learning_rate=learning_rate)\n",
    "    model.compile(optimizer=optimizer,\n",
    "                  loss='sparse_categorical_crossentropy',\n",
    "                  metrics=['accuracy'])\n",
    "    print(\"Modèle compilé avec Adam optimizer.\")\n",
    "    model.summary()\n",
    "\n",
    "    # Capture model summary\n",
    "    summary_io = io.StringIO()\n",
    "    model.summary(print_fn=lambda x: summary_io.write(x + \"\\n\"))\n",
    "    summary_text = summary_io.getvalue()\n",
    "    #summary_image = text_to_pil_image(summary_text)\n",
    "\n",
    "    # --- ------------------------------ ---\n",
    "    # --- 6. Configuration des Callbacks ---\n",
    "    # --- ------------------------------ ---\n",
    "    print(\"\\n--- Configuration des Callbacks ---\")\n",
    "    callbacks = []\n",
    "\n",
    "    model_filename = f\"{model_name}.h5\"\n",
    "    model_filepath = os.path.join(model_save_dir, model_filename)\n",
    "    print(f\"  - ModelCheckpoint: Sauvegarde du meilleur modèle dans {model_filepath}\")\n",
    "    checkpoint_callback = tf.keras.callbacks.ModelCheckpoint(\n",
    "        filepath=model_filepath,\n",
    "        monitor='val_accuracy',\n",
    "        save_best_only=True,\n",
    "        mode='max',\n",
    "        verbose=1\n",
    "    )\n",
    "    callbacks.append(checkpoint_callback)\n",
    "\n",
    "    if early_stopping_patience > 0:\n",
    "        print(f\"  - EarlyStopping: Activé avec patience={early_stopping_patience}\")\n",
    "        early_stopping_callback = tf.keras.callbacks.EarlyStopping(\n",
    "            monitor='val_accuracy',\n",
    "            patience=early_stopping_patience,\n",
    "            mode='max',\n",
    "            restore_best_weights=True,\n",
    "            verbose=1\n",
    "        )\n",
    "        callbacks.append(early_stopping_callback)\n",
    "    else:\n",
    "        print(\"  - EarlyStopping: Désactivé.\")\n",
    "\n",
    "    if log_dir:\n",
    "        tensorboard_log_dir = os.path.join(log_dir, model_name + \"_\" + time.strftime(\"%Y%m%d-%H%M%S\"))\n",
    "        print(f\"  - TensorBoard: Logs dans {tensorboard_log_dir}\")\n",
    "        tensorboard_callback = tf.keras.callbacks.TensorBoard(\n",
    "            log_dir=tensorboard_log_dir,\n",
    "            histogram_freq=1\n",
    "        )\n",
    "        callbacks.append(tensorboard_callback)\n",
    "    else:\n",
    "        print(\"  - TensorBoard: Désactivé.\")\n",
    "\n",
    "    csv_log_path = os.path.join(model_save_dir, f\"{model_name}_training_log.csv\")\n",
    "    print(f\"  - CSVLogger: Logs dans {csv_log_path}\")\n",
    "    csv_logger_callback = tf.keras.callbacks.CSVLogger(csv_log_path, append=False)\n",
    "    callbacks.append(csv_logger_callback)\n",
    "\n",
    "    # --- ------------------------- ---\n",
    "    # --- 7. Entraînement du Modèle ---\n",
    "    # --- ------------------------- ---\n",
    "    print(\"\\n--- Démarrage de l'entraînement ---\")\n",
    "    try:\n",
    "        history = model.fit(\n",
    "            X_train, y_train,\n",
    "            epochs=epochs,\n",
    "            batch_size=batch_size,\n",
    "            validation_data=validation_data,\n",
    "            callbacks=callbacks,\n",
    "            verbose=0\n",
    "        )\n",
    "        print(\"--- Entraînement terminé ---\")\n",
    "    except Exception as e:\n",
    "        print(f\"\\nErreur pendant l'entraînement : {e}\")\n",
    "        encoder_save_path = os.path.join(model_save_dir, f\"{model_name}_label_encoder.joblib\")\n",
    "        print(\"\\nSauvegarde de l'encodeur de labels (même si l'entraînement a échoué)...\")\n",
    "        data_loader.save_label_encoder(label_encoder, encoder_save_path)\n",
    "        return\n",
    "\n",
    "    # --- -------------------- ---\n",
    "    # --- 8. Post-Entraînement ---\n",
    "    # --- -------------------- ---\n",
    "    encoder_save_path = os.path.join(model_save_dir, f\"{model_name}_label_encoder.joblib\")\n",
    "    print(\"\\n--- Sauvegarde de l'encodeur de labels ---\")\n",
    "    data_loader.save_label_encoder(label_encoder, encoder_save_path)\n",
    "\n",
    "    # Evaluation\n",
    "    eval_loss, eval_acc = model.evaluate(X_test, y_test)\n",
    "    y_pred = np.argmax(model.predict(X_test), axis=1)\n",
    "    cm = confusion_matrix(y_test, y_pred)\n",
    "    report = classification_report(y_test, y_pred, output_dict=True)\n",
    "\n",
    "    if history is not None:\n",
    "        print(\"\\n--- Affichage des courbes d'apprentissage ---\")\n",
    "        try:\n",
    "            acc = history.history['accuracy']\n",
    "            loss = history.history['loss']\n",
    "            val_acc = history.history['val_accuracy'] if validation_data else None\n",
    "            val_loss = history.history['val_loss'] if validation_data else None\n",
    "            epochs_range = range(len(acc))\n",
    "\n",
    "            plt_obj = draw_accuracy_and_loss_curves(epochs_range, acc, loss, val_acc, val_loss)\n",
    "            buf = io.BytesIO()\n",
    "            plt_obj.savefig(buf, format='png')\n",
    "            buf.seek(0)\n",
    "            image_pil = Image.open(buf)\n",
    "\n",
    "            plot_save_path = os.path.join(model_save_dir, f\"{model_name}_training_curves.pdf\")\n",
    "            plt.savefig(plot_save_path, format='pdf', bbox_inches='tight')\n",
    "            print(f\"Courbes sauvegardées dans : {plot_save_path}\")\n",
    "        except Exception as plot_e:\n",
    "            print(f\"Erreur lors de la génération/sauvegarde des courbes: {plot_e}\")\n",
    "\n",
    "    end_time = time.time()\n",
    "    duration = end_time - start_time\n",
    "    print(f\"\\n--- Script d'Entraînement Terminé en {duration:.2f} secondes ---\")\n",
    "    print(f\"Le meilleur modèle devrait être sauvegardé dans : {model_filepath}\")\n",
    "    print(f\"L'encodeur de labels est sauvegardé dans : {encoder_save_path}\")\n",
    "\n",
    "    return {\n",
    "        \"duration\": duration,\n",
    "        \"model\": model,\n",
    "        \"summary_text\": summary_text,\n",
    "        \"training_plot\": image_pil,\n",
    "        \"confusion_matrix\": cm,\n",
    "        \"classification_report\": report,\n",
    "        \"evaluation\": {\n",
    "            \"loss\": eval_loss,\n",
    "            \"accuracy\": eval_acc\n",
    "        }\n",
    "    }\n",
    "\n",
    "\n",
    "\n",
    "\n",
    "# split_strategy= stratified/fixed_per_subject\n",
    "# model_architecture= simple_cnn/transfer_\n",
    "    # transfer_base_model_name= MobileNetV2/ResNet50/EfficientNetB0\n",
    "    # transfer_freeze_base= True/False\n",
    "momo = train_model_from_dict(\n",
    "          X, y, label_encoder,\n",
    "          input_shape=input_shape,\n",
    "         # split_strategy='stratified',\n",
    "         # model_architecture='simple_cnn',\n",
    "         # transfer_base_model_name=\"EfficientNetB0\",\n",
    "         # transfer_freeze_base=False\n",
    "          )"
   ],
   "id": "f47ca92c453b3ae",
   "outputs": [
    {
     "name": "stdout",
     "output_type": "stream",
     "text": [
      "--- Démarrage du Script d'Entraînement ---\n",
      "Configuration personnalisée chargée :\n",
      "  - Architecture Modèle: simple_cnn\n",
      "  - Nom Modèle: simple_cnn_lfw_anony_v1\n",
      "  - Dimensions Image: (100, 100, 3)\n",
      "  - Stratégie Split: stratified\n",
      "  - Époques: 50, Batch Size: 32\n",
      "  - Dossier Logs TensorBoard: models/logs/\n",
      "\n",
      "--- Préparation des données depuis dictionnaire ---\n",
      "Nombre de classes détectées : 15\n",
      "\n",
      "--- Division des données ---\n",
      "Division des données : test_size=0.2, validation_size=0.15\n",
      "Taille Test: 33 échantillons\n",
      "Taille Entraînement: 107 échantillons\n",
      "Taille Validation: 25 échantillons\n",
      "Taille finale - Entraînement: 107, Validation: 25, Test: 33\n",
      "\n",
      "--- Construction du modèle ---\n",
      "Construction du modèle CNN simple avec input_shape=(100, 100, 3) et num_classes=15\n",
      "Modèle CNN simple construit.\n",
      "\n",
      "--- Compilation du modèle ---\n",
      "Modèle compilé avec Adam optimizer.\n"
     ]
    },
    {
     "data": {
      "text/plain": [
       "\u001B[1mModel: \"simple_cnn\"\u001B[0m\n"
      ],
      "text/html": [
       "<pre style=\"white-space:pre;overflow-x:auto;line-height:normal;font-family:Menlo,'DejaVu Sans Mono',consolas,'Courier New',monospace\"><span style=\"font-weight: bold\">Model: \"simple_cnn\"</span>\n",
       "</pre>\n"
      ]
     },
     "metadata": {},
     "output_type": "display_data"
    },
    {
     "data": {
      "text/plain": [
       "┏━━━━━━━━━━━━━━━━━━━━━━━━━━━━━━━━━┳━━━━━━━━━━━━━━━━━━━━━━━━┳━━━━━━━━━━━━━━━┓\n",
       "┃\u001B[1m \u001B[0m\u001B[1mLayer (type)                   \u001B[0m\u001B[1m \u001B[0m┃\u001B[1m \u001B[0m\u001B[1mOutput Shape          \u001B[0m\u001B[1m \u001B[0m┃\u001B[1m \u001B[0m\u001B[1m      Param #\u001B[0m\u001B[1m \u001B[0m┃\n",
       "┡━━━━━━━━━━━━━━━━━━━━━━━━━━━━━━━━━╇━━━━━━━━━━━━━━━━━━━━━━━━╇━━━━━━━━━━━━━━━┩\n",
       "│ input_image (\u001B[38;5;33mInputLayer\u001B[0m)        │ (\u001B[38;5;45mNone\u001B[0m, \u001B[38;5;34m100\u001B[0m, \u001B[38;5;34m100\u001B[0m, \u001B[38;5;34m3\u001B[0m)    │             \u001B[38;5;34m0\u001B[0m │\n",
       "├─────────────────────────────────┼────────────────────────┼───────────────┤\n",
       "│ conv1_1 (\u001B[38;5;33mConv2D\u001B[0m)                │ (\u001B[38;5;45mNone\u001B[0m, \u001B[38;5;34m100\u001B[0m, \u001B[38;5;34m100\u001B[0m, \u001B[38;5;34m32\u001B[0m)   │           \u001B[38;5;34m896\u001B[0m │\n",
       "├─────────────────────────────────┼────────────────────────┼───────────────┤\n",
       "│ bn1_1 (\u001B[38;5;33mBatchNormalization\u001B[0m)      │ (\u001B[38;5;45mNone\u001B[0m, \u001B[38;5;34m100\u001B[0m, \u001B[38;5;34m100\u001B[0m, \u001B[38;5;34m32\u001B[0m)   │           \u001B[38;5;34m128\u001B[0m │\n",
       "├─────────────────────────────────┼────────────────────────┼───────────────┤\n",
       "│ conv1_2 (\u001B[38;5;33mConv2D\u001B[0m)                │ (\u001B[38;5;45mNone\u001B[0m, \u001B[38;5;34m100\u001B[0m, \u001B[38;5;34m100\u001B[0m, \u001B[38;5;34m32\u001B[0m)   │         \u001B[38;5;34m9,248\u001B[0m │\n",
       "├─────────────────────────────────┼────────────────────────┼───────────────┤\n",
       "│ bn1_2 (\u001B[38;5;33mBatchNormalization\u001B[0m)      │ (\u001B[38;5;45mNone\u001B[0m, \u001B[38;5;34m100\u001B[0m, \u001B[38;5;34m100\u001B[0m, \u001B[38;5;34m32\u001B[0m)   │           \u001B[38;5;34m128\u001B[0m │\n",
       "├─────────────────────────────────┼────────────────────────┼───────────────┤\n",
       "│ pool1 (\u001B[38;5;33mMaxPooling2D\u001B[0m)            │ (\u001B[38;5;45mNone\u001B[0m, \u001B[38;5;34m50\u001B[0m, \u001B[38;5;34m50\u001B[0m, \u001B[38;5;34m32\u001B[0m)     │             \u001B[38;5;34m0\u001B[0m │\n",
       "├─────────────────────────────────┼────────────────────────┼───────────────┤\n",
       "│ drop1 (\u001B[38;5;33mDropout\u001B[0m)                 │ (\u001B[38;5;45mNone\u001B[0m, \u001B[38;5;34m50\u001B[0m, \u001B[38;5;34m50\u001B[0m, \u001B[38;5;34m32\u001B[0m)     │             \u001B[38;5;34m0\u001B[0m │\n",
       "├─────────────────────────────────┼────────────────────────┼───────────────┤\n",
       "│ conv2_1 (\u001B[38;5;33mConv2D\u001B[0m)                │ (\u001B[38;5;45mNone\u001B[0m, \u001B[38;5;34m50\u001B[0m, \u001B[38;5;34m50\u001B[0m, \u001B[38;5;34m64\u001B[0m)     │        \u001B[38;5;34m18,496\u001B[0m │\n",
       "├─────────────────────────────────┼────────────────────────┼───────────────┤\n",
       "│ bn2_1 (\u001B[38;5;33mBatchNormalization\u001B[0m)      │ (\u001B[38;5;45mNone\u001B[0m, \u001B[38;5;34m50\u001B[0m, \u001B[38;5;34m50\u001B[0m, \u001B[38;5;34m64\u001B[0m)     │           \u001B[38;5;34m256\u001B[0m │\n",
       "├─────────────────────────────────┼────────────────────────┼───────────────┤\n",
       "│ conv2_2 (\u001B[38;5;33mConv2D\u001B[0m)                │ (\u001B[38;5;45mNone\u001B[0m, \u001B[38;5;34m50\u001B[0m, \u001B[38;5;34m50\u001B[0m, \u001B[38;5;34m64\u001B[0m)     │        \u001B[38;5;34m36,928\u001B[0m │\n",
       "├─────────────────────────────────┼────────────────────────┼───────────────┤\n",
       "│ bn2_2 (\u001B[38;5;33mBatchNormalization\u001B[0m)      │ (\u001B[38;5;45mNone\u001B[0m, \u001B[38;5;34m50\u001B[0m, \u001B[38;5;34m50\u001B[0m, \u001B[38;5;34m64\u001B[0m)     │           \u001B[38;5;34m256\u001B[0m │\n",
       "├─────────────────────────────────┼────────────────────────┼───────────────┤\n",
       "│ pool2 (\u001B[38;5;33mMaxPooling2D\u001B[0m)            │ (\u001B[38;5;45mNone\u001B[0m, \u001B[38;5;34m25\u001B[0m, \u001B[38;5;34m25\u001B[0m, \u001B[38;5;34m64\u001B[0m)     │             \u001B[38;5;34m0\u001B[0m │\n",
       "├─────────────────────────────────┼────────────────────────┼───────────────┤\n",
       "│ drop2 (\u001B[38;5;33mDropout\u001B[0m)                 │ (\u001B[38;5;45mNone\u001B[0m, \u001B[38;5;34m25\u001B[0m, \u001B[38;5;34m25\u001B[0m, \u001B[38;5;34m64\u001B[0m)     │             \u001B[38;5;34m0\u001B[0m │\n",
       "├─────────────────────────────────┼────────────────────────┼───────────────┤\n",
       "│ flatten (\u001B[38;5;33mFlatten\u001B[0m)               │ (\u001B[38;5;45mNone\u001B[0m, \u001B[38;5;34m40000\u001B[0m)          │             \u001B[38;5;34m0\u001B[0m │\n",
       "├─────────────────────────────────┼────────────────────────┼───────────────┤\n",
       "│ dense1 (\u001B[38;5;33mDense\u001B[0m)                  │ (\u001B[38;5;45mNone\u001B[0m, \u001B[38;5;34m128\u001B[0m)            │     \u001B[38;5;34m5,120,128\u001B[0m │\n",
       "├─────────────────────────────────┼────────────────────────┼───────────────┤\n",
       "│ bn_dense1 (\u001B[38;5;33mBatchNormalization\u001B[0m)  │ (\u001B[38;5;45mNone\u001B[0m, \u001B[38;5;34m128\u001B[0m)            │           \u001B[38;5;34m512\u001B[0m │\n",
       "├─────────────────────────────────┼────────────────────────┼───────────────┤\n",
       "│ drop_dense1 (\u001B[38;5;33mDropout\u001B[0m)           │ (\u001B[38;5;45mNone\u001B[0m, \u001B[38;5;34m128\u001B[0m)            │             \u001B[38;5;34m0\u001B[0m │\n",
       "├─────────────────────────────────┼────────────────────────┼───────────────┤\n",
       "│ output_softmax (\u001B[38;5;33mDense\u001B[0m)          │ (\u001B[38;5;45mNone\u001B[0m, \u001B[38;5;34m15\u001B[0m)             │         \u001B[38;5;34m1,935\u001B[0m │\n",
       "└─────────────────────────────────┴────────────────────────┴───────────────┘\n"
      ],
      "text/html": [
       "<pre style=\"white-space:pre;overflow-x:auto;line-height:normal;font-family:Menlo,'DejaVu Sans Mono',consolas,'Courier New',monospace\">┏━━━━━━━━━━━━━━━━━━━━━━━━━━━━━━━━━┳━━━━━━━━━━━━━━━━━━━━━━━━┳━━━━━━━━━━━━━━━┓\n",
       "┃<span style=\"font-weight: bold\"> Layer (type)                    </span>┃<span style=\"font-weight: bold\"> Output Shape           </span>┃<span style=\"font-weight: bold\">       Param # </span>┃\n",
       "┡━━━━━━━━━━━━━━━━━━━━━━━━━━━━━━━━━╇━━━━━━━━━━━━━━━━━━━━━━━━╇━━━━━━━━━━━━━━━┩\n",
       "│ input_image (<span style=\"color: #0087ff; text-decoration-color: #0087ff\">InputLayer</span>)        │ (<span style=\"color: #00d7ff; text-decoration-color: #00d7ff\">None</span>, <span style=\"color: #00af00; text-decoration-color: #00af00\">100</span>, <span style=\"color: #00af00; text-decoration-color: #00af00\">100</span>, <span style=\"color: #00af00; text-decoration-color: #00af00\">3</span>)    │             <span style=\"color: #00af00; text-decoration-color: #00af00\">0</span> │\n",
       "├─────────────────────────────────┼────────────────────────┼───────────────┤\n",
       "│ conv1_1 (<span style=\"color: #0087ff; text-decoration-color: #0087ff\">Conv2D</span>)                │ (<span style=\"color: #00d7ff; text-decoration-color: #00d7ff\">None</span>, <span style=\"color: #00af00; text-decoration-color: #00af00\">100</span>, <span style=\"color: #00af00; text-decoration-color: #00af00\">100</span>, <span style=\"color: #00af00; text-decoration-color: #00af00\">32</span>)   │           <span style=\"color: #00af00; text-decoration-color: #00af00\">896</span> │\n",
       "├─────────────────────────────────┼────────────────────────┼───────────────┤\n",
       "│ bn1_1 (<span style=\"color: #0087ff; text-decoration-color: #0087ff\">BatchNormalization</span>)      │ (<span style=\"color: #00d7ff; text-decoration-color: #00d7ff\">None</span>, <span style=\"color: #00af00; text-decoration-color: #00af00\">100</span>, <span style=\"color: #00af00; text-decoration-color: #00af00\">100</span>, <span style=\"color: #00af00; text-decoration-color: #00af00\">32</span>)   │           <span style=\"color: #00af00; text-decoration-color: #00af00\">128</span> │\n",
       "├─────────────────────────────────┼────────────────────────┼───────────────┤\n",
       "│ conv1_2 (<span style=\"color: #0087ff; text-decoration-color: #0087ff\">Conv2D</span>)                │ (<span style=\"color: #00d7ff; text-decoration-color: #00d7ff\">None</span>, <span style=\"color: #00af00; text-decoration-color: #00af00\">100</span>, <span style=\"color: #00af00; text-decoration-color: #00af00\">100</span>, <span style=\"color: #00af00; text-decoration-color: #00af00\">32</span>)   │         <span style=\"color: #00af00; text-decoration-color: #00af00\">9,248</span> │\n",
       "├─────────────────────────────────┼────────────────────────┼───────────────┤\n",
       "│ bn1_2 (<span style=\"color: #0087ff; text-decoration-color: #0087ff\">BatchNormalization</span>)      │ (<span style=\"color: #00d7ff; text-decoration-color: #00d7ff\">None</span>, <span style=\"color: #00af00; text-decoration-color: #00af00\">100</span>, <span style=\"color: #00af00; text-decoration-color: #00af00\">100</span>, <span style=\"color: #00af00; text-decoration-color: #00af00\">32</span>)   │           <span style=\"color: #00af00; text-decoration-color: #00af00\">128</span> │\n",
       "├─────────────────────────────────┼────────────────────────┼───────────────┤\n",
       "│ pool1 (<span style=\"color: #0087ff; text-decoration-color: #0087ff\">MaxPooling2D</span>)            │ (<span style=\"color: #00d7ff; text-decoration-color: #00d7ff\">None</span>, <span style=\"color: #00af00; text-decoration-color: #00af00\">50</span>, <span style=\"color: #00af00; text-decoration-color: #00af00\">50</span>, <span style=\"color: #00af00; text-decoration-color: #00af00\">32</span>)     │             <span style=\"color: #00af00; text-decoration-color: #00af00\">0</span> │\n",
       "├─────────────────────────────────┼────────────────────────┼───────────────┤\n",
       "│ drop1 (<span style=\"color: #0087ff; text-decoration-color: #0087ff\">Dropout</span>)                 │ (<span style=\"color: #00d7ff; text-decoration-color: #00d7ff\">None</span>, <span style=\"color: #00af00; text-decoration-color: #00af00\">50</span>, <span style=\"color: #00af00; text-decoration-color: #00af00\">50</span>, <span style=\"color: #00af00; text-decoration-color: #00af00\">32</span>)     │             <span style=\"color: #00af00; text-decoration-color: #00af00\">0</span> │\n",
       "├─────────────────────────────────┼────────────────────────┼───────────────┤\n",
       "│ conv2_1 (<span style=\"color: #0087ff; text-decoration-color: #0087ff\">Conv2D</span>)                │ (<span style=\"color: #00d7ff; text-decoration-color: #00d7ff\">None</span>, <span style=\"color: #00af00; text-decoration-color: #00af00\">50</span>, <span style=\"color: #00af00; text-decoration-color: #00af00\">50</span>, <span style=\"color: #00af00; text-decoration-color: #00af00\">64</span>)     │        <span style=\"color: #00af00; text-decoration-color: #00af00\">18,496</span> │\n",
       "├─────────────────────────────────┼────────────────────────┼───────────────┤\n",
       "│ bn2_1 (<span style=\"color: #0087ff; text-decoration-color: #0087ff\">BatchNormalization</span>)      │ (<span style=\"color: #00d7ff; text-decoration-color: #00d7ff\">None</span>, <span style=\"color: #00af00; text-decoration-color: #00af00\">50</span>, <span style=\"color: #00af00; text-decoration-color: #00af00\">50</span>, <span style=\"color: #00af00; text-decoration-color: #00af00\">64</span>)     │           <span style=\"color: #00af00; text-decoration-color: #00af00\">256</span> │\n",
       "├─────────────────────────────────┼────────────────────────┼───────────────┤\n",
       "│ conv2_2 (<span style=\"color: #0087ff; text-decoration-color: #0087ff\">Conv2D</span>)                │ (<span style=\"color: #00d7ff; text-decoration-color: #00d7ff\">None</span>, <span style=\"color: #00af00; text-decoration-color: #00af00\">50</span>, <span style=\"color: #00af00; text-decoration-color: #00af00\">50</span>, <span style=\"color: #00af00; text-decoration-color: #00af00\">64</span>)     │        <span style=\"color: #00af00; text-decoration-color: #00af00\">36,928</span> │\n",
       "├─────────────────────────────────┼────────────────────────┼───────────────┤\n",
       "│ bn2_2 (<span style=\"color: #0087ff; text-decoration-color: #0087ff\">BatchNormalization</span>)      │ (<span style=\"color: #00d7ff; text-decoration-color: #00d7ff\">None</span>, <span style=\"color: #00af00; text-decoration-color: #00af00\">50</span>, <span style=\"color: #00af00; text-decoration-color: #00af00\">50</span>, <span style=\"color: #00af00; text-decoration-color: #00af00\">64</span>)     │           <span style=\"color: #00af00; text-decoration-color: #00af00\">256</span> │\n",
       "├─────────────────────────────────┼────────────────────────┼───────────────┤\n",
       "│ pool2 (<span style=\"color: #0087ff; text-decoration-color: #0087ff\">MaxPooling2D</span>)            │ (<span style=\"color: #00d7ff; text-decoration-color: #00d7ff\">None</span>, <span style=\"color: #00af00; text-decoration-color: #00af00\">25</span>, <span style=\"color: #00af00; text-decoration-color: #00af00\">25</span>, <span style=\"color: #00af00; text-decoration-color: #00af00\">64</span>)     │             <span style=\"color: #00af00; text-decoration-color: #00af00\">0</span> │\n",
       "├─────────────────────────────────┼────────────────────────┼───────────────┤\n",
       "│ drop2 (<span style=\"color: #0087ff; text-decoration-color: #0087ff\">Dropout</span>)                 │ (<span style=\"color: #00d7ff; text-decoration-color: #00d7ff\">None</span>, <span style=\"color: #00af00; text-decoration-color: #00af00\">25</span>, <span style=\"color: #00af00; text-decoration-color: #00af00\">25</span>, <span style=\"color: #00af00; text-decoration-color: #00af00\">64</span>)     │             <span style=\"color: #00af00; text-decoration-color: #00af00\">0</span> │\n",
       "├─────────────────────────────────┼────────────────────────┼───────────────┤\n",
       "│ flatten (<span style=\"color: #0087ff; text-decoration-color: #0087ff\">Flatten</span>)               │ (<span style=\"color: #00d7ff; text-decoration-color: #00d7ff\">None</span>, <span style=\"color: #00af00; text-decoration-color: #00af00\">40000</span>)          │             <span style=\"color: #00af00; text-decoration-color: #00af00\">0</span> │\n",
       "├─────────────────────────────────┼────────────────────────┼───────────────┤\n",
       "│ dense1 (<span style=\"color: #0087ff; text-decoration-color: #0087ff\">Dense</span>)                  │ (<span style=\"color: #00d7ff; text-decoration-color: #00d7ff\">None</span>, <span style=\"color: #00af00; text-decoration-color: #00af00\">128</span>)            │     <span style=\"color: #00af00; text-decoration-color: #00af00\">5,120,128</span> │\n",
       "├─────────────────────────────────┼────────────────────────┼───────────────┤\n",
       "│ bn_dense1 (<span style=\"color: #0087ff; text-decoration-color: #0087ff\">BatchNormalization</span>)  │ (<span style=\"color: #00d7ff; text-decoration-color: #00d7ff\">None</span>, <span style=\"color: #00af00; text-decoration-color: #00af00\">128</span>)            │           <span style=\"color: #00af00; text-decoration-color: #00af00\">512</span> │\n",
       "├─────────────────────────────────┼────────────────────────┼───────────────┤\n",
       "│ drop_dense1 (<span style=\"color: #0087ff; text-decoration-color: #0087ff\">Dropout</span>)           │ (<span style=\"color: #00d7ff; text-decoration-color: #00d7ff\">None</span>, <span style=\"color: #00af00; text-decoration-color: #00af00\">128</span>)            │             <span style=\"color: #00af00; text-decoration-color: #00af00\">0</span> │\n",
       "├─────────────────────────────────┼────────────────────────┼───────────────┤\n",
       "│ output_softmax (<span style=\"color: #0087ff; text-decoration-color: #0087ff\">Dense</span>)          │ (<span style=\"color: #00d7ff; text-decoration-color: #00d7ff\">None</span>, <span style=\"color: #00af00; text-decoration-color: #00af00\">15</span>)             │         <span style=\"color: #00af00; text-decoration-color: #00af00\">1,935</span> │\n",
       "└─────────────────────────────────┴────────────────────────┴───────────────┘\n",
       "</pre>\n"
      ]
     },
     "metadata": {},
     "output_type": "display_data"
    },
    {
     "data": {
      "text/plain": [
       "\u001B[1m Total params: \u001B[0m\u001B[38;5;34m5,188,911\u001B[0m (19.79 MB)\n"
      ],
      "text/html": [
       "<pre style=\"white-space:pre;overflow-x:auto;line-height:normal;font-family:Menlo,'DejaVu Sans Mono',consolas,'Courier New',monospace\"><span style=\"font-weight: bold\"> Total params: </span><span style=\"color: #00af00; text-decoration-color: #00af00\">5,188,911</span> (19.79 MB)\n",
       "</pre>\n"
      ]
     },
     "metadata": {},
     "output_type": "display_data"
    },
    {
     "data": {
      "text/plain": [
       "\u001B[1m Trainable params: \u001B[0m\u001B[38;5;34m5,188,271\u001B[0m (19.79 MB)\n"
      ],
      "text/html": [
       "<pre style=\"white-space:pre;overflow-x:auto;line-height:normal;font-family:Menlo,'DejaVu Sans Mono',consolas,'Courier New',monospace\"><span style=\"font-weight: bold\"> Trainable params: </span><span style=\"color: #00af00; text-decoration-color: #00af00\">5,188,271</span> (19.79 MB)\n",
       "</pre>\n"
      ]
     },
     "metadata": {},
     "output_type": "display_data"
    },
    {
     "data": {
      "text/plain": [
       "\u001B[1m Non-trainable params: \u001B[0m\u001B[38;5;34m640\u001B[0m (2.50 KB)\n"
      ],
      "text/html": [
       "<pre style=\"white-space:pre;overflow-x:auto;line-height:normal;font-family:Menlo,'DejaVu Sans Mono',consolas,'Courier New',monospace\"><span style=\"font-weight: bold\"> Non-trainable params: </span><span style=\"color: #00af00; text-decoration-color: #00af00\">640</span> (2.50 KB)\n",
       "</pre>\n"
      ]
     },
     "metadata": {},
     "output_type": "display_data"
    },
    {
     "data": {
      "text/plain": [],
      "text/html": [
       "<pre style=\"white-space:pre;overflow-x:auto;line-height:normal;font-family:Menlo,'DejaVu Sans Mono',consolas,'Courier New',monospace\"></pre>\n"
      ]
     },
     "metadata": {},
     "output_type": "display_data"
    },
    {
     "name": "stdout",
     "output_type": "stream",
     "text": [
      "\n",
      "--- Configuration des Callbacks ---\n",
      "  - ModelCheckpoint: Sauvegarde du meilleur modèle dans models/trained/simple_cnn_lfw_anony_v1.h5\n",
      "  - EarlyStopping: Activé avec patience=10\n",
      "  - TensorBoard: Logs dans models/logs/simple_cnn_lfw_anony_v1_20250421-143346\n",
      "  - CSVLogger: Logs dans models/trained/simple_cnn_lfw_anony_v1_training_log.csv\n",
      "\n",
      "--- Démarrage de l'entraînement ---\n",
      "\n",
      "Epoch 1: val_accuracy improved from -inf to 0.08000, saving model to models/trained/simple_cnn_lfw_anony_v1.h5\n"
     ]
    },
    {
     "name": "stderr",
     "output_type": "stream",
     "text": [
      "WARNING:absl:You are saving your model as an HDF5 file via `model.save()` or `keras.saving.save_model(model)`. This file format is considered legacy. We recommend using instead the native Keras format, e.g. `model.save('my_model.keras')` or `keras.saving.save_model(model, 'my_model.keras')`. \n"
     ]
    },
    {
     "name": "stdout",
     "output_type": "stream",
     "text": [
      "\n",
      "Epoch 2: val_accuracy did not improve from 0.08000\n",
      "\n",
      "Epoch 3: val_accuracy improved from 0.08000 to 0.16000, saving model to models/trained/simple_cnn_lfw_anony_v1.h5\n"
     ]
    },
    {
     "name": "stderr",
     "output_type": "stream",
     "text": [
      "WARNING:absl:You are saving your model as an HDF5 file via `model.save()` or `keras.saving.save_model(model)`. This file format is considered legacy. We recommend using instead the native Keras format, e.g. `model.save('my_model.keras')` or `keras.saving.save_model(model, 'my_model.keras')`. \n"
     ]
    },
    {
     "name": "stdout",
     "output_type": "stream",
     "text": [
      "\n",
      "Epoch 4: val_accuracy did not improve from 0.16000\n",
      "\n",
      "Epoch 5: val_accuracy did not improve from 0.16000\n",
      "\n",
      "Epoch 6: val_accuracy did not improve from 0.16000\n",
      "\n",
      "Epoch 7: val_accuracy did not improve from 0.16000\n",
      "\n",
      "Epoch 8: val_accuracy did not improve from 0.16000\n",
      "\n",
      "Epoch 9: val_accuracy did not improve from 0.16000\n",
      "\n",
      "Epoch 10: val_accuracy improved from 0.16000 to 0.24000, saving model to models/trained/simple_cnn_lfw_anony_v1.h5\n"
     ]
    },
    {
     "name": "stderr",
     "output_type": "stream",
     "text": [
      "WARNING:absl:You are saving your model as an HDF5 file via `model.save()` or `keras.saving.save_model(model)`. This file format is considered legacy. We recommend using instead the native Keras format, e.g. `model.save('my_model.keras')` or `keras.saving.save_model(model, 'my_model.keras')`. \n"
     ]
    },
    {
     "name": "stdout",
     "output_type": "stream",
     "text": [
      "\n",
      "Epoch 11: val_accuracy improved from 0.24000 to 0.32000, saving model to models/trained/simple_cnn_lfw_anony_v1.h5\n"
     ]
    },
    {
     "name": "stderr",
     "output_type": "stream",
     "text": [
      "WARNING:absl:You are saving your model as an HDF5 file via `model.save()` or `keras.saving.save_model(model)`. This file format is considered legacy. We recommend using instead the native Keras format, e.g. `model.save('my_model.keras')` or `keras.saving.save_model(model, 'my_model.keras')`. \n"
     ]
    },
    {
     "name": "stdout",
     "output_type": "stream",
     "text": [
      "\n",
      "Epoch 12: val_accuracy improved from 0.32000 to 0.40000, saving model to models/trained/simple_cnn_lfw_anony_v1.h5\n"
     ]
    },
    {
     "name": "stderr",
     "output_type": "stream",
     "text": [
      "WARNING:absl:You are saving your model as an HDF5 file via `model.save()` or `keras.saving.save_model(model)`. This file format is considered legacy. We recommend using instead the native Keras format, e.g. `model.save('my_model.keras')` or `keras.saving.save_model(model, 'my_model.keras')`. \n"
     ]
    },
    {
     "name": "stdout",
     "output_type": "stream",
     "text": [
      "\n",
      "Epoch 13: val_accuracy improved from 0.40000 to 0.48000, saving model to models/trained/simple_cnn_lfw_anony_v1.h5\n"
     ]
    },
    {
     "name": "stderr",
     "output_type": "stream",
     "text": [
      "WARNING:absl:You are saving your model as an HDF5 file via `model.save()` or `keras.saving.save_model(model)`. This file format is considered legacy. We recommend using instead the native Keras format, e.g. `model.save('my_model.keras')` or `keras.saving.save_model(model, 'my_model.keras')`. \n"
     ]
    },
    {
     "name": "stdout",
     "output_type": "stream",
     "text": [
      "\n",
      "Epoch 14: val_accuracy improved from 0.48000 to 0.52000, saving model to models/trained/simple_cnn_lfw_anony_v1.h5\n"
     ]
    },
    {
     "name": "stderr",
     "output_type": "stream",
     "text": [
      "WARNING:absl:You are saving your model as an HDF5 file via `model.save()` or `keras.saving.save_model(model)`. This file format is considered legacy. We recommend using instead the native Keras format, e.g. `model.save('my_model.keras')` or `keras.saving.save_model(model, 'my_model.keras')`. \n"
     ]
    },
    {
     "name": "stdout",
     "output_type": "stream",
     "text": [
      "\n",
      "Epoch 15: val_accuracy did not improve from 0.52000\n",
      "\n",
      "Epoch 16: val_accuracy did not improve from 0.52000\n",
      "\n",
      "Epoch 17: val_accuracy did not improve from 0.52000\n",
      "\n",
      "Epoch 18: val_accuracy did not improve from 0.52000\n",
      "\n",
      "Epoch 19: val_accuracy did not improve from 0.52000\n",
      "\n",
      "Epoch 20: val_accuracy did not improve from 0.52000\n",
      "\n",
      "Epoch 21: val_accuracy did not improve from 0.52000\n",
      "\n",
      "Epoch 22: val_accuracy did not improve from 0.52000\n",
      "\n",
      "Epoch 23: val_accuracy did not improve from 0.52000\n",
      "\n",
      "Epoch 24: val_accuracy did not improve from 0.52000\n",
      "Epoch 24: early stopping\n",
      "Restoring model weights from the end of the best epoch: 14.\n",
      "--- Entraînement terminé ---\n",
      "\n",
      "--- Sauvegarde de l'encodeur de labels ---\n",
      "LabelEncoder sauvegardé dans : models/trained/simple_cnn_lfw_anony_v1_label_encoder.joblib\n",
      "\u001B[1m2/2\u001B[0m \u001B[32m━━━━━━━━━━━━━━━━━━━━\u001B[0m\u001B[37m\u001B[0m \u001B[1m0s\u001B[0m 24ms/step - accuracy: 0.4795 - loss: 1.6002\n",
      "\u001B[1m2/2\u001B[0m \u001B[32m━━━━━━━━━━━━━━━━━━━━\u001B[0m\u001B[37m\u001B[0m \u001B[1m0s\u001B[0m 108ms/step\n",
      "\n",
      "--- Affichage des courbes d'apprentissage ---\n"
     ]
    },
    {
     "name": "stderr",
     "output_type": "stream",
     "text": [
      "D:\\myDocs\\Apprentissage\\Isep\\Year_3\\Brno-Privacy_Preserving_Face_Recognition_Project\\venv\\Lib\\site-packages\\sklearn\\metrics\\_classification.py:1517: UndefinedMetricWarning: Precision is ill-defined and being set to 0.0 in labels with no predicted samples. Use `zero_division` parameter to control this behavior.\n",
      "  _warn_prf(average, modifier, f\"{metric.capitalize()} is\", len(result))\n",
      "D:\\myDocs\\Apprentissage\\Isep\\Year_3\\Brno-Privacy_Preserving_Face_Recognition_Project\\venv\\Lib\\site-packages\\sklearn\\metrics\\_classification.py:1517: UndefinedMetricWarning: Precision is ill-defined and being set to 0.0 in labels with no predicted samples. Use `zero_division` parameter to control this behavior.\n",
      "  _warn_prf(average, modifier, f\"{metric.capitalize()} is\", len(result))\n",
      "D:\\myDocs\\Apprentissage\\Isep\\Year_3\\Brno-Privacy_Preserving_Face_Recognition_Project\\venv\\Lib\\site-packages\\sklearn\\metrics\\_classification.py:1517: UndefinedMetricWarning: Precision is ill-defined and being set to 0.0 in labels with no predicted samples. Use `zero_division` parameter to control this behavior.\n",
      "  _warn_prf(average, modifier, f\"{metric.capitalize()} is\", len(result))\n"
     ]
    },
    {
     "name": "stdout",
     "output_type": "stream",
     "text": [
      "Courbes sauvegardées dans : models/trained/simple_cnn_lfw_anony_v1_training_curves.pdf\n",
      "\n",
      "--- Script d'Entraînement Terminé en 31.06 secondes ---\n",
      "Le meilleur modèle devrait être sauvegardé dans : models/trained/simple_cnn_lfw_anony_v1.h5\n",
      "L'encodeur de labels est sauvegardé dans : models/trained/simple_cnn_lfw_anony_v1_label_encoder.joblib\n"
     ]
    },
    {
     "data": {
      "text/plain": [
       "<Figure size 1200x500 with 2 Axes>"
      ],
      "image/png": "[encoded data removed]"
     },
     "metadata": {},
     "output_type": "display_data"
    }
   ],
   "execution_count": 6
  },
  {
   "metadata": {
    "ExecuteTime": {
     "end_time": "2025-04-21T12:36:19.761964Z",
     "start_time": "2025-04-21T12:36:19.735507Z"
    }
   },
   "cell_type": "code",
   "source": [
    "# Display output method\n",
    "\"\"\"\n",
    "    \"duration\"\n",
    "    \"summary_text\"\n",
    "    \"training_plot\"\n",
    "    \"confusion_matrix\"\n",
    "    \"classification_report\"\n",
    "    \"evaluation\": {\"loss\", \"accuracy\"}\n",
    "\"\"\"\n",
    "summary_image = text_to_pil_image(momo['summary_text'])\n",
    "momo['evaluation']"
   ],
   "id": "ae039596e0b014c0",
   "outputs": [
    {
     "data": {
      "text/plain": [
       "{'loss': 1.5883125066757202, 'accuracy': 0.4848484992980957}"
      ]
     },
     "execution_count": 7,
     "metadata": {},
     "output_type": "execute_result"
    }
   ],
   "execution_count": 7
  },
  {
   "metadata": {},
   "cell_type": "markdown",
   "source": "### Predict",
   "id": "b414a48d14451254"
  },
  {
   "metadata": {
    "ExecuteTime": {
     "end_time": "2025-04-21T12:36:45.358161Z",
     "start_time": "2025-04-21T12:36:45.152246Z"
    }
   },
   "cell_type": "code",
   "source": [
    "# data input\n",
    "user, num_img = 3, 4\n",
    "img_to_predict = dic[user][num_img]\n",
    "img_to_predict.shape\n",
    "\n",
    "from typing import Optional\n",
    "\n",
    "# --- Fonction de Prétraitement pour une image unique ---\n",
    "def preprocess_single_image(\n",
    "    image_path: str,\n",
    "    img_width: int,\n",
    "    img_height: int,\n",
    "    color_mode: str\n",
    ") -> Optional[np.ndarray]:\n",
    "    \"\"\"\n",
    "    Charge, redimensionne, normalise et formate une image unique pour la prédiction.\n",
    "    \"\"\"\n",
    "    try:\n",
    "        img = Image.open(image_path)\n",
    "\n",
    "        pil_mode = 'L' if color_mode == 'grayscale' else 'RGB'\n",
    "        img_converted = img.convert(pil_mode)\n",
    "\n",
    "        img_resized = img_converted.resize((img_width, img_height))\n",
    "\n",
    "        img_array = np.array(img_resized)\n",
    "\n",
    "        img_normalized = img_array.astype('float32') / 255.0\n",
    "\n",
    "        if color_mode == 'grayscale':\n",
    "            img_final = np.expand_dims(img_normalized, axis=-1)\n",
    "        else:\n",
    "            img_final = img_normalized\n",
    "\n",
    "        img_batch = np.expand_dims(img_final, axis=0)\n",
    "\n",
    "        print(f\"Image prétraitée, shape final: {img_batch.shape}\")\n",
    "        return img_batch\n",
    "\n",
    "    except FileNotFoundError:\n",
    "        print(f\"Erreur: Fichier image introuvable : {image_path}\")\n",
    "        return None\n",
    "    except Exception as e:\n",
    "        print(f\"Erreur lors du prétraitement de l'image {image_path}: {e}\")\n",
    "        return None\n",
    "\n",
    "\n",
    "# --- Fonction Principale de Prédiction ---\n",
    "def predict_image_array(image_array: np.ndarray,\n",
    "                        model_save_dir: str = 'models/trained/',\n",
    "                        model_name: str = 'simple_cnn_lfw_anony_v1',\n",
    "                        input_shape: tuple = (100, 100, 1)\n",
    "                        ):\n",
    "    \"\"\"\n",
    "    Charge le modèle et l'encodeur, prédit l'identité pour une image.\n",
    "\n",
    "    :param image_array: Image unique sous forme de tableau NumPy\n",
    "    :param model_save_dir: Répertoire contenant le modèle et l'encodeur\n",
    "    :param model_name: Nom de base du modèle\n",
    "    :param input_shape: Tuple (H, W, C) représentant la taille attendue\n",
    "\n",
    "    :return: label prédit (str)\n",
    "    \"\"\"\n",
    "    print(\"--- Démarrage du Script de Prédiction ---\")\n",
    "    start_time = time.time()\n",
    "\n",
    "    # --- 1. Charger Configuration et Chemins ---\n",
    "    model_filepath = os.path.join(model_save_dir, f\"{model_name}.h5\")\n",
    "    encoder_filepath = os.path.join(model_save_dir, f\"{model_name}_label_encoder.joblib\")\n",
    "\n",
    "    print(f\"  - Modèle utilisé: {model_filepath}\")\n",
    "    print(f\"  - Encodeur utilisé: {encoder_filepath}\")\n",
    "    print(f\"  - Image à prédire: tableau NumPy, shape={image_array.shape}\")\n",
    "\n",
    "    # --- 2. Charger Modèle et Encodeur ---\n",
    "    if not os.path.exists(model_filepath):\n",
    "        raise FileNotFoundError(f\"Modèle introuvable: {model_filepath}\")\n",
    "    model = tf.keras.models.load_model(model_filepath)\n",
    "\n",
    "    label_encoder = data_loader.load_label_encoder(encoder_filepath)\n",
    "    if label_encoder is None:\n",
    "        raise ValueError(\"Erreur: Encodeur de labels introuvable ou invalide\")\n",
    "\n",
    "    # --- 3. Prétraitement de l’image ---\n",
    "    width, height, _ = input_shape\n",
    "    image_array = np.array(Image.fromarray(image_array).resize((width, height)))\n",
    "\n",
    "    if image_array.ndim == 3:\n",
    "        image_array = np.expand_dims(image_array, axis=0)  # (1, H, W, C)\n",
    "    image_array = image_array.astype(\"float32\") / 255.0\n",
    "\n",
    "    # --- 4. Prédiction ---\n",
    "    prediction_probabilities = model.predict(image_array)\n",
    "    predicted_index = np.argmax(prediction_probabilities[0])\n",
    "    prediction_confidence = prediction_probabilities[0][predicted_index]\n",
    "    predicted_label = label_encoder.inverse_transform([predicted_index])[0]\n",
    "\n",
    "    print(\"\\n--- Résultat de la Prédiction ---\")\n",
    "    print(f\"  - Identité Prédite : {predicted_label}\")\n",
    "    print(f\"  - Confiance : {prediction_confidence:.4f} ({prediction_confidence*100:.2f}%)\")\n",
    "\n",
    "    print(f\"--- Script terminé en {time.time() - start_time:.2f} secondes ---\")\n",
    "\n",
    "    return predicted_label\n",
    "\n",
    "\n",
    "prediction = predict_image_array(img_to_predict)\n",
    "print(f\"prediction: {prediction}\")"
   ],
   "id": "6d2575405b03fcc",
   "outputs": [
    {
     "name": "stderr",
     "output_type": "stream",
     "text": [
      "WARNING:absl:Compiled the loaded model, but the compiled metrics have yet to be built. `model.compile_metrics` will be empty until you train or evaluate the model.\n"
     ]
    },
    {
     "name": "stdout",
     "output_type": "stream",
     "text": [
      "--- Démarrage du Script de Prédiction ---\n",
      "  - Modèle utilisé: models/trained/simple_cnn_lfw_anony_v1.h5\n",
      "  - Encodeur utilisé: models/trained/simple_cnn_lfw_anony_v1_label_encoder.joblib\n",
      "  - Image à prédire: tableau NumPy, shape=(100, 100, 3)\n",
      "LabelEncoder chargé depuis : models/trained/simple_cnn_lfw_anony_v1_label_encoder.joblib\n",
      "\u001B[1m1/1\u001B[0m \u001B[32m━━━━━━━━━━━━━━━━━━━━\u001B[0m\u001B[37m\u001B[0m \u001B[1m0s\u001B[0m 100ms/step\n",
      "\n",
      "--- Résultat de la Prédiction ---\n",
      "  - Identité Prédite : 7\n",
      "  - Confiance : 0.6752 (67.52%)\n",
      "--- Script terminé en 0.20 secondes ---\n",
      "prediction: 7\n"
     ]
    }
   ],
   "execution_count": 10
  }
 ],
 "metadata": {
  "kernelspec": {
   "display_name": "Python 3",
   "language": "python",
   "name": "python3"
  },
  "language_info": {
   "codemirror_mode": {
    "name": "ipython",
    "version": 2
   },
   "file_extension": ".py",
   "mimetype": "text/x-python",
   "name": "python",
   "nbconvert_exporter": "python",
   "pygments_lexer": "ipython2",
   "version": "2.7.6"
  }
 },
 "nbformat": 4,
 "nbformat_minor": 5
}
