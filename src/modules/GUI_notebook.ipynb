{
 "cells": [
  {
   "cell_type": "code",
   "id": "initial_id",
   "metadata": {
    "collapsed": true,
    "ExecuteTime": {
     "end_time": "2025-04-08T08:34:30.771351Z",
     "start_time": "2025-04-08T08:34:29.503996Z"
    }
   },
   "source": [
    "import numpy as np\n",
    "\n",
    "from anony_process_pipeline import *\n",
    "from src.modules.utils_image import pillow_image_to_bytes, numpy_image_to_pillow\n",
    "from database_controller import DatabaseController\n"
   ],
   "outputs": [
    {
     "name": "stdout",
     "output_type": "stream",
     "text": [
      "Configuration chargée et vérifiée.\n"
     ]
    }
   ],
   "execution_count": 1
  },
  {
   "metadata": {
    "ExecuteTime": {
     "end_time": "2025-04-08T08:34:30.844768Z",
     "start_time": "2025-04-08T08:34:30.836759Z"
    }
   },
   "cell_type": "code",
   "source": [
    "from werkzeug.datastructures import FileStorage\n",
    "import os\n",
    "\n",
    "def import_subject_images(ids):\n",
    "    image_folder = \"../../data/yalefaces\"\n",
    "    sujet = f\"subject0{ids}_\"\n",
    "    image_files = []\n",
    "    for filename in os.listdir(image_folder):\n",
    "        if filename.startswith(sujet):\n",
    "            chemin_fichier = f\"{image_folder}/{filename}\"\n",
    "            file = open(chemin_fichier, \"rb\")\n",
    "            file_storage = FileStorage(stream=file, filename=filename)\n",
    "            image_files.append(file_storage)\n",
    "    return image_files\n",
    "\n",
    "# Import images\n",
    "img_list = import_subject_images(3)\n",
    "\n",
    "# Print result\n",
    "img_list"
   ],
   "id": "7e695323243c89d0",
   "outputs": [
    {
     "data": {
      "text/plain": [
       "[<FileStorage: 'subject03_centerlight.png' (None)>,\n",
       " <FileStorage: 'subject03_glasses.png' (None)>,\n",
       " <FileStorage: 'subject03_happy.png' (None)>,\n",
       " <FileStorage: 'subject03_leftlight.png' (None)>,\n",
       " <FileStorage: 'subject03_noglasses.png' (None)>,\n",
       " <FileStorage: 'subject03_normal.png' (None)>,\n",
       " <FileStorage: 'subject03_rightlight.png' (None)>,\n",
       " <FileStorage: 'subject03_sad.png' (None)>,\n",
       " <FileStorage: 'subject03_sleepy.png' (None)>,\n",
       " <FileStorage: 'subject03_surprised.png' (None)>,\n",
       " <FileStorage: 'subject03_wink.png' (None)>]"
      ]
     },
     "execution_count": 2,
     "metadata": {},
     "output_type": "execute_result"
    }
   ],
   "execution_count": 2
  },
  {
   "metadata": {
    "ExecuteTime": {
     "end_time": "2025-04-08T08:34:32.508544Z",
     "start_time": "2025-04-08T08:34:32.481193Z"
    }
   },
   "cell_type": "code",
   "source": [
    "# ---------------------------------------\n",
    "# Étape 1 : Preprocessing (Simplifiée)\n",
    "# ---------------------------------------\n",
    "image_size = (100, 100)\n",
    "res1, image_size = run_preprocessing(filestorage_list=img_list, image_size_override=image_size)\n",
    "\n",
    "# IMG IMPORT ENDING: Realise images in storage ###\n",
    "for img_in_storage in img_list: ##################\n",
    "    img_in_storage.close() #######################\n",
    "##################################################\n",
    "\n",
    "# Print result\n",
    "res1"
   ],
   "id": "d7ef66e5da604307",
   "outputs": [
    {
     "name": "stderr",
     "output_type": "stream",
     "text": [
      "2025-04-08 10:34:32,482 - INFO - Exécution du pré-traitement standard avec IMAGE_SIZE=(100, 100)...\n",
      "2025-04-08 10:34:32,483 - INFO - Traitement de 11 fichiers FileStorage.\n",
      "Preprocessing (FileStorage List): 100%|██████████| 11/11 [00:00<00:00, 654.24it/s]\n",
      "2025-04-08 10:34:32,503 - INFO - Pré-traitement terminé. 11 images traitées pour 1 sujets.\n"
     ]
    },
    {
     "data": {
      "text/plain": [
       "{'upload_subject_1': [{'resized_image': <PIL.Image.Image image mode=RGB size=100x100>,\n",
       "   'grayscale_image': <PIL.Image.Image image mode=L size=100x100>,\n",
       "   'normalized_image': array([[0.81960784, 0.81960784, 0.81960784, ..., 1.        , 1.        ,\n",
       "           1.        ],\n",
       "          [1.        , 1.        , 1.        , ..., 1.        , 1.        ,\n",
       "           1.        ],\n",
       "          [1.        , 1.        , 1.        , ..., 1.        , 1.        ,\n",
       "           1.        ],\n",
       "          ...,\n",
       "          [1.        , 1.        , 1.        , ..., 1.        , 1.        ,\n",
       "           0.98823529],\n",
       "          [1.        , 1.        , 1.        , ..., 1.        , 1.        ,\n",
       "           1.        ],\n",
       "          [0.73333333, 0.73333333, 0.73333333, ..., 0.73333333, 0.73333333,\n",
       "           0.73333333]]),\n",
       "   'imageId': 'upload_img_0'},\n",
       "  {'resized_image': <PIL.Image.Image image mode=RGB size=100x100>,\n",
       "   'grayscale_image': <PIL.Image.Image image mode=L size=100x100>,\n",
       "   'normalized_image': array([[0.81960784, 0.81960784, 0.81960784, ..., 1.        , 1.        ,\n",
       "           1.        ],\n",
       "          [1.        , 1.        , 1.        , ..., 1.        , 1.        ,\n",
       "           1.        ],\n",
       "          [1.        , 1.        , 1.        , ..., 1.        , 1.        ,\n",
       "           1.        ],\n",
       "          ...,\n",
       "          [1.        , 1.        , 1.        , ..., 1.        , 1.        ,\n",
       "           1.        ],\n",
       "          [1.        , 1.        , 1.        , ..., 1.        , 1.        ,\n",
       "           1.        ],\n",
       "          [0.73333333, 0.73333333, 0.73333333, ..., 0.73333333, 0.73333333,\n",
       "           0.73333333]]),\n",
       "   'imageId': 'upload_img_1'},\n",
       "  {'resized_image': <PIL.Image.Image image mode=RGB size=100x100>,\n",
       "   'grayscale_image': <PIL.Image.Image image mode=L size=100x100>,\n",
       "   'normalized_image': array([[0.81960784, 0.81960784, 0.81960784, ..., 1.        , 1.        ,\n",
       "           1.        ],\n",
       "          [1.        , 1.        , 1.        , ..., 1.        , 1.        ,\n",
       "           1.        ],\n",
       "          [1.        , 1.        , 1.        , ..., 1.        , 1.        ,\n",
       "           1.        ],\n",
       "          ...,\n",
       "          [1.        , 1.        , 1.        , ..., 1.        , 1.        ,\n",
       "           1.        ],\n",
       "          [1.        , 1.        , 1.        , ..., 1.        , 1.        ,\n",
       "           1.        ],\n",
       "          [0.73333333, 0.73333333, 0.73333333, ..., 0.73333333, 0.73333333,\n",
       "           0.73333333]]),\n",
       "   'imageId': 'upload_img_2'},\n",
       "  {'resized_image': <PIL.Image.Image image mode=RGB size=100x100>,\n",
       "   'grayscale_image': <PIL.Image.Image image mode=L size=100x100>,\n",
       "   'normalized_image': array([[0.81960784, 0.81960784, 0.81960784, ..., 0.89411765, 0.87843137,\n",
       "           0.77647059],\n",
       "          [1.        , 1.        , 1.        , ..., 0.84705882, 0.91372549,\n",
       "           0.84313725],\n",
       "          [1.        , 1.        , 1.        , ..., 0.84705882, 0.90588235,\n",
       "           0.90588235],\n",
       "          ...,\n",
       "          [1.        , 1.        , 1.        , ..., 0.09803922, 0.09803922,\n",
       "           0.09803922],\n",
       "          [1.        , 1.        , 1.        , ..., 0.09411765, 0.08627451,\n",
       "           0.08627451],\n",
       "          [0.73333333, 0.73333333, 0.73333333, ..., 0.15686275, 0.15686275,\n",
       "           0.15686275]]),\n",
       "   'imageId': 'upload_img_3'},\n",
       "  {'resized_image': <PIL.Image.Image image mode=RGB size=100x100>,\n",
       "   'grayscale_image': <PIL.Image.Image image mode=L size=100x100>,\n",
       "   'normalized_image': array([[0.81960784, 0.81960784, 0.81960784, ..., 1.        , 1.        ,\n",
       "           1.        ],\n",
       "          [1.        , 1.        , 1.        , ..., 1.        , 1.        ,\n",
       "           1.        ],\n",
       "          [1.        , 1.        , 1.        , ..., 1.        , 1.        ,\n",
       "           1.        ],\n",
       "          ...,\n",
       "          [1.        , 1.        , 1.        , ..., 1.        , 1.        ,\n",
       "           1.        ],\n",
       "          [1.        , 1.        , 1.        , ..., 1.        , 1.        ,\n",
       "           1.        ],\n",
       "          [0.73333333, 0.73333333, 0.73333333, ..., 0.73333333, 0.73333333,\n",
       "           0.73333333]]),\n",
       "   'imageId': 'upload_img_4'},\n",
       "  {'resized_image': <PIL.Image.Image image mode=RGB size=100x100>,\n",
       "   'grayscale_image': <PIL.Image.Image image mode=L size=100x100>,\n",
       "   'normalized_image': array([[0.81960784, 0.81960784, 0.81960784, ..., 1.        , 1.        ,\n",
       "           1.        ],\n",
       "          [1.        , 1.        , 1.        , ..., 1.        , 1.        ,\n",
       "           1.        ],\n",
       "          [1.        , 1.        , 1.        , ..., 1.        , 1.        ,\n",
       "           1.        ],\n",
       "          ...,\n",
       "          [1.        , 1.        , 1.        , ..., 1.        , 1.        ,\n",
       "           1.        ],\n",
       "          [1.        , 1.        , 1.        , ..., 1.        , 1.        ,\n",
       "           1.        ],\n",
       "          [0.73333333, 0.73333333, 0.73333333, ..., 0.73333333, 0.73333333,\n",
       "           0.73333333]]),\n",
       "   'imageId': 'upload_img_5'},\n",
       "  {'resized_image': <PIL.Image.Image image mode=RGB size=100x100>,\n",
       "   'grayscale_image': <PIL.Image.Image image mode=L size=100x100>,\n",
       "   'normalized_image': array([[0.54117647, 0.60784314, 0.55686275, ..., 0.96470588, 0.96470588,\n",
       "           0.99607843],\n",
       "          [0.68627451, 0.67843137, 0.67843137, ..., 0.98823529, 0.93333333,\n",
       "           0.92156863],\n",
       "          [0.6627451 , 0.62352941, 0.70196078, ..., 0.98431373, 0.90588235,\n",
       "           0.85490196],\n",
       "          ...,\n",
       "          [0.42745098, 0.34901961, 0.2627451 , ..., 0.81568627, 0.81960784,\n",
       "           0.79607843],\n",
       "          [0.32941176, 0.2627451 , 0.21960784, ..., 0.83529412, 0.81960784,\n",
       "           0.81176471],\n",
       "          [0.26666667, 0.23529412, 0.22745098, ..., 0.63921569, 0.61176471,\n",
       "           0.58431373]]),\n",
       "   'imageId': 'upload_img_6'},\n",
       "  {'resized_image': <PIL.Image.Image image mode=RGB size=100x100>,\n",
       "   'grayscale_image': <PIL.Image.Image image mode=L size=100x100>,\n",
       "   'normalized_image': array([[0.81960784, 0.81960784, 0.81960784, ..., 1.        , 1.        ,\n",
       "           1.        ],\n",
       "          [1.        , 1.        , 1.        , ..., 1.        , 1.        ,\n",
       "           1.        ],\n",
       "          [1.        , 1.        , 1.        , ..., 1.        , 1.        ,\n",
       "           1.        ],\n",
       "          ...,\n",
       "          [1.        , 1.        , 1.        , ..., 1.        , 1.        ,\n",
       "           1.        ],\n",
       "          [1.        , 1.        , 1.        , ..., 1.        , 1.        ,\n",
       "           1.        ],\n",
       "          [0.73333333, 0.73333333, 0.73333333, ..., 0.73333333, 0.73333333,\n",
       "           0.73333333]]),\n",
       "   'imageId': 'upload_img_7'},\n",
       "  {'resized_image': <PIL.Image.Image image mode=RGB size=100x100>,\n",
       "   'grayscale_image': <PIL.Image.Image image mode=L size=100x100>,\n",
       "   'normalized_image': array([[0.81960784, 0.81960784, 0.81960784, ..., 1.        , 1.        ,\n",
       "           1.        ],\n",
       "          [1.        , 1.        , 1.        , ..., 1.        , 1.        ,\n",
       "           1.        ],\n",
       "          [1.        , 1.        , 1.        , ..., 1.        , 1.        ,\n",
       "           1.        ],\n",
       "          ...,\n",
       "          [1.        , 1.        , 1.        , ..., 1.        , 1.        ,\n",
       "           1.        ],\n",
       "          [1.        , 1.        , 1.        , ..., 1.        , 1.        ,\n",
       "           1.        ],\n",
       "          [0.73333333, 0.73333333, 0.73333333, ..., 0.73333333, 0.73333333,\n",
       "           0.73333333]]),\n",
       "   'imageId': 'upload_img_8'},\n",
       "  {'resized_image': <PIL.Image.Image image mode=RGB size=100x100>,\n",
       "   'grayscale_image': <PIL.Image.Image image mode=L size=100x100>,\n",
       "   'normalized_image': array([[0.81960784, 0.81960784, 0.81960784, ..., 1.        , 1.        ,\n",
       "           1.        ],\n",
       "          [1.        , 1.        , 1.        , ..., 1.        , 1.        ,\n",
       "           1.        ],\n",
       "          [1.        , 1.        , 1.        , ..., 1.        , 1.        ,\n",
       "           1.        ],\n",
       "          ...,\n",
       "          [1.        , 1.        , 1.        , ..., 1.        , 1.        ,\n",
       "           1.        ],\n",
       "          [1.        , 1.        , 1.        , ..., 1.        , 1.        ,\n",
       "           1.        ],\n",
       "          [0.73333333, 0.73333333, 0.73333333, ..., 0.73333333, 0.73333333,\n",
       "           0.73333333]]),\n",
       "   'imageId': 'upload_img_9'},\n",
       "  {'resized_image': <PIL.Image.Image image mode=RGB size=100x100>,\n",
       "   'grayscale_image': <PIL.Image.Image image mode=L size=100x100>,\n",
       "   'normalized_image': array([[0.81960784, 0.81960784, 0.81960784, ..., 1.        , 1.        ,\n",
       "           1.        ],\n",
       "          [1.        , 1.        , 1.        , ..., 1.        , 1.        ,\n",
       "           1.        ],\n",
       "          [1.        , 1.        , 1.        , ..., 1.        , 1.        ,\n",
       "           1.        ],\n",
       "          ...,\n",
       "          [1.        , 1.        , 1.        , ..., 1.        , 1.        ,\n",
       "           1.        ],\n",
       "          [1.        , 1.        , 1.        , ..., 1.        , 1.        ,\n",
       "           1.        ],\n",
       "          [0.73333333, 0.73333333, 0.73333333, ..., 0.73333333, 0.73333333,\n",
       "           0.73333333]]),\n",
       "   'imageId': 'upload_img_10'}]}"
      ]
     },
     "execution_count": 3,
     "metadata": {},
     "output_type": "execute_result"
    }
   ],
   "execution_count": 3
  },
  {
   "metadata": {
    "ExecuteTime": {
     "end_time": "2025-04-08T08:34:34.985438Z",
     "start_time": "2025-04-08T08:34:34.975631Z"
    }
   },
   "cell_type": "code",
   "source": [
    "# ---------------------------------------\n",
    "# Étape 2 : K-Same-Pixel (Nouvelle Fonction Modulaire)\n",
    "# ---------------------------------------\n",
    "k_same_k_value = 4\n",
    "res2 = run_k_same_anonymization(res1, k_same_k_value)\n",
    "\n",
    "# Print result\n",
    "res2\n",
    "# [img['flattened_anonymized_image'] for img in res2[\"upload_subject_1\"]]"
   ],
   "id": "5dc55ab02b119261",
   "outputs": [
    {
     "name": "stderr",
     "output_type": "stream",
     "text": [
      "2025-04-08 10:34:34,977 - INFO - Application de K-Same-Pixel avec k=4...\n",
      "K-Same Pixel: 100%|██████████| 1/1 [00:00<00:00, 912.20it/s]\n",
      "2025-04-08 10:34:34,981 - INFO - Traitement K-Same-Pixel terminé.\n"
     ]
    },
    {
     "data": {
      "text/plain": [
       "{'upload_subject_1': [{'flattened_anonymized_image': array([0.7490196 , 0.7647059 , 0.7529412 , ..., 0.5647059 , 0.5568628 ,\n",
       "          0.54901963], dtype=float32),\n",
       "   'imageId': 'upload_img_0'},\n",
       "  {'flattened_anonymized_image': array([0.81960785, 0.81960785, 0.81960785, ..., 0.73333335, 0.73333335,\n",
       "          0.73333335], dtype=float32),\n",
       "   'imageId': 'upload_img_1'},\n",
       "  {'flattened_anonymized_image': array([0.81960785, 0.81960785, 0.81960785, ..., 0.73333335, 0.73333335,\n",
       "          0.73333335], dtype=float32),\n",
       "   'imageId': 'upload_img_2'},\n",
       "  {'flattened_anonymized_image': array([0.7490196 , 0.7647059 , 0.7529412 , ..., 0.5647059 , 0.5568628 ,\n",
       "          0.54901963], dtype=float32),\n",
       "   'imageId': 'upload_img_3'},\n",
       "  {'flattened_anonymized_image': array([0.81960785, 0.81960785, 0.81960785, ..., 0.73333335, 0.73333335,\n",
       "          0.73333335], dtype=float32),\n",
       "   'imageId': 'upload_img_4'},\n",
       "  {'flattened_anonymized_image': array([0.81960785, 0.81960785, 0.81960785, ..., 0.5882353 , 0.5882353 ,\n",
       "          0.5882353 ], dtype=float32),\n",
       "   'imageId': 'upload_img_5'},\n",
       "  {'flattened_anonymized_image': array([0.7490196 , 0.7647059 , 0.7529412 , ..., 0.5647059 , 0.5568628 ,\n",
       "          0.54901963], dtype=float32),\n",
       "   'imageId': 'upload_img_6'},\n",
       "  {'flattened_anonymized_image': array([0.81960785, 0.81960785, 0.81960785, ..., 0.73333335, 0.73333335,\n",
       "          0.73333335], dtype=float32),\n",
       "   'imageId': 'upload_img_7'},\n",
       "  {'flattened_anonymized_image': array([0.81960785, 0.81960785, 0.81960785, ..., 0.73333335, 0.73333335,\n",
       "          0.73333335], dtype=float32),\n",
       "   'imageId': 'upload_img_8'},\n",
       "  {'flattened_anonymized_image': array([0.7490196 , 0.7647059 , 0.7529412 , ..., 0.70980394, 0.7019608 ,\n",
       "          0.69411767], dtype=float32),\n",
       "   'imageId': 'upload_img_9'},\n",
       "  {'flattened_anonymized_image': array([0.81960785, 0.81960785, 0.81960785, ..., 0.73333335, 0.73333335,\n",
       "          0.73333335], dtype=float32),\n",
       "   'imageId': 'upload_img_10'}]}"
      ]
     },
     "execution_count": 4,
     "metadata": {},
     "output_type": "execute_result"
    }
   ],
   "execution_count": 4
  },
  {
   "metadata": {
    "ExecuteTime": {
     "end_time": "2025-04-08T08:34:37.800600Z",
     "start_time": "2025-04-08T08:34:37.664338Z"
    }
   },
   "cell_type": "code",
   "source": [
    "# ---------------------------------------\n",
    "# Étape 3 : PEEP Eigenface\n",
    "# ---------------------------------------\n",
    "\n",
    "flattened_stack_list = [img['flattened_anonymized_image'] for img in res2[\"upload_subject_1\"]]\n",
    "flattened_stack_np = np.array(flattened_stack_list, dtype=np.float32)\n",
    "\n",
    "n_samples, n_features = flattened_stack_np.shape\n",
    "n_components_ratio = 0.8\n",
    "n_components = min(max(1, int(n_components_ratio * n_samples)), n_features)\n",
    "\n",
    "res3 = run_eigenface(flattened_stack_np, n_components)\n",
    "\n",
    "# Print result\n",
    "pca, mean_face, projection = res3 # Eingenface a disparue...\n",
    "print(\"n_components:\", n_components)\n",
    "mean_face"
   ],
   "id": "33ab58b4685e8806",
   "outputs": [
    {
     "name": "stdout",
     "output_type": "stream",
     "text": [
      "n_components: 8\n"
     ]
    },
    {
     "data": {
      "text/plain": [
       "array([[0.7939394 , 0.79964346, 0.7953654 , ..., 0.9868093 , 0.9853833 ,\n",
       "        0.9782531 ],\n",
       "       [0.9714795 , 0.9700535 , 0.9700535 , ..., 0.9843138 , 0.9853833 ,\n",
       "        0.9786096 ],\n",
       "       [0.9686275 , 0.96577543, 0.9729055 , ..., 0.9843138 , 0.9828877 ,\n",
       "        0.9771835 ],\n",
       "       ...,\n",
       "       [0.9472371 , 0.9401069 , 0.9329768 , ..., 0.9001782 , 0.9012478 ,\n",
       "        0.89696974],\n",
       "       [0.9386809 , 0.9329768 , 0.9286988 , ..., 0.9016043 , 0.8998217 ,\n",
       "        0.8987522 ],\n",
       "       [0.6905527 , 0.6877006 , 0.6862745 , ..., 0.6720143 , 0.6691622 ,\n",
       "        0.66631025]], dtype=float32)"
      ]
     },
     "execution_count": 5,
     "metadata": {},
     "output_type": "execute_result"
    }
   ],
   "execution_count": 5
  },
  {
   "metadata": {
    "ExecuteTime": {
     "end_time": "2025-04-08T08:34:55.288654Z",
     "start_time": "2025-04-08T08:34:55.271912Z"
    }
   },
   "cell_type": "code",
   "source": [
    "# Étape 4 : Ajout de bruit différentiel\n",
    "epsilon = 0.01\n",
    "res4 = run_add_noise(projection, epsilon, sensitivity=1.0)\n",
    "\n",
    "# Étape 5 : Reconstruction\n",
    "res5 = run_reconstruction(pca, res4, image_size)\n",
    "\n",
    "# Print result\n",
    "import base64\n",
    "from io import BytesIO\n",
    "from PIL import Image\n",
    "imgs = [Image.open(BytesIO(base64.b64decode(img))) for img in res5]\n",
    "print(len(imgs))\n",
    "imgs[0].show()\n",
    "res5"
   ],
   "id": "de2825f20a32deef",
   "outputs": [
    {
     "name": "stdout",
     "output_type": "stream",
     "text": [
      "11\n"
     ]
    },
    {
     "data": {
      "text/plain": [
       "['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',\n",
       " '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',\n",
       " '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',\n",
       " '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',\n",
       " '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',\n",
       " '/9j/4AAQSkZJRgABAQAAAQABAAD/2wBDAAgGBgcGBQgHBwcJCQgKDBQNDAsLDBkSEw8UHRofHh0aHBwgJC4nICIsIxwcKDcpLDAxNDQ0Hyc5PTgyPC4zNDL/wAALCABkAGQBAREA/8QAHwAAAQUBAQEBAQEAAAAAAAAAAAECAwQFBgcICQoL/8QAtRAAAgEDAwIEAwUFBAQAAAF9AQIDAAQRBRIhMUEGE1FhByJxFDKBkaEII0KxwRVS0fAkM2JyggkKFhcYGRolJicoKSo0NTY3ODk6Q0RFRkdISUpTVFVWV1hZWmNkZWZnaGlqc3R1dnd4eXqDhIWGh4iJipKTlJWWl5iZmqKjpKWmp6ipqrKztLW2t7i5usLDxMXGx8jJytLT1NXW19jZ2uHi4+Tl5ufo6erx8vP09fb3+Pn6/9oACAEBAAA/APVFns+hgi6f3BVmOWyY/wCph9vkFW40s2XIihJ6D5BzU5htFyTFD1xnYKfHDauBthiyDkfIKs5wc+3JoU9/wFOHWlqnJqUNvcXaXCyQQ2tulxJdzAJBtJfI3k4yojy3oGU96808TWZkvYdX1my1yPU7jQE07UbbTIYZY7gTCTfbwBmLGVG3SkqWASLnrz5heeILKLwr/Zuv2kesXltZHThc6fcb7e3AhWWzLFR5byo5njyjAhVlB3g88lG66BBHb3WiaZfzSbncXMlys1sVdozFIsciBWBjLYIzhwc84H0tSgkdKeJXXox/OlM8hGC5P40q6hHYI93d3Yt7SEb5ZXPAH9SegA5JOBXkd9q+qRwQahrevazHquyaOS6tHzChGf3a+UyhA5hxwCrNEx3EqwTofC/xYe3ij+1yGW1hMqm3EsjytkqVYmXcxI+f/loQA2MHAI2v+F0W8eoXkBtLbyggktXmmeHcdgzG5KEA784fhdpycbfmj1b4p+KbK9S2Xwnb24juCsks128iTohIcRHYvOcfNyB3U9uC1DxN4w1ibUYW1i4h0+7+0x/Y2CyBIpmJKbiuWwDtBPKjhdoJFZpn8WKIdutODavK1qyxIGthJH5bLE23MSbTgIhCjAIAIBGNr6alqV9LqGqr58h3NuiIDg+WEQGRgzuqhE4YknDchmZqw9QupdU1Ce+uY1SSZ9wjjBCRL0VEBJ2oqgKq9gAO1fUdLRVHWdVg0LRbnUp3iHljZCsrKBJK3CLyy5GeSAc7VbFeZeL/ABDKfD2nNPJcrd3oW/RXlVhFFtIV0CoNpclzjcxQIAMZwOK1bxPLr2oJd3SItykjAPExEaQbV8uCOPoioQ5GOu/nOMls9yWs/s8HltAZfPYrCqyscYxvIyV/2d2M84zzVZsWtkjbopC6sRG+12VQxHODlTkHjrgg4wQT6DputzeLvC8aTXJj1PTJENzNNKW81GbakpVQWbaMRsSpwJFcknipGAYbjG0Tk4eN1KtGw4KkHkEHjBoKnkdc8UySMSKUwCD3PNYk3h2CWTcowMY617nS0lYeuWlpquvaPps4aQRxm9kURBvlG8bCQhOyRggdXOxgoAw2N3jHi26k8SeObkM0l0rXX2SF7TM+6IPtBiXd8xblgAwDMxPGa9VX4ceD9M1HzNY1LU7m7uc/bbWbUQyTs2GYMyojuA4VgTjJUEjtXLeLvAl5oeoWyeG9NnuNOkieETWCz3Nww8pFf7R1RdxZwAgAILAjtXDx6raWmhLZvFHOXvPMfy7YLJ5eE6T7iwOEZQhRlHmMxyQoXY8G+IJLS1lN1pP9oaRauZLpRb58ppdqFlmGCpbywpRmCuAVPXI7HUbTT7HUYotPe3aKeLdstyZFXqY5GcYXdKoZgqgcITliSapHHCnv14pOTjAwf6UgzjAGcda9VpaSuW1m5K/ETQVitFka1tXuJZlhJKI6zoN7/wBwFQADjBc/3q5Lwz4ch8KeINWvdetZZU0yf7NpkxjJM1z85QiIAgOVj3rvZQoZG5Dq462503ULfSbPxC3kQ3M53S27QLJkBs4dmG7OMKdpXpwBVHw94x0/VTN4c1qa4hvLqRYLe6tYSA7EosbAjdsm35cMFCqVBGMAV5n4+trS18XX0trPPc28l3PGzy2xjMUschRo9xJ80hfLYuTubeC3zE1zDMHlTKbVycMDjHHr3r3K+U/8IJpjPJp91PY2FkFnh2MsZM6RtsdWYM3ylGYHHynG3cRWTMCs7gABRnAqE7tuCx3Z5pBHnkAn6GvVaKKxdSnWHxJAjLAq3OmNCMSjzHYS+ZgoDuACJKc429s5wDxUuljSPiaI3OY44p5klmupnxCbqdtzGUArgcHBKtjfuO8mu1lvLK8F5bvDf3CpIAGS2kMOCxVirYwQoG4kcEEbdx4rkNR0G00qXTfENnd2snlT21ykLSCJpSWDxDnkBsMMkYAVicBWqfxRrNvFep4l0fQ7bULm/PkRC8sjI0pKbAFQMjujxzSAviRW2xrgEA15ZrCtBdNby6JFpcq+W0tokMgZSASGJlZpFyH+6GCthTjIBr0vwPqPm/D2y02TUZ1ju9Ql0eFzFsMLT2+clUbDhZJJMbjyDn5eAK6P5lpBORjfErc+4pCDt56Y5xRtDcliO2BXqdFFc/quiTy+JrHWdifZxbSW6uCN3mLHcHaQSMKVlyCNxymCADmuYMunWnjvVbr+0Fga9Ebi8YyzCMJHGZEOzJwX3IV3KAu5QRgCtLVbf7BpUniC5mM6xm2EkKSzTQyI0qqcJLjYdwzwz/KpRshzS2dprGrwoYmkuJ5LuQXWn6tjyBG0jiOQZUknMajGGyWU/LtrE1PTr5YDc3msiygif/Qvs0XmQR7Y98TRyIwYKw24CISAVOOoGR8QhFezWWoJe2V3M1ottdXFmAPNuoSBK5woGCHTae6gYG3bnqrK4v8Awn4N0ezuJYoL62024l8ho2eWKaVy1u5RhwFkYISwIDsBgjLDOlVUKxqFxGgQAdsCoTkjpknvTJAu7JHJ5+lerCiis7W2W201tUMjGTTwWity2I5jIyIVJAJViMqrdFLkkEVwFjZ6hZ+NL1vMBktZZBi2mACmRSMMxIA2tJh/Ta3XHO83iK0ukjgbzrt7qFk8tLlbyOIsHQHdvAVizLkDfhY/uqWBKLpWpS+ErGeMSwQahp6LfWrRI3mxiGKIFcYIyillww5PzY+6MTxpNHeLZ2unG2RYUZrieMjykeNGcorNljIxCrg4xuQYJYkYd9o95qMGm2tvPGsV7eNBDG67VSVxACxYcnO6MYwcbMj7xrpvE6XNzr1ja3tpbwLBqF3dxRI25o0Llg/UkCQvlskjcmAE2kGqxySTjJNNJPA74pnlggFnIPpivUqWkNRz21veQNbXSb4H271+hBB98EA46HHPFef6CLTQvEsmjTwMtum5YhMQdwBwrcevBx6Gm32nWMnjm0k0wN9onEhOyURhGIIQDIIGX25O0kDJAJqaSLTXh1DUorq2+ym3RLkRyF1aOJIo41HmAkFSWPzqpO9PmBIYW9P1XTNe8OyWUVyLySOV0e5EHlGYg4RyOv8Aq1jHPPyjPtzyG1msVtbi3aSa6nSEqIxJIyA4IVSRk5YDA5OcDkin2s/224lvxBHBH5a21tHGDtESdCCwDEE5I3c4OO1TYAOOhH86awB4GT34oCgjnjHGM16fRRSE1xHjjTJrvU9KurIW5vpJlsVNyP3amUOiucc5UnIPODtODioIbmwuEg8zRroXlohaSzktZ1neQAMfmVC0eMxscYJU4+6xzR16+v7i0OrT6AdGiR2itbtb+SQeaJt7gOHVW3yJuB2nkFgc4Irae13pniWSS5nuGuLwkf6Q/mtIFwqSB9zj7u0Y3HGMZOKdqlve6fHJeNEGt9Vm+ywg4DRBWOXDcnDL50ZX5chiTkECrs20s2OwwB6Uw8HPoKYRjODjFRP1HXpXqJ460maM0hNcx43inXQ2voJHj+zEF3UlTGNykOGHKlXCHPbmuOtdQ8Z+Kr/UHf7K7wLKblXtlRHTI2wJIE3YcHADPhgGySM1b1W3l097W61KWwS4dmN35syrcT5dgrbWjQsmRtAUcADjCnGq6wXCQzxIBHHG0isPuooOcD6n+VY2qea8mh3enT399pwjubq5hYkJblArvIQQo+USYz3yFBJPNs8tkEMCu5SOhBphJKAc5YdAKGPGR9BUbNhiDtzXr14sMS4H3qzs0hNRzTRwRPLK6xxoCzuxwFHqTWJ4h1ea20drjTJ7lLqB1aeKOAO8cW4ZZ0dTs6ZXdjOGYAqNwxLTRJtSt7fVbPwtbvYyu7yQvcLtgO5hwJAmE4yBjjkYUBagv7m71BxKvhbUEt8gxRjT5do6dFC+tGuab4kOh3olsjpOmxxyGSWbDmVwxRUVFJIDOQA5AXB3ZIxmv4X1vUfDc9p9uuBHaRWsLwxiV0MksxlZA4IYFSvJKgNiOPGcEFmn293Fplv59vL5Yh3JcCNgrqu0N94AjazhDkDnpmpTkeo4xgU0+55xxVK483zflAIxXeya5dOxLLET9D/jTP7ZuP7kX5H/ABq3pmoS3eoQwyomxmAOAc/zryzxV4r1geJNT0cXK+TaXAtopPLXeAmRv6YEhIVt4AKlRs2DIO34F1Ga/wBE1bTbzFxBNdrLMZGbfK0yPv3MDn/livIweW56YyNcvr/R9S01rDULmLzre31JgX3DzjERkbgflCOU29CoAOQBUUnxq8QReYsWmaTGInVl2LOvKsCOkvT1HQjIOQSKzNP8TzatoraPFp1hp1haFrlIrONstKwK72Z2ZiQrEDnocc4XHp+m6ZZSv4vX7NGsMU89qkIGUCQQM0ZwcndulLZ9VUjGOcDRPFmsjxfBp5ut1vOoGHUNsIwQy543fIvJz0FXNUt4dN0mzaBMu2n6jMzOxOWtAVTjOBuwC4AGSMjbk58ubx9qnH+j2XP+w/8A8VTD4+1TP/HvZ/8AfDf/ABVf/9k=',\n",
       " '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',\n",
       " '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',\n",
       " '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',\n",
       " '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',\n",
       " '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']"
      ]
     },
     "execution_count": 7,
     "metadata": {},
     "output_type": "execute_result"
    }
   ],
   "execution_count": 7
  },
  {
   "metadata": {
    "ExecuteTime": {
     "end_time": "2025-04-02T20:00:14.024824Z",
     "start_time": "2025-04-02T20:00:13.997486Z"
    }
   },
   "cell_type": "code",
   "source": [
    "db = DatabaseController(r\"..\\..\\data\\database.db\")\n",
    "\n",
    "user_id = db.add_user(np.array(res5))\n",
    "print(f\"user_id: {user_id}\")\n",
    "\n",
    "user = db.get_user(user_id)\n",
    "\n",
    "base64_str = user[0]\n",
    "image_bytes = base64.b64decode(base64_str)\n",
    "image = Image.open(io.BytesIO(image_bytes))\n",
    "image.show()"
   ],
   "id": "64f96d3fa118ad7b",
   "outputs": [
    {
     "name": "stdout",
     "output_type": "stream",
     "text": [
      "Create db connection at: D:\\myDocs\\Apprentissage\\Isep\\Year_3\\Brno-Privacy_Preserving_Face_Recognition_Project\\data\\database.db\n",
      "user_id: 4\n"
     ]
    }
   ],
   "execution_count": 17
  }
 ],
 "metadata": {
  "kernelspec": {
   "display_name": "Python 3",
   "language": "python",
   "name": "python3"
  },
  "language_info": {
   "codemirror_mode": {
    "name": "ipython",
    "version": 2
   },
   "file_extension": ".py",
   "mimetype": "text/x-python",
   "name": "python",
   "nbconvert_exporter": "python",
   "pygments_lexer": "ipython2",
   "version": "2.7.6"
  }
 },
 "nbformat": 4,
 "nbformat_minor": 5
}
