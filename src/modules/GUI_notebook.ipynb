{
 "cells": [
  {
   "cell_type": "code",
   "id": "initial_id",
   "metadata": {
    "collapsed": true,
    "ExecuteTime": {
     "end_time": "2025-04-02T19:55:16.792709Z",
     "start_time": "2025-04-02T19:55:16.788211Z"
    }
   },
   "source": [
    "from anony_process_pipeline import *\n",
    "from src.modules.utils_image import pillow_image_to_bytes, numpy_image_to_pillow\n",
    "from database_controller import DatabaseController\n"
   ],
   "outputs": [],
   "execution_count": 20
  },
  {
   "metadata": {
    "ExecuteTime": {
     "end_time": "2025-04-02T19:55:16.827528Z",
     "start_time": "2025-04-02T19:55:16.819478Z"
    }
   },
   "cell_type": "code",
   "source": [
    "from werkzeug.datastructures import FileStorage\n",
    "import os\n",
    "\n",
    "def import_subject_images(ids):\n",
    "    image_folder = \"../../data/database\"\n",
    "    sujet = f\"subject_{ids}_\"\n",
    "    image_files = []\n",
    "    for filename in os.listdir(image_folder):\n",
    "        if filename.startswith(sujet):\n",
    "            chemin_fichier = f\"{image_folder}/{filename}\"\n",
    "            file = open(chemin_fichier, \"rb\")\n",
    "            file_storage = FileStorage(stream=file, filename=filename)\n",
    "            image_files.append(file_storage)\n",
    "    return image_files\n",
    "\n",
    "# Import images\n",
    "img_list = import_subject_images(3)\n",
    "\n",
    "# Print result\n",
    "img_list"
   ],
   "id": "7e695323243c89d0",
   "outputs": [
    {
     "data": {
      "text/plain": [
       "[<FileStorage: 'subject_3_10_surprised.jpg' (None)>,\n",
       " <FileStorage: 'subject_3_11_wink.jpg' (None)>,\n",
       " <FileStorage: 'subject_3_1_centerlight.jpg' (None)>,\n",
       " <FileStorage: 'subject_3_2_glasses.jpg' (None)>,\n",
       " <FileStorage: 'subject_3_3_happy.jpg' (None)>,\n",
       " <FileStorage: 'subject_3_4_leftlight.jpg' (None)>,\n",
       " <FileStorage: 'subject_3_5_noglasses.jpg' (None)>,\n",
       " <FileStorage: 'subject_3_6_normal.jpg' (None)>,\n",
       " <FileStorage: 'subject_3_7_rightlight.jpg' (None)>,\n",
       " <FileStorage: 'subject_3_8_sad.jpg' (None)>,\n",
       " <FileStorage: 'subject_3_9_sleepy.jpg' (None)>]"
      ]
     },
     "execution_count": 21,
     "metadata": {},
     "output_type": "execute_result"
    }
   ],
   "execution_count": 21
  },
  {
   "metadata": {
    "ExecuteTime": {
     "end_time": "2025-04-02T19:55:16.859591Z",
     "start_time": "2025-04-02T19:55:16.834599Z"
    }
   },
   "cell_type": "code",
   "source": [
    "# ---------------------------------------\n",
    "# Étape 1 : Preprocessing (Simplifiée)\n",
    "# ---------------------------------------\n",
    "res1 = run_preprocessing(filestorage_list=img_list)\n",
    "\n",
    "# IMG IMPORT ENDING: Realise images in storage ###\n",
    "for img_in_storage in img_list: ##################\n",
    "    img_in_storage.close() #######################\n",
    "##################################################\n",
    "\n",
    "# Print result\n",
    "res1"
   ],
   "id": "d7ef66e5da604307",
   "outputs": [
    {
     "name": "stderr",
     "output_type": "stream",
     "text": [
      "2025-04-02 21:55:16,835 - INFO - Exécution du pré-traitement standard...\n",
      "2025-04-02 21:55:16,836 - INFO - Traitement de 11 fichiers FileStorage.\n",
      "Preprocessing (FileStorage List): 100%|██████████| 11/11 [00:00<00:00, 828.63it/s]\n",
      "2025-04-02 21:55:16,852 - INFO - Pré-traitement terminé. 1 sujets traités.\n"
     ]
    },
    {
     "data": {
      "text/plain": [
       "{'1': [{'resized_image': <PIL.Image.Image image mode=RGB size=100x100>,\n",
       "   'grayscale_image': <PIL.Image.Image image mode=L size=100x100>,\n",
       "   'normalized_image': array([[0.81960784, 0.81960784, 0.81960784, ..., 1.        , 1.        ,\n",
       "           1.        ],\n",
       "          [1.        , 1.        , 1.        , ..., 1.        , 1.        ,\n",
       "           1.        ],\n",
       "          [1.        , 1.        , 1.        , ..., 1.        , 1.        ,\n",
       "           1.        ],\n",
       "          ...,\n",
       "          [1.        , 1.        , 1.        , ..., 1.        , 1.        ,\n",
       "           1.        ],\n",
       "          [1.        , 1.        , 1.        , ..., 1.        , 1.        ,\n",
       "           1.        ],\n",
       "          [0.73333333, 0.73333333, 0.73333333, ..., 0.73333333, 0.73333333,\n",
       "           0.73333333]]),\n",
       "   'flattened_image': array([0.81960784, 0.81960784, 0.81960784, ..., 0.73333333, 0.73333333,\n",
       "          0.73333333]),\n",
       "   'imageId': 'upload_img_0'},\n",
       "  {'resized_image': <PIL.Image.Image image mode=RGB size=100x100>,\n",
       "   'grayscale_image': <PIL.Image.Image image mode=L size=100x100>,\n",
       "   'normalized_image': array([[0.81960784, 0.81960784, 0.81960784, ..., 1.        , 1.        ,\n",
       "           1.        ],\n",
       "          [1.        , 1.        , 1.        , ..., 1.        , 1.        ,\n",
       "           1.        ],\n",
       "          [1.        , 1.        , 1.        , ..., 1.        , 1.        ,\n",
       "           1.        ],\n",
       "          ...,\n",
       "          [1.        , 1.        , 1.        , ..., 1.        , 1.        ,\n",
       "           1.        ],\n",
       "          [1.        , 1.        , 1.        , ..., 1.        , 1.        ,\n",
       "           1.        ],\n",
       "          [0.73333333, 0.73333333, 0.73333333, ..., 0.73333333, 0.73333333,\n",
       "           0.73333333]]),\n",
       "   'flattened_image': array([0.81960784, 0.81960784, 0.81960784, ..., 0.73333333, 0.73333333,\n",
       "          0.73333333]),\n",
       "   'imageId': 'upload_img_1'},\n",
       "  {'resized_image': <PIL.Image.Image image mode=RGB size=100x100>,\n",
       "   'grayscale_image': <PIL.Image.Image image mode=L size=100x100>,\n",
       "   'normalized_image': array([[0.81960784, 0.81960784, 0.81960784, ..., 1.        , 1.        ,\n",
       "           1.        ],\n",
       "          [1.        , 1.        , 1.        , ..., 1.        , 1.        ,\n",
       "           1.        ],\n",
       "          [1.        , 1.        , 1.        , ..., 1.        , 1.        ,\n",
       "           1.        ],\n",
       "          ...,\n",
       "          [1.        , 1.        , 1.        , ..., 1.        , 1.        ,\n",
       "           0.98823529],\n",
       "          [1.        , 1.        , 1.        , ..., 1.        , 1.        ,\n",
       "           1.        ],\n",
       "          [0.73333333, 0.73333333, 0.73333333, ..., 0.73333333, 0.73333333,\n",
       "           0.73333333]]),\n",
       "   'flattened_image': array([0.81960784, 0.81960784, 0.81960784, ..., 0.73333333, 0.73333333,\n",
       "          0.73333333]),\n",
       "   'imageId': 'upload_img_2'},\n",
       "  {'resized_image': <PIL.Image.Image image mode=RGB size=100x100>,\n",
       "   'grayscale_image': <PIL.Image.Image image mode=L size=100x100>,\n",
       "   'normalized_image': array([[0.81960784, 0.81960784, 0.81960784, ..., 1.        , 1.        ,\n",
       "           1.        ],\n",
       "          [1.        , 1.        , 1.        , ..., 1.        , 1.        ,\n",
       "           1.        ],\n",
       "          [1.        , 1.        , 1.        , ..., 1.        , 1.        ,\n",
       "           1.        ],\n",
       "          ...,\n",
       "          [1.        , 1.        , 1.        , ..., 1.        , 1.        ,\n",
       "           1.        ],\n",
       "          [1.        , 1.        , 1.        , ..., 1.        , 1.        ,\n",
       "           1.        ],\n",
       "          [0.73333333, 0.73333333, 0.73333333, ..., 0.73333333, 0.73333333,\n",
       "           0.73333333]]),\n",
       "   'flattened_image': array([0.81960784, 0.81960784, 0.81960784, ..., 0.73333333, 0.73333333,\n",
       "          0.73333333]),\n",
       "   'imageId': 'upload_img_3'},\n",
       "  {'resized_image': <PIL.Image.Image image mode=RGB size=100x100>,\n",
       "   'grayscale_image': <PIL.Image.Image image mode=L size=100x100>,\n",
       "   'normalized_image': array([[0.81960784, 0.81960784, 0.81960784, ..., 1.        , 1.        ,\n",
       "           1.        ],\n",
       "          [1.        , 1.        , 1.        , ..., 1.        , 1.        ,\n",
       "           1.        ],\n",
       "          [1.        , 1.        , 1.        , ..., 1.        , 1.        ,\n",
       "           1.        ],\n",
       "          ...,\n",
       "          [1.        , 1.        , 1.        , ..., 1.        , 1.        ,\n",
       "           1.        ],\n",
       "          [1.        , 1.        , 1.        , ..., 1.        , 1.        ,\n",
       "           1.        ],\n",
       "          [0.73333333, 0.73333333, 0.73333333, ..., 0.73333333, 0.73333333,\n",
       "           0.73333333]]),\n",
       "   'flattened_image': array([0.81960784, 0.81960784, 0.81960784, ..., 0.73333333, 0.73333333,\n",
       "          0.73333333]),\n",
       "   'imageId': 'upload_img_4'},\n",
       "  {'resized_image': <PIL.Image.Image image mode=RGB size=100x100>,\n",
       "   'grayscale_image': <PIL.Image.Image image mode=L size=100x100>,\n",
       "   'normalized_image': array([[0.81960784, 0.81960784, 0.81960784, ..., 0.89411765, 0.87843137,\n",
       "           0.77647059],\n",
       "          [1.        , 1.        , 1.        , ..., 0.84705882, 0.91372549,\n",
       "           0.84313725],\n",
       "          [1.        , 1.        , 1.        , ..., 0.84705882, 0.90588235,\n",
       "           0.90588235],\n",
       "          ...,\n",
       "          [1.        , 1.        , 1.        , ..., 0.09803922, 0.09803922,\n",
       "           0.09803922],\n",
       "          [1.        , 1.        , 1.        , ..., 0.09411765, 0.08627451,\n",
       "           0.08627451],\n",
       "          [0.73333333, 0.73333333, 0.73333333, ..., 0.15686275, 0.15686275,\n",
       "           0.15686275]]),\n",
       "   'flattened_image': array([0.81960784, 0.81960784, 0.81960784, ..., 0.15686275, 0.15686275,\n",
       "          0.15686275]),\n",
       "   'imageId': 'upload_img_5'},\n",
       "  {'resized_image': <PIL.Image.Image image mode=RGB size=100x100>,\n",
       "   'grayscale_image': <PIL.Image.Image image mode=L size=100x100>,\n",
       "   'normalized_image': array([[0.81960784, 0.81960784, 0.81960784, ..., 1.        , 1.        ,\n",
       "           1.        ],\n",
       "          [1.        , 1.        , 1.        , ..., 1.        , 1.        ,\n",
       "           1.        ],\n",
       "          [1.        , 1.        , 1.        , ..., 1.        , 1.        ,\n",
       "           1.        ],\n",
       "          ...,\n",
       "          [1.        , 1.        , 1.        , ..., 1.        , 1.        ,\n",
       "           1.        ],\n",
       "          [1.        , 1.        , 1.        , ..., 1.        , 1.        ,\n",
       "           1.        ],\n",
       "          [0.73333333, 0.73333333, 0.73333333, ..., 0.73333333, 0.73333333,\n",
       "           0.73333333]]),\n",
       "   'flattened_image': array([0.81960784, 0.81960784, 0.81960784, ..., 0.73333333, 0.73333333,\n",
       "          0.73333333]),\n",
       "   'imageId': 'upload_img_6'},\n",
       "  {'resized_image': <PIL.Image.Image image mode=RGB size=100x100>,\n",
       "   'grayscale_image': <PIL.Image.Image image mode=L size=100x100>,\n",
       "   'normalized_image': array([[0.81960784, 0.81960784, 0.81960784, ..., 1.        , 1.        ,\n",
       "           1.        ],\n",
       "          [1.        , 1.        , 1.        , ..., 1.        , 1.        ,\n",
       "           1.        ],\n",
       "          [1.        , 1.        , 1.        , ..., 1.        , 1.        ,\n",
       "           1.        ],\n",
       "          ...,\n",
       "          [1.        , 1.        , 1.        , ..., 1.        , 1.        ,\n",
       "           1.        ],\n",
       "          [1.        , 1.        , 1.        , ..., 1.        , 1.        ,\n",
       "           1.        ],\n",
       "          [0.73333333, 0.73333333, 0.73333333, ..., 0.73333333, 0.73333333,\n",
       "           0.73333333]]),\n",
       "   'flattened_image': array([0.81960784, 0.81960784, 0.81960784, ..., 0.73333333, 0.73333333,\n",
       "          0.73333333]),\n",
       "   'imageId': 'upload_img_7'},\n",
       "  {'resized_image': <PIL.Image.Image image mode=RGB size=100x100>,\n",
       "   'grayscale_image': <PIL.Image.Image image mode=L size=100x100>,\n",
       "   'normalized_image': array([[0.54117647, 0.60784314, 0.55686275, ..., 0.96470588, 0.96470588,\n",
       "           0.99607843],\n",
       "          [0.68627451, 0.67843137, 0.67843137, ..., 0.98823529, 0.93333333,\n",
       "           0.92156863],\n",
       "          [0.6627451 , 0.62352941, 0.70196078, ..., 0.98431373, 0.90588235,\n",
       "           0.85490196],\n",
       "          ...,\n",
       "          [0.42745098, 0.34901961, 0.2627451 , ..., 0.81568627, 0.81960784,\n",
       "           0.79607843],\n",
       "          [0.32941176, 0.2627451 , 0.21960784, ..., 0.83529412, 0.81960784,\n",
       "           0.81176471],\n",
       "          [0.26666667, 0.23529412, 0.22745098, ..., 0.63921569, 0.61176471,\n",
       "           0.58431373]]),\n",
       "   'flattened_image': array([0.54117647, 0.60784314, 0.55686275, ..., 0.63921569, 0.61176471,\n",
       "          0.58431373]),\n",
       "   'imageId': 'upload_img_8'},\n",
       "  {'resized_image': <PIL.Image.Image image mode=RGB size=100x100>,\n",
       "   'grayscale_image': <PIL.Image.Image image mode=L size=100x100>,\n",
       "   'normalized_image': array([[0.81960784, 0.81960784, 0.81960784, ..., 1.        , 1.        ,\n",
       "           1.        ],\n",
       "          [1.        , 1.        , 1.        , ..., 1.        , 1.        ,\n",
       "           1.        ],\n",
       "          [1.        , 1.        , 1.        , ..., 1.        , 1.        ,\n",
       "           1.        ],\n",
       "          ...,\n",
       "          [1.        , 1.        , 1.        , ..., 1.        , 1.        ,\n",
       "           1.        ],\n",
       "          [1.        , 1.        , 1.        , ..., 1.        , 1.        ,\n",
       "           1.        ],\n",
       "          [0.73333333, 0.73333333, 0.73333333, ..., 0.73333333, 0.73333333,\n",
       "           0.73333333]]),\n",
       "   'flattened_image': array([0.81960784, 0.81960784, 0.81960784, ..., 0.73333333, 0.73333333,\n",
       "          0.73333333]),\n",
       "   'imageId': 'upload_img_9'},\n",
       "  {'resized_image': <PIL.Image.Image image mode=RGB size=100x100>,\n",
       "   'grayscale_image': <PIL.Image.Image image mode=L size=100x100>,\n",
       "   'normalized_image': array([[0.81960784, 0.81960784, 0.81960784, ..., 1.        , 1.        ,\n",
       "           1.        ],\n",
       "          [1.        , 1.        , 1.        , ..., 1.        , 1.        ,\n",
       "           1.        ],\n",
       "          [1.        , 1.        , 1.        , ..., 1.        , 1.        ,\n",
       "           1.        ],\n",
       "          ...,\n",
       "          [1.        , 1.        , 1.        , ..., 1.        , 1.        ,\n",
       "           1.        ],\n",
       "          [1.        , 1.        , 1.        , ..., 1.        , 1.        ,\n",
       "           1.        ],\n",
       "          [0.73333333, 0.73333333, 0.73333333, ..., 0.73333333, 0.73333333,\n",
       "           0.73333333]]),\n",
       "   'flattened_image': array([0.81960784, 0.81960784, 0.81960784, ..., 0.73333333, 0.73333333,\n",
       "          0.73333333]),\n",
       "   'imageId': 'upload_img_10'}]}"
      ]
     },
     "execution_count": 22,
     "metadata": {},
     "output_type": "execute_result"
    }
   ],
   "execution_count": 22
  },
  {
   "metadata": {
    "ExecuteTime": {
     "end_time": "2025-04-02T19:55:16.885245Z",
     "start_time": "2025-04-02T19:55:16.873751Z"
    }
   },
   "cell_type": "code",
   "source": [
    "# ---------------------------------------\n",
    "# Étape 2 : K-Same-Pixel (Nouvelle Fonction Modulaire)\n",
    "# ---------------------------------------\n",
    "k_same_k_value = 4\n",
    "res2 = run_k_same_anonymization(res1, k_same_k_value)\n",
    "\n",
    "# Print result\n",
    "res2"
   ],
   "id": "5dc55ab02b119261",
   "outputs": [
    {
     "name": "stderr",
     "output_type": "stream",
     "text": [
      "2025-04-02 21:55:16,875 - INFO - Application de K-Same-Pixel avec k=4...\n",
      "K-Same Pixel: 100%|██████████| 1/1 [00:00<00:00, 1000.79it/s]\n",
      "2025-04-02 21:55:16,879 - INFO - Traitement K-Same-Pixel terminé.\n"
     ]
    },
    {
     "data": {
      "text/plain": [
       "{'1': [array([[209, 209, 209, ..., 255, 255, 255],\n",
       "         [255, 255, 255, ..., 255, 255, 255],\n",
       "         [255, 255, 255, ..., 255, 255, 255],\n",
       "         ...,\n",
       "         [255, 255, 255, ..., 255, 255, 254],\n",
       "         [255, 255, 255, ..., 255, 255, 255],\n",
       "         [187, 187, 187, ..., 187, 187, 187]], dtype=uint8),\n",
       "  array([[191, 195, 192, ..., 246, 245, 240],\n",
       "         [235, 234, 234, ..., 244, 245, 240],\n",
       "         [233, 231, 236, ..., 244, 243, 239],\n",
       "         ...,\n",
       "         [218, 213, 208, ..., 185, 186, 184],\n",
       "         [212, 208, 205, ..., 186, 185, 184],\n",
       "         [157, 155, 154, ..., 144, 142, 140]], dtype=uint8),\n",
       "  array([[209, 209, 209, ..., 255, 255, 255],\n",
       "         [255, 255, 255, ..., 255, 255, 255],\n",
       "         [255, 255, 255, ..., 255, 255, 255],\n",
       "         ...,\n",
       "         [255, 255, 255, ..., 255, 255, 254],\n",
       "         [255, 255, 255, ..., 255, 255, 255],\n",
       "         [187, 187, 187, ..., 187, 187, 187]], dtype=uint8),\n",
       "  array([[191, 195, 192, ..., 252, 252, 254],\n",
       "         [235, 234, 234, ..., 254, 250, 250],\n",
       "         [233, 231, 236, ..., 254, 249, 245],\n",
       "         ...,\n",
       "         [218, 213, 208, ..., 243, 243, 241],\n",
       "         [212, 208, 205, ..., 244, 243, 243],\n",
       "         [157, 155, 154, ..., 181, 179, 177]], dtype=uint8),\n",
       "  array([[209, 209, 209, ..., 255, 255, 255],\n",
       "         [255, 255, 255, ..., 255, 255, 255],\n",
       "         [255, 255, 255, ..., 255, 255, 255],\n",
       "         ...,\n",
       "         [255, 255, 255, ..., 255, 255, 255],\n",
       "         [255, 255, 255, ..., 255, 255, 255],\n",
       "         [187, 187, 187, ..., 187, 187, 187]], dtype=uint8),\n",
       "  array([[209, 209, 209, ..., 248, 247, 240],\n",
       "         [255, 255, 255, ..., 245, 249, 245],\n",
       "         [255, 255, 255, ..., 245, 249, 249],\n",
       "         ...,\n",
       "         [255, 255, 255, ..., 197, 197, 196],\n",
       "         [255, 255, 255, ..., 197, 196, 196],\n",
       "         [187, 187, 187, ..., 150, 150, 150]], dtype=uint8),\n",
       "  array([[209, 209, 209, ..., 255, 255, 255],\n",
       "         [255, 255, 255, ..., 255, 255, 255],\n",
       "         [255, 255, 255, ..., 255, 255, 255],\n",
       "         ...,\n",
       "         [255, 255, 255, ..., 255, 255, 255],\n",
       "         [255, 255, 255, ..., 255, 255, 255],\n",
       "         [187, 187, 187, ..., 187, 187, 187]], dtype=uint8),\n",
       "  array([[209, 209, 209, ..., 248, 247, 240],\n",
       "         [255, 255, 255, ..., 245, 249, 245],\n",
       "         [255, 255, 255, ..., 245, 249, 249],\n",
       "         ...,\n",
       "         [255, 255, 255, ..., 197, 197, 197],\n",
       "         [255, 255, 255, ..., 197, 196, 196],\n",
       "         [187, 187, 187, ..., 150, 150, 150]], dtype=uint8),\n",
       "  array([[191, 195, 192, ..., 246, 245, 240],\n",
       "         [235, 234, 234, ..., 244, 245, 240],\n",
       "         [233, 231, 236, ..., 244, 243, 239],\n",
       "         ...,\n",
       "         [218, 213, 208, ..., 185, 186, 184],\n",
       "         [212, 208, 205, ..., 186, 185, 184],\n",
       "         [157, 155, 154, ..., 144, 142, 140]], dtype=uint8),\n",
       "  array([[209, 209, 209, ..., 255, 255, 255],\n",
       "         [255, 255, 255, ..., 255, 255, 255],\n",
       "         [255, 255, 255, ..., 255, 255, 255],\n",
       "         ...,\n",
       "         [255, 255, 255, ..., 255, 255, 255],\n",
       "         [255, 255, 255, ..., 255, 255, 255],\n",
       "         [187, 187, 187, ..., 187, 187, 187]], dtype=uint8),\n",
       "  array([[209, 209, 209, ..., 255, 255, 255],\n",
       "         [255, 255, 255, ..., 255, 255, 255],\n",
       "         [255, 255, 255, ..., 255, 255, 255],\n",
       "         ...,\n",
       "         [255, 255, 255, ..., 255, 255, 255],\n",
       "         [255, 255, 255, ..., 255, 255, 255],\n",
       "         [187, 187, 187, ..., 187, 187, 187]], dtype=uint8)]}"
      ]
     },
     "execution_count": 23,
     "metadata": {},
     "output_type": "execute_result"
    }
   ],
   "execution_count": 23
  },
  {
   "metadata": {
    "ExecuteTime": {
     "end_time": "2025-04-02T19:55:16.945961Z",
     "start_time": "2025-04-02T19:55:16.927934Z"
    }
   },
   "cell_type": "code",
   "source": [
    "# ---------------------------------------\n",
    "# Étape 3 : PEEP Eigenface\n",
    "# ---------------------------------------\n",
    "n_components_ratio = 0.9\n",
    "user = list(res1.keys())[0]\n",
    "images = res1[user] # keys: (resized_image, grayscale_image, normalized_image, flattened_image)\n",
    "flattened_stack = np.array([img['flattened_image'] for img in images])\n",
    "\n",
    "n_samples, n_features = flattened_stack.shape\n",
    "n_components = min(max(1, int(n_components_ratio * n_samples)), n_features, n_samples) # Assurer >= 1\n",
    "res3 = run_eigenface(flattened_stack, 4)\n",
    "\n",
    "# Print result\n",
    "pca, mean_face, projection = res3 # Eingenface a disparue...\n",
    "print(\"n_components:\", n_components)\n",
    "res3"
   ],
   "id": "33ab58b4685e8806",
   "outputs": [
    {
     "name": "stderr",
     "output_type": "stream",
     "text": [
      "2025-04-02 21:55:16,930 - DEBUG - Calcul Eigenfaces avec n_components=4\n"
     ]
    },
    {
     "name": "stdout",
     "output_type": "stream",
     "text": [
      "n_components: 9\n"
     ]
    },
    {
     "data": {
      "text/plain": [
       "(PCA(n_components=4),\n",
       " array([[0.7942959 , 0.80035651, 0.79572193, ..., 0.98716578, 0.98573975,\n",
       "         0.97932264],\n",
       "        [0.9714795 , 0.97076649, 0.97076649, ..., 0.98502674, 0.98609626,\n",
       "         0.97860963],\n",
       "        [0.96934046, 0.9657754 , 0.97290553, ..., 0.98467023, 0.9828877 ,\n",
       "         0.97825312],\n",
       "        ...,\n",
       "        [0.94795009, 0.94081996, 0.93297683, ..., 0.90124777, 0.90160428,\n",
       "         0.89839572],\n",
       "        [0.93903743, 0.93297683, 0.92905526, ..., 0.9026738 , 0.90053476,\n",
       "         0.89982175],\n",
       "        [0.69090909, 0.68805704, 0.68734403, ..., 0.67237077, 0.66987522,\n",
       "         0.66737968]]),\n",
       " array([[  8.71511556,  -3.65490237,  -7.50013985,  13.3561612 ],\n",
       "        [  7.82371597,  -0.73279636,  -1.57119747,  -3.34767061],\n",
       "        [ -5.10157982,   5.933605  ,  13.03178282,   3.81468684],\n",
       "        [ -0.04764854,   3.48412747,  12.45421854,   1.29498873],\n",
       "        [  8.79449306,  -0.93757355,  -2.20666091,  -3.51201188],\n",
       "        [-26.73328319,  27.6321078 ,  -6.93863203,  -0.69504606],\n",
       "        [  9.46337868,  -0.88573873,  -2.45088113,  -2.30966492],\n",
       "        [  9.46337868,  -0.88573873,  -2.45088113,  -2.30966492],\n",
       "        [-28.41025716, -29.42548463,  -1.21325936,  -1.00278734],\n",
       "        [  7.74196461,  -0.21524605,  -0.24775197,  -1.26366732],\n",
       "        [  8.29072216,  -0.31235984,  -0.90659751,  -4.02532372]]))"
      ]
     },
     "execution_count": 24,
     "metadata": {},
     "output_type": "execute_result"
    }
   ],
   "execution_count": 24
  },
  {
   "metadata": {
    "ExecuteTime": {
     "end_time": "2025-04-02T19:55:16.990726Z",
     "start_time": "2025-04-02T19:55:16.969047Z"
    }
   },
   "cell_type": "code",
   "source": [
    "# Étape 4 : Ajout de bruit différentiel\n",
    "epsilon = 0.01\n",
    "res4 = run_add_noise(projection, epsilon, sensitivity=1.0)\n",
    "\n",
    "# Étape 5 : Reconstruction\n",
    "res5 = run_reconstruction(pca, res4)\n",
    "\n",
    "# Print result\n",
    "import base64\n",
    "from io import BytesIO\n",
    "from PIL import Image\n",
    "imgs = [Image.open(BytesIO(base64.b64decode(img))) for img in res5]\n",
    "print(len(imgs))\n",
    "imgs[0].show()\n",
    "res5"
   ],
   "id": "de2825f20a32deef",
   "outputs": [
    {
     "name": "stderr",
     "output_type": "stream",
     "text": [
      "2025-04-02 21:55:16,971 - DEBUG - Ajout bruit Laplacien (epsilon=0.01, sensitivity=1.0)\n",
      "2025-04-02 21:55:16,972 - DEBUG - Reconstruction des images depuis projection bruitée...\n"
     ]
    },
    {
     "name": "stdout",
     "output_type": "stream",
     "text": [
      "11\n"
     ]
    },
    {
     "data": {
      "text/plain": [
       "['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',\n",
       " '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',\n",
       " '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',\n",
       " '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',\n",
       " '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',\n",
       " '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',\n",
       " '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',\n",
       " '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',\n",
       " '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',\n",
       " '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',\n",
       " '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']"
      ]
     },
     "execution_count": 25,
     "metadata": {},
     "output_type": "execute_result"
    }
   ],
   "execution_count": 25
  },
  {
   "metadata": {
    "ExecuteTime": {
     "end_time": "2025-04-02T19:55:17.093756Z",
     "start_time": "2025-04-02T19:55:17.060869Z"
    }
   },
   "cell_type": "code",
   "source": [
    "db = DatabaseController(r\"..\\..\\data\\database.db\")\n",
    "\n",
    "user_id = db.add_user(np.array(res5))\n",
    "print(f\"user_id: {user_id}\")\n",
    "\n",
    "user = db.get_user(user_id)\n",
    "\n",
    "base64_str = user[0]\n",
    "image_bytes = base64.b64decode(base64_str)\n",
    "image = Image.open(io.BytesIO(image_bytes))\n",
    "image.show()"
   ],
   "id": "64f96d3fa118ad7b",
   "outputs": [
    {
     "name": "stdout",
     "output_type": "stream",
     "text": [
      "Create db connection at: D:\\myDocs\\Apprentissage\\Isep\\Year_3\\Brno-Privacy_Preserving_Face_Recognition_Project\\data\\database.db\n",
      "user_id: 3\n"
     ]
    }
   ],
   "execution_count": 26
  }
 ],
 "metadata": {
  "kernelspec": {
   "display_name": "Python 3",
   "language": "python",
   "name": "python3"
  },
  "language_info": {
   "codemirror_mode": {
    "name": "ipython",
    "version": 2
   },
   "file_extension": ".py",
   "mimetype": "text/x-python",
   "name": "python",
   "nbconvert_exporter": "python",
   "pygments_lexer": "ipython2",
   "version": "2.7.6"
  }
 },
 "nbformat": 4,
 "nbformat_minor": 5
}
