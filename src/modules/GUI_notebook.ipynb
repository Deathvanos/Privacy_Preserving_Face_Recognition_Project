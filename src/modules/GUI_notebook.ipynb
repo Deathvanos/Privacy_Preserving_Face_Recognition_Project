{
 "cells": [
  {
   "cell_type": "code",
   "id": "initial_id",
   "metadata": {
    "collapsed": true,
    "ExecuteTime": {
     "end_time": "2025-04-08T10:08:48.886625Z",
     "start_time": "2025-04-08T10:08:47.641776Z"
    }
   },
   "source": [
    "import numpy as np\n",
    "\n",
    "from anony_process_pipeline import *\n",
    "from src.modules.utils_image import pillow_image_to_bytes, numpy_image_to_pillow\n",
    "from database_controller import DatabaseController\n"
   ],
   "outputs": [
    {
     "name": "stdout",
     "output_type": "stream",
     "text": [
      "Configuration chargée et vérifiée.\n"
     ]
    }
   ],
   "execution_count": 1
  },
  {
   "metadata": {
    "ExecuteTime": {
     "end_time": "2025-04-08T10:08:48.905021Z",
     "start_time": "2025-04-08T10:08:48.897237Z"
    }
   },
   "cell_type": "code",
   "source": [
    "from werkzeug.datastructures import FileStorage\n",
    "import os\n",
    "\n",
    "def import_subject_images(ids):\n",
    "    image_folder = \"../../data/yalefaces\"\n",
    "    sujet = f\"subject0{ids}_\"\n",
    "    image_files = []\n",
    "    for filename in os.listdir(image_folder):\n",
    "        if filename.startswith(sujet):\n",
    "            chemin_fichier = f\"{image_folder}/{filename}\"\n",
    "            file = open(chemin_fichier, \"rb\")\n",
    "            file_storage = FileStorage(stream=file, filename=filename)\n",
    "            image_files.append(file_storage)\n",
    "    return image_files\n",
    "\n",
    "# Import images\n",
    "img_list = import_subject_images(3)\n",
    "\n",
    "# Print result\n",
    "img_list"
   ],
   "id": "7e695323243c89d0",
   "outputs": [
    {
     "data": {
      "text/plain": [
       "[<FileStorage: 'subject03_centerlight.png' (None)>,\n",
       " <FileStorage: 'subject03_glasses.png' (None)>,\n",
       " <FileStorage: 'subject03_happy.png' (None)>,\n",
       " <FileStorage: 'subject03_leftlight.png' (None)>,\n",
       " <FileStorage: 'subject03_noglasses.png' (None)>,\n",
       " <FileStorage: 'subject03_normal.png' (None)>,\n",
       " <FileStorage: 'subject03_rightlight.png' (None)>,\n",
       " <FileStorage: 'subject03_sad.png' (None)>,\n",
       " <FileStorage: 'subject03_sleepy.png' (None)>,\n",
       " <FileStorage: 'subject03_surprised.png' (None)>,\n",
       " <FileStorage: 'subject03_wink.png' (None)>]"
      ]
     },
     "execution_count": 2,
     "metadata": {},
     "output_type": "execute_result"
    }
   ],
   "execution_count": 2
  },
  {
   "metadata": {
    "ExecuteTime": {
     "end_time": "2025-04-08T10:08:57.904849Z",
     "start_time": "2025-04-08T10:08:57.860489Z"
    }
   },
   "cell_type": "code",
   "source": [
    "# ---------------------------------------\n",
    "# Étape 1 : Preprocessing (Simplifiée)\n",
    "# ---------------------------------------\n",
    "image_size = (50, 50)\n",
    "res1, image_size = run_preprocessing(filestorage_list=img_list, image_size_override=image_size)\n",
    "\n",
    "# IMG IMPORT ENDING: Realise images in storage ###\n",
    "for img_in_storage in img_list: ##################\n",
    "    img_in_storage.close() #######################\n",
    "##################################################\n",
    "\n",
    "# Print result\n",
    "res1"
   ],
   "id": "d7ef66e5da604307",
   "outputs": [
    {
     "name": "stderr",
     "output_type": "stream",
     "text": [
      "2025-04-08 12:08:57,862 - INFO - Exécution du pré-traitement standard avec IMAGE_SIZE=(50, 50)...\n",
      "2025-04-08 12:08:57,863 - INFO - Traitement de 11 fichiers FileStorage.\n",
      "Preprocessing (FileStorage List): 100%|██████████| 11/11 [00:00<00:00, 422.50it/s]\n",
      "2025-04-08 12:08:57,893 - INFO - Pré-traitement terminé. 11 images traitées pour 1 sujets.\n"
     ]
    },
    {
     "data": {
      "text/plain": [
       "{'upload_subject_1': [{'resized_image': <PIL.Image.Image image mode=RGB size=50x50>,\n",
       "   'grayscale_image': <PIL.Image.Image image mode=L size=50x50>,\n",
       "   'normalized_image': array([[0.92156863, 0.92156863, 0.92156863, ..., 1.        , 1.        ,\n",
       "           1.        ],\n",
       "          [1.        , 1.        , 1.        , ..., 1.        , 1.        ,\n",
       "           1.        ],\n",
       "          [1.        , 1.        , 1.        , ..., 1.        , 1.        ,\n",
       "           1.        ],\n",
       "          ...,\n",
       "          [1.        , 1.        , 1.        , ..., 1.        , 1.        ,\n",
       "           1.        ],\n",
       "          [1.        , 1.        , 1.        , ..., 1.        , 1.        ,\n",
       "           1.        ],\n",
       "          [0.88627451, 0.88627451, 0.88627451, ..., 0.88627451, 0.88627451,\n",
       "           0.88627451]]),\n",
       "   'imageId': 'upload_img_0'},\n",
       "  {'resized_image': <PIL.Image.Image image mode=RGB size=50x50>,\n",
       "   'grayscale_image': <PIL.Image.Image image mode=L size=50x50>,\n",
       "   'normalized_image': array([[0.92156863, 0.92156863, 0.92156863, ..., 1.        , 1.        ,\n",
       "           1.        ],\n",
       "          [1.        , 1.        , 1.        , ..., 1.        , 1.        ,\n",
       "           1.        ],\n",
       "          [1.        , 1.        , 1.        , ..., 1.        , 1.        ,\n",
       "           1.        ],\n",
       "          ...,\n",
       "          [1.        , 1.        , 1.        , ..., 1.        , 1.        ,\n",
       "           1.        ],\n",
       "          [1.        , 1.        , 1.        , ..., 1.        , 1.        ,\n",
       "           1.        ],\n",
       "          [0.88627451, 0.88627451, 0.88627451, ..., 0.88627451, 0.88627451,\n",
       "           0.88627451]]),\n",
       "   'imageId': 'upload_img_1'},\n",
       "  {'resized_image': <PIL.Image.Image image mode=RGB size=50x50>,\n",
       "   'grayscale_image': <PIL.Image.Image image mode=L size=50x50>,\n",
       "   'normalized_image': array([[0.92156863, 0.92156863, 0.92156863, ..., 1.        , 1.        ,\n",
       "           1.        ],\n",
       "          [1.        , 1.        , 1.        , ..., 1.        , 1.        ,\n",
       "           1.        ],\n",
       "          [1.        , 1.        , 1.        , ..., 1.        , 1.        ,\n",
       "           1.        ],\n",
       "          ...,\n",
       "          [1.        , 1.        , 1.        , ..., 1.        , 1.        ,\n",
       "           1.        ],\n",
       "          [1.        , 1.        , 1.        , ..., 1.        , 1.        ,\n",
       "           1.        ],\n",
       "          [0.88627451, 0.88627451, 0.88627451, ..., 0.88627451, 0.88627451,\n",
       "           0.88627451]]),\n",
       "   'imageId': 'upload_img_2'},\n",
       "  {'resized_image': <PIL.Image.Image image mode=RGB size=50x50>,\n",
       "   'grayscale_image': <PIL.Image.Image image mode=L size=50x50>,\n",
       "   'normalized_image': array([[0.92156863, 0.92156863, 0.92156863, ..., 0.89803922, 0.90588235,\n",
       "           0.85490196],\n",
       "          [1.        , 1.        , 1.        , ..., 0.90196078, 0.85882353,\n",
       "           0.90980392],\n",
       "          [1.        , 1.        , 1.        , ..., 0.9254902 , 0.85882353,\n",
       "           0.90196078],\n",
       "          ...,\n",
       "          [1.        , 1.        , 1.        , ..., 0.09803922, 0.10196078,\n",
       "           0.14117647],\n",
       "          [1.        , 1.        , 1.        , ..., 0.09411765, 0.09411765,\n",
       "           0.10196078],\n",
       "          [0.88627451, 0.88627451, 0.88627451, ..., 0.12156863, 0.12156863,\n",
       "           0.12156863]]),\n",
       "   'imageId': 'upload_img_3'},\n",
       "  {'resized_image': <PIL.Image.Image image mode=RGB size=50x50>,\n",
       "   'grayscale_image': <PIL.Image.Image image mode=L size=50x50>,\n",
       "   'normalized_image': array([[0.92156863, 0.92156863, 0.92156863, ..., 1.        , 1.        ,\n",
       "           1.        ],\n",
       "          [1.        , 1.        , 1.        , ..., 1.        , 1.        ,\n",
       "           1.        ],\n",
       "          [1.        , 1.        , 1.        , ..., 1.        , 1.        ,\n",
       "           1.        ],\n",
       "          ...,\n",
       "          [1.        , 1.        , 1.        , ..., 1.        , 1.        ,\n",
       "           1.        ],\n",
       "          [1.        , 1.        , 1.        , ..., 1.        , 1.        ,\n",
       "           1.        ],\n",
       "          [0.88627451, 0.88627451, 0.88627451, ..., 0.88627451, 0.88627451,\n",
       "           0.88627451]]),\n",
       "   'imageId': 'upload_img_4'},\n",
       "  {'resized_image': <PIL.Image.Image image mode=RGB size=50x50>,\n",
       "   'grayscale_image': <PIL.Image.Image image mode=L size=50x50>,\n",
       "   'normalized_image': array([[0.92156863, 0.92156863, 0.92156863, ..., 1.        , 1.        ,\n",
       "           1.        ],\n",
       "          [1.        , 1.        , 1.        , ..., 1.        , 1.        ,\n",
       "           1.        ],\n",
       "          [1.        , 1.        , 1.        , ..., 1.        , 1.        ,\n",
       "           1.        ],\n",
       "          ...,\n",
       "          [1.        , 1.        , 1.        , ..., 1.        , 1.        ,\n",
       "           1.        ],\n",
       "          [1.        , 1.        , 1.        , ..., 1.        , 1.        ,\n",
       "           1.        ],\n",
       "          [0.88627451, 0.88627451, 0.88627451, ..., 0.88627451, 0.88627451,\n",
       "           0.88627451]]),\n",
       "   'imageId': 'upload_img_5'},\n",
       "  {'resized_image': <PIL.Image.Image image mode=RGB size=50x50>,\n",
       "   'grayscale_image': <PIL.Image.Image image mode=L size=50x50>,\n",
       "   'normalized_image': array([[0.63137255, 0.64705882, 0.6745098 , ..., 0.98039216, 0.95686275,\n",
       "           0.94901961],\n",
       "          [0.63921569, 0.67058824, 0.67843137, ..., 0.93333333, 0.97647059,\n",
       "           0.9254902 ],\n",
       "          [0.48235294, 0.4745098 , 0.51764706, ..., 0.96470588, 0.98039216,\n",
       "           0.91372549],\n",
       "          ...,\n",
       "          [0.58823529, 0.44313725, 0.27058824, ..., 0.8627451 , 0.85882353,\n",
       "           0.82745098],\n",
       "          [0.42352941, 0.27058824, 0.2       , ..., 0.84313725, 0.85098039,\n",
       "           0.81176471],\n",
       "          [0.27058824, 0.21960784, 0.20392157, ..., 0.7372549 , 0.7372549 ,\n",
       "           0.71764706]]),\n",
       "   'imageId': 'upload_img_6'},\n",
       "  {'resized_image': <PIL.Image.Image image mode=RGB size=50x50>,\n",
       "   'grayscale_image': <PIL.Image.Image image mode=L size=50x50>,\n",
       "   'normalized_image': array([[0.92156863, 0.92156863, 0.92156863, ..., 1.        , 1.        ,\n",
       "           1.        ],\n",
       "          [1.        , 1.        , 1.        , ..., 1.        , 1.        ,\n",
       "           1.        ],\n",
       "          [1.        , 1.        , 1.        , ..., 1.        , 1.        ,\n",
       "           1.        ],\n",
       "          ...,\n",
       "          [1.        , 1.        , 1.        , ..., 1.        , 1.        ,\n",
       "           1.        ],\n",
       "          [1.        , 1.        , 1.        , ..., 1.        , 1.        ,\n",
       "           1.        ],\n",
       "          [0.88627451, 0.88627451, 0.88627451, ..., 0.88627451, 0.88627451,\n",
       "           0.88627451]]),\n",
       "   'imageId': 'upload_img_7'},\n",
       "  {'resized_image': <PIL.Image.Image image mode=RGB size=50x50>,\n",
       "   'grayscale_image': <PIL.Image.Image image mode=L size=50x50>,\n",
       "   'normalized_image': array([[0.92156863, 0.92156863, 0.92156863, ..., 1.        , 1.        ,\n",
       "           1.        ],\n",
       "          [1.        , 1.        , 1.        , ..., 1.        , 1.        ,\n",
       "           1.        ],\n",
       "          [1.        , 1.        , 1.        , ..., 1.        , 1.        ,\n",
       "           1.        ],\n",
       "          ...,\n",
       "          [1.        , 1.        , 1.        , ..., 1.        , 1.        ,\n",
       "           1.        ],\n",
       "          [1.        , 1.        , 1.        , ..., 1.        , 1.        ,\n",
       "           1.        ],\n",
       "          [0.88627451, 0.88627451, 0.88627451, ..., 0.88627451, 0.88627451,\n",
       "           0.88627451]]),\n",
       "   'imageId': 'upload_img_8'},\n",
       "  {'resized_image': <PIL.Image.Image image mode=RGB size=50x50>,\n",
       "   'grayscale_image': <PIL.Image.Image image mode=L size=50x50>,\n",
       "   'normalized_image': array([[0.92156863, 0.92156863, 0.92156863, ..., 1.        , 1.        ,\n",
       "           1.        ],\n",
       "          [1.        , 1.        , 1.        , ..., 1.        , 1.        ,\n",
       "           1.        ],\n",
       "          [1.        , 1.        , 1.        , ..., 1.        , 1.        ,\n",
       "           1.        ],\n",
       "          ...,\n",
       "          [1.        , 1.        , 1.        , ..., 1.        , 1.        ,\n",
       "           1.        ],\n",
       "          [1.        , 1.        , 1.        , ..., 1.        , 1.        ,\n",
       "           1.        ],\n",
       "          [0.88627451, 0.88627451, 0.88627451, ..., 0.88627451, 0.88627451,\n",
       "           0.88627451]]),\n",
       "   'imageId': 'upload_img_9'},\n",
       "  {'resized_image': <PIL.Image.Image image mode=RGB size=50x50>,\n",
       "   'grayscale_image': <PIL.Image.Image image mode=L size=50x50>,\n",
       "   'normalized_image': array([[0.92156863, 0.92156863, 0.92156863, ..., 1.        , 1.        ,\n",
       "           1.        ],\n",
       "          [1.        , 1.        , 1.        , ..., 1.        , 1.        ,\n",
       "           1.        ],\n",
       "          [1.        , 1.        , 1.        , ..., 1.        , 1.        ,\n",
       "           1.        ],\n",
       "          ...,\n",
       "          [1.        , 1.        , 1.        , ..., 1.        , 1.        ,\n",
       "           1.        ],\n",
       "          [1.        , 1.        , 1.        , ..., 1.        , 1.        ,\n",
       "           1.        ],\n",
       "          [0.88627451, 0.88627451, 0.88627451, ..., 0.88627451, 0.88627451,\n",
       "           0.88627451]]),\n",
       "   'imageId': 'upload_img_10'}]}"
      ]
     },
     "execution_count": 3,
     "metadata": {},
     "output_type": "execute_result"
    }
   ],
   "execution_count": 3
  },
  {
   "metadata": {
    "ExecuteTime": {
     "end_time": "2025-04-08T10:09:08.150225Z",
     "start_time": "2025-04-08T10:09:08.140048Z"
    }
   },
   "cell_type": "code",
   "source": [
    "# ---------------------------------------\n",
    "# Étape 2 : K-Same-Pixel (Nouvelle Fonction Modulaire)\n",
    "# ---------------------------------------\n",
    "k_same_k_value = 4\n",
    "res2 = run_k_same_anonymization(res1, k_same_k_value)\n",
    "\n",
    "# Print result\n",
    "res2\n",
    "# [img['flattened_anonymized_image'] for img in res2[\"upload_subject_1\"]]"
   ],
   "id": "5dc55ab02b119261",
   "outputs": [
    {
     "name": "stderr",
     "output_type": "stream",
     "text": [
      "2025-04-08 12:09:08,142 - INFO - Application de K-Same-Pixel avec k=4...\n",
      "K-Same Pixel: 100%|██████████| 1/1 [00:00<00:00, 997.46it/s]\n",
      "2025-04-08 12:09:08,146 - INFO - Traitement K-Same-Pixel terminé.\n"
     ]
    },
    {
     "data": {
      "text/plain": [
       "{'upload_subject_1': [{'flattened_anonymized_image': array([0.92156863, 0.92156863, 0.92156863, ..., 0.69411767, 0.69411767,\n",
       "          0.69411767], dtype=float32),\n",
       "   'imageId': 'upload_img_0'},\n",
       "  {'flattened_anonymized_image': array([0.92156863, 0.92156863, 0.92156863, ..., 0.8862745 , 0.8862745 ,\n",
       "          0.8862745 ], dtype=float32),\n",
       "   'imageId': 'upload_img_1'},\n",
       "  {'flattened_anonymized_image': array([0.92156863, 0.92156863, 0.92156863, ..., 0.8862745 , 0.8862745 ,\n",
       "          0.8862745 ], dtype=float32),\n",
       "   'imageId': 'upload_img_2'},\n",
       "  {'flattened_anonymized_image': array([0.92156863, 0.92156863, 0.92156863, ..., 0.69411767, 0.69411767,\n",
       "          0.69411767], dtype=float32),\n",
       "   'imageId': 'upload_img_3'},\n",
       "  {'flattened_anonymized_image': array([0.92156863, 0.92156863, 0.92156863, ..., 0.8862745 , 0.8862745 ,\n",
       "          0.8862745 ], dtype=float32),\n",
       "   'imageId': 'upload_img_4'},\n",
       "  {'flattened_anonymized_image': array([0.92156863, 0.92156863, 0.92156863, ..., 0.8862745 , 0.8862745 ,\n",
       "          0.8862745 ], dtype=float32),\n",
       "   'imageId': 'upload_img_5'},\n",
       "  {'flattened_anonymized_image': array([0.84705883, 0.8509804 , 0.85882354, ..., 0.84705883, 0.84705883,\n",
       "          0.84313726], dtype=float32),\n",
       "   'imageId': 'upload_img_6'},\n",
       "  {'flattened_anonymized_image': array([0.92156863, 0.92156863, 0.92156863, ..., 0.69411767, 0.69411767,\n",
       "          0.69411767], dtype=float32),\n",
       "   'imageId': 'upload_img_7'},\n",
       "  {'flattened_anonymized_image': array([0.92156863, 0.92156863, 0.92156863, ..., 0.8862745 , 0.8862745 ,\n",
       "          0.8862745 ], dtype=float32),\n",
       "   'imageId': 'upload_img_8'},\n",
       "  {'flattened_anonymized_image': array([0.84705883, 0.8509804 , 0.85882354, ..., 0.84705883, 0.84705883,\n",
       "          0.84313726], dtype=float32),\n",
       "   'imageId': 'upload_img_9'},\n",
       "  {'flattened_anonymized_image': array([0.92156863, 0.92156863, 0.92156863, ..., 0.8862745 , 0.8862745 ,\n",
       "          0.8862745 ], dtype=float32),\n",
       "   'imageId': 'upload_img_10'}]}"
      ]
     },
     "execution_count": 4,
     "metadata": {},
     "output_type": "execute_result"
    }
   ],
   "execution_count": 4
  },
  {
   "metadata": {
    "ExecuteTime": {
     "end_time": "2025-04-08T10:09:10.950452Z",
     "start_time": "2025-04-08T10:09:10.939274Z"
    }
   },
   "cell_type": "code",
   "source": [
    "# ---------------------------------------\n",
    "# Étape 3 : PEEP Eigenface\n",
    "# ---------------------------------------\n",
    "\n",
    "flattened_stack_list = [img['flattened_anonymized_image'] for img in res2[\"upload_subject_1\"]]\n",
    "flattened_stack_np = np.array(flattened_stack_list, dtype=np.float32)\n",
    "\n",
    "n_samples, n_features = flattened_stack_np.shape\n",
    "n_components_ratio = 0.8\n",
    "n_components = min(max(1, int(n_components_ratio * n_samples)), n_features)\n",
    "\n",
    "res3 = run_eigenface(flattened_stack_np, n_components)\n",
    "\n",
    "# Print result\n",
    "pca, mean_face, projection = res3 # Eingenface a disparue...\n",
    "print(\"n_components:\", n_components)\n",
    "mean_face"
   ],
   "id": "33ab58b4685e8806",
   "outputs": [
    {
     "name": "stderr",
     "output_type": "stream",
     "text": [
      "2025-04-08 12:09:10,947 - ERROR - Erreur PCA: cannot reshape array of size 2500 into shape (100,100). Stack shape: (11, 2500), n_components: 8\n"
     ]
    },
    {
     "name": "stdout",
     "output_type": "stream",
     "text": [
      "n_components: 8\n"
     ]
    }
   ],
   "execution_count": 5
  },
  {
   "metadata": {
    "ExecuteTime": {
     "end_time": "2025-04-08T08:38:03.360491Z",
     "start_time": "2025-04-08T08:38:03.337228Z"
    }
   },
   "cell_type": "code",
   "source": [
    "# Étape 4 : Ajout de bruit différentiel\n",
    "epsilon = 0.01\n",
    "res4 = run_add_noise(projection, epsilon, sensitivity=1.0)\n",
    "\n",
    "# Étape 5 : Reconstruction\n",
    "res5 = run_reconstruction(pca, res4, image_size)\n",
    "\n",
    "# Print result\n",
    "import base64\n",
    "from io import BytesIO\n",
    "from PIL import Image\n",
    "imgs = [Image.open(BytesIO(base64.b64decode(img))) for img in res5]\n",
    "print(len(imgs))\n",
    "imgs[0].show()\n",
    "res5"
   ],
   "id": "de2825f20a32deef",
   "outputs": [
    {
     "name": "stdout",
     "output_type": "stream",
     "text": [
      "11\n"
     ]
    },
    {
     "data": {
      "text/plain": [
       "['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',\n",
       " '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',\n",
       " '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',\n",
       " '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',\n",
       " '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',\n",
       " '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',\n",
       " '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',\n",
       " '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',\n",
       " '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',\n",
       " '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',\n",
       " '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']"
      ]
     },
     "execution_count": 12,
     "metadata": {},
     "output_type": "execute_result"
    }
   ],
   "execution_count": 12
  },
  {
   "metadata": {
    "ExecuteTime": {
     "end_time": "2025-04-08T08:38:06.338020Z",
     "start_time": "2025-04-08T08:38:06.307126Z"
    }
   },
   "cell_type": "code",
   "source": [
    "db = DatabaseController(r\"..\\..\\data\\database.db\")\n",
    "\n",
    "user_id = db.add_user(np.array(res5))\n",
    "print(f\"user_id: {user_id}\")\n",
    "\n",
    "user = db.get_user(user_id)\n",
    "\n",
    "base64_str = user[0]\n",
    "image_bytes = base64.b64decode(base64_str)\n",
    "image = Image.open(io.BytesIO(image_bytes))\n",
    "image.show()"
   ],
   "id": "64f96d3fa118ad7b",
   "outputs": [
    {
     "name": "stdout",
     "output_type": "stream",
     "text": [
      "Create db connection at: D:\\myDocs\\Apprentissage\\Isep\\Year_3\\Brno-Privacy_Preserving_Face_Recognition_Project\\data\\database.db\n",
      "user_id: 10\n"
     ]
    }
   ],
   "execution_count": 13
  }
 ],
 "metadata": {
  "kernelspec": {
   "display_name": "Python 3",
   "language": "python",
   "name": "python3"
  },
  "language_info": {
   "codemirror_mode": {
    "name": "ipython",
    "version": 2
   },
   "file_extension": ".py",
   "mimetype": "text/x-python",
   "name": "python",
   "nbconvert_exporter": "python",
   "pygments_lexer": "ipython2",
   "version": "2.7.6"
  }
 },
 "nbformat": 4,
 "nbformat_minor": 5
}
