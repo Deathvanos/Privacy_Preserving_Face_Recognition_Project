{
 "cells": [
  {
   "cell_type": "code",
   "id": "initial_id",
   "metadata": {
    "collapsed": true,
    "ExecuteTime": {
     "end_time": "2025-04-02T20:00:13.731418Z",
     "start_time": "2025-04-02T20:00:13.728339Z"
    }
   },
   "source": [
    "from anony_process_pipeline import *\n",
    "from src.modules.utils_image import pillow_image_to_bytes, numpy_image_to_pillow\n",
    "from database_controller import DatabaseController\n"
   ],
   "outputs": [],
   "execution_count": 11
  },
  {
   "metadata": {
    "ExecuteTime": {
     "end_time": "2025-04-02T20:00:13.756265Z",
     "start_time": "2025-04-02T20:00:13.739877Z"
    }
   },
   "cell_type": "code",
   "source": [
    "from werkzeug.datastructures import FileStorage\n",
    "import os\n",
    "\n",
    "def import_subject_images(ids):\n",
    "    image_folder = \"../../data/yalefaces\"\n",
    "    sujet = f\"subject0{ids}_\"\n",
    "    image_files = []\n",
    "    for filename in os.listdir(image_folder):\n",
    "        if filename.startswith(sujet):\n",
    "            chemin_fichier = f\"{image_folder}/{filename}\"\n",
    "            file = open(chemin_fichier, \"rb\")\n",
    "            file_storage = FileStorage(stream=file, filename=filename)\n",
    "            image_files.append(file_storage)\n",
    "    return image_files\n",
    "\n",
    "# Import images\n",
    "img_list = import_subject_images(3)\n",
    "\n",
    "# Print result\n",
    "img_list"
   ],
   "id": "7e695323243c89d0",
   "outputs": [
    {
     "data": {
      "text/plain": [
       "[<FileStorage: 'subject03_centerlight.png' (None)>,\n",
       " <FileStorage: 'subject03_glasses.png' (None)>,\n",
       " <FileStorage: 'subject03_happy.png' (None)>,\n",
       " <FileStorage: 'subject03_leftlight.png' (None)>,\n",
       " <FileStorage: 'subject03_noglasses.png' (None)>,\n",
       " <FileStorage: 'subject03_normal.png' (None)>,\n",
       " <FileStorage: 'subject03_rightlight.png' (None)>,\n",
       " <FileStorage: 'subject03_sad.png' (None)>,\n",
       " <FileStorage: 'subject03_sleepy.png' (None)>,\n",
       " <FileStorage: 'subject03_surprised.png' (None)>,\n",
       " <FileStorage: 'subject03_wink.png' (None)>]"
      ]
     },
     "execution_count": 12,
     "metadata": {},
     "output_type": "execute_result"
    }
   ],
   "execution_count": 12
  },
  {
   "metadata": {
    "ExecuteTime": {
     "end_time": "2025-04-02T20:00:13.801660Z",
     "start_time": "2025-04-02T20:00:13.762272Z"
    }
   },
   "cell_type": "code",
   "source": [
    "# ---------------------------------------\n",
    "# Étape 1 : Preprocessing (Simplifiée)\n",
    "# ---------------------------------------\n",
    "res1 = run_preprocessing(filestorage_list=img_list)\n",
    "\n",
    "# IMG IMPORT ENDING: Realise images in storage ###\n",
    "for img_in_storage in img_list: ##################\n",
    "    img_in_storage.close() #######################\n",
    "##################################################\n",
    "\n",
    "# Print result\n",
    "res1"
   ],
   "id": "d7ef66e5da604307",
   "outputs": [
    {
     "name": "stderr",
     "output_type": "stream",
     "text": [
      "2025-04-02 22:00:13,764 - INFO - Exécution du pré-traitement standard...\n",
      "2025-04-02 22:00:13,764 - INFO - Traitement de 11 fichiers FileStorage.\n",
      "Preprocessing (FileStorage List): 100%|██████████| 11/11 [00:00<00:00, 416.29it/s]\n",
      "2025-04-02 22:00:13,794 - INFO - Pré-traitement terminé. 1 sujets traités.\n"
     ]
    },
    {
     "data": {
      "text/plain": [
       "{'1': [{'resized_image': <PIL.Image.Image image mode=RGB size=100x100>,\n",
       "   'grayscale_image': <PIL.Image.Image image mode=L size=100x100>,\n",
       "   'normalized_image': array([[0.81960784, 0.81960784, 0.81960784, ..., 1.        , 1.        ,\n",
       "           1.        ],\n",
       "          [1.        , 1.        , 1.        , ..., 1.        , 1.        ,\n",
       "           1.        ],\n",
       "          [1.        , 1.        , 1.        , ..., 1.        , 1.        ,\n",
       "           1.        ],\n",
       "          ...,\n",
       "          [1.        , 1.        , 1.        , ..., 1.        , 1.        ,\n",
       "           0.98823529],\n",
       "          [1.        , 1.        , 1.        , ..., 1.        , 1.        ,\n",
       "           1.        ],\n",
       "          [0.73333333, 0.73333333, 0.73333333, ..., 0.73333333, 0.73333333,\n",
       "           0.73333333]]),\n",
       "   'flattened_image': array([0.81960784, 0.81960784, 0.81960784, ..., 0.73333333, 0.73333333,\n",
       "          0.73333333]),\n",
       "   'imageId': 'upload_img_0'},\n",
       "  {'resized_image': <PIL.Image.Image image mode=RGB size=100x100>,\n",
       "   'grayscale_image': <PIL.Image.Image image mode=L size=100x100>,\n",
       "   'normalized_image': array([[0.81960784, 0.81960784, 0.81960784, ..., 1.        , 1.        ,\n",
       "           1.        ],\n",
       "          [1.        , 1.        , 1.        , ..., 1.        , 1.        ,\n",
       "           1.        ],\n",
       "          [1.        , 1.        , 1.        , ..., 1.        , 1.        ,\n",
       "           1.        ],\n",
       "          ...,\n",
       "          [1.        , 1.        , 1.        , ..., 1.        , 1.        ,\n",
       "           1.        ],\n",
       "          [1.        , 1.        , 1.        , ..., 1.        , 1.        ,\n",
       "           1.        ],\n",
       "          [0.73333333, 0.73333333, 0.73333333, ..., 0.73333333, 0.73333333,\n",
       "           0.73333333]]),\n",
       "   'flattened_image': array([0.81960784, 0.81960784, 0.81960784, ..., 0.73333333, 0.73333333,\n",
       "          0.73333333]),\n",
       "   'imageId': 'upload_img_1'},\n",
       "  {'resized_image': <PIL.Image.Image image mode=RGB size=100x100>,\n",
       "   'grayscale_image': <PIL.Image.Image image mode=L size=100x100>,\n",
       "   'normalized_image': array([[0.81960784, 0.81960784, 0.81960784, ..., 1.        , 1.        ,\n",
       "           1.        ],\n",
       "          [1.        , 1.        , 1.        , ..., 1.        , 1.        ,\n",
       "           1.        ],\n",
       "          [1.        , 1.        , 1.        , ..., 1.        , 1.        ,\n",
       "           1.        ],\n",
       "          ...,\n",
       "          [1.        , 1.        , 1.        , ..., 1.        , 1.        ,\n",
       "           1.        ],\n",
       "          [1.        , 1.        , 1.        , ..., 1.        , 1.        ,\n",
       "           1.        ],\n",
       "          [0.73333333, 0.73333333, 0.73333333, ..., 0.73333333, 0.73333333,\n",
       "           0.73333333]]),\n",
       "   'flattened_image': array([0.81960784, 0.81960784, 0.81960784, ..., 0.73333333, 0.73333333,\n",
       "          0.73333333]),\n",
       "   'imageId': 'upload_img_2'},\n",
       "  {'resized_image': <PIL.Image.Image image mode=RGB size=100x100>,\n",
       "   'grayscale_image': <PIL.Image.Image image mode=L size=100x100>,\n",
       "   'normalized_image': array([[0.81960784, 0.81960784, 0.81960784, ..., 0.89411765, 0.87843137,\n",
       "           0.77647059],\n",
       "          [1.        , 1.        , 1.        , ..., 0.84705882, 0.91372549,\n",
       "           0.84313725],\n",
       "          [1.        , 1.        , 1.        , ..., 0.84705882, 0.90588235,\n",
       "           0.90588235],\n",
       "          ...,\n",
       "          [1.        , 1.        , 1.        , ..., 0.09803922, 0.09803922,\n",
       "           0.09803922],\n",
       "          [1.        , 1.        , 1.        , ..., 0.09411765, 0.08627451,\n",
       "           0.08627451],\n",
       "          [0.73333333, 0.73333333, 0.73333333, ..., 0.15686275, 0.15686275,\n",
       "           0.15686275]]),\n",
       "   'flattened_image': array([0.81960784, 0.81960784, 0.81960784, ..., 0.15686275, 0.15686275,\n",
       "          0.15686275]),\n",
       "   'imageId': 'upload_img_3'},\n",
       "  {'resized_image': <PIL.Image.Image image mode=RGB size=100x100>,\n",
       "   'grayscale_image': <PIL.Image.Image image mode=L size=100x100>,\n",
       "   'normalized_image': array([[0.81960784, 0.81960784, 0.81960784, ..., 1.        , 1.        ,\n",
       "           1.        ],\n",
       "          [1.        , 1.        , 1.        , ..., 1.        , 1.        ,\n",
       "           1.        ],\n",
       "          [1.        , 1.        , 1.        , ..., 1.        , 1.        ,\n",
       "           1.        ],\n",
       "          ...,\n",
       "          [1.        , 1.        , 1.        , ..., 1.        , 1.        ,\n",
       "           1.        ],\n",
       "          [1.        , 1.        , 1.        , ..., 1.        , 1.        ,\n",
       "           1.        ],\n",
       "          [0.73333333, 0.73333333, 0.73333333, ..., 0.73333333, 0.73333333,\n",
       "           0.73333333]]),\n",
       "   'flattened_image': array([0.81960784, 0.81960784, 0.81960784, ..., 0.73333333, 0.73333333,\n",
       "          0.73333333]),\n",
       "   'imageId': 'upload_img_4'},\n",
       "  {'resized_image': <PIL.Image.Image image mode=RGB size=100x100>,\n",
       "   'grayscale_image': <PIL.Image.Image image mode=L size=100x100>,\n",
       "   'normalized_image': array([[0.81960784, 0.81960784, 0.81960784, ..., 1.        , 1.        ,\n",
       "           1.        ],\n",
       "          [1.        , 1.        , 1.        , ..., 1.        , 1.        ,\n",
       "           1.        ],\n",
       "          [1.        , 1.        , 1.        , ..., 1.        , 1.        ,\n",
       "           1.        ],\n",
       "          ...,\n",
       "          [1.        , 1.        , 1.        , ..., 1.        , 1.        ,\n",
       "           1.        ],\n",
       "          [1.        , 1.        , 1.        , ..., 1.        , 1.        ,\n",
       "           1.        ],\n",
       "          [0.73333333, 0.73333333, 0.73333333, ..., 0.73333333, 0.73333333,\n",
       "           0.73333333]]),\n",
       "   'flattened_image': array([0.81960784, 0.81960784, 0.81960784, ..., 0.73333333, 0.73333333,\n",
       "          0.73333333]),\n",
       "   'imageId': 'upload_img_5'},\n",
       "  {'resized_image': <PIL.Image.Image image mode=RGB size=100x100>,\n",
       "   'grayscale_image': <PIL.Image.Image image mode=L size=100x100>,\n",
       "   'normalized_image': array([[0.54117647, 0.60784314, 0.55686275, ..., 0.96470588, 0.96470588,\n",
       "           0.99607843],\n",
       "          [0.68627451, 0.67843137, 0.67843137, ..., 0.98823529, 0.93333333,\n",
       "           0.92156863],\n",
       "          [0.6627451 , 0.62352941, 0.70196078, ..., 0.98431373, 0.90588235,\n",
       "           0.85490196],\n",
       "          ...,\n",
       "          [0.42745098, 0.34901961, 0.2627451 , ..., 0.81568627, 0.81960784,\n",
       "           0.79607843],\n",
       "          [0.32941176, 0.2627451 , 0.21960784, ..., 0.83529412, 0.81960784,\n",
       "           0.81176471],\n",
       "          [0.26666667, 0.23529412, 0.22745098, ..., 0.63921569, 0.61176471,\n",
       "           0.58431373]]),\n",
       "   'flattened_image': array([0.54117647, 0.60784314, 0.55686275, ..., 0.63921569, 0.61176471,\n",
       "          0.58431373]),\n",
       "   'imageId': 'upload_img_6'},\n",
       "  {'resized_image': <PIL.Image.Image image mode=RGB size=100x100>,\n",
       "   'grayscale_image': <PIL.Image.Image image mode=L size=100x100>,\n",
       "   'normalized_image': array([[0.81960784, 0.81960784, 0.81960784, ..., 1.        , 1.        ,\n",
       "           1.        ],\n",
       "          [1.        , 1.        , 1.        , ..., 1.        , 1.        ,\n",
       "           1.        ],\n",
       "          [1.        , 1.        , 1.        , ..., 1.        , 1.        ,\n",
       "           1.        ],\n",
       "          ...,\n",
       "          [1.        , 1.        , 1.        , ..., 1.        , 1.        ,\n",
       "           1.        ],\n",
       "          [1.        , 1.        , 1.        , ..., 1.        , 1.        ,\n",
       "           1.        ],\n",
       "          [0.73333333, 0.73333333, 0.73333333, ..., 0.73333333, 0.73333333,\n",
       "           0.73333333]]),\n",
       "   'flattened_image': array([0.81960784, 0.81960784, 0.81960784, ..., 0.73333333, 0.73333333,\n",
       "          0.73333333]),\n",
       "   'imageId': 'upload_img_7'},\n",
       "  {'resized_image': <PIL.Image.Image image mode=RGB size=100x100>,\n",
       "   'grayscale_image': <PIL.Image.Image image mode=L size=100x100>,\n",
       "   'normalized_image': array([[0.81960784, 0.81960784, 0.81960784, ..., 1.        , 1.        ,\n",
       "           1.        ],\n",
       "          [1.        , 1.        , 1.        , ..., 1.        , 1.        ,\n",
       "           1.        ],\n",
       "          [1.        , 1.        , 1.        , ..., 1.        , 1.        ,\n",
       "           1.        ],\n",
       "          ...,\n",
       "          [1.        , 1.        , 1.        , ..., 1.        , 1.        ,\n",
       "           1.        ],\n",
       "          [1.        , 1.        , 1.        , ..., 1.        , 1.        ,\n",
       "           1.        ],\n",
       "          [0.73333333, 0.73333333, 0.73333333, ..., 0.73333333, 0.73333333,\n",
       "           0.73333333]]),\n",
       "   'flattened_image': array([0.81960784, 0.81960784, 0.81960784, ..., 0.73333333, 0.73333333,\n",
       "          0.73333333]),\n",
       "   'imageId': 'upload_img_8'},\n",
       "  {'resized_image': <PIL.Image.Image image mode=RGB size=100x100>,\n",
       "   'grayscale_image': <PIL.Image.Image image mode=L size=100x100>,\n",
       "   'normalized_image': array([[0.81960784, 0.81960784, 0.81960784, ..., 1.        , 1.        ,\n",
       "           1.        ],\n",
       "          [1.        , 1.        , 1.        , ..., 1.        , 1.        ,\n",
       "           1.        ],\n",
       "          [1.        , 1.        , 1.        , ..., 1.        , 1.        ,\n",
       "           1.        ],\n",
       "          ...,\n",
       "          [1.        , 1.        , 1.        , ..., 1.        , 1.        ,\n",
       "           1.        ],\n",
       "          [1.        , 1.        , 1.        , ..., 1.        , 1.        ,\n",
       "           1.        ],\n",
       "          [0.73333333, 0.73333333, 0.73333333, ..., 0.73333333, 0.73333333,\n",
       "           0.73333333]]),\n",
       "   'flattened_image': array([0.81960784, 0.81960784, 0.81960784, ..., 0.73333333, 0.73333333,\n",
       "          0.73333333]),\n",
       "   'imageId': 'upload_img_9'},\n",
       "  {'resized_image': <PIL.Image.Image image mode=RGB size=100x100>,\n",
       "   'grayscale_image': <PIL.Image.Image image mode=L size=100x100>,\n",
       "   'normalized_image': array([[0.81960784, 0.81960784, 0.81960784, ..., 1.        , 1.        ,\n",
       "           1.        ],\n",
       "          [1.        , 1.        , 1.        , ..., 1.        , 1.        ,\n",
       "           1.        ],\n",
       "          [1.        , 1.        , 1.        , ..., 1.        , 1.        ,\n",
       "           1.        ],\n",
       "          ...,\n",
       "          [1.        , 1.        , 1.        , ..., 1.        , 1.        ,\n",
       "           1.        ],\n",
       "          [1.        , 1.        , 1.        , ..., 1.        , 1.        ,\n",
       "           1.        ],\n",
       "          [0.73333333, 0.73333333, 0.73333333, ..., 0.73333333, 0.73333333,\n",
       "           0.73333333]]),\n",
       "   'flattened_image': array([0.81960784, 0.81960784, 0.81960784, ..., 0.73333333, 0.73333333,\n",
       "          0.73333333]),\n",
       "   'imageId': 'upload_img_10'}]}"
      ]
     },
     "execution_count": 13,
     "metadata": {},
     "output_type": "execute_result"
    }
   ],
   "execution_count": 13
  },
  {
   "metadata": {
    "ExecuteTime": {
     "end_time": "2025-04-02T20:00:13.824100Z",
     "start_time": "2025-04-02T20:00:13.811576Z"
    }
   },
   "cell_type": "code",
   "source": [
    "# ---------------------------------------\n",
    "# Étape 2 : K-Same-Pixel (Nouvelle Fonction Modulaire)\n",
    "# ---------------------------------------\n",
    "k_same_k_value = 4\n",
    "res2 = run_k_same_anonymization(res1, k_same_k_value)\n",
    "\n",
    "# Print result\n",
    "res2"
   ],
   "id": "5dc55ab02b119261",
   "outputs": [
    {
     "name": "stderr",
     "output_type": "stream",
     "text": [
      "2025-04-02 22:00:13,813 - INFO - Application de K-Same-Pixel avec k=4...\n",
      "K-Same Pixel: 100%|██████████| 1/1 [00:00<00:00, 499.98it/s]\n",
      "2025-04-02 22:00:13,818 - INFO - Traitement K-Same-Pixel terminé.\n"
     ]
    },
    {
     "data": {
      "text/plain": [
       "{'1': [array([[209, 209, 209, ..., 255, 255, 255],\n",
       "         [255, 255, 255, ..., 255, 255, 255],\n",
       "         [255, 255, 255, ..., 255, 255, 255],\n",
       "         ...,\n",
       "         [255, 255, 255, ..., 255, 255, 254],\n",
       "         [255, 255, 255, ..., 255, 255, 255],\n",
       "         [187, 187, 187, ..., 187, 187, 187]], dtype=uint8),\n",
       "  array([[191, 195, 192, ..., 252, 252, 254],\n",
       "         [235, 234, 234, ..., 254, 250, 250],\n",
       "         [233, 231, 236, ..., 254, 249, 245],\n",
       "         ...,\n",
       "         [218, 213, 208, ..., 243, 243, 242],\n",
       "         [212, 208, 205, ..., 244, 243, 243],\n",
       "         [157, 155, 154, ..., 181, 179, 177]], dtype=uint8),\n",
       "  array([[209, 209, 209, ..., 255, 255, 255],\n",
       "         [255, 255, 255, ..., 255, 255, 255],\n",
       "         [255, 255, 255, ..., 255, 255, 255],\n",
       "         ...,\n",
       "         [255, 255, 255, ..., 255, 255, 254],\n",
       "         [255, 255, 255, ..., 255, 255, 255],\n",
       "         [187, 187, 187, ..., 187, 187, 187]], dtype=uint8),\n",
       "  array([[191, 195, 192, ..., 246, 245, 240],\n",
       "         [235, 234, 234, ..., 244, 245, 240],\n",
       "         [233, 231, 236, ..., 244, 243, 239],\n",
       "         ...,\n",
       "         [218, 213, 208, ..., 185, 186, 184],\n",
       "         [212, 208, 205, ..., 186, 185, 184],\n",
       "         [157, 155, 154, ..., 144, 142, 140]], dtype=uint8),\n",
       "  array([[209, 209, 209, ..., 248, 247, 240],\n",
       "         [255, 255, 255, ..., 245, 249, 245],\n",
       "         [255, 255, 255, ..., 245, 249, 249],\n",
       "         ...,\n",
       "         [255, 255, 255, ..., 197, 197, 197],\n",
       "         [255, 255, 255, ..., 197, 196, 196],\n",
       "         [187, 187, 187, ..., 150, 150, 150]], dtype=uint8),\n",
       "  array([[191, 195, 192, ..., 252, 252, 254],\n",
       "         [235, 234, 234, ..., 254, 250, 250],\n",
       "         [233, 231, 236, ..., 254, 249, 245],\n",
       "         ...,\n",
       "         [218, 213, 208, ..., 243, 243, 242],\n",
       "         [212, 208, 205, ..., 244, 243, 243],\n",
       "         [157, 155, 154, ..., 181, 179, 177]], dtype=uint8),\n",
       "  array([[191, 195, 192, ..., 252, 252, 254],\n",
       "         [235, 234, 234, ..., 254, 250, 250],\n",
       "         [233, 231, 236, ..., 254, 249, 245],\n",
       "         ...,\n",
       "         [218, 213, 208, ..., 243, 243, 241],\n",
       "         [212, 208, 205, ..., 244, 243, 243],\n",
       "         [157, 155, 154, ..., 181, 179, 177]], dtype=uint8),\n",
       "  array([[191, 195, 192, ..., 252, 252, 254],\n",
       "         [235, 234, 234, ..., 254, 250, 250],\n",
       "         [233, 231, 236, ..., 254, 249, 245],\n",
       "         ...,\n",
       "         [218, 213, 208, ..., 243, 243, 242],\n",
       "         [212, 208, 205, ..., 244, 243, 243],\n",
       "         [157, 155, 154, ..., 181, 179, 177]], dtype=uint8),\n",
       "  array([[209, 209, 209, ..., 255, 255, 255],\n",
       "         [255, 255, 255, ..., 255, 255, 255],\n",
       "         [255, 255, 255, ..., 255, 255, 255],\n",
       "         ...,\n",
       "         [255, 255, 255, ..., 255, 255, 254],\n",
       "         [255, 255, 255, ..., 255, 255, 255],\n",
       "         [187, 187, 187, ..., 187, 187, 187]], dtype=uint8),\n",
       "  array([[209, 209, 209, ..., 255, 255, 255],\n",
       "         [255, 255, 255, ..., 255, 255, 255],\n",
       "         [255, 255, 255, ..., 255, 255, 255],\n",
       "         ...,\n",
       "         [255, 255, 255, ..., 255, 255, 254],\n",
       "         [255, 255, 255, ..., 255, 255, 255],\n",
       "         [187, 187, 187, ..., 187, 187, 187]], dtype=uint8),\n",
       "  array([[209, 209, 209, ..., 248, 247, 240],\n",
       "         [255, 255, 255, ..., 245, 249, 245],\n",
       "         [255, 255, 255, ..., 245, 249, 249],\n",
       "         ...,\n",
       "         [255, 255, 255, ..., 197, 197, 197],\n",
       "         [255, 255, 255, ..., 197, 196, 196],\n",
       "         [187, 187, 187, ..., 150, 150, 150]], dtype=uint8)]}"
      ]
     },
     "execution_count": 14,
     "metadata": {},
     "output_type": "execute_result"
    }
   ],
   "execution_count": 14
  },
  {
   "metadata": {
    "ExecuteTime": {
     "end_time": "2025-04-02T20:00:13.935796Z",
     "start_time": "2025-04-02T20:00:13.839609Z"
    }
   },
   "cell_type": "code",
   "source": [
    "# ---------------------------------------\n",
    "# Étape 3 : PEEP Eigenface\n",
    "# ---------------------------------------\n",
    "n_components_ratio = 0.9\n",
    "user = list(res1.keys())[0]\n",
    "images = res1[user] # keys: (resized_image, grayscale_image, normalized_image, flattened_image)\n",
    "flattened_stack = np.array([img['flattened_image'] for img in images])\n",
    "\n",
    "n_samples, n_features = flattened_stack.shape\n",
    "n_components = min(max(1, int(n_components_ratio * n_samples)), n_features, n_samples) # Assurer >= 1\n",
    "res3 = run_eigenface(flattened_stack, 4)\n",
    "\n",
    "# Print result\n",
    "pca, mean_face, projection = res3 # Eingenface a disparue...\n",
    "print(\"n_components:\", n_components)\n",
    "res3"
   ],
   "id": "33ab58b4685e8806",
   "outputs": [
    {
     "name": "stderr",
     "output_type": "stream",
     "text": [
      "2025-04-02 22:00:13,843 - DEBUG - Calcul Eigenfaces avec n_components=4\n"
     ]
    },
    {
     "name": "stdout",
     "output_type": "stream",
     "text": [
      "n_components: 9\n"
     ]
    },
    {
     "data": {
      "text/plain": [
       "(PCA(n_components=4),\n",
       " array([[0.7942959 , 0.80035651, 0.79572193, ..., 0.98716578, 0.98573975,\n",
       "         0.97932264],\n",
       "        [0.9714795 , 0.97076649, 0.97076649, ..., 0.98502674, 0.98609626,\n",
       "         0.97860963],\n",
       "        [0.96934046, 0.9657754 , 0.97290553, ..., 0.98467023, 0.9828877 ,\n",
       "         0.97825312],\n",
       "        ...,\n",
       "        [0.94795009, 0.94081996, 0.93297683, ..., 0.90124777, 0.90160428,\n",
       "         0.89839572],\n",
       "        [0.93903743, 0.93297683, 0.92905526, ..., 0.9026738 , 0.90053476,\n",
       "         0.89982175],\n",
       "        [0.69090909, 0.68805704, 0.68734403, ..., 0.67237077, 0.66987522,\n",
       "         0.66737968]]),\n",
       " array([[ -5.10157982,   5.933605  ,  13.03178282,   3.81468684],\n",
       "        [ -0.04764854,   3.48412747,  12.45421854,   1.29498873],\n",
       "        [  8.79449306,  -0.93757355,  -2.20666091,  -3.51201188],\n",
       "        [-26.73328319,  27.6321078 ,  -6.93863203,  -0.69504606],\n",
       "        [  9.46337868,  -0.88573873,  -2.45088113,  -2.30966492],\n",
       "        [  9.46337868,  -0.88573873,  -2.45088113,  -2.30966492],\n",
       "        [-28.41025716, -29.42548463,  -1.21325936,  -1.00278734],\n",
       "        [  7.74196461,  -0.21524605,  -0.24775197,  -1.26366732],\n",
       "        [  8.29072216,  -0.31235984,  -0.90659751,  -4.02532372],\n",
       "        [  8.71511556,  -3.65490237,  -7.50013985,  13.3561612 ],\n",
       "        [  7.82371597,  -0.73279636,  -1.57119747,  -3.34767061]]))"
      ]
     },
     "execution_count": 15,
     "metadata": {},
     "output_type": "execute_result"
    }
   ],
   "execution_count": 15
  },
  {
   "metadata": {
    "ExecuteTime": {
     "end_time": "2025-04-02T20:00:13.982189Z",
     "start_time": "2025-04-02T20:00:13.948013Z"
    }
   },
   "cell_type": "code",
   "source": [
    "# Étape 4 : Ajout de bruit différentiel\n",
    "epsilon = 0.01\n",
    "res4 = run_add_noise(projection, epsilon, sensitivity=1.0)\n",
    "\n",
    "# Étape 5 : Reconstruction\n",
    "res5 = run_reconstruction(pca, res4)\n",
    "\n",
    "# Print result\n",
    "import base64\n",
    "from io import BytesIO\n",
    "from PIL import Image\n",
    "imgs = [Image.open(BytesIO(base64.b64decode(img))) for img in res5]\n",
    "print(len(imgs))\n",
    "imgs[0].show()\n",
    "res5"
   ],
   "id": "de2825f20a32deef",
   "outputs": [
    {
     "name": "stderr",
     "output_type": "stream",
     "text": [
      "2025-04-02 22:00:13,949 - DEBUG - Ajout bruit Laplacien (epsilon=0.01, sensitivity=1.0)\n",
      "2025-04-02 22:00:13,950 - DEBUG - Reconstruction des images depuis projection bruitée...\n"
     ]
    },
    {
     "name": "stdout",
     "output_type": "stream",
     "text": [
      "11\n"
     ]
    },
    {
     "data": {
      "text/plain": [
       "['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',\n",
       " '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',\n",
       " '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',\n",
       " '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',\n",
       " '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',\n",
       " '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',\n",
       " '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',\n",
       " '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',\n",
       " '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',\n",
       " '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',\n",
       " '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']"
      ]
     },
     "execution_count": 16,
     "metadata": {},
     "output_type": "execute_result"
    }
   ],
   "execution_count": 16
  },
  {
   "metadata": {
    "ExecuteTime": {
     "end_time": "2025-04-02T20:00:14.024824Z",
     "start_time": "2025-04-02T20:00:13.997486Z"
    }
   },
   "cell_type": "code",
   "source": [
    "db = DatabaseController(r\"..\\..\\data\\database.db\")\n",
    "\n",
    "user_id = db.add_user(np.array(res5))\n",
    "print(f\"user_id: {user_id}\")\n",
    "\n",
    "user = db.get_user(user_id)\n",
    "\n",
    "base64_str = user[0]\n",
    "image_bytes = base64.b64decode(base64_str)\n",
    "image = Image.open(io.BytesIO(image_bytes))\n",
    "image.show()"
   ],
   "id": "64f96d3fa118ad7b",
   "outputs": [
    {
     "name": "stdout",
     "output_type": "stream",
     "text": [
      "Create db connection at: D:\\myDocs\\Apprentissage\\Isep\\Year_3\\Brno-Privacy_Preserving_Face_Recognition_Project\\data\\database.db\n",
      "user_id: 4\n"
     ]
    }
   ],
   "execution_count": 17
  }
 ],
 "metadata": {
  "kernelspec": {
   "display_name": "Python 3",
   "language": "python",
   "name": "python3"
  },
  "language_info": {
   "codemirror_mode": {
    "name": "ipython",
    "version": 2
   },
   "file_extension": ".py",
   "mimetype": "text/x-python",
   "name": "python",
   "nbconvert_exporter": "python",
   "pygments_lexer": "ipython2",
   "version": "2.7.6"
  }
 },
 "nbformat": 4,
 "nbformat_minor": 5
}
