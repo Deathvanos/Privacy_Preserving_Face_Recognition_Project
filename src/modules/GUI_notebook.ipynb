{
 "cells": [
  {
   "cell_type": "code",
   "id": "initial_id",
   "metadata": {
    "collapsed": true,
    "ExecuteTime": {
     "end_time": "2025-04-01T12:59:46.888530Z",
     "start_time": "2025-04-01T12:59:44.208221Z"
    }
   },
   "source": "from anony_process_pipeline import *",
   "outputs": [],
   "execution_count": 1
  },
  {
   "metadata": {
    "ExecuteTime": {
     "end_time": "2025-04-01T14:27:29.124792Z",
     "start_time": "2025-04-01T14:27:29.078161Z"
    }
   },
   "cell_type": "code",
   "source": [
    "from werkzeug.datastructures import FileStorage\n",
    "import os\n",
    "\n",
    "def import_subject_images(ids):\n",
    "    image_folder = \"../../data/database\"\n",
    "    sujet = f\"subject_{ids}_\"\n",
    "    image_files = []\n",
    "    for filename in os.listdir(image_folder):\n",
    "        if filename.startswith(sujet):\n",
    "            chemin_fichier = f\"{image_folder}/{filename}\"\n",
    "            file = open(chemin_fichier, \"rb\")\n",
    "            file_storage = FileStorage(stream=file, filename=filename)\n",
    "            image_files.append(file_storage)\n",
    "    return image_files\n",
    "\n",
    "# Import images\n",
    "img_list = import_subject_images(3)\n",
    "\n",
    "#########################################################################################\n",
    "##### Accepte list of FileStorage by default: reduce this block to 1 line & 3 words #####\n",
    "#########################################################################################\n",
    "from modules.utils_image import filestorage_image_to_pil\n",
    "import pandas as pd\n",
    "df = pd.DataFrame({'userFaces':filestorage_image_to_pil(img_list), 'subject_number':1, 'imageId':1})\n",
    "res1 = run_preprocessing(df_images=df)\n",
    "\n",
    "# Realise images in storage\n",
    "for img_in_storage in img_list:\n",
    "    img_in_storage.close()\n",
    "\n",
    "\n",
    "[img['flattened_image'] for img in res1[list(res1.keys())[0]]]"
   ],
   "id": "7e695323243c89d0",
   "outputs": [
    {
     "data": {
      "text/plain": [
       "[array([0.81960784, 0.81960784, 0.81960784, ..., 0.73333333, 0.73333333,\n",
       "        0.73333333]),\n",
       " array([0.81960784, 0.81960784, 0.81960784, ..., 0.73333333, 0.73333333,\n",
       "        0.73333333]),\n",
       " array([0.81960784, 0.81960784, 0.81960784, ..., 0.73333333, 0.73333333,\n",
       "        0.73333333]),\n",
       " array([0.81960784, 0.81960784, 0.81960784, ..., 0.73333333, 0.73333333,\n",
       "        0.73333333]),\n",
       " array([0.81960784, 0.81960784, 0.81960784, ..., 0.73333333, 0.73333333,\n",
       "        0.73333333]),\n",
       " array([0.81960784, 0.81960784, 0.81960784, ..., 0.15686275, 0.15686275,\n",
       "        0.15686275]),\n",
       " array([0.81960784, 0.81960784, 0.81960784, ..., 0.73333333, 0.73333333,\n",
       "        0.73333333]),\n",
       " array([0.81960784, 0.81960784, 0.81960784, ..., 0.73333333, 0.73333333,\n",
       "        0.73333333]),\n",
       " array([0.54117647, 0.60784314, 0.55686275, ..., 0.63921569, 0.61176471,\n",
       "        0.58431373]),\n",
       " array([0.81960784, 0.81960784, 0.81960784, ..., 0.73333333, 0.73333333,\n",
       "        0.73333333]),\n",
       " array([0.81960784, 0.81960784, 0.81960784, ..., 0.73333333, 0.73333333,\n",
       "        0.73333333])]"
      ]
     },
     "execution_count": 151,
     "metadata": {},
     "output_type": "execute_result"
    }
   ],
   "execution_count": 151
  },
  {
   "metadata": {
    "ExecuteTime": {
     "end_time": "2025-04-01T14:27:32.654594Z",
     "start_time": "2025-04-01T14:27:32.458830Z"
    }
   },
   "cell_type": "code",
   "source": [
    "#########################################################################################\n",
    "##### Aurait pu se resume to : function(images, n_components_ratio)\n",
    "#########################################################################################\n",
    "n_components_ratio = 0.9\n",
    "user = list(res1.keys())[0]\n",
    "images = res1[user] # keys: (resized_image, grayscale_image, normalized_image, flattened_image)\n",
    "flattened_stack = np.array([img['flattened_image'] for img in images])\n",
    "n_components = min(int(n_components_ratio * flattened_stack.shape[0]), flattened_stack.shape[1])\n",
    "\n",
    "print(\"n_components:\", n_components)\n",
    "res2 = run_eigenface(flattened_stack, 4)\n",
    "pca, eigenfaces, mean_face, projection = res2 # eigenfaces save to db"
   ],
   "id": "33ab58b4685e8806",
   "outputs": [
    {
     "name": "stdout",
     "output_type": "stream",
     "text": [
      "n_components: 9\n"
     ]
    }
   ],
   "execution_count": 152
  },
  {
   "metadata": {
    "ExecuteTime": {
     "end_time": "2025-04-01T14:27:35.447360Z",
     "start_time": "2025-04-01T14:27:35.440356Z"
    }
   },
   "cell_type": "code",
   "source": [
    "# Étape 3 : Ajout de bruit différentiel\n",
    "epsilon = 0.1\n",
    "noised_projection = run_add_noise(projection, epsilon, sensitivity=1.0)\n",
    "# Étape 4 : Reconstruction\n",
    "reconstructed_images = run_reconstruction(pca, noised_projection)"
   ],
   "id": "de2825f20a32deef",
   "outputs": [],
   "execution_count": 154
  },
  {
   "metadata": {
    "ExecuteTime": {
     "end_time": "2025-04-01T14:35:58.850109Z",
     "start_time": "2025-04-01T14:35:58.838Z"
    }
   },
   "cell_type": "code",
   "source": [
    "import base64\n",
    "from io import BytesIO\n",
    "from PIL import Image\n",
    "\n",
    "imgs = [Image.open(BytesIO(base64.b64decode(img))) for img in reconstructed_images]\n",
    "print(len(imgs))\n",
    "imgs[0].show()"
   ],
   "id": "64f96d3fa118ad7b",
   "outputs": [
    {
     "name": "stdout",
     "output_type": "stream",
     "text": [
      "11\n"
     ]
    }
   ],
   "execution_count": 156
  }
 ],
 "metadata": {
  "kernelspec": {
   "display_name": "Python 3",
   "language": "python",
   "name": "python3"
  },
  "language_info": {
   "codemirror_mode": {
    "name": "ipython",
    "version": 2
   },
   "file_extension": ".py",
   "mimetype": "text/x-python",
   "name": "python",
   "nbconvert_exporter": "python",
   "pygments_lexer": "ipython2",
   "version": "2.7.6"
  }
 },
 "nbformat": 4,
 "nbformat_minor": 5
}
