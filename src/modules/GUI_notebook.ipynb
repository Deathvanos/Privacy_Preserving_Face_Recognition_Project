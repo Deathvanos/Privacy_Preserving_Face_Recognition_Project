{
 "cells": [
  {
   "cell_type": "code",
   "id": "initial_id",
   "metadata": {
    "collapsed": true,
    "ExecuteTime": {
     "end_time": "2025-04-05T18:36:43.307163Z",
     "start_time": "2025-04-05T18:36:43.300755Z"
    }
   },
   "source": [
    "import numpy as np\n",
    "\n",
    "from anony_process_pipeline import *\n",
    "from src.modules.utils_image import pillow_image_to_bytes, numpy_image_to_pillow\n",
    "from database_controller import DatabaseController\n"
   ],
   "outputs": [],
   "execution_count": 47
  },
  {
   "metadata": {
    "ExecuteTime": {
     "end_time": "2025-04-05T18:36:45.323954Z",
     "start_time": "2025-04-05T18:36:45.292908Z"
    }
   },
   "cell_type": "code",
   "source": [
    "from werkzeug.datastructures import FileStorage\n",
    "import os\n",
    "\n",
    "def import_subject_images(ids):\n",
    "    image_folder = \"../../data/yalefaces\"\n",
    "    sujet = f\"subject0{ids}_\"\n",
    "    image_files = []\n",
    "    for filename in os.listdir(image_folder):\n",
    "        if filename.startswith(sujet):\n",
    "            chemin_fichier = f\"{image_folder}/{filename}\"\n",
    "            file = open(chemin_fichier, \"rb\")\n",
    "            file_storage = FileStorage(stream=file, filename=filename)\n",
    "            image_files.append(file_storage)\n",
    "    return image_files\n",
    "\n",
    "# Import images\n",
    "img_list = import_subject_images(3)\n",
    "\n",
    "# Print result\n",
    "img_list"
   ],
   "id": "7e695323243c89d0",
   "outputs": [
    {
     "data": {
      "text/plain": [
       "[<FileStorage: 'subject03_centerlight.png' (None)>,\n",
       " <FileStorage: 'subject03_glasses.png' (None)>,\n",
       " <FileStorage: 'subject03_happy.png' (None)>,\n",
       " <FileStorage: 'subject03_leftlight.png' (None)>,\n",
       " <FileStorage: 'subject03_noglasses.png' (None)>,\n",
       " <FileStorage: 'subject03_normal.png' (None)>,\n",
       " <FileStorage: 'subject03_rightlight.png' (None)>,\n",
       " <FileStorage: 'subject03_sad.png' (None)>,\n",
       " <FileStorage: 'subject03_sleepy.png' (None)>,\n",
       " <FileStorage: 'subject03_surprised.png' (None)>,\n",
       " <FileStorage: 'subject03_wink.png' (None)>]"
      ]
     },
     "execution_count": 48,
     "metadata": {},
     "output_type": "execute_result"
    }
   ],
   "execution_count": 48
  },
  {
   "metadata": {
    "ExecuteTime": {
     "end_time": "2025-04-05T18:36:47.549323Z",
     "start_time": "2025-04-05T18:36:47.489169Z"
    }
   },
   "cell_type": "code",
   "source": [
    "# ---------------------------------------\n",
    "# Étape 1 : Preprocessing (Simplifiée)\n",
    "# ---------------------------------------\n",
    "res1 = run_preprocessing(filestorage_list=img_list)\n",
    "\n",
    "# IMG IMPORT ENDING: Realise images in storage ###\n",
    "for img_in_storage in img_list: ##################\n",
    "    img_in_storage.close() #######################\n",
    "##################################################\n",
    "\n",
    "# Print result\n",
    "res1"
   ],
   "id": "d7ef66e5da604307",
   "outputs": [
    {
     "name": "stderr",
     "output_type": "stream",
     "text": [
      "2025-04-05 20:36:47,494 - INFO - Exécution du pré-traitement standard...\n",
      "2025-04-05 20:36:47,496 - INFO - Traitement de 11 fichiers FileStorage.\n",
      "Preprocessing (FileStorage List): 100%|██████████| 11/11 [00:00<00:00, 332.50it/s]\n",
      "2025-04-05 20:36:47,534 - INFO - Pré-traitement terminé. 1 sujets traités.\n"
     ]
    },
    {
     "data": {
      "text/plain": [
       "{'1': [{'resized_image': <PIL.Image.Image image mode=RGB size=100x100>,\n",
       "   'grayscale_image': <PIL.Image.Image image mode=L size=100x100>,\n",
       "   'normalized_image': array([[0.81960784, 0.81960784, 0.81960784, ..., 1.        , 1.        ,\n",
       "           1.        ],\n",
       "          [1.        , 1.        , 1.        , ..., 1.        , 1.        ,\n",
       "           1.        ],\n",
       "          [1.        , 1.        , 1.        , ..., 1.        , 1.        ,\n",
       "           1.        ],\n",
       "          ...,\n",
       "          [1.        , 1.        , 1.        , ..., 1.        , 1.        ,\n",
       "           0.98823529],\n",
       "          [1.        , 1.        , 1.        , ..., 1.        , 1.        ,\n",
       "           1.        ],\n",
       "          [0.73333333, 0.73333333, 0.73333333, ..., 0.73333333, 0.73333333,\n",
       "           0.73333333]]),\n",
       "   'flattened_image': array([0.81960784, 0.81960784, 0.81960784, ..., 0.73333333, 0.73333333,\n",
       "          0.73333333]),\n",
       "   'imageId': 'upload_img_0'},\n",
       "  {'resized_image': <PIL.Image.Image image mode=RGB size=100x100>,\n",
       "   'grayscale_image': <PIL.Image.Image image mode=L size=100x100>,\n",
       "   'normalized_image': array([[0.81960784, 0.81960784, 0.81960784, ..., 1.        , 1.        ,\n",
       "           1.        ],\n",
       "          [1.        , 1.        , 1.        , ..., 1.        , 1.        ,\n",
       "           1.        ],\n",
       "          [1.        , 1.        , 1.        , ..., 1.        , 1.        ,\n",
       "           1.        ],\n",
       "          ...,\n",
       "          [1.        , 1.        , 1.        , ..., 1.        , 1.        ,\n",
       "           1.        ],\n",
       "          [1.        , 1.        , 1.        , ..., 1.        , 1.        ,\n",
       "           1.        ],\n",
       "          [0.73333333, 0.73333333, 0.73333333, ..., 0.73333333, 0.73333333,\n",
       "           0.73333333]]),\n",
       "   'flattened_image': array([0.81960784, 0.81960784, 0.81960784, ..., 0.73333333, 0.73333333,\n",
       "          0.73333333]),\n",
       "   'imageId': 'upload_img_1'},\n",
       "  {'resized_image': <PIL.Image.Image image mode=RGB size=100x100>,\n",
       "   'grayscale_image': <PIL.Image.Image image mode=L size=100x100>,\n",
       "   'normalized_image': array([[0.81960784, 0.81960784, 0.81960784, ..., 1.        , 1.        ,\n",
       "           1.        ],\n",
       "          [1.        , 1.        , 1.        , ..., 1.        , 1.        ,\n",
       "           1.        ],\n",
       "          [1.        , 1.        , 1.        , ..., 1.        , 1.        ,\n",
       "           1.        ],\n",
       "          ...,\n",
       "          [1.        , 1.        , 1.        , ..., 1.        , 1.        ,\n",
       "           1.        ],\n",
       "          [1.        , 1.        , 1.        , ..., 1.        , 1.        ,\n",
       "           1.        ],\n",
       "          [0.73333333, 0.73333333, 0.73333333, ..., 0.73333333, 0.73333333,\n",
       "           0.73333333]]),\n",
       "   'flattened_image': array([0.81960784, 0.81960784, 0.81960784, ..., 0.73333333, 0.73333333,\n",
       "          0.73333333]),\n",
       "   'imageId': 'upload_img_2'},\n",
       "  {'resized_image': <PIL.Image.Image image mode=RGB size=100x100>,\n",
       "   'grayscale_image': <PIL.Image.Image image mode=L size=100x100>,\n",
       "   'normalized_image': array([[0.81960784, 0.81960784, 0.81960784, ..., 0.89411765, 0.87843137,\n",
       "           0.77647059],\n",
       "          [1.        , 1.        , 1.        , ..., 0.84705882, 0.91372549,\n",
       "           0.84313725],\n",
       "          [1.        , 1.        , 1.        , ..., 0.84705882, 0.90588235,\n",
       "           0.90588235],\n",
       "          ...,\n",
       "          [1.        , 1.        , 1.        , ..., 0.09803922, 0.09803922,\n",
       "           0.09803922],\n",
       "          [1.        , 1.        , 1.        , ..., 0.09411765, 0.08627451,\n",
       "           0.08627451],\n",
       "          [0.73333333, 0.73333333, 0.73333333, ..., 0.15686275, 0.15686275,\n",
       "           0.15686275]]),\n",
       "   'flattened_image': array([0.81960784, 0.81960784, 0.81960784, ..., 0.15686275, 0.15686275,\n",
       "          0.15686275]),\n",
       "   'imageId': 'upload_img_3'},\n",
       "  {'resized_image': <PIL.Image.Image image mode=RGB size=100x100>,\n",
       "   'grayscale_image': <PIL.Image.Image image mode=L size=100x100>,\n",
       "   'normalized_image': array([[0.81960784, 0.81960784, 0.81960784, ..., 1.        , 1.        ,\n",
       "           1.        ],\n",
       "          [1.        , 1.        , 1.        , ..., 1.        , 1.        ,\n",
       "           1.        ],\n",
       "          [1.        , 1.        , 1.        , ..., 1.        , 1.        ,\n",
       "           1.        ],\n",
       "          ...,\n",
       "          [1.        , 1.        , 1.        , ..., 1.        , 1.        ,\n",
       "           1.        ],\n",
       "          [1.        , 1.        , 1.        , ..., 1.        , 1.        ,\n",
       "           1.        ],\n",
       "          [0.73333333, 0.73333333, 0.73333333, ..., 0.73333333, 0.73333333,\n",
       "           0.73333333]]),\n",
       "   'flattened_image': array([0.81960784, 0.81960784, 0.81960784, ..., 0.73333333, 0.73333333,\n",
       "          0.73333333]),\n",
       "   'imageId': 'upload_img_4'},\n",
       "  {'resized_image': <PIL.Image.Image image mode=RGB size=100x100>,\n",
       "   'grayscale_image': <PIL.Image.Image image mode=L size=100x100>,\n",
       "   'normalized_image': array([[0.81960784, 0.81960784, 0.81960784, ..., 1.        , 1.        ,\n",
       "           1.        ],\n",
       "          [1.        , 1.        , 1.        , ..., 1.        , 1.        ,\n",
       "           1.        ],\n",
       "          [1.        , 1.        , 1.        , ..., 1.        , 1.        ,\n",
       "           1.        ],\n",
       "          ...,\n",
       "          [1.        , 1.        , 1.        , ..., 1.        , 1.        ,\n",
       "           1.        ],\n",
       "          [1.        , 1.        , 1.        , ..., 1.        , 1.        ,\n",
       "           1.        ],\n",
       "          [0.73333333, 0.73333333, 0.73333333, ..., 0.73333333, 0.73333333,\n",
       "           0.73333333]]),\n",
       "   'flattened_image': array([0.81960784, 0.81960784, 0.81960784, ..., 0.73333333, 0.73333333,\n",
       "          0.73333333]),\n",
       "   'imageId': 'upload_img_5'},\n",
       "  {'resized_image': <PIL.Image.Image image mode=RGB size=100x100>,\n",
       "   'grayscale_image': <PIL.Image.Image image mode=L size=100x100>,\n",
       "   'normalized_image': array([[0.54117647, 0.60784314, 0.55686275, ..., 0.96470588, 0.96470588,\n",
       "           0.99607843],\n",
       "          [0.68627451, 0.67843137, 0.67843137, ..., 0.98823529, 0.93333333,\n",
       "           0.92156863],\n",
       "          [0.6627451 , 0.62352941, 0.70196078, ..., 0.98431373, 0.90588235,\n",
       "           0.85490196],\n",
       "          ...,\n",
       "          [0.42745098, 0.34901961, 0.2627451 , ..., 0.81568627, 0.81960784,\n",
       "           0.79607843],\n",
       "          [0.32941176, 0.2627451 , 0.21960784, ..., 0.83529412, 0.81960784,\n",
       "           0.81176471],\n",
       "          [0.26666667, 0.23529412, 0.22745098, ..., 0.63921569, 0.61176471,\n",
       "           0.58431373]]),\n",
       "   'flattened_image': array([0.54117647, 0.60784314, 0.55686275, ..., 0.63921569, 0.61176471,\n",
       "          0.58431373]),\n",
       "   'imageId': 'upload_img_6'},\n",
       "  {'resized_image': <PIL.Image.Image image mode=RGB size=100x100>,\n",
       "   'grayscale_image': <PIL.Image.Image image mode=L size=100x100>,\n",
       "   'normalized_image': array([[0.81960784, 0.81960784, 0.81960784, ..., 1.        , 1.        ,\n",
       "           1.        ],\n",
       "          [1.        , 1.        , 1.        , ..., 1.        , 1.        ,\n",
       "           1.        ],\n",
       "          [1.        , 1.        , 1.        , ..., 1.        , 1.        ,\n",
       "           1.        ],\n",
       "          ...,\n",
       "          [1.        , 1.        , 1.        , ..., 1.        , 1.        ,\n",
       "           1.        ],\n",
       "          [1.        , 1.        , 1.        , ..., 1.        , 1.        ,\n",
       "           1.        ],\n",
       "          [0.73333333, 0.73333333, 0.73333333, ..., 0.73333333, 0.73333333,\n",
       "           0.73333333]]),\n",
       "   'flattened_image': array([0.81960784, 0.81960784, 0.81960784, ..., 0.73333333, 0.73333333,\n",
       "          0.73333333]),\n",
       "   'imageId': 'upload_img_7'},\n",
       "  {'resized_image': <PIL.Image.Image image mode=RGB size=100x100>,\n",
       "   'grayscale_image': <PIL.Image.Image image mode=L size=100x100>,\n",
       "   'normalized_image': array([[0.81960784, 0.81960784, 0.81960784, ..., 1.        , 1.        ,\n",
       "           1.        ],\n",
       "          [1.        , 1.        , 1.        , ..., 1.        , 1.        ,\n",
       "           1.        ],\n",
       "          [1.        , 1.        , 1.        , ..., 1.        , 1.        ,\n",
       "           1.        ],\n",
       "          ...,\n",
       "          [1.        , 1.        , 1.        , ..., 1.        , 1.        ,\n",
       "           1.        ],\n",
       "          [1.        , 1.        , 1.        , ..., 1.        , 1.        ,\n",
       "           1.        ],\n",
       "          [0.73333333, 0.73333333, 0.73333333, ..., 0.73333333, 0.73333333,\n",
       "           0.73333333]]),\n",
       "   'flattened_image': array([0.81960784, 0.81960784, 0.81960784, ..., 0.73333333, 0.73333333,\n",
       "          0.73333333]),\n",
       "   'imageId': 'upload_img_8'},\n",
       "  {'resized_image': <PIL.Image.Image image mode=RGB size=100x100>,\n",
       "   'grayscale_image': <PIL.Image.Image image mode=L size=100x100>,\n",
       "   'normalized_image': array([[0.81960784, 0.81960784, 0.81960784, ..., 1.        , 1.        ,\n",
       "           1.        ],\n",
       "          [1.        , 1.        , 1.        , ..., 1.        , 1.        ,\n",
       "           1.        ],\n",
       "          [1.        , 1.        , 1.        , ..., 1.        , 1.        ,\n",
       "           1.        ],\n",
       "          ...,\n",
       "          [1.        , 1.        , 1.        , ..., 1.        , 1.        ,\n",
       "           1.        ],\n",
       "          [1.        , 1.        , 1.        , ..., 1.        , 1.        ,\n",
       "           1.        ],\n",
       "          [0.73333333, 0.73333333, 0.73333333, ..., 0.73333333, 0.73333333,\n",
       "           0.73333333]]),\n",
       "   'flattened_image': array([0.81960784, 0.81960784, 0.81960784, ..., 0.73333333, 0.73333333,\n",
       "          0.73333333]),\n",
       "   'imageId': 'upload_img_9'},\n",
       "  {'resized_image': <PIL.Image.Image image mode=RGB size=100x100>,\n",
       "   'grayscale_image': <PIL.Image.Image image mode=L size=100x100>,\n",
       "   'normalized_image': array([[0.81960784, 0.81960784, 0.81960784, ..., 1.        , 1.        ,\n",
       "           1.        ],\n",
       "          [1.        , 1.        , 1.        , ..., 1.        , 1.        ,\n",
       "           1.        ],\n",
       "          [1.        , 1.        , 1.        , ..., 1.        , 1.        ,\n",
       "           1.        ],\n",
       "          ...,\n",
       "          [1.        , 1.        , 1.        , ..., 1.        , 1.        ,\n",
       "           1.        ],\n",
       "          [1.        , 1.        , 1.        , ..., 1.        , 1.        ,\n",
       "           1.        ],\n",
       "          [0.73333333, 0.73333333, 0.73333333, ..., 0.73333333, 0.73333333,\n",
       "           0.73333333]]),\n",
       "   'flattened_image': array([0.81960784, 0.81960784, 0.81960784, ..., 0.73333333, 0.73333333,\n",
       "          0.73333333]),\n",
       "   'imageId': 'upload_img_10'}]}"
      ]
     },
     "execution_count": 49,
     "metadata": {},
     "output_type": "execute_result"
    }
   ],
   "execution_count": 49
  },
  {
   "metadata": {
    "ExecuteTime": {
     "end_time": "2025-04-05T18:36:50.969046Z",
     "start_time": "2025-04-05T18:36:50.945679Z"
    }
   },
   "cell_type": "code",
   "source": [
    "# ---------------------------------------\n",
    "# Étape 2 : K-Same-Pixel (Nouvelle Fonction Modulaire)\n",
    "# ---------------------------------------\n",
    "k_same_k_value = 4\n",
    "res2 = run_k_same_anonymization(res1, k_same_k_value)\n",
    "\n",
    "# Print result\n",
    "res2"
   ],
   "id": "5dc55ab02b119261",
   "outputs": [
    {
     "name": "stderr",
     "output_type": "stream",
     "text": [
      "2025-04-05 20:36:50,947 - INFO - Application de K-Same-Pixel avec k=4...\n",
      "K-Same Pixel: 100%|██████████| 1/1 [00:00<00:00, 323.46it/s]\n",
      "2025-04-05 20:36:50,959 - INFO - Traitement K-Same-Pixel terminé.\n"
     ]
    },
    {
     "data": {
      "text/plain": [
       "{'1': [array([[191, 195, 192, ..., 252, 252, 254],\n",
       "         [235, 234, 234, ..., 254, 250, 250],\n",
       "         [233, 231, 236, ..., 254, 249, 245],\n",
       "         ...,\n",
       "         [218, 213, 208, ..., 243, 243, 241],\n",
       "         [212, 208, 205, ..., 244, 243, 243],\n",
       "         [157, 155, 154, ..., 181, 179, 177]], dtype=uint8),\n",
       "  array([[209, 209, 209, ..., 248, 247, 240],\n",
       "         [255, 255, 255, ..., 245, 249, 245],\n",
       "         [255, 255, 255, ..., 245, 249, 249],\n",
       "         ...,\n",
       "         [255, 255, 255, ..., 197, 197, 197],\n",
       "         [255, 255, 255, ..., 197, 196, 196],\n",
       "         [187, 187, 187, ..., 150, 150, 150]], dtype=uint8),\n",
       "  array([[209, 209, 209, ..., 248, 247, 240],\n",
       "         [255, 255, 255, ..., 245, 249, 245],\n",
       "         [255, 255, 255, ..., 245, 249, 249],\n",
       "         ...,\n",
       "         [255, 255, 255, ..., 197, 197, 196],\n",
       "         [255, 255, 255, ..., 197, 196, 196],\n",
       "         [187, 187, 187, ..., 150, 150, 150]], dtype=uint8),\n",
       "  array([[209, 209, 209, ..., 248, 247, 240],\n",
       "         [255, 255, 255, ..., 245, 249, 245],\n",
       "         [255, 255, 255, ..., 245, 249, 249],\n",
       "         ...,\n",
       "         [255, 255, 255, ..., 197, 197, 197],\n",
       "         [255, 255, 255, ..., 197, 196, 196],\n",
       "         [187, 187, 187, ..., 150, 150, 150]], dtype=uint8),\n",
       "  array([[191, 195, 192, ..., 252, 252, 254],\n",
       "         [235, 234, 234, ..., 254, 250, 250],\n",
       "         [233, 231, 236, ..., 254, 249, 245],\n",
       "         ...,\n",
       "         [218, 213, 208, ..., 243, 243, 242],\n",
       "         [212, 208, 205, ..., 244, 243, 243],\n",
       "         [157, 155, 154, ..., 181, 179, 177]], dtype=uint8),\n",
       "  array([[191, 195, 192, ..., 252, 252, 254],\n",
       "         [235, 234, 234, ..., 254, 250, 250],\n",
       "         [233, 231, 236, ..., 254, 249, 245],\n",
       "         ...,\n",
       "         [218, 213, 208, ..., 243, 243, 242],\n",
       "         [212, 208, 205, ..., 244, 243, 243],\n",
       "         [157, 155, 154, ..., 181, 179, 177]], dtype=uint8),\n",
       "  array([[191, 195, 192, ..., 246, 245, 240],\n",
       "         [235, 234, 234, ..., 244, 245, 240],\n",
       "         [233, 231, 236, ..., 244, 243, 239],\n",
       "         ...,\n",
       "         [218, 213, 208, ..., 185, 186, 184],\n",
       "         [212, 208, 205, ..., 186, 185, 184],\n",
       "         [157, 155, 154, ..., 144, 142, 140]], dtype=uint8),\n",
       "  array([[209, 209, 209, ..., 255, 255, 255],\n",
       "         [255, 255, 255, ..., 255, 255, 255],\n",
       "         [255, 255, 255, ..., 255, 255, 255],\n",
       "         ...,\n",
       "         [255, 255, 255, ..., 255, 255, 255],\n",
       "         [255, 255, 255, ..., 255, 255, 255],\n",
       "         [187, 187, 187, ..., 187, 187, 187]], dtype=uint8),\n",
       "  array([[191, 195, 192, ..., 252, 252, 254],\n",
       "         [235, 234, 234, ..., 254, 250, 250],\n",
       "         [233, 231, 236, ..., 254, 249, 245],\n",
       "         ...,\n",
       "         [218, 213, 208, ..., 243, 243, 241],\n",
       "         [212, 208, 205, ..., 244, 243, 243],\n",
       "         [157, 155, 154, ..., 181, 179, 177]], dtype=uint8),\n",
       "  array([[209, 209, 209, ..., 255, 255, 255],\n",
       "         [255, 255, 255, ..., 255, 255, 255],\n",
       "         [255, 255, 255, ..., 255, 255, 255],\n",
       "         ...,\n",
       "         [255, 255, 255, ..., 255, 255, 255],\n",
       "         [255, 255, 255, ..., 255, 255, 255],\n",
       "         [187, 187, 187, ..., 187, 187, 187]], dtype=uint8),\n",
       "  array([[209, 209, 209, ..., 255, 255, 255],\n",
       "         [255, 255, 255, ..., 255, 255, 255],\n",
       "         [255, 255, 255, ..., 255, 255, 255],\n",
       "         ...,\n",
       "         [255, 255, 255, ..., 255, 255, 255],\n",
       "         [255, 255, 255, ..., 255, 255, 255],\n",
       "         [187, 187, 187, ..., 187, 187, 187]], dtype=uint8)]}"
      ]
     },
     "execution_count": 50,
     "metadata": {},
     "output_type": "execute_result"
    }
   ],
   "execution_count": 50
  },
  {
   "metadata": {
    "ExecuteTime": {
     "end_time": "2025-04-05T18:57:17.211222Z",
     "start_time": "2025-04-05T18:57:17.203407Z"
    }
   },
   "cell_type": "code",
   "source": [
    "# from k same pixel\n",
    "n_components_ratio = 0.9\n",
    "user = list(res2.keys())[0]\n",
    "original_image_ids = res2[user]\n",
    "original_image_ids = [img.flatten() for img in original_image_ids]\n",
    "original_image_ids = np.array(original_image_ids)\n",
    "original_image_ids.shape"
   ],
   "id": "a149e6d9add6080b",
   "outputs": [
    {
     "data": {
      "text/plain": [
       "(11, 10000)"
      ]
     },
     "execution_count": 79,
     "metadata": {},
     "output_type": "execute_result"
    }
   ],
   "execution_count": 79
  },
  {
   "metadata": {
    "ExecuteTime": {
     "end_time": "2025-04-05T18:57:20.907355Z",
     "start_time": "2025-04-05T18:57:20.896152Z"
    }
   },
   "cell_type": "code",
   "source": [
    "# from preprocess\n",
    "n_components_ratio = 0.9\n",
    "subject_id = list(res1.keys())[0]\n",
    "subject_preprocessed_list = res1[subject_id]\n",
    "\n",
    "original_image_ids = [img_dict.get('flattened_image') for img_dict in subject_preprocessed_list]\n",
    "original_image_ids = np.array(original_image_ids)\n",
    "original_image_ids.shape\n"
   ],
   "id": "5cde781cb0086b66",
   "outputs": [
    {
     "data": {
      "text/plain": [
       "(11, 10000)"
      ]
     },
     "execution_count": 80,
     "metadata": {},
     "output_type": "execute_result"
    }
   ],
   "execution_count": 80
  },
  {
   "metadata": {
    "ExecuteTime": {
     "end_time": "2025-04-05T18:59:37.414660Z",
     "start_time": "2025-04-05T18:59:37.280225Z"
    }
   },
   "cell_type": "code",
   "source": [
    "# ---------------------------------------\n",
    "# Étape 3 : PEEP Eigenface\n",
    "# ---------------------------------------\n",
    "\n",
    "n_samples, n_features = original_image_ids.shape\n",
    "n_components = min(max(1, int(n_components_ratio * n_samples)), n_features, n_samples) # Assurer >= 1\n",
    "res3 = run_eigenface(original_image_ids, 4)\n",
    "\n",
    "# Print result\n",
    "pca, mean_face, projection = res3 # Eingenface a disparue...\n",
    "print(\"n_components:\", n_components)\n",
    "projection"
   ],
   "id": "33ab58b4685e8806",
   "outputs": [
    {
     "name": "stderr",
     "output_type": "stream",
     "text": [
      "2025-04-05 20:59:37,283 - DEBUG - Calcul Eigenfaces avec n_components=4\n"
     ]
    },
    {
     "name": "stdout",
     "output_type": "stream",
     "text": [
      "n_components: 9\n"
     ]
    },
    {
     "data": {
      "text/plain": [
       "array([[ -5.10157982,   5.933605  ,  13.03178282,   3.81468684],\n",
       "       [ -0.04764854,   3.48412747,  12.45421854,   1.29498873],\n",
       "       [  8.79449306,  -0.93757355,  -2.20666091,  -3.51201188],\n",
       "       [-26.73328319,  27.6321078 ,  -6.93863203,  -0.69504606],\n",
       "       [  9.46337868,  -0.88573873,  -2.45088113,  -2.30966492],\n",
       "       [  9.46337868,  -0.88573873,  -2.45088113,  -2.30966492],\n",
       "       [-28.41025716, -29.42548463,  -1.21325936,  -1.00278734],\n",
       "       [  7.74196461,  -0.21524605,  -0.24775197,  -1.26366732],\n",
       "       [  8.29072216,  -0.31235984,  -0.90659751,  -4.02532372],\n",
       "       [  8.71511556,  -3.65490237,  -7.50013985,  13.3561612 ],\n",
       "       [  7.82371597,  -0.73279636,  -1.57119747,  -3.34767061]])"
      ]
     },
     "execution_count": 84,
     "metadata": {},
     "output_type": "execute_result"
    }
   ],
   "execution_count": 84
  },
  {
   "metadata": {
    "ExecuteTime": {
     "end_time": "2025-04-05T19:13:10.170881Z",
     "start_time": "2025-04-05T19:13:10.114972Z"
    }
   },
   "cell_type": "code",
   "source": [
    "# Étape 4 : Ajout de bruit différentiel\n",
    "epsilon = 0.01\n",
    "res4 = run_add_noise(projection, epsilon, sensitivity=1.0)\n",
    "\n",
    "# Étape 5 : Reconstruction\n",
    "res5 = run_reconstruction(pca, res4)\n",
    "\n",
    "# Print result\n",
    "import base64\n",
    "from io import BytesIO\n",
    "from PIL import Image\n",
    "imgs = [Image.open(BytesIO(base64.b64decode(img))) for img in res5]\n",
    "print(len(imgs))\n",
    "imgs[0].show()\n",
    "res5"
   ],
   "id": "de2825f20a32deef",
   "outputs": [
    {
     "name": "stderr",
     "output_type": "stream",
     "text": [
      "2025-04-05 21:13:10,120 - DEBUG - Ajout bruit Laplacien (epsilon=0.01, sensitivity=1.0)\n",
      "2025-04-05 21:13:10,124 - DEBUG - Reconstruction des images depuis projection bruitée...\n"
     ]
    },
    {
     "name": "stdout",
     "output_type": "stream",
     "text": [
      "11\n"
     ]
    },
    {
     "data": {
      "text/plain": [
       "['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',\n",
       " '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',\n",
       " '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',\n",
       " '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',\n",
       " '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',\n",
       " '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',\n",
       " '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',\n",
       " '/9j/4AAQSkZJRgABAQAAAQABAAD/2wBDAAgGBgcGBQgHBwcJCQgKDBQNDAsLDBkSEw8UHRofHh0aHBwgJC4nICIsIxwcKDcpLDAxNDQ0Hyc5PTgyPC4zNDL/wAALCABkAGQBAREA/8QAHwAAAQUBAQEBAQEAAAAAAAAAAAECAwQFBgcICQoL/8QAtRAAAgEDAwIEAwUFBAQAAAF9AQIDAAQRBRIhMUEGE1FhByJxFDKBkaEII0KxwRVS0fAkM2JyggkKFhcYGRolJicoKSo0NTY3ODk6Q0RFRkdISUpTVFVWV1hZWmNkZWZnaGlqc3R1dnd4eXqDhIWGh4iJipKTlJWWl5iZmqKjpKWmp6ipqrKztLW2t7i5usLDxMXGx8jJytLT1NXW19jZ2uHi4+Tl5ufo6erx8vP09fb3+Pn6/9oACAEBAAA/AIbCLUYBPIut6iYxG4jF3E7EGWIZZWUOwdHAYnjkEKcMxOhZX9pqlxdBdJiljnIW3solRJ8qrFyBIEd8Bywwu07cZXBanalpFnDqvkQG3ht7ss80fmeW+GBRYxE2GY7kiIyvJ5A71yR8M6hEbeS302XTxDBb3u9l8oo+47MPxtIOMkkGs2/ttWl0mw0mFp7yzW4lVY7SUTx+biPeqBQTuJY85P8AreFXLFq+nahNqurWrS3kVojWhsJBLDxDEbc27Oq78yHylRhjBLnaqnjLrLV38PwTXoulmvYlltreOOdg8HnRvuljZW/diIygjcNrGWQr8yllv+F9KQavHHq90k+vXN4ouLI3GLk28iTJPCxmaOMySGSNSA5kUsxwGVhXqOn6ndaTf+J7jQ7XSLGy0yxhtoobqVAf3FuGleZolklmaDfFHgMFwxGd3NcDofiPxNY6dpmp2cmoNqes+IE+2H7MkVvu8tNqiIFEczJcByxZN3lg/wAPmV0cFtoscf8AZGkm/ntNI18Sm1uFLGweGUNLIJvM2x2/liYIsg3MxY5JziUWNndWhvdLuG06G+njljnmH7y4V5mWZ9rEvsZWt35AU7YuFJytXS7Hwxe6Dpa6jeNHJb2qQxvtt3EsYyVIaSJmON2w9AGRlwCDnp2jVBjZjPJPUms68srS5OyWNZCAM7hn8Kp22j2dvFMbdpLRbjAkW2dovMAzjcVIz1PXpk1BJ4csrqGXzhM1vJtV0knkdGUHIBDHnkZ/Kptat1aE3Uj3NzdEC3t4yzyt82AVBJyC33flIbDEA81njSLC7tnmltokv5oGduVZrXcFASXEICMitGyrszuD4+8GHPWNzY6aZYNUvLtbe2nFxa+RK24mMSNFGWwu3DSPymzPmMSQQCJ9M1TRIrqSafUIpLqI+fb3UqRtNJcli6nzGR3BV8dGVGwu5TukBk0LWJvD2m6lFpvmG6s1eygVVEUgYsJUunxkLyqqRvKTKsasMRjdei/4ljWPiTV7nTp7qaCJJDPGktw0sUWFkSUmTDb1VS45wmdu7kzv4nspL37RBqOh2UN1ILq5SKyYM1wJDJFudFVpSjBCDwDubI54njMP2BYxBDLp4hjaKzjTeYZtw8z5VYIriSRgpCpv3MFBVVRql/q91pl21lprQraxcq9xKzvKW+dpCzctuLE56HPHFdhISCFXBLHHHoKqSkZGWACrnC0RqZAiCNcY5zz26DFJql1LbwRxwruu52EUClSVTnl2ABIA6k4OAM9qxNWS0uZpJJruX7LZSp5Sm8l/euux2YsvCuOVATGHyx4GyuX17xkJ7IQI77t2WkeVncqBhVJPHygY4Azkk8kmsWG/iv4VtrqVwX7RgHj6Gur8J33hpbq20LxGNPbckkU9xq1tHxCIz5YhuBteNh8q4csNqDYyHCGvqzRWfiG50DTLXUo7m0Ba3srmQeaomQbo1aORlbgxupO5sogKsclsO+0+Gy0zfJa3Vw8gkWzkuLhVjSAIJAV3BGMhPmHLAZXbhCzgrWTwpqo1S50/S7KK5m02eQT3pPlrBJEreZuYuFWMnJV3A3eXxtIdadYhbbVBP++ihtpHjvI5JxcL5QcIrFo0IZMSoCQrBuSPvBRpatrej39zHNq2rTLdhCrRywyzbPmboyyxjnO4jH3mbGBhR6rJncoAyc9RVQjIdT3bHXtVyH7wTaFUdQP8axJEM/iW+uEia5eztspaBMFgQXG1sEqxCFeASd/4Hz/XRcWd1JpTXlzetFI4aaRnDFiSTw5JHPY/jyTVVPBV7dWRuRIzRrzkisKXT5YLklZGOe4q3NKyxW4DXEF1CwkhmV8OpByCpHIIPIr1S/l8P/EHSF1jS8v4u02yS5uLbTrfy3ndggZSHAaQLtKgqzFcjG4lVbAhhhjnt9T020iebzIruyjSKaaN5AyIVwu3y9rln2q2GM8Y244rWzZa1Not2NUtTBcLKdWlk02IGG+SF286Tai+aqG4XOfkCqxYkFjXCSWyXq2ZiS8kv9RuJBYpL5T2yxSMyrGmUUBi7yncu1VI4AbJXT1jwfeX+pP5WnalfS24EFxIkEs4SRRzHkA42DCYyQQoYYVgB6lIhALNyD0C8cCoolDucKuAAT7e361bjYKWcoTkHA9gP8awklmXxffJBZ/aJZEiCW7SBBOfLl+Ut2z0zXM6XpT+J/FbuIo4oZpXkCrMJQoLcgOOGA/vDg9a6PWfF+m6Vb6dYRR3VhZtJGkqTWbLcB8KZBIkiEBY0dWO0MXLKFIAY0y0ijvNdvdHvLWxnQxfbYbgW8SxtbhDjyzEoy7SPF8xLKUJxtIG7hPFdpZxmS5RfJUxB4x0wRwR+Bx+ddh8IvCV217Dr1/4fe1WRBc2Gq/aNsgBwrRmIkgo6FsMUBwSQeVK1otM06HW7+R1jt4rTWrqG0aMhRA5S48sIn3dweKHaMdVAHXnQtbp7GFb/UIrex02y0aWWxt3vBJDd/aAzRwyB8O+8BgyE4LQZGAQDiXtzrFhoM+pTX1+32PVJLcmZ/35mWJxtS5EpdlQB8LtVSZnALVzUMXie9toJbbQbh4fLVFeOzmkVscEg7W7g5wcZBwAMAexyZYgkA/LnB6AZ/8ArVGGYSAABRwSenNTADyyAQCflyT09q528iSPxHqF08Ec0QhSKVZrkRRuhjkGwHblTjeS2cHIHy4LVW8H6dNaa/cBQ0UEZZQobfxnAUMSc/XPNYuu6DrniLxFEbKx1A28pElpcXQcRIsqiQs75ZAyghCFPSNVAJAz1EGnp4b8WafpEUjQwWelOs0hTi73OhI5JMeZHEnBONu3oazPEPmw/ELSrCxNlHeSXCyobxisBdeQCQM5JUDA5JIA613v/CZ3SX0guLaRbKKX7NcXjKVSKTIAzkY53L3/AIh615v4zsf7G8Qa8yweWl2Y9Ss1Z/MEchmCNIyklW3MJmCnI2yDIU/KrbvSp9Jn1dXjtZbhImTzpQyzXUt6gjLqeAwXErbcEcSDHO5LV3YT6f4diurqWS3gubRLwzti4824nliIjHmHLvttxKQGGHDZYIwFY9tc6LJbxwavf2+kXVoiWzWt1ps1y4ZFAdsrgLmTeSuM7ixOScn0qUmQHlwM96iUfvycZxkAmp0Clx8oOB1YcD1P1rl/EazXd5eaTao32u+tC9ui4UcB4+WJ4JMy47dckVsWls1p4QkRJ5f7SuHSBvKm3XELuxiV2OcgiQNknnKN1IxUOsa7Ha+Gp5NMvBcRwTeSLmPUYYVLKEfAlDZ53AYUg/K2eGFUtDuVnurRorWy0+K33m4s5LpN0UeVDtkuxCBwHOFQfLjJ3MaIfEc11pSQxLNe3VxEs1tHFZKW3urP5ZYrISWCPg4ABjO7aGBEXh1Eu7HWtNsb2KM3FlJbwlwWWWUqCxZtuYljMwAUKpJkJKZBzkCGbxbquq3OlxrHa6rLBayTXG0NEAEUugLgE74gQM5KnoD027dtM1BbvVtQh0+61KxtII4YZomjhmeW389GZcbHUPnAxGFQPI54UrkS+fdQRw30Salrs51CaFL1pN05eGJlnhj8tSUxGyRhv4sEfdKpFrNhdQak32ZGsFlVZ2tYZ2uZI2cBz57yqH80ltxB6Bl5NehTkghQpPA6+3WosbHfceSM4+p6VMCWUBRuyRwDxzVa6SO01rTr5rdpjJILMsFyw3uuwryAAHC5PPy5wM4rjPDel2Fxp76i1nBbWkuhrb3F0Z1w8rtEEUp/C3yHuS2QcLnFUDqkvhB7e1eEW2wOkV3bbQ7hzuIkRyFkyQi5ypCr1JAxf+3i78P6utpbWlhbyFJjMICjlHWUMZNrOSqvvKgZIBPUmtbyjaabpLwyyQpdQqiPCEWQyCFiuXIJAAEgwOu9uRkgpphvT4p0DUZLyNdJbSzFcrGQ0VvGkWW3uc7QsiIpYtnK4J61kWWkaVZO9veXIjt7XUbaSVWB8tVMkqMDIGUxjkEsTjIGQa6W8gtp7GCyuQJUju49Mvp4ZkRTM8CWvk24A4RRcyyABcK0Ug2jdkY7+J9ZsdPstM8i9sZv7CW0hhuJDF9mVUfzppFAD7wIBsC7jtBYfMxQ5Wl6PpNho9nJf62dPnvI/tHkvpk02VLFQ4ZWA2sF3DgcEdua9KYMAMYY92I6VXIClSTlsnP4dKsW5C7TwuACSTyT60zUtOTW9LnsmLATqyqzfw8da8r0u4utP0O40U2MUuoxXAtxDIu8lm3JE43DamGkxuJB+cEfdIa7aeJ9auBLJpFncXBFi1tJNDBJI0KvgqVKEbHymVY+h4NaOkaNf2/hTUF/s27DX6BZHuIJB9nVEO3KbNxH7x2JXcCMAfMCKW91y6g0nTtJuLSWyaRkgiuXcIpcIhVXGCdu4DJAPGcc1lz6Xq01toOnX0ctjPEkrzBiIxHHLJIzFzn5R5b/ADA4wCQe4ro9IR9T121lupokurfZeyWl0klskk+2HyoVkYFv3bvEMEttLgBWD4TZ07+z9PgWO71GFrnTb5IwPM8tr2eeBVR5+HfcTJKMqeFzwwTjmW8L6NL4bsRZJfNazo/nJZN9rmdYpY02Q8qvll3eYnbgkq20YCirpXhzSPEAu5PGHiJbPUrSf7IlrDqVuEgiRE2ou/eflyR948g7stuNejsm5iF+bnvVeWMkDA4z1xQkbDYCMknAGK0LSJgu45Usx6noM15l8R4Z9F8baTq1pGFa7jKjJZQWHAyVII69QQferXhC1t9N8IaodUazGrXM5nuLRLhIHjgX5Y98R2rEpZ2YEALtkU5xgCO3tN+uT2X2m5/tOWIRQxITaqkbRqZCwd0mO3cSFCqxEe7BBIC79H8R6sDftPfS2ABZpgI5SsaqWfAADKOgH39qEkcFj2lrLdahpGsXtpp8epzMq26xM6KrqwCucvxgKxODwcY71j2U1m/hbSLvTpZtTvk0idLJDbmKQtGoV1QRhSh3vGh2sThQFJyzNs2U97b3lzH/AGNGWvrWCRbxLZ4RPMd67JAN0g27UxlW8sFtx6ZzNU1jT7bTNU1GwlltotKma/R5raSRJpZ45kWWJ2YqY2eQ4Krt3I55Dhq871SBIpre4s7iK6uL62ivr83QCFLiZBIyqFUDbtZCMZ6nnsPZbOSK5ijaGQFeSMd/erDQRgKcbguduCeTTo7Y7wQrY7DHXn/61Xre0LBDtJHXGMDqTWD8QfD+n61pmnx34kB+1CGF4hlo5ZVMcbY3LkK7IxGei9+lcZp3hawvtYTVZry7OqaPBNBdgnc1248xA6Sht42OWVWbnbGgwuKgttevr7xFcaVc6gBYLGzyWcMaxTMMFt8XlqoYggblY8qWIBxkN8xfsVgYY4pdPYNK0cqGRnuBlGkO8ZDgg9Pu4wpKgE5tk0F9JYCXW7rStPhtJY5RE6xMTIAzDeA2EINvksCFK5wMbq6TwK1/ZaQIDbSvbW9lFJb2kEsbW9xI+csZGO9XaTeCNoRNpHOQavXusal4jg0W1+x7LfVEMt9c2p85rW1fOOGwAWQ7Sx7rJtViABznibUP+KafWJLR47NbprHSIba+xDEilmS7jVQdrh0YLgrlPl5HLZL+KvEdpLNYP4W0PUBZzzQq76eZREPMY+UhZwRGu7CqAAFwK6bQLd9Q2NZwxW121yrvHBcPmOMje2+PJVR8ygKAvUEcKQfTo7chRuBJGeAPyq3FbKAScksMfSn3l1aaVptxqN9N5VrbxNLIxBwqKMk4HJ47AZNec/Em7tNasrvS4ljtnkaKL7bNH5aEqZGUOxGdhIkCnG0knB+8Ry9xot7HeJdxqBfXKy/bdQh3qAQ4DytH5hPBG5gsYXEqj5CQRDBb3Fz4i8+eW1js7dSftltcrHLOoX5FKAlvmzhgflK78Mcgmza6p4e07QLQ39pOPsUssZmikxCcOGJDszFpGEnCAfezkImGGZqmsW2paZc3cOnGyl1ALiJbhxA0ILopZSCiuvkBQ2RkzHPAJHSwnSDq93rVpfpPaxST3Xk2sYRlaJywkJTy92Y5WhGWfLSpuDgbVpG5vdDlFjL9pi1uPw9HpcdnY3KTyG4wWV9sbiRNqybiSgx8+1j8pkwLO5hGvyabII/7SmMmmQ6dD5iW+nXE25JWUlmwnLAqoZS4cABQjts+G20a4tLubxDc3ltqb3cjzRsvluHOC25cDDbi2QAAK3PDmqPpOnpDbW0Hz/O7vuZ3YnJZm3ZJJ6mugTxff7iPItf++W/+Kptx4x1N76ysY0toVuZvKMqRkug2k5XcSM8dwR7V5s2vanr140Op3klwIpBOrNwwcgfdYcoOB8q7RxnGSSdjSbyO1fTtCg0+yjs9Tu5LecrGQ4V/JUlTnrznJB5rQ8Oxw6zfJPfW8Eyai0ME8LxhkwFuXyuckEmBc84+ZuM7Suvp3hDT7GyXWbWa5imkgSRogyshTO/yvmUt5ZJ5G7njJJGaxrf4e6HceG9Lnf7UWvILe5nXzfleTy8g7cY4Ltj03HHWs3SrU23iy30+K4nWCGe1IG/OQGsiFwRgANNI3AByTzgsDzms+Jb+xtfEzwCIPFqUUW5lL713Oo3Akjj7MjDpgs+MbsVr29y9jDpl/ZLFb3ZFwUlEav5bNHvZwHDDeTGAXILFWIJxjG1pvgLR7+w0DQcz29reafJqtxJDs82SYeSFBZlOEUXMoCjA5ycnJPE/EyxbwZ4lhsbG+u7lbi2F1LLeSCSRnMjqSWAGfuA885J5r//Z',\n",
       " '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',\n",
       " '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',\n",
       " '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']"
      ]
     },
     "execution_count": 86,
     "metadata": {},
     "output_type": "execute_result"
    }
   ],
   "execution_count": 86
  },
  {
   "metadata": {
    "ExecuteTime": {
     "end_time": "2025-04-02T20:00:14.024824Z",
     "start_time": "2025-04-02T20:00:13.997486Z"
    }
   },
   "cell_type": "code",
   "source": [
    "db = DatabaseController(r\"..\\..\\data\\database.db\")\n",
    "\n",
    "user_id = db.add_user(np.array(res5))\n",
    "print(f\"user_id: {user_id}\")\n",
    "\n",
    "user = db.get_user(user_id)\n",
    "\n",
    "base64_str = user[0]\n",
    "image_bytes = base64.b64decode(base64_str)\n",
    "image = Image.open(io.BytesIO(image_bytes))\n",
    "image.show()"
   ],
   "id": "64f96d3fa118ad7b",
   "outputs": [
    {
     "name": "stdout",
     "output_type": "stream",
     "text": [
      "Create db connection at: D:\\myDocs\\Apprentissage\\Isep\\Year_3\\Brno-Privacy_Preserving_Face_Recognition_Project\\data\\database.db\n",
      "user_id: 4\n"
     ]
    }
   ],
   "execution_count": 17
  }
 ],
 "metadata": {
  "kernelspec": {
   "display_name": "Python 3",
   "language": "python",
   "name": "python3"
  },
  "language_info": {
   "codemirror_mode": {
    "name": "ipython",
    "version": 2
   },
   "file_extension": ".py",
   "mimetype": "text/x-python",
   "name": "python",
   "nbconvert_exporter": "python",
   "pygments_lexer": "ipython2",
   "version": "2.7.6"
  }
 },
 "nbformat": 4,
 "nbformat_minor": 5
}
