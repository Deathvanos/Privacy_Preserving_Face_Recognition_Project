{
 "cells": [
  {
   "cell_type": "code",
   "id": "initial_id",
   "metadata": {
    "collapsed": true,
    "ExecuteTime": {
     "end_time": "2025-03-17T09:21:18.362532Z",
     "start_time": "2025-03-17T09:21:15.729066Z"
    }
   },
   "source": "from gui_controller import GUIController",
   "outputs": [],
   "execution_count": 1
  },
  {
   "metadata": {
    "ExecuteTime": {
     "end_time": "2025-03-17T09:21:18.532288Z",
     "start_time": "2025-03-17T09:21:18.372580Z"
    }
   },
   "cell_type": "code",
   "source": [
    "from werkzeug.datastructures import FileStorage\n",
    "import os\n",
    "\n",
    "def import_subject_images(ids):\n",
    "    image_folder = \"../../data/database\"\n",
    "    sujet = f\"subject_{ids}_\"\n",
    "    image_files = []\n",
    "    for filename in os.listdir(image_folder):\n",
    "        if filename.startswith(sujet):\n",
    "            chemin_fichier = f\"{image_folder}/{filename}\"\n",
    "            file = open(chemin_fichier, \"rb\")\n",
    "            file_storage = FileStorage(stream=file, filename=filename)\n",
    "            image_files.append(file_storage)\n",
    "    return image_files\n",
    "\n",
    "# Import images\n",
    "img_list = import_subject_images(1)\n",
    "# Create controller\n",
    "c = GUIController(img_list)\n",
    "# Realise images in storage\n",
    "for img_in_storage in img_list:\n",
    "    img_in_storage.close()"
   ],
   "id": "72e3e75ff3fe482",
   "outputs": [],
   "execution_count": 2
  },
  {
   "metadata": {
    "ExecuteTime": {
     "end_time": "2025-03-17T09:21:18.811123Z",
     "start_time": "2025-03-17T09:21:18.806182Z"
    }
   },
   "cell_type": "code",
   "source": "    c.s1_apply_k_same_pixel()",
   "id": "3facbee7b47fdef",
   "outputs": [],
   "execution_count": 3
  },
  {
   "metadata": {
    "ExecuteTime": {
     "end_time": "2025-03-17T09:21:20.373965Z",
     "start_time": "2025-03-17T09:21:20.366903Z"
    }
   },
   "cell_type": "code",
   "source": "    c.s2_resize_images(100, 100)",
   "id": "2317c866d810b3c5",
   "outputs": [],
   "execution_count": 4
  },
  {
   "metadata": {
    "ExecuteTime": {
     "end_time": "2025-03-17T09:21:22.035990Z",
     "start_time": "2025-03-17T09:21:21.607906Z"
    }
   },
   "cell_type": "code",
   "source": "    c.s3_generate_pca_components(5)",
   "id": "a3e440227d66e176",
   "outputs": [
    {
     "name": "stderr",
     "output_type": "stream",
     "text": [
      "Loading and Processing from DataFrame: 100%|██████████| 11/11 [00:00<00:00, 1627.19it/s]\n"
     ]
    },
    {
     "name": "stdout",
     "output_type": "stream",
     "text": [
      "Inside EigenfaceGenerator.generate()\n",
      "Shape of input data: (11, 10000)\n",
      "Are all input images identical? False\n"
     ]
    }
   ],
   "execution_count": 5
  },
  {
   "metadata": {
    "ExecuteTime": {
     "end_time": "2025-03-17T09:21:38.254314Z",
     "start_time": "2025-03-17T09:21:38.245962Z"
    }
   },
   "cell_type": "code",
   "source": "c.s4_apply_differential_privacy(0.65)\n",
   "id": "8380e534258526d4",
   "outputs": [],
   "execution_count": 7
  },
  {
   "metadata": {
    "jupyter": {
     "is_executing": true
    }
   },
   "cell_type": "code",
   "source": [
    "# Remove temp images\n",
    "#c.cleanup()\n"
   ],
   "id": "3c4c881c1ec0ffa7",
   "outputs": [],
   "execution_count": null
  }
 ],
 "metadata": {
  "kernelspec": {
   "display_name": "Python 3",
   "language": "python",
   "name": "python3"
  },
  "language_info": {
   "codemirror_mode": {
    "name": "ipython",
    "version": 2
   },
   "file_extension": ".py",
   "mimetype": "text/x-python",
   "name": "python",
   "nbconvert_exporter": "python",
   "pygments_lexer": "ipython2",
   "version": "2.7.6"
  }
 },
 "nbformat": 4,
 "nbformat_minor": 5
}
