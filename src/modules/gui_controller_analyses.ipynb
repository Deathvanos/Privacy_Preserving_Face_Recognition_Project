{
 "cells": [
  {
   "cell_type": "code",
   "id": "initial_id",
   "metadata": {
    "collapsed": true,
    "ExecuteTime": {
     "end_time": "2025-03-19T16:27:57.421532Z",
     "start_time": "2025-03-19T16:27:54.602509Z"
    }
   },
   "source": "from gui_controller import GUIController",
   "outputs": [],
   "execution_count": 1
  },
  {
   "metadata": {
    "ExecuteTime": {
     "end_time": "2025-03-19T16:27:57.813287Z",
     "start_time": "2025-03-19T16:27:57.772779Z"
    }
   },
   "cell_type": "code",
   "source": [
    "from werkzeug.datastructures import FileStorage\n",
    "import os\n",
    "\n",
    "def import_subject_images(ids):\n",
    "    image_folder = \"../../data/database\"\n",
    "    sujet = f\"subject_{ids}_\"\n",
    "    image_files = []\n",
    "    for filename in os.listdir(image_folder):\n",
    "        if filename.startswith(sujet):\n",
    "            chemin_fichier = f\"{image_folder}/{filename}\"\n",
    "            file = open(chemin_fichier, \"rb\")\n",
    "            file_storage = FileStorage(stream=file, filename=filename)\n",
    "            image_files.append(file_storage)\n",
    "    return image_files\n",
    "\n",
    "# Import images\n",
    "img_list = import_subject_images(1)\n",
    "# Create controller\n",
    "c = GUIController(img_list)\n",
    "# Realise images in storage\n",
    "for img_in_storage in img_list:\n",
    "    img_in_storage.close()"
   ],
   "id": "72e3e75ff3fe482",
   "outputs": [],
   "execution_count": 2
  },
  {
   "metadata": {
    "ExecuteTime": {
     "end_time": "2025-03-19T16:27:57.825390Z",
     "start_time": "2025-03-19T16:27:57.820044Z"
    }
   },
   "cell_type": "code",
   "source": "    c.s1_apply_k_same_pixel()",
   "id": "3facbee7b47fdef",
   "outputs": [],
   "execution_count": 3
  },
  {
   "metadata": {
    "ExecuteTime": {
     "end_time": "2025-03-19T16:27:57.880620Z",
     "start_time": "2025-03-19T16:27:57.861453Z"
    }
   },
   "cell_type": "code",
   "source": "    c.s2_resize_images((100, 100))",
   "id": "2317c866d810b3c5",
   "outputs": [],
   "execution_count": 4
  },
  {
   "metadata": {
    "ExecuteTime": {
     "end_time": "2025-03-19T16:27:58.540284Z",
     "start_time": "2025-03-19T16:27:58.394513Z"
    }
   },
   "cell_type": "code",
   "source": "    c.s3_generate_pca_components(5)",
   "id": "a3e440227d66e176",
   "outputs": [],
   "execution_count": 5
  },
  {
   "metadata": {
    "ExecuteTime": {
     "end_time": "2025-03-19T16:27:59.403122Z",
     "start_time": "2025-03-19T16:27:59.378073Z"
    }
   },
   "cell_type": "code",
   "source": "c.s4_apply_differential_privacy(0.65)\n",
   "id": "8380e534258526d4",
   "outputs": [],
   "execution_count": 6
  },
  {
   "metadata": {},
   "cell_type": "code",
   "source": [
    "# Remove temp images\n",
    "#c.cleanup()\n"
   ],
   "id": "3c4c881c1ec0ffa7",
   "outputs": [],
   "execution_count": null
  }
 ],
 "metadata": {
  "kernelspec": {
   "display_name": "Python 3",
   "language": "python",
   "name": "python3"
  },
  "language_info": {
   "codemirror_mode": {
    "name": "ipython",
    "version": 2
   },
   "file_extension": ".py",
   "mimetype": "text/x-python",
   "name": "python",
   "nbconvert_exporter": "python",
   "pygments_lexer": "ipython2",
   "version": "2.7.6"
  }
 },
 "nbformat": 4,
 "nbformat_minor": 5
}
